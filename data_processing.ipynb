{
 "cells": [
  {
   "cell_type": "code",
   "execution_count": null,
   "metadata": {
    "id": "UhjTVBAwtYJd"
   },
   "outputs": [],
   "source": [
    "import numpy as np\n",
    "import matplotlib.pyplot as plt\n",
    "import pretty_midi\n",
    "from mido import Message, MidiFile, MidiTrack\n",
    "import pandas as pd\n",
    "import torch as torch\n",
    "from tqdm import tqdm"
   ]
  },
  {
   "cell_type": "code",
   "execution_count": null,
   "metadata": {
    "id": "fC-omUPGwUSw"
   },
   "outputs": [],
   "source": [
    "my_data = pd.read_csv('maestro-v3.0.0/maestro-v3.0.0.csv')"
   ]
  },
  {
   "cell_type": "code",
   "execution_count": null,
   "metadata": {
    "colab": {
     "base_uri": "https://localhost:8080/"
    },
    "executionInfo": {
     "elapsed": 151,
     "status": "ok",
     "timestamp": 1649212378815,
     "user": {
      "displayName": "Sophia Hager",
      "userId": "07903191433304959107"
     },
     "user_tz": 240
    },
    "id": "s_jmKE9lvva4",
    "outputId": "b38b3b92-ad1d-4e19-fec6-f89863af87c7"
   },
   "outputs": [],
   "source": [
    "my_data.iloc[45]"
   ]
  },
  {
   "cell_type": "code",
   "execution_count": null,
   "metadata": {
    "colab": {
     "base_uri": "https://localhost:8080/"
    },
    "executionInfo": {
     "elapsed": 620751,
     "status": "ok",
     "timestamp": 1639527864997,
     "user": {
      "displayName": "Sophia Hager",
      "photoUrl": "https://lh3.googleusercontent.com/a/default-user=s64",
      "userId": "07903191433304959107"
     },
     "user_tz": 300
    },
    "id": "MTl11R_5_8DV",
    "outputId": "953a0ccd-4b5b-4854-dbc9-36d93178ecc2"
   },
   "outputs": [],
   "source": [
    "target_size = 400\n",
    "path_beginning = \"maestro-v3.0.0/\"\n",
    "train = []\n",
    "test = []\n",
    "validation = []\n",
    "for i in tqdm(range(0, 1276)):\n",
    "  path_part = my_data.iloc[i][\"midi_filename\"]\n",
    "  split = my_data.iloc[i][\"split\"]\n",
    "  path = path_beginning + path_part\n",
    "  midi_data = pretty_midi.PrettyMIDI(path)\n",
    "  tempo = midi_data.estimate_tempo()\n",
    "  roll = midi_data.get_piano_roll(tempo/60).T\n",
    "  over = False\n",
    "  r = np.zeros(128)\n",
    "  while over == False:\n",
    "    m = roll[0]\n",
    "    if np.array_equal(m,r):\n",
    "      roll = roll[1:]\n",
    "    else:\n",
    "      over = True\n",
    "  roll = np.where(roll > 0, 1, 0)\n",
    "  sev_roll = []\n",
    "  if roll.shape[0]<target_size:\n",
    "    while roll.shape[0]<target_size:\n",
    "      roll = np.vstack((roll,roll))\n",
    "    roll = roll[:target_size]\n",
    "    sev_roll.append(np.array([roll,tempo], dtype=\"object\"))\n",
    "  else:\n",
    "    num_arrays = roll.shape[0]//target_size\n",
    "    leftover = roll.shape[0]%target_size\n",
    "    for l in range(0, num_arrays):\n",
    "      start = target_size*l\n",
    "      end = target_size*(l+1)\n",
    "      sev_roll.append(np.array([roll[start:end],tempo], dtype=\"object\"))\n",
    "    if leftover >=200:\n",
    "      leftover_roll = roll[end:]\n",
    "      while leftover_roll.shape[0]<target_size:\n",
    "        leftover_roll = np.vstack((leftover_roll,leftover_roll))\n",
    "      leftover_roll = leftover_roll[:target_size]\n",
    "      sev_roll.append(np.array([leftover_roll,tempo], dtype=\"object\"))\n",
    "  for roll in sev_roll:\n",
    "    roll = np.array([torch.tensor(roll[0]), roll[1]], dtype=\"object\")\n",
    "    if split==\"test\":\n",
    "      test.append(roll)\n",
    "    elif split==\"train\":\n",
    "      train.append(roll)\n",
    "    else:\n",
    "      validation.append(roll)"
   ]
  },
  {
   "cell_type": "code",
   "execution_count": null,
   "metadata": {
    "id": "eNQu9MluBSBe"
   },
   "outputs": [],
   "source": [
    "torch.save(validation, \"validation_tempo.csv\" )\n",
    "torch.save(test, \"test_tempo.csv\" )\n",
    "torch.save(train, \"train_tempo.csv\" )"
   ]
  }
 ],
 "metadata": {
  "colab": {
   "authorship_tag": "ABX9TyOLuyxMkvFJpwB2KP/k8FR9",
   "collapsed_sections": [],
   "mount_file_id": "1O8Jh9pvCqf8HTQ_p6WMgmWnWOy2bS-Ry",
   "name": "Copy of data_processing.ipynb",
   "provenance": []
  },
  "kernelspec": {
   "display_name": "Python 3",
   "language": "python",
   "name": "python3"
  },
  "language_info": {
   "codemirror_mode": {
    "name": "ipython",
    "version": 3
   },
   "file_extension": ".py",
   "mimetype": "text/x-python",
   "name": "python",
   "nbconvert_exporter": "python",
   "pygments_lexer": "ipython3",
   "version": "3.8.2"
  }
 },
 "nbformat": 4,
 "nbformat_minor": 1
}

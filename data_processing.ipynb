{
 "cells": [
  {
   "cell_type": "code",
   "execution_count": 1,
   "metadata": {
    "colab": {
     "base_uri": "https://localhost:8080/"
    },
    "id": "dd3K0avvtOAX",
    "outputId": "a121bda8-6cc7-45b3-d869-e994cb251b39"
   },
   "outputs": [],
   "source": [
    "drive = False  # False for Local\n",
    "if drive:\n",
    "    !pip install pretty_midi"
   ]
  },
  {
   "cell_type": "code",
   "execution_count": 2,
   "metadata": {
    "id": "UhjTVBAwtYJd"
   },
   "outputs": [],
   "source": [
    "import numpy as np\n",
    "import matplotlib.pyplot as plt\n",
    "import pretty_midi\n",
    "from mido import Message, MidiFile, MidiTrack\n",
    "import pandas as pd\n",
    "import json\n",
    "import torch as torch\n",
    "import math\n",
    "from bisect import bisect\n",
    "from tqdm import tqdm"
   ]
  },
  {
   "cell_type": "code",
   "execution_count": 3,
   "metadata": {
    "colab": {
     "base_uri": "https://localhost:8080/"
    },
    "id": "PNQ18B_yhh7m",
    "outputId": "8ff532c3-5282-4376-acd2-b14f6083eb6d"
   },
   "outputs": [],
   "source": [
    "if drive:\n",
    "    from google.colab import drive\n",
    "    drive.mount('/content/drive')\n",
    "    my_drive_path = '/content/drive/MyDrive/2022_Special_Studies_Hablutzel/ModelCopies/'\n",
    "else: # local\n",
    "    my_drive_path = \"./\""
   ]
  },
  {
   "cell_type": "code",
   "execution_count": 4,
   "metadata": {
    "id": "fC-omUPGwUSw"
   },
   "outputs": [],
   "source": [
    "my_data = pd.read_csv(my_drive_path + 'maestro-v3.0.0/maestro-v3.0.0.csv')"
   ]
  },
  {
   "cell_type": "code",
   "execution_count": 5,
   "metadata": {
    "colab": {
     "base_uri": "https://localhost:8080/"
    },
    "id": "s_jmKE9lvva4",
    "outputId": "5c747ba6-b4d2-454f-8761-106a8b650d07"
   },
   "outputs": [
    {
     "data": {
      "text/plain": [
       "canonical_composer                                       Claude Debussy\n",
       "canonical_title                          \"Voiles\" from Preludes, Book I\n",
       "split                                                             train\n",
       "year                                                               2008\n",
       "midi_filename         2008/MIDI-Unprocessed_07_R3_2008_01-05_ORIG_MI...\n",
       "audio_filename        2008/MIDI-Unprocessed_07_R3_2008_01-05_ORIG_MI...\n",
       "duration                                                     212.295461\n",
       "Name: 45, dtype: object"
      ]
     },
     "execution_count": 5,
     "metadata": {},
     "output_type": "execute_result"
    }
   ],
   "source": [
    "my_data.iloc[45]"
   ]
  },
  {
   "cell_type": "markdown",
   "metadata": {},
   "source": [
    "## Old Methods for Processing Pieces\n",
    "- Sophia's uniform size method (400 beats each)\n",
    "- Truncating/padding by fixed amount"
   ]
  },
  {
   "cell_type": "code",
   "execution_count": 6,
   "metadata": {},
   "outputs": [],
   "source": [
    "def cut_piece_into_uniform_sizes(roll, split):\n",
    "    \"\"\"Sophia's method: cut pieces into uniform 400 beats\n",
    "    NOT IN USE.\"\"\"\n",
    "    test = []\n",
    "    train = []\n",
    "    validation = []\n",
    "    sev_roll = [] # store pieces\n",
    "    target_size = 400 # how many beats/note onsets to use\n",
    "    repeat_if_too_short = True # allow repeating the piece until target size, if the piece is too short\n",
    "    use_only_first_chunk = False  # just keep first chunk of the piece\n",
    "    \n",
    "    # separate roll into pieces of target_size each\n",
    "    if roll.shape[0]<target_size:\n",
    "      if repeat_if_too_short:\n",
    "        #if the piece is shorter than the target size, repeat the piece until it reaches the target size.\n",
    "        while roll.shape[0]<target_size:\n",
    "          roll = np.vstack((roll,roll))\n",
    "        roll = roll[:target_size]\n",
    "        sev_roll.append(np.array([roll,tempo,beats], dtype=\"object\"))\n",
    "      else:\n",
    "        return []  # skip pieces less than target size\n",
    "    else:\n",
    "      if use_only_first_chunk:\n",
    "        # just keep the first chunk of the piece\n",
    "        num_arrays = 1\n",
    "        leftover = 0\n",
    "      else:\n",
    "        # otherwise, divide up the piece into target-sized smaller pieces. If the remainder are longer than half the target size, make that a new piece as well.\n",
    "        num_arrays = roll.shape[0]//target_size  # target_size pieces\n",
    "        leftover = roll.shape[0]%target_size  # leftover beyond target_size pieces\n",
    "\n",
    "      # get target_size pieces\n",
    "      for l in range(0, num_arrays):\n",
    "        start = target_size*l\n",
    "        end = target_size*(l+1)\n",
    "        sev_roll.append(np.array([roll[start:end],tempo,beats], dtype=\"object\"))\n",
    "\n",
    "      # if leftover larger than half the target size, repeat and use as well\n",
    "      if leftover >= target_size//2:\n",
    "        if repeat_if_too_short:\n",
    "          leftover_roll = roll[end:]\n",
    "          while leftover_roll.shape[0]<target_size:\n",
    "            leftover_roll = np.vstack((leftover_roll,leftover_roll))\n",
    "          leftover_roll = leftover_roll[:target_size]\n",
    "          sev_roll.append(np.array([leftover_roll,tempo,beats], dtype=\"object\"))\n",
    "            \n",
    "    # for each roll from this piece\n",
    "    for roll in sev_roll:\n",
    "    # add this into the correct file.\n",
    "        add_roll_to_split(roll[0], roll[1], roll[2], split) # roll, tempo, beats, split\n",
    "            \n",
    "    return"
   ]
  },
  {
   "cell_type": "code",
   "execution_count": 7,
   "metadata": {},
   "outputs": [],
   "source": [
    "def round_by_constant_interval(roll):\n",
    "    \"\"\"Round roll lengths by constant amount.\n",
    "    NOT IN USE.\"\"\"\n",
    "    round_interval = 30\n",
    "    round_up = True\n",
    "    round_down = False\n",
    "    \n",
    "    # adds silence at the end of piece, so length is multiple of round_interval\n",
    "    if round_up:\n",
    "        beats_to_add = (roll.shape[0] * -1) % round_interval  # example, -4 mod 10 gives 6 beats to add\n",
    "        pad = np.zeros((beats_to_add, 128))\n",
    "        roll = np.vstack([roll, pad])\n",
    "    # remove last few beats so length is multiple of round_interval\n",
    "    elif round_down:\n",
    "        beats_to_remove = roll.shape[0] % round_interval\n",
    "        if beats_to_remove > 0:\n",
    "            roll = roll[:(-1) * beats_to_remove] # cut off last [beats_to_remove] beats\n",
    "    # else give piece in its exact size (with silence removed)\n",
    "    \n",
    "    return roll\n",
    "    "
   ]
  },
  {
   "cell_type": "markdown",
   "metadata": {},
   "source": [
    "## Initial Processing of Pieces\n",
    "- convert to piano roll\n",
    "- get num beats; tempo\n",
    "- remove silence at beginning/end"
   ]
  },
  {
   "cell_type": "code",
   "execution_count": 8,
   "metadata": {
    "colab": {
     "base_uri": "https://localhost:8080/",
     "height": 1000
    },
    "id": "MTl11R_5_8DV",
    "outputId": "2460bfc6-edd9-4c2f-c0de-a254d8ae9046"
   },
   "outputs": [
    {
     "name": "stderr",
     "output_type": "stream",
     "text": [
      "  0%|          | 1/1276 [00:00<07:29,  2.83it/s]"
     ]
    },
    {
     "name": "stdout",
     "output_type": "stream",
     "text": [
      " estimated tempo: 187.51378314519036\tbeats: 2200 -> 2194\n"
     ]
    },
    {
     "name": "stderr",
     "output_type": "stream",
     "text": [
      "\r",
      "  0%|          | 2/1276 [00:00<07:28,  2.84it/s]"
     ]
    },
    {
     "name": "stdout",
     "output_type": "stream",
     "text": [
      " estimated tempo: 166.18828503917456\tbeats: 2118 -> 2113\n"
     ]
    },
    {
     "name": "stderr",
     "output_type": "stream",
     "text": [
      "\r",
      "  0%|          | 3/1276 [00:00<06:42,  3.16it/s]"
     ]
    },
    {
     "name": "stdout",
     "output_type": "stream",
     "text": [
      " estimated tempo: 195.59383799900638\tbeats: 1518 -> 1516\n"
     ]
    },
    {
     "name": "stderr",
     "output_type": "stream",
     "text": [
      "\r",
      "  0%|          | 4/1276 [00:01<06:41,  3.17it/s]"
     ]
    },
    {
     "name": "stdout",
     "output_type": "stream",
     "text": [
      " estimated tempo: 202.21236007154755\tbeats: 2941 -> 2938\n"
     ]
    },
    {
     "name": "stderr",
     "output_type": "stream",
     "text": [
      "  0%|          | 6/1276 [00:01<04:44,  4.46it/s]"
     ]
    },
    {
     "name": "stdout",
     "output_type": "stream",
     "text": [
      " estimated tempo: 204.54545454545385\tbeats: 1362 -> 1356\n",
      " estimated tempo: 199.02101929167657\tbeats: 1328 -> 1325\n",
      " estimated tempo: 193.74197831378314\tbeats: 529 -> 525\n"
     ]
    },
    {
     "name": "stderr",
     "output_type": "stream",
     "text": [
      "  1%|          | 9/1276 [00:01<03:15,  6.47it/s]"
     ]
    },
    {
     "name": "stdout",
     "output_type": "stream",
     "text": [
      " estimated tempo: 197.02832709780685\tbeats: 1855 -> 1848\n",
      " estimated tempo: 212.786044125192\tbeats: 500 -> 480\n"
     ]
    },
    {
     "name": "stderr",
     "output_type": "stream",
     "text": [
      "\r",
      "  1%|          | 10/1276 [00:02<03:08,  6.72it/s]"
     ]
    },
    {
     "name": "stdout",
     "output_type": "stream",
     "text": [
      " estimated tempo: 214.3654633420164\tbeats: 601 -> 597\n",
      " estimated tempo: 226.8426941150151\tbeats: 387 -> 380\n"
     ]
    },
    {
     "name": "stderr",
     "output_type": "stream",
     "text": [
      "\r",
      "  1%|          | 12/1276 [00:02<03:31,  5.97it/s]"
     ]
    },
    {
     "name": "stdout",
     "output_type": "stream",
     "text": [
      " estimated tempo: 195.88235294117038\tbeats: 1803 -> 1798\n"
     ]
    },
    {
     "name": "stderr",
     "output_type": "stream",
     "text": [
      "\r",
      "  1%|          | 13/1276 [00:02<03:48,  5.54it/s]"
     ]
    },
    {
     "name": "stdout",
     "output_type": "stream",
     "text": [
      " estimated tempo: 190.34482758620246\tbeats: 1625 -> 1621\n"
     ]
    },
    {
     "name": "stderr",
     "output_type": "stream",
     "text": [
      "\r",
      "  1%|          | 14/1276 [00:02<04:17,  4.91it/s]"
     ]
    },
    {
     "name": "stdout",
     "output_type": "stream",
     "text": [
      " estimated tempo: 210.41095890410958\tbeats: 1675 -> 1669\n",
      " estimated tempo: 208.67202535944483"
     ]
    },
    {
     "name": "stderr",
     "output_type": "stream",
     "text": [
      "  1%|▏         | 17/1276 [00:03<03:07,  6.73it/s]"
     ]
    },
    {
     "name": "stdout",
     "output_type": "stream",
     "text": [
      "\tbeats: 1693 -> 1690\n",
      " estimated tempo: 209.8881987577638\tbeats: 499 -> 481\n",
      " estimated tempo: 192.89059848399455\tbeats: 1514 -> 1511\n"
     ]
    },
    {
     "name": "stderr",
     "output_type": "stream",
     "text": [
      "\r",
      "  1%|▏         | 18/1276 [00:03<04:06,  5.10it/s]"
     ]
    },
    {
     "name": "stdout",
     "output_type": "stream",
     "text": [
      " estimated tempo: 209.87854251013383\tbeats: 2147 -> 2143\n"
     ]
    },
    {
     "name": "stderr",
     "output_type": "stream",
     "text": [
      "\r",
      "  1%|▏         | 19/1276 [00:04<05:13,  4.01it/s]"
     ]
    },
    {
     "name": "stdout",
     "output_type": "stream",
     "text": [
      " estimated tempo: 210.11574886005343\tbeats: 2464 -> 2461\n"
     ]
    },
    {
     "name": "stderr",
     "output_type": "stream",
     "text": [
      "\r",
      "  2%|▏         | 20/1276 [00:04<05:53,  3.55it/s]"
     ]
    },
    {
     "name": "stdout",
     "output_type": "stream",
     "text": [
      " estimated tempo: 209.17283120377928\tbeats: 2389 -> 2385\n"
     ]
    },
    {
     "name": "stderr",
     "output_type": "stream",
     "text": [
      "\r",
      "  2%|▏         | 21/1276 [00:04<05:43,  3.65it/s]"
     ]
    },
    {
     "name": "stdout",
     "output_type": "stream",
     "text": [
      " estimated tempo: 207.8098471986406\tbeats: 2292 -> 2289\n"
     ]
    },
    {
     "name": "stderr",
     "output_type": "stream",
     "text": [
      "\r",
      "  2%|▏         | 22/1276 [00:05<06:39,  3.14it/s]"
     ]
    },
    {
     "name": "stdout",
     "output_type": "stream",
     "text": [
      " estimated tempo: 193.29650092080857\tbeats: 3610 -> 3605\n"
     ]
    },
    {
     "name": "stderr",
     "output_type": "stream",
     "text": [
      "\r",
      "  2%|▏         | 23/1276 [00:05<07:58,  2.62it/s]"
     ]
    },
    {
     "name": "stdout",
     "output_type": "stream",
     "text": [
      " estimated tempo: 206.7772640739995\tbeats: 4119 -> 4112\n"
     ]
    },
    {
     "name": "stderr",
     "output_type": "stream",
     "text": [
      "\r",
      "  2%|▏         | 24/1276 [00:06<09:19,  2.24it/s]"
     ]
    },
    {
     "name": "stdout",
     "output_type": "stream",
     "text": [
      " estimated tempo: 207.70791075050704\tbeats: 3873 -> 3866\n",
      " estimated tempo: 208.77129394708447"
     ]
    },
    {
     "name": "stderr",
     "output_type": "stream",
     "text": [
      "\r",
      "  2%|▏         | 25/1276 [00:06<07:43,  2.70it/s]"
     ]
    },
    {
     "name": "stdout",
     "output_type": "stream",
     "text": [
      "\tbeats: 1531 -> 1528\n"
     ]
    },
    {
     "name": "stderr",
     "output_type": "stream",
     "text": [
      "\r",
      "  2%|▏         | 26/1276 [00:06<07:22,  2.82it/s]"
     ]
    },
    {
     "name": "stdout",
     "output_type": "stream",
     "text": [
      " estimated tempo: 206.01936665795353\tbeats: 2269 -> 2268\n"
     ]
    },
    {
     "name": "stderr",
     "output_type": "stream",
     "text": [
      "\r",
      "  2%|▏         | 27/1276 [00:07<07:12,  2.89it/s]"
     ]
    },
    {
     "name": "stdout",
     "output_type": "stream",
     "text": [
      " estimated tempo: 204.51595006934977\tbeats: 2391 -> 2388\n"
     ]
    },
    {
     "name": "stderr",
     "output_type": "stream",
     "text": [
      "\r",
      "  2%|▏         | 28/1276 [00:07<07:13,  2.88it/s]"
     ]
    },
    {
     "name": "stdout",
     "output_type": "stream",
     "text": [
      " estimated tempo: 203.14792233374368\tbeats: 2391 -> 2388\n"
     ]
    },
    {
     "name": "stderr",
     "output_type": "stream",
     "text": [
      "\r",
      "  2%|▏         | 29/1276 [00:07<06:57,  2.99it/s]"
     ]
    },
    {
     "name": "stdout",
     "output_type": "stream",
     "text": [
      " estimated tempo: 196.05531074305168\tbeats: 2121 -> 2117\n"
     ]
    },
    {
     "name": "stderr",
     "output_type": "stream",
     "text": [
      "\r",
      "  2%|▏         | 30/1276 [00:08<06:29,  3.20it/s]"
     ]
    },
    {
     "name": "stdout",
     "output_type": "stream",
     "text": [
      " estimated tempo: 181.14680764538326\tbeats: 1818 -> 1815\n"
     ]
    },
    {
     "name": "stderr",
     "output_type": "stream",
     "text": [
      "\r",
      "  2%|▏         | 31/1276 [00:08<06:29,  3.19it/s]"
     ]
    },
    {
     "name": "stdout",
     "output_type": "stream",
     "text": [
      " estimated tempo: 184.93218931635613\tbeats: 2184 -> 2180\n"
     ]
    },
    {
     "name": "stderr",
     "output_type": "stream",
     "text": [
      "\r",
      "  3%|▎         | 32/1276 [00:08<06:30,  3.19it/s]"
     ]
    },
    {
     "name": "stdout",
     "output_type": "stream",
     "text": [
      " estimated tempo: 209.48855333657468\tbeats: 2252 -> 2249\n"
     ]
    },
    {
     "name": "stderr",
     "output_type": "stream",
     "text": [
      "  3%|▎         | 34/1276 [00:09<05:07,  4.04it/s]"
     ]
    },
    {
     "name": "stdout",
     "output_type": "stream",
     "text": [
      " estimated tempo: 212.5853478501386\tbeats: 1699 -> 1693\n",
      " estimated tempo: 209.4926350245541\tbeats: 1502 -> 1497\n"
     ]
    },
    {
     "name": "stderr",
     "output_type": "stream",
     "text": [
      "\r",
      "  3%|▎         | 35/1276 [00:09<05:08,  4.02it/s]"
     ]
    },
    {
     "name": "stdout",
     "output_type": "stream",
     "text": [
      " estimated tempo: 213.27349228612238\tbeats: 1855 -> 1852\n"
     ]
    },
    {
     "name": "stderr",
     "output_type": "stream",
     "text": [
      "\r",
      "  3%|▎         | 36/1276 [00:09<05:26,  3.80it/s]"
     ]
    },
    {
     "name": "stdout",
     "output_type": "stream",
     "text": [
      " estimated tempo: 194.14681575109213\tbeats: 1685 -> 1680\n",
      " estimated tempo: 201.39860139859627\tbeats: 1227 -> 1226\n",
      " estimated tempo: 207.99699078427687"
     ]
    },
    {
     "name": "stderr",
     "output_type": "stream",
     "text": [
      "  3%|▎         | 39/1276 [00:09<03:27,  5.95it/s]"
     ]
    },
    {
     "name": "stdout",
     "output_type": "stream",
     "text": [
      "\tbeats: 1109 -> 1106\n",
      " estimated tempo: 232.9535290686376\tbeats: 903 -> 900\n"
     ]
    },
    {
     "name": "stderr",
     "output_type": "stream",
     "text": [
      "\r",
      "  3%|▎         | 40/1276 [00:10<05:34,  3.69it/s]"
     ]
    },
    {
     "name": "stdout",
     "output_type": "stream",
     "text": [
      " estimated tempo: 209.1659236443237\tbeats: 3274 -> 3271\n"
     ]
    },
    {
     "name": "stderr",
     "output_type": "stream",
     "text": [
      "  3%|▎         | 42/1276 [00:10<05:02,  4.08it/s]"
     ]
    },
    {
     "name": "stdout",
     "output_type": "stream",
     "text": [
      " estimated tempo: 211.84815447261101\tbeats: 1971 -> 1966\n",
      " estimated tempo: 214.38991445295193\tbeats: 869 -> 865\n"
     ]
    },
    {
     "name": "stderr",
     "output_type": "stream",
     "text": [
      "  4%|▎         | 45/1276 [00:11<03:42,  5.52it/s]"
     ]
    },
    {
     "name": "stdout",
     "output_type": "stream",
     "text": [
      " estimated tempo: 179.59077622604528\tbeats: 2748 -> 2745\n",
      " estimated tempo: 190.93922651933715\tbeats: 541 -> 541\n",
      " estimated tempo: 218.23348330571062\tbeats: 710 -> 706\n",
      " estimated tempo: 169.59314775160502\tbeats: 602 -> 598\n"
     ]
    },
    {
     "name": "stderr",
     "output_type": "stream",
     "text": [
      "\r",
      "  4%|▎         | 47/1276 [00:11<03:31,  5.81it/s]"
     ]
    },
    {
     "name": "stdout",
     "output_type": "stream",
     "text": [
      " estimated tempo: 212.70310192022833\tbeats: 1724 -> 1713\n"
     ]
    },
    {
     "name": "stderr",
     "output_type": "stream",
     "text": [
      "\r",
      "  4%|▍         | 48/1276 [00:12<04:43,  4.34it/s]"
     ]
    },
    {
     "name": "stdout",
     "output_type": "stream",
     "text": [
      " estimated tempo: 219.613120269088\tbeats: 3607 -> 3603\n"
     ]
    },
    {
     "name": "stderr",
     "output_type": "stream",
     "text": [
      "\r",
      "  4%|▍         | 49/1276 [00:12<05:27,  3.75it/s]"
     ]
    },
    {
     "name": "stdout",
     "output_type": "stream",
     "text": [
      " estimated tempo: 189.22847187655552\tbeats: 2689 -> 2684\n",
      " estimated tempo: 206.80538555691257\tbeats: 962 -> 957\n"
     ]
    },
    {
     "name": "stderr",
     "output_type": "stream",
     "text": [
      "  4%|▍         | 53/1276 [00:12<03:04,  6.63it/s]"
     ]
    },
    {
     "name": "stdout",
     "output_type": "stream",
     "text": [
      " estimated tempo: 210.72081847775513\tbeats: 950 -> 946\n",
      " estimated tempo: 213.10119695321006\tbeats: 323 -> 319\n",
      " estimated tempo: 214.67989179441028\tbeats: 298 -> 274\n"
     ]
    },
    {
     "name": "stderr",
     "output_type": "stream",
     "text": [
      "  4%|▍         | 55/1276 [00:13<02:50,  7.16it/s]"
     ]
    },
    {
     "name": "stdout",
     "output_type": "stream",
     "text": [
      " estimated tempo: 205.9148521286928\tbeats: 461 -> 456\n",
      " estimated tempo: 216.22926093514405\tbeats: 880 -> 876\n"
     ]
    },
    {
     "name": "stderr",
     "output_type": "stream",
     "text": [
      "\r",
      "  4%|▍         | 56/1276 [00:13<04:10,  4.86it/s]"
     ]
    },
    {
     "name": "stdout",
     "output_type": "stream",
     "text": [
      " estimated tempo: 206.868686868683\tbeats: 2323 -> 2315\n"
     ]
    },
    {
     "name": "stderr",
     "output_type": "stream",
     "text": [
      "\r",
      "  4%|▍         | 57/1276 [00:13<04:22,  4.65it/s]"
     ]
    },
    {
     "name": "stdout",
     "output_type": "stream",
     "text": [
      " estimated tempo: 197.37615038182645\tbeats: 2326 -> 2320\n"
     ]
    },
    {
     "name": "stderr",
     "output_type": "stream",
     "text": [
      "\r",
      "  5%|▍         | 58/1276 [00:14<05:03,  4.02it/s]"
     ]
    },
    {
     "name": "stdout",
     "output_type": "stream",
     "text": [
      " estimated tempo: 209.20913884008365\tbeats: 3150 -> 3147\n"
     ]
    },
    {
     "name": "stderr",
     "output_type": "stream",
     "text": [
      "\r",
      "  5%|▍         | 59/1276 [00:14<04:58,  4.08it/s]"
     ]
    },
    {
     "name": "stdout",
     "output_type": "stream",
     "text": [
      " estimated tempo: 184.7230320699713\tbeats: 2108 -> 2106\n"
     ]
    },
    {
     "name": "stderr",
     "output_type": "stream",
     "text": [
      "  5%|▍         | 61/1276 [00:15<05:31,  3.66it/s]"
     ]
    },
    {
     "name": "stdout",
     "output_type": "stream",
     "text": [
      " estimated tempo: 221.10458284371705\tbeats: 3409 -> 3404\n",
      " estimated tempo: 209.98481012658908\tbeats: 1004 -> 1000\n"
     ]
    },
    {
     "name": "stderr",
     "output_type": "stream",
     "text": [
      "  5%|▍         | 63/1276 [00:15<05:40,  3.56it/s]"
     ]
    },
    {
     "name": "stdout",
     "output_type": "stream",
     "text": [
      " estimated tempo: 180.92088042831708\tbeats: 2557 -> 2555\n",
      " estimated tempo: 215.99999999999827\tbeats: 805 -> 802\n"
     ]
    },
    {
     "name": "stderr",
     "output_type": "stream",
     "text": [
      "  5%|▌         | 65/1276 [00:16<04:33,  4.43it/s]"
     ]
    },
    {
     "name": "stdout",
     "output_type": "stream",
     "text": [
      " estimated tempo: 208.82175226586094\tbeats: 726 -> 723\n",
      " estimated tempo: 216.2845849802371\tbeats: 1188 -> 1186\n"
     ]
    },
    {
     "name": "stderr",
     "output_type": "stream",
     "text": [
      "  5%|▌         | 67/1276 [00:16<04:10,  4.82it/s]"
     ]
    },
    {
     "name": "stdout",
     "output_type": "stream",
     "text": [
      " estimated tempo: 215.88755856324846\tbeats: 1310 -> 1302\n",
      " estimated tempo: 214.29443394855286\tbeats: 1070 -> 1067\n"
     ]
    },
    {
     "name": "stderr",
     "output_type": "stream",
     "text": [
      "\r",
      "  5%|▌         | 68/1276 [00:16<03:57,  5.09it/s]"
     ]
    },
    {
     "name": "stdout",
     "output_type": "stream",
     "text": [
      " estimated tempo: 207.85128485511788\tbeats: 1215 -> 1213\n"
     ]
    },
    {
     "name": "stderr",
     "output_type": "stream",
     "text": [
      "  5%|▌         | 70/1276 [00:17<03:59,  5.03it/s]"
     ]
    },
    {
     "name": "stdout",
     "output_type": "stream",
     "text": [
      " estimated tempo: 212.35023041475543\tbeats: 1224 -> 1218\n",
      " estimated tempo: 213.84541526644233\tbeats: 1246 -> 1244\n"
     ]
    },
    {
     "name": "stderr",
     "output_type": "stream",
     "text": [
      "\r",
      "  6%|▌         | 72/1276 [00:17<02:56,  6.81it/s]"
     ]
    },
    {
     "name": "stdout",
     "output_type": "stream",
     "text": [
      " estimated tempo: 191.90005205622361\tbeats: 582 -> 579\n",
      " estimated tempo: 217.8282009724499\tbeats: 1275 -> 1272\n"
     ]
    },
    {
     "name": "stderr",
     "output_type": "stream",
     "text": [
      "\r",
      "  6%|▌         | 73/1276 [00:17<04:09,  4.82it/s]"
     ]
    },
    {
     "name": "stdout",
     "output_type": "stream",
     "text": [
      " estimated tempo: 199.51716175081467\tbeats: 2460 -> 2453\n"
     ]
    },
    {
     "name": "stderr",
     "output_type": "stream",
     "text": [
      "  6%|▌         | 76/1276 [00:17<03:09,  6.32it/s]"
     ]
    },
    {
     "name": "stdout",
     "output_type": "stream",
     "text": [
      " estimated tempo: 211.7230062356418\tbeats: 1124 -> 1120\n",
      " estimated tempo: 100.0651465798047\tbeats: 419 -> 417\n",
      " estimated tempo: 141.60116448326073\tbeats: 702 -> 697\n"
     ]
    },
    {
     "name": "stderr",
     "output_type": "stream",
     "text": [
      "  6%|▌         | 78/1276 [00:18<02:50,  7.01it/s]"
     ]
    },
    {
     "name": "stdout",
     "output_type": "stream",
     "text": [
      " estimated tempo: 206.65783304454092\tbeats: 889 -> 885\n",
      " estimated tempo: 193.89587073608672\tbeats: 1093 -> 1090\n"
     ]
    },
    {
     "name": "stderr",
     "output_type": "stream",
     "text": [
      "\r",
      "  6%|▌         | 79/1276 [00:18<02:39,  7.51it/s]"
     ]
    },
    {
     "name": "stdout",
     "output_type": "stream",
     "text": [
      " estimated tempo: 206.19077700568815\tbeats: 893 -> 887\n",
      " estimated tempo: 176.17204301075222\tbeats: 526 -> 524\n"
     ]
    },
    {
     "name": "stderr",
     "output_type": "stream",
     "text": [
      "  6%|▋         | 82/1276 [00:19<04:35,  4.34it/s]"
     ]
    },
    {
     "name": "stdout",
     "output_type": "stream",
     "text": [
      " estimated tempo: 213.48707917221526\tbeats: 8765 -> 8762\n",
      " estimated tempo: 215.59575795384487\tbeats: 622 -> 619\n",
      " estimated tempo: 150.53036126056932\tbeats: 602 -> 599\n"
     ]
    },
    {
     "name": "stderr",
     "output_type": "stream",
     "text": [
      "\r",
      "  7%|▋         | 84/1276 [00:19<04:52,  4.07it/s]"
     ]
    },
    {
     "name": "stdout",
     "output_type": "stream",
     "text": [
      " estimated tempo: 208.81247500997654\tbeats: 4132 -> 4127\n"
     ]
    },
    {
     "name": "stderr",
     "output_type": "stream",
     "text": [
      "\r",
      "  7%|▋         | 85/1276 [00:20<05:56,  3.34it/s]"
     ]
    },
    {
     "name": "stdout",
     "output_type": "stream",
     "text": [
      " estimated tempo: 202.4108878807582\tbeats: 3180 -> 3168\n"
     ]
    },
    {
     "name": "stderr",
     "output_type": "stream",
     "text": [
      "\r",
      "  7%|▋         | 86/1276 [00:20<06:00,  3.30it/s]"
     ]
    },
    {
     "name": "stdout",
     "output_type": "stream",
     "text": [
      " estimated tempo: 204.61440869959222\tbeats: 2504 -> 2497\n"
     ]
    },
    {
     "name": "stderr",
     "output_type": "stream",
     "text": [
      "\r",
      "  7%|▋         | 87/1276 [00:21<06:54,  2.87it/s]"
     ]
    },
    {
     "name": "stdout",
     "output_type": "stream",
     "text": [
      " estimated tempo: 214.84793896365835\tbeats: 4255 -> 4251\n"
     ]
    },
    {
     "name": "stderr",
     "output_type": "stream",
     "text": [
      "\r",
      "  7%|▋         | 88/1276 [00:21<07:39,  2.58it/s]"
     ]
    },
    {
     "name": "stdout",
     "output_type": "stream",
     "text": [
      " estimated tempo: 210.5611880622607\tbeats: 3701 -> 3699\n"
     ]
    },
    {
     "name": "stderr",
     "output_type": "stream",
     "text": [
      "\r",
      "  7%|▋         | 89/1276 [00:22<08:11,  2.41it/s]"
     ]
    },
    {
     "name": "stdout",
     "output_type": "stream",
     "text": [
      " estimated tempo: 195.44014541677302\tbeats: 3329 -> 3326\n"
     ]
    },
    {
     "name": "stderr",
     "output_type": "stream",
     "text": [
      "\r",
      "  7%|▋         | 90/1276 [00:22<07:47,  2.54it/s]"
     ]
    },
    {
     "name": "stdout",
     "output_type": "stream",
     "text": [
      " estimated tempo: 176.63905032768704\tbeats: 1866 -> 1861\n"
     ]
    },
    {
     "name": "stderr",
     "output_type": "stream",
     "text": [
      "\r",
      "  7%|▋         | 91/1276 [00:22<07:02,  2.81it/s]"
     ]
    },
    {
     "name": "stdout",
     "output_type": "stream",
     "text": [
      " estimated tempo: 152.98804780876492\tbeats: 1806 -> 1802\n",
      " estimated tempo: 195.22571219868627\tbeats: 394 -> 392\n",
      " estimated tempo: 225.20573860949148\tbeats: 248 -> 239\n",
      " estimated tempo: 201.67725540025404"
     ]
    },
    {
     "name": "stderr",
     "output_type": "stream",
     "text": [
      "\r",
      "  7%|▋         | 94/1276 [00:22<03:50,  5.12it/s]"
     ]
    },
    {
     "name": "stdout",
     "output_type": "stream",
     "text": [
      "\tbeats: 699 -> 696\n",
      " estimated tempo: 193.19448201244217\tbeats: 479 -> 474\n"
     ]
    },
    {
     "name": "stderr",
     "output_type": "stream",
     "text": [
      "  8%|▊         | 98/1276 [00:23<02:45,  7.10it/s]"
     ]
    },
    {
     "name": "stdout",
     "output_type": "stream",
     "text": [
      " estimated tempo: 217.10597650703227\tbeats: 1078 -> 1075\n",
      " estimated tempo: 234.93080844865122\tbeats: 375 -> 370\n",
      " estimated tempo: 158.4866723989674\tbeats: 776 -> 774\n"
     ]
    },
    {
     "name": "stderr",
     "output_type": "stream",
     "text": [
      "  8%|▊         | 101/1276 [00:23<02:24,  8.12it/s]"
     ]
    },
    {
     "name": "stdout",
     "output_type": "stream",
     "text": [
      " estimated tempo: 177.09053916582153\tbeats: 945 -> 941\n",
      " estimated tempo: 162.16249298719842\tbeats: 452 -> 450\n",
      " estimated tempo: 213.44312918167597\tbeats: 864 -> 861\n"
     ]
    },
    {
     "name": "stderr",
     "output_type": "stream",
     "text": [
      "  8%|▊         | 105/1276 [00:23<01:40, 11.62it/s]"
     ]
    },
    {
     "name": "stdout",
     "output_type": "stream",
     "text": [
      " estimated tempo: 192.3789281918932\tbeats: 425 -> 422\n",
      " estimated tempo: 226.69051878354352\tbeats: 658 -> 657\n",
      " estimated tempo: 185.49480040254906\tbeats: 246 -> 244\n",
      " estimated tempo: 199.94214636968422\tbeats: 455 -> 450\n"
     ]
    },
    {
     "name": "stderr",
     "output_type": "stream",
     "text": [
      "\r",
      "  8%|▊         | 107/1276 [00:24<01:49, 10.67it/s]"
     ]
    },
    {
     "name": "stdout",
     "output_type": "stream",
     "text": [
      " estimated tempo: 210.28571428571246\tbeats: 478 -> 473\n",
      " estimated tempo: 204.6770708283299\tbeats: 704 -> 697\n",
      " estimated tempo: 234.50381679389415\tbeats: 668 -> 664\n"
     ]
    },
    {
     "name": "stderr",
     "output_type": "stream",
     "text": [
      "  9%|▊         | 111/1276 [00:24<02:27,  7.89it/s]"
     ]
    },
    {
     "name": "stdout",
     "output_type": "stream",
     "text": [
      " estimated tempo: 194.37975210915775\tbeats: 2560 -> 2547\n",
      " estimated tempo: 203.294117647058\tbeats: 470 -> 466\n",
      " estimated tempo: 197.05465722303708\tbeats: 464 -> 459\n"
     ]
    },
    {
     "name": "stderr",
     "output_type": "stream",
     "text": [
      "\r",
      "  9%|▉         | 113/1276 [00:25<02:24,  8.03it/s]"
     ]
    },
    {
     "name": "stdout",
     "output_type": "stream",
     "text": [
      " estimated tempo: 230.14683847767546\tbeats: 533 -> 528\n",
      " estimated tempo: 192.53481894150661\tbeats: 624 -> 620\n"
     ]
    },
    {
     "name": "stderr",
     "output_type": "stream",
     "text": [
      "\r",
      "  9%|▉         | 115/1276 [00:25<02:20,  8.25it/s]"
     ]
    },
    {
     "name": "stdout",
     "output_type": "stream",
     "text": [
      " estimated tempo: 201.3026211278746\tbeats: 675 -> 671\n",
      " estimated tempo: 218.90736342042683\tbeats: 790 -> 783\n"
     ]
    },
    {
     "name": "stderr",
     "output_type": "stream",
     "text": [
      "  9%|▉         | 118/1276 [00:25<02:03,  9.38it/s]"
     ]
    },
    {
     "name": "stdout",
     "output_type": "stream",
     "text": [
      " estimated tempo: 218.2520107238603\tbeats: 795 -> 789\n",
      " estimated tempo: 228.55398702785294\tbeats: 366 -> 363\n",
      " estimated tempo: 202.20661985957935\tbeats: 808 -> 805\n",
      " estimated tempo: 194.07008086253393"
     ]
    },
    {
     "name": "stderr",
     "output_type": "stream",
     "text": [
      "\r",
      "  9%|▉         | 120/1276 [00:25<01:44, 11.02it/s]"
     ]
    },
    {
     "name": "stdout",
     "output_type": "stream",
     "text": [
      "\tbeats: 464 -> 461\n",
      " estimated tempo: 207.67447849600836\tbeats: 333 -> 330\n",
      " estimated tempo: 208.55826201448323\tbeats: 684 -> 677\n"
     ]
    },
    {
     "name": "stderr",
     "output_type": "stream",
     "text": [
      " 10%|▉         | 124/1276 [00:26<01:51, 10.31it/s]"
     ]
    },
    {
     "name": "stdout",
     "output_type": "stream",
     "text": [
      " estimated tempo: 220.77325905292196\tbeats: 1379 -> 1371\n",
      " estimated tempo: 206.63677130045002\tbeats: 383 -> 378\n",
      " estimated tempo: 213.94812680115442\tbeats: 676 -> 659\n",
      " estimated tempo: 198.4194528875377\tbeats: 258 -> 252\n",
      " estimated tempo: 215.9325210871598\tbeats: 273 -> 268\n"
     ]
    },
    {
     "name": "stderr",
     "output_type": "stream",
     "text": [
      "\r",
      " 10%|▉         | 127/1276 [00:26<02:16,  8.39it/s]"
     ]
    },
    {
     "name": "stdout",
     "output_type": "stream",
     "text": [
      " estimated tempo: 201.11093477226433\tbeats: 2221 -> 2216\n",
      " estimated tempo: 204.6279404704799\tbeats: 1237 -> 1234\n"
     ]
    },
    {
     "name": "stderr",
     "output_type": "stream",
     "text": [
      "\r",
      " 10%|█         | 129/1276 [00:27<02:47,  6.84it/s]"
     ]
    },
    {
     "name": "stdout",
     "output_type": "stream",
     "text": [
      " estimated tempo: 203.11873180201002\tbeats: 1216 -> 1213\n"
     ]
    },
    {
     "name": "stderr",
     "output_type": "stream",
     "text": [
      "\r",
      " 10%|█         | 130/1276 [00:27<03:30,  5.44it/s]"
     ]
    },
    {
     "name": "stdout",
     "output_type": "stream",
     "text": [
      " estimated tempo: 194.1949918778935\tbeats: 2349 -> 2344\n"
     ]
    },
    {
     "name": "stderr",
     "output_type": "stream",
     "text": [
      "\r",
      " 10%|█         | 131/1276 [00:27<04:15,  4.48it/s]"
     ]
    },
    {
     "name": "stdout",
     "output_type": "stream",
     "text": [
      " estimated tempo: 206.03068998819592\tbeats: 2302 -> 2296\n"
     ]
    },
    {
     "name": "stderr",
     "output_type": "stream",
     "text": [
      "\r",
      " 10%|█         | 132/1276 [00:28<05:02,  3.78it/s]"
     ]
    },
    {
     "name": "stdout",
     "output_type": "stream",
     "text": [
      " estimated tempo: 193.63027791462645\tbeats: 2307 -> 2303\n"
     ]
    },
    {
     "name": "stderr",
     "output_type": "stream",
     "text": [
      "\r",
      " 10%|█         | 133/1276 [00:28<05:32,  3.44it/s]"
     ]
    },
    {
     "name": "stdout",
     "output_type": "stream",
     "text": [
      " estimated tempo: 205.5053145363115\tbeats: 2138 -> 2133\n"
     ]
    },
    {
     "name": "stderr",
     "output_type": "stream",
     "text": [
      "\r",
      " 11%|█         | 134/1276 [00:28<05:38,  3.37it/s]"
     ]
    },
    {
     "name": "stdout",
     "output_type": "stream",
     "text": [
      " estimated tempo: 210.9618968065271\tbeats: 2225 -> 2219\n"
     ]
    },
    {
     "name": "stderr",
     "output_type": "stream",
     "text": [
      "\r",
      " 11%|█         | 135/1276 [00:29<06:17,  3.02it/s]"
     ]
    },
    {
     "name": "stdout",
     "output_type": "stream",
     "text": [
      " estimated tempo: 204.49704142011794\tbeats: 2187 -> 2184\n"
     ]
    },
    {
     "name": "stderr",
     "output_type": "stream",
     "text": [
      "\r",
      " 11%|█         | 136/1276 [00:29<06:30,  2.92it/s]"
     ]
    },
    {
     "name": "stdout",
     "output_type": "stream",
     "text": [
      " estimated tempo: 199.8447842958237\tbeats: 2168 -> 2164\n"
     ]
    },
    {
     "name": "stderr",
     "output_type": "stream",
     "text": [
      "\r",
      " 11%|█         | 137/1276 [00:30<07:12,  2.63it/s]"
     ]
    },
    {
     "name": "stdout",
     "output_type": "stream",
     "text": [
      " estimated tempo: 204.1734360164578\tbeats: 2460 -> 2457\n"
     ]
    },
    {
     "name": "stderr",
     "output_type": "stream",
     "text": [
      "\r",
      " 11%|█         | 138/1276 [00:30<07:17,  2.60it/s]"
     ]
    },
    {
     "name": "stdout",
     "output_type": "stream",
     "text": [
      " estimated tempo: 199.3695531244208\tbeats: 2251 -> 2247\n"
     ]
    },
    {
     "name": "stderr",
     "output_type": "stream",
     "text": [
      "\r",
      " 11%|█         | 139/1276 [00:30<07:15,  2.61it/s]"
     ]
    },
    {
     "name": "stdout",
     "output_type": "stream",
     "text": [
      " estimated tempo: 203.69489665264285\tbeats: 2273 -> 2267\n"
     ]
    },
    {
     "name": "stderr",
     "output_type": "stream",
     "text": [
      "\r",
      " 11%|█         | 140/1276 [00:31<06:53,  2.75it/s]"
     ]
    },
    {
     "name": "stdout",
     "output_type": "stream",
     "text": [
      " estimated tempo: 202.75595621377826\tbeats: 2080 -> 2077\n"
     ]
    },
    {
     "name": "stderr",
     "output_type": "stream",
     "text": [
      "\r",
      " 11%|█         | 141/1276 [00:31<06:54,  2.74it/s]"
     ]
    },
    {
     "name": "stdout",
     "output_type": "stream",
     "text": [
      " estimated tempo: 204.0631054525266\tbeats: 2266 -> 2263\n"
     ]
    },
    {
     "name": "stderr",
     "output_type": "stream",
     "text": [
      "\r",
      " 11%|█         | 142/1276 [00:31<06:37,  2.85it/s]"
     ]
    },
    {
     "name": "stdout",
     "output_type": "stream",
     "text": [
      " estimated tempo: 208.54141581897426\tbeats: 2135 -> 2132\n"
     ]
    },
    {
     "name": "stderr",
     "output_type": "stream",
     "text": [
      "\r",
      " 11%|█         | 143/1276 [00:32<06:50,  2.76it/s]"
     ]
    },
    {
     "name": "stdout",
     "output_type": "stream",
     "text": [
      " estimated tempo: 205.45360679589007\tbeats: 2203 -> 2199\n"
     ]
    },
    {
     "name": "stderr",
     "output_type": "stream",
     "text": [
      "\r",
      " 11%|█▏        | 144/1276 [00:32<06:26,  2.93it/s]"
     ]
    },
    {
     "name": "stdout",
     "output_type": "stream",
     "text": [
      " estimated tempo: 198.50744377573636\tbeats: 2443 -> 2438\n"
     ]
    },
    {
     "name": "stderr",
     "output_type": "stream",
     "text": [
      "\r",
      " 11%|█▏        | 145/1276 [00:33<06:47,  2.77it/s]"
     ]
    },
    {
     "name": "stdout",
     "output_type": "stream",
     "text": [
      " estimated tempo: 206.00332098607498\tbeats: 2251 -> 2245\n"
     ]
    },
    {
     "name": "stderr",
     "output_type": "stream",
     "text": [
      "\r",
      " 11%|█▏        | 146/1276 [00:33<06:59,  2.70it/s]"
     ]
    },
    {
     "name": "stdout",
     "output_type": "stream",
     "text": [
      " estimated tempo: 208.3889202939509\tbeats: 2306 -> 2302\n"
     ]
    },
    {
     "name": "stderr",
     "output_type": "stream",
     "text": [
      "\r",
      " 12%|█▏        | 147/1276 [00:33<07:16,  2.58it/s]"
     ]
    },
    {
     "name": "stdout",
     "output_type": "stream",
     "text": [
      " estimated tempo: 201.82249528560007\tbeats: 2174 -> 2161\n"
     ]
    },
    {
     "name": "stderr",
     "output_type": "stream",
     "text": [
      "\r",
      " 12%|█▏        | 148/1276 [00:34<07:23,  2.54it/s]"
     ]
    },
    {
     "name": "stdout",
     "output_type": "stream",
     "text": [
      " estimated tempo: 205.85788077621098\tbeats: 2433 -> 2428\n"
     ]
    },
    {
     "name": "stderr",
     "output_type": "stream",
     "text": [
      "\r",
      " 12%|█▏        | 149/1276 [00:34<07:12,  2.60it/s]"
     ]
    },
    {
     "name": "stdout",
     "output_type": "stream",
     "text": [
      " estimated tempo: 199.480519480519\tbeats: 2225 -> 2222\n"
     ]
    },
    {
     "name": "stderr",
     "output_type": "stream",
     "text": [
      "\r",
      " 12%|█▏        | 150/1276 [00:34<07:11,  2.61it/s]"
     ]
    },
    {
     "name": "stdout",
     "output_type": "stream",
     "text": [
      " estimated tempo: 198.16076744955487\tbeats: 2282 -> 2279\n"
     ]
    },
    {
     "name": "stderr",
     "output_type": "stream",
     "text": [
      "\r",
      " 12%|█▏        | 151/1276 [00:35<07:23,  2.54it/s]"
     ]
    },
    {
     "name": "stdout",
     "output_type": "stream",
     "text": [
      " estimated tempo: 202.6230260390782\tbeats: 2106 -> 2103\n"
     ]
    },
    {
     "name": "stderr",
     "output_type": "stream",
     "text": [
      "\r",
      " 12%|█▏        | 152/1276 [00:35<07:22,  2.54it/s]"
     ]
    },
    {
     "name": "stdout",
     "output_type": "stream",
     "text": [
      " estimated tempo: 202.71448900585995\tbeats: 2236 -> 2230\n"
     ]
    },
    {
     "name": "stderr",
     "output_type": "stream",
     "text": [
      "\r",
      " 12%|█▏        | 153/1276 [00:36<06:46,  2.76it/s]"
     ]
    },
    {
     "name": "stdout",
     "output_type": "stream",
     "text": [
      " estimated tempo: 200.41753653444724\tbeats: 2374 -> 2368\n"
     ]
    },
    {
     "name": "stderr",
     "output_type": "stream",
     "text": [
      " 12%|█▏        | 155/1276 [00:36<05:10,  3.62it/s]"
     ]
    },
    {
     "name": "stdout",
     "output_type": "stream",
     "text": [
      " estimated tempo: 223.82513661202333\tbeats: 1002 -> 995\n",
      " estimated tempo: 218.2295081967161\tbeats: 922 -> 909\n"
     ]
    },
    {
     "name": "stderr",
     "output_type": "stream",
     "text": [
      " 12%|█▏        | 157/1276 [00:36<04:18,  4.32it/s]"
     ]
    },
    {
     "name": "stdout",
     "output_type": "stream",
     "text": [
      " estimated tempo: 226.2033329027268\tbeats: 989 -> 982\n",
      " estimated tempo: 223.77288008965098\tbeats: 1026 -> 1023\n"
     ]
    },
    {
     "name": "stderr",
     "output_type": "stream",
     "text": [
      "\r",
      " 12%|█▏        | 158/1276 [00:37<03:55,  4.75it/s]"
     ]
    },
    {
     "name": "stdout",
     "output_type": "stream",
     "text": [
      " estimated tempo: 214.6393398988554\tbeats: 956 -> 951\n"
     ]
    },
    {
     "name": "stderr",
     "output_type": "stream",
     "text": [
      "\r",
      " 12%|█▏        | 159/1276 [00:37<03:59,  4.66it/s]"
     ]
    },
    {
     "name": "stdout",
     "output_type": "stream",
     "text": [
      " estimated tempo: 211.40308398114044\tbeats: 950 -> 945\n"
     ]
    },
    {
     "name": "stderr",
     "output_type": "stream",
     "text": [
      "\r",
      " 13%|█▎        | 160/1276 [00:37<03:57,  4.69it/s]"
     ]
    },
    {
     "name": "stdout",
     "output_type": "stream",
     "text": [
      " estimated tempo: 214.25914445132614\tbeats: 1551 -> 1547\n"
     ]
    },
    {
     "name": "stderr",
     "output_type": "stream",
     "text": [
      "\r",
      " 13%|█▎        | 161/1276 [00:37<05:28,  3.40it/s]"
     ]
    },
    {
     "name": "stdout",
     "output_type": "stream",
     "text": [
      " estimated tempo: 212.30364194822164\tbeats: 3635 -> 3632\n"
     ]
    },
    {
     "name": "stderr",
     "output_type": "stream",
     "text": [
      "\r",
      " 13%|█▎        | 162/1276 [00:38<06:33,  2.83it/s]"
     ]
    },
    {
     "name": "stdout",
     "output_type": "stream",
     "text": [
      " estimated tempo: 212.26130653267492\tbeats: 3528 -> 3525\n"
     ]
    },
    {
     "name": "stderr",
     "output_type": "stream",
     "text": [
      "\r",
      " 13%|█▎        | 163/1276 [00:38<05:36,  3.30it/s]"
     ]
    },
    {
     "name": "stdout",
     "output_type": "stream",
     "text": [
      " estimated tempo: 215.13094966978164\tbeats: 794 -> 789\n"
     ]
    },
    {
     "name": "stderr",
     "output_type": "stream",
     "text": [
      "\r",
      " 13%|█▎        | 164/1276 [00:38<05:24,  3.42it/s]"
     ]
    },
    {
     "name": "stdout",
     "output_type": "stream",
     "text": [
      " estimated tempo: 204.77604958484116\tbeats: 2555 -> 2552\n"
     ]
    },
    {
     "name": "stderr",
     "output_type": "stream",
     "text": [
      "\r",
      " 13%|█▎        | 165/1276 [00:39<05:35,  3.31it/s]"
     ]
    },
    {
     "name": "stdout",
     "output_type": "stream",
     "text": [
      " estimated tempo: 205.76021433354654\tbeats: 2565 -> 2559\n"
     ]
    },
    {
     "name": "stderr",
     "output_type": "stream",
     "text": [
      "\r",
      " 13%|█▎        | 166/1276 [00:39<05:28,  3.38it/s]"
     ]
    },
    {
     "name": "stdout",
     "output_type": "stream",
     "text": [
      " estimated tempo: 206.4575805752209\tbeats: 2953 -> 2949\n"
     ]
    },
    {
     "name": "stderr",
     "output_type": "stream",
     "text": [
      " 13%|█▎        | 168/1276 [00:40<04:48,  3.84it/s]"
     ]
    },
    {
     "name": "stdout",
     "output_type": "stream",
     "text": [
      " estimated tempo: 194.25279280545521\tbeats: 2658 -> 2655\n",
      " estimated tempo: 221.40943506115292\tbeats: 635 -> 630\n"
     ]
    },
    {
     "name": "stderr",
     "output_type": "stream",
     "text": [
      " 13%|█▎        | 170/1276 [00:40<04:04,  4.53it/s]"
     ]
    },
    {
     "name": "stdout",
     "output_type": "stream",
     "text": [
      " estimated tempo: 209.83027459638555\tbeats: 1062 -> 1061\n",
      " estimated tempo: 213.46964856230315\tbeats: 1339 -> 1339\n"
     ]
    },
    {
     "name": "stderr",
     "output_type": "stream",
     "text": [
      "\r",
      " 13%|█▎        | 171/1276 [00:40<03:49,  4.82it/s]"
     ]
    },
    {
     "name": "stdout",
     "output_type": "stream",
     "text": [
      " estimated tempo: 218.46827133479644\tbeats: 801 -> 797\n",
      " estimated tempo: 218.42696629213341"
     ]
    },
    {
     "name": "stderr",
     "output_type": "stream",
     "text": [
      "\r",
      " 13%|█▎        | 172/1276 [00:40<03:50,  4.79it/s]"
     ]
    },
    {
     "name": "stdout",
     "output_type": "stream",
     "text": [
      "\tbeats: 860 -> 854\n",
      " estimated tempo: 234.24305003971125\tbeats: 631 -> 626\n"
     ]
    },
    {
     "name": "stderr",
     "output_type": "stream",
     "text": [
      " 14%|█▎        | 175/1276 [00:41<03:03,  5.99it/s]"
     ]
    },
    {
     "name": "stdout",
     "output_type": "stream",
     "text": [
      " estimated tempo: 209.36497754971367\tbeats: 1020 -> 1014\n",
      " estimated tempo: 223.81822672264698\tbeats: 581 -> 567\n"
     ]
    },
    {
     "name": "stderr",
     "output_type": "stream",
     "text": [
      " 14%|█▍        | 177/1276 [00:41<02:51,  6.39it/s]"
     ]
    },
    {
     "name": "stdout",
     "output_type": "stream",
     "text": [
      " estimated tempo: 210.4848910751938\tbeats: 955 -> 952\n",
      " estimated tempo: 208.00481492626957\tbeats: 914 -> 911\n"
     ]
    },
    {
     "name": "stderr",
     "output_type": "stream",
     "text": [
      " 14%|█▍        | 179/1276 [00:41<02:51,  6.38it/s]"
     ]
    },
    {
     "name": "stdout",
     "output_type": "stream",
     "text": [
      " estimated tempo: 204.25531914893574\tbeats: 934 -> 928\n",
      " estimated tempo: 216.05274725274592\tbeats: 1275 -> 1261\n"
     ]
    },
    {
     "name": "stderr",
     "output_type": "stream",
     "text": [
      "\r",
      " 14%|█▍        | 180/1276 [00:41<02:40,  6.82it/s]"
     ]
    },
    {
     "name": "stdout",
     "output_type": "stream",
     "text": [
      " estimated tempo: 213.91387866175728\tbeats: 1346 -> 1341\n"
     ]
    },
    {
     "name": "stderr",
     "output_type": "stream",
     "text": [
      "\r",
      " 14%|█▍        | 181/1276 [00:42<04:39,  3.92it/s]"
     ]
    },
    {
     "name": "stdout",
     "output_type": "stream",
     "text": [
      " estimated tempo: 207.49597608645166\tbeats: 3475 -> 3472\n"
     ]
    },
    {
     "name": "stderr",
     "output_type": "stream",
     "text": [
      "\r",
      " 14%|█▍        | 182/1276 [00:42<05:48,  3.14it/s]"
     ]
    },
    {
     "name": "stdout",
     "output_type": "stream",
     "text": [
      " estimated tempo: 208.2375726275031\tbeats: 3493 -> 3488\n"
     ]
    },
    {
     "name": "stderr",
     "output_type": "stream",
     "text": [
      "\r",
      " 14%|█▍        | 183/1276 [00:43<07:14,  2.52it/s]"
     ]
    },
    {
     "name": "stdout",
     "output_type": "stream",
     "text": [
      " estimated tempo: 208.14052697616054\tbeats: 3167 -> 3164\n"
     ]
    },
    {
     "name": "stderr",
     "output_type": "stream",
     "text": [
      "\r",
      " 14%|█▍        | 184/1276 [00:43<07:23,  2.46it/s]"
     ]
    },
    {
     "name": "stdout",
     "output_type": "stream",
     "text": [
      " estimated tempo: 219.00645015279346\tbeats: 3290 -> 3285\n"
     ]
    },
    {
     "name": "stderr",
     "output_type": "stream",
     "text": [
      "\r",
      " 14%|█▍        | 185/1276 [00:44<08:07,  2.24it/s]"
     ]
    },
    {
     "name": "stdout",
     "output_type": "stream",
     "text": [
      " estimated tempo: 212.9323308270619\tbeats: 3497 -> 3493\n"
     ]
    },
    {
     "name": "stderr",
     "output_type": "stream",
     "text": [
      "\r",
      " 15%|█▍        | 186/1276 [00:44<07:09,  2.54it/s]"
     ]
    },
    {
     "name": "stdout",
     "output_type": "stream",
     "text": [
      " estimated tempo: 147.81986428130836\tbeats: 1718 -> 1716\n"
     ]
    },
    {
     "name": "stderr",
     "output_type": "stream",
     "text": [
      "\r",
      " 15%|█▍        | 187/1276 [00:44<06:11,  2.93it/s]"
     ]
    },
    {
     "name": "stdout",
     "output_type": "stream",
     "text": [
      " estimated tempo: 195.27046115496805\tbeats: 2050 -> 2036\n"
     ]
    },
    {
     "name": "stderr",
     "output_type": "stream",
     "text": [
      "\r",
      " 15%|█▍        | 188/1276 [00:46<10:51,  1.67it/s]"
     ]
    },
    {
     "name": "stdout",
     "output_type": "stream",
     "text": [
      " estimated tempo: 210.1323918799647\tbeats: 5644 -> 5644\n"
     ]
    },
    {
     "name": "stderr",
     "output_type": "stream",
     "text": [
      " 15%|█▍        | 190/1276 [00:46<06:46,  2.67it/s]"
     ]
    },
    {
     "name": "stdout",
     "output_type": "stream",
     "text": [
      " estimated tempo: 213.5310472659841\tbeats: 935 -> 932\n",
      " estimated tempo: 210.75405663378348\tbeats: 979 -> 971\n"
     ]
    },
    {
     "name": "stderr",
     "output_type": "stream",
     "text": [
      "\r",
      " 15%|█▍        | 191/1276 [00:46<05:37,  3.22it/s]"
     ]
    },
    {
     "name": "stdout",
     "output_type": "stream",
     "text": [
      " estimated tempo: 215.87927803530948\tbeats: 945 -> 941\n"
     ]
    },
    {
     "name": "stderr",
     "output_type": "stream",
     "text": [
      " 15%|█▌        | 193/1276 [00:47<04:24,  4.10it/s]"
     ]
    },
    {
     "name": "stdout",
     "output_type": "stream",
     "text": [
      " estimated tempo: 207.1587600616526\tbeats: 974 -> 970\n",
      " estimated tempo: 216.04500937695374\tbeats: 953 -> 950\n"
     ]
    },
    {
     "name": "stderr",
     "output_type": "stream",
     "text": [
      "\r",
      " 15%|█▌        | 194/1276 [00:47<04:00,  4.50it/s]"
     ]
    },
    {
     "name": "stdout",
     "output_type": "stream",
     "text": [
      " estimated tempo: 190.77359829666443\tbeats: 907 -> 898\n"
     ]
    },
    {
     "name": "stderr",
     "output_type": "stream",
     "text": [
      "\r",
      " 15%|█▌        | 195/1276 [00:47<04:35,  3.92it/s]"
     ]
    },
    {
     "name": "stdout",
     "output_type": "stream",
     "text": [
      " estimated tempo: 220.3613177470844\tbeats: 2240 -> 2230\n"
     ]
    },
    {
     "name": "stderr",
     "output_type": "stream",
     "text": [
      " 15%|█▌        | 197/1276 [00:47<04:03,  4.44it/s]"
     ]
    },
    {
     "name": "stdout",
     "output_type": "stream",
     "text": [
      " estimated tempo: 204.6813441483191\tbeats: 1144 -> 1141\n",
      " estimated tempo: 216.84705882352787\tbeats: 1209 -> 1208\n"
     ]
    },
    {
     "name": "stderr",
     "output_type": "stream",
     "text": [
      "\r",
      " 16%|█▌        | 198/1276 [00:48<04:37,  3.88it/s]"
     ]
    },
    {
     "name": "stdout",
     "output_type": "stream",
     "text": [
      " estimated tempo: 208.88997794659593\tbeats: 1972 -> 1969\n"
     ]
    },
    {
     "name": "stderr",
     "output_type": "stream",
     "text": [
      "\r",
      " 16%|█▌        | 199/1276 [00:48<04:25,  4.06it/s]"
     ]
    },
    {
     "name": "stdout",
     "output_type": "stream",
     "text": [
      " estimated tempo: 218.4643848288673\tbeats: 1536 -> 1533\n"
     ]
    },
    {
     "name": "stderr",
     "output_type": "stream",
     "text": [
      "\r",
      " 16%|█▌        | 200/1276 [00:48<04:41,  3.82it/s]"
     ]
    },
    {
     "name": "stdout",
     "output_type": "stream",
     "text": [
      " estimated tempo: 205.56384379112862\tbeats: 1738 -> 1734\n"
     ]
    },
    {
     "name": "stderr",
     "output_type": "stream",
     "text": [
      "\r",
      " 16%|█▌        | 201/1276 [00:48<04:33,  3.92it/s]"
     ]
    },
    {
     "name": "stdout",
     "output_type": "stream",
     "text": [
      " estimated tempo: 210.3370786516854\tbeats: 1100 -> 1098\n"
     ]
    },
    {
     "name": "stderr",
     "output_type": "stream",
     "text": [
      "\r",
      " 16%|█▌        | 202/1276 [00:49<04:58,  3.59it/s]"
     ]
    },
    {
     "name": "stdout",
     "output_type": "stream",
     "text": [
      " estimated tempo: 201.59999999999937\tbeats: 1814 -> 1805\n"
     ]
    },
    {
     "name": "stderr",
     "output_type": "stream",
     "text": [
      "\r",
      " 16%|█▌        | 203/1276 [00:49<04:35,  3.89it/s]"
     ]
    },
    {
     "name": "stdout",
     "output_type": "stream",
     "text": [
      " estimated tempo: 235.7387902497783\tbeats: 1736 -> 1733\n",
      " estimated tempo: 224.0302743614115"
     ]
    },
    {
     "name": "stderr",
     "output_type": "stream",
     "text": [
      "\r",
      " 16%|█▌        | 204/1276 [00:49<04:20,  4.11it/s]"
     ]
    },
    {
     "name": "stdout",
     "output_type": "stream",
     "text": [
      "\tbeats: 1448 -> 1445\n"
     ]
    },
    {
     "name": "stderr",
     "output_type": "stream",
     "text": [
      "\r",
      " 16%|█▌        | 205/1276 [00:50<05:27,  3.27it/s]"
     ]
    },
    {
     "name": "stdout",
     "output_type": "stream",
     "text": [
      " estimated tempo: 214.64937680975618\tbeats: 2270 -> 2267\n"
     ]
    },
    {
     "name": "stderr",
     "output_type": "stream",
     "text": [
      "\r",
      " 16%|█▌        | 206/1276 [00:50<06:00,  2.97it/s]"
     ]
    },
    {
     "name": "stdout",
     "output_type": "stream",
     "text": [
      " estimated tempo: 212.778104273364\tbeats: 2294 -> 2291\n"
     ]
    },
    {
     "name": "stderr",
     "output_type": "stream",
     "text": [
      "\r",
      " 16%|█▌        | 207/1276 [00:51<06:37,  2.69it/s]"
     ]
    },
    {
     "name": "stdout",
     "output_type": "stream",
     "text": [
      " estimated tempo: 209.62923648495217\tbeats: 1989 -> 1984\n"
     ]
    },
    {
     "name": "stderr",
     "output_type": "stream",
     "text": [
      "\r",
      " 16%|█▋        | 208/1276 [00:51<07:02,  2.53it/s]"
     ]
    },
    {
     "name": "stdout",
     "output_type": "stream",
     "text": [
      " estimated tempo: 213.8283062645007\tbeats: 2390 -> 2380\n"
     ]
    },
    {
     "name": "stderr",
     "output_type": "stream",
     "text": [
      "\r",
      " 16%|█▋        | 209/1276 [00:51<06:41,  2.66it/s]"
     ]
    },
    {
     "name": "stdout",
     "output_type": "stream",
     "text": [
      " estimated tempo: 215.21302699086402\tbeats: 2229 -> 2220\n"
     ]
    },
    {
     "name": "stderr",
     "output_type": "stream",
     "text": [
      "\r",
      " 16%|█▋        | 210/1276 [00:52<06:51,  2.59it/s]"
     ]
    },
    {
     "name": "stdout",
     "output_type": "stream",
     "text": [
      " estimated tempo: 211.65354330708487\tbeats: 2418 -> 2412\n"
     ]
    },
    {
     "name": "stderr",
     "output_type": "stream",
     "text": [
      "\r",
      " 17%|█▋        | 211/1276 [00:52<07:21,  2.41it/s]"
     ]
    },
    {
     "name": "stdout",
     "output_type": "stream",
     "text": [
      " estimated tempo: 213.52162400706015\tbeats: 2283 -> 2280\n"
     ]
    },
    {
     "name": "stderr",
     "output_type": "stream",
     "text": [
      "\r",
      " 17%|█▋        | 212/1276 [00:53<07:10,  2.47it/s]"
     ]
    },
    {
     "name": "stdout",
     "output_type": "stream",
     "text": [
      " estimated tempo: 213.65538063402198\tbeats: 2358 -> 2352\n"
     ]
    },
    {
     "name": "stderr",
     "output_type": "stream",
     "text": [
      "\r",
      " 17%|█▋        | 213/1276 [00:53<07:11,  2.46it/s]"
     ]
    },
    {
     "name": "stdout",
     "output_type": "stream",
     "text": [
      " estimated tempo: 213.66306027820733\tbeats: 2410 -> 2405\n"
     ]
    },
    {
     "name": "stderr",
     "output_type": "stream",
     "text": [
      "\r",
      " 17%|█▋        | 214/1276 [00:53<06:44,  2.62it/s]"
     ]
    },
    {
     "name": "stdout",
     "output_type": "stream",
     "text": [
      " estimated tempo: 213.6978276788023\tbeats: 2436 -> 2432\n"
     ]
    },
    {
     "name": "stderr",
     "output_type": "stream",
     "text": [
      "\r",
      " 17%|█▋        | 215/1276 [00:54<06:58,  2.54it/s]"
     ]
    },
    {
     "name": "stdout",
     "output_type": "stream",
     "text": [
      " estimated tempo: 208.9795918367323\tbeats: 2220 -> 2217\n"
     ]
    },
    {
     "name": "stderr",
     "output_type": "stream",
     "text": [
      " 17%|█▋        | 217/1276 [00:54<04:55,  3.59it/s]"
     ]
    },
    {
     "name": "stdout",
     "output_type": "stream",
     "text": [
      " estimated tempo: 217.3331780598575\tbeats: 924 -> 921\n",
      " estimated tempo: 212.40362051625968\tbeats: 976 -> 970\n"
     ]
    },
    {
     "name": "stderr",
     "output_type": "stream",
     "text": [
      "\r",
      " 17%|█▋        | 218/1276 [00:54<04:34,  3.85it/s]"
     ]
    },
    {
     "name": "stdout",
     "output_type": "stream",
     "text": [
      " estimated tempo: 208.89557958122037\tbeats: 1467 -> 1461\n"
     ]
    },
    {
     "name": "stderr",
     "output_type": "stream",
     "text": [
      "\r",
      " 17%|█▋        | 219/1276 [00:55<04:56,  3.56it/s]"
     ]
    },
    {
     "name": "stdout",
     "output_type": "stream",
     "text": [
      " estimated tempo: 206.31873513362734\tbeats: 1611 -> 1608\n"
     ]
    },
    {
     "name": "stderr",
     "output_type": "stream",
     "text": [
      "\r",
      " 17%|█▋        | 220/1276 [00:55<06:38,  2.65it/s]"
     ]
    },
    {
     "name": "stdout",
     "output_type": "stream",
     "text": [
      " estimated tempo: 209.7994768962524\tbeats: 3481 -> 3479\n"
     ]
    },
    {
     "name": "stderr",
     "output_type": "stream",
     "text": [
      "\r",
      " 17%|█▋        | 221/1276 [00:56<07:26,  2.36it/s]"
     ]
    },
    {
     "name": "stdout",
     "output_type": "stream",
     "text": [
      " estimated tempo: 199.0496760259192\tbeats: 2644 -> 2615\n"
     ]
    },
    {
     "name": "stderr",
     "output_type": "stream",
     "text": [
      "\r",
      " 17%|█▋        | 222/1276 [00:56<08:18,  2.11it/s]"
     ]
    },
    {
     "name": "stdout",
     "output_type": "stream",
     "text": [
      " estimated tempo: 215.3516470990767\tbeats: 2695 -> 2691\n"
     ]
    },
    {
     "name": "stderr",
     "output_type": "stream",
     "text": [
      "\r",
      " 17%|█▋        | 223/1276 [00:57<08:18,  2.11it/s]"
     ]
    },
    {
     "name": "stdout",
     "output_type": "stream",
     "text": [
      " estimated tempo: 213.83671543180893\tbeats: 2766 -> 2764\n"
     ]
    },
    {
     "name": "stderr",
     "output_type": "stream",
     "text": [
      "\r",
      " 18%|█▊        | 224/1276 [00:57<09:06,  1.93it/s]"
     ]
    },
    {
     "name": "stdout",
     "output_type": "stream",
     "text": [
      " estimated tempo: 214.38097699662336\tbeats: 2840 -> 2833\n"
     ]
    },
    {
     "name": "stderr",
     "output_type": "stream",
     "text": [
      "\r",
      " 18%|█▊        | 225/1276 [00:58<08:46,  2.00it/s]"
     ]
    },
    {
     "name": "stdout",
     "output_type": "stream",
     "text": [
      " estimated tempo: 209.8785425101204\tbeats: 2745 -> 2730\n"
     ]
    },
    {
     "name": "stderr",
     "output_type": "stream",
     "text": [
      "\r",
      " 18%|█▊        | 226/1276 [00:58<08:32,  2.05it/s]"
     ]
    },
    {
     "name": "stdout",
     "output_type": "stream",
     "text": [
      " estimated tempo: 216.71957671962352\tbeats: 2693 -> 2690\n"
     ]
    },
    {
     "name": "stderr",
     "output_type": "stream",
     "text": [
      "\r",
      " 18%|█▊        | 227/1276 [00:59<08:20,  2.09it/s]"
     ]
    },
    {
     "name": "stdout",
     "output_type": "stream",
     "text": [
      " estimated tempo: 214.2531067714969\tbeats: 2759 -> 2752\n"
     ]
    },
    {
     "name": "stderr",
     "output_type": "stream",
     "text": [
      "\r",
      " 18%|█▊        | 228/1276 [00:59<08:28,  2.06it/s]"
     ]
    },
    {
     "name": "stdout",
     "output_type": "stream",
     "text": [
      " estimated tempo: 214.66307985039452\tbeats: 2844 -> 2838\n"
     ]
    },
    {
     "name": "stderr",
     "output_type": "stream",
     "text": [
      "\r",
      " 18%|█▊        | 229/1276 [01:00<08:29,  2.06it/s]"
     ]
    },
    {
     "name": "stdout",
     "output_type": "stream",
     "text": [
      " estimated tempo: 216.44848361074077\tbeats: 2789 -> 2781\n"
     ]
    },
    {
     "name": "stderr",
     "output_type": "stream",
     "text": [
      "\r",
      " 18%|█▊        | 230/1276 [01:00<08:33,  2.04it/s]"
     ]
    },
    {
     "name": "stdout",
     "output_type": "stream",
     "text": [
      " estimated tempo: 216.10057872681296\tbeats: 2727 -> 2707\n"
     ]
    },
    {
     "name": "stderr",
     "output_type": "stream",
     "text": [
      " 18%|█▊        | 232/1276 [01:01<06:25,  2.71it/s]"
     ]
    },
    {
     "name": "stdout",
     "output_type": "stream",
     "text": [
      " estimated tempo: 212.35023041474656\tbeats: 1386 -> 1381\n",
      " estimated tempo: 213.1309297912732\tbeats: 1348 -> 1338\n"
     ]
    },
    {
     "name": "stderr",
     "output_type": "stream",
     "text": [
      "\r",
      " 18%|█▊        | 233/1276 [01:01<05:54,  2.94it/s]"
     ]
    },
    {
     "name": "stdout",
     "output_type": "stream",
     "text": [
      " estimated tempo: 205.9594755661485\tbeats: 1446 -> 1441\n"
     ]
    },
    {
     "name": "stderr",
     "output_type": "stream",
     "text": [
      "\r",
      " 18%|█▊        | 234/1276 [01:02<07:51,  2.21it/s]"
     ]
    },
    {
     "name": "stdout",
     "output_type": "stream",
     "text": [
      " estimated tempo: 209.92407260105512\tbeats: 3419 -> 3415\n"
     ]
    },
    {
     "name": "stderr",
     "output_type": "stream",
     "text": [
      "\r",
      " 18%|█▊        | 235/1276 [01:03<10:01,  1.73it/s]"
     ]
    },
    {
     "name": "stdout",
     "output_type": "stream",
     "text": [
      " estimated tempo: 200.9130546293898\tbeats: 5694 -> 5690\n"
     ]
    },
    {
     "name": "stderr",
     "output_type": "stream",
     "text": [
      "\r",
      " 18%|█▊        | 236/1276 [01:04<12:03,  1.44it/s]"
     ]
    },
    {
     "name": "stdout",
     "output_type": "stream",
     "text": [
      " estimated tempo: 192.6079797339968\tbeats: 5600 -> 5597\n"
     ]
    },
    {
     "name": "stderr",
     "output_type": "stream",
     "text": [
      "\r",
      " 19%|█▊        | 237/1276 [01:04<11:36,  1.49it/s]"
     ]
    },
    {
     "name": "stdout",
     "output_type": "stream",
     "text": [
      " estimated tempo: 207.69026156346905\tbeats: 4833 -> 4830\n"
     ]
    },
    {
     "name": "stderr",
     "output_type": "stream",
     "text": [
      "\r",
      " 19%|█▊        | 238/1276 [01:05<12:35,  1.37it/s]"
     ]
    },
    {
     "name": "stdout",
     "output_type": "stream",
     "text": [
      " estimated tempo: 190.29224904700035\tbeats: 5298 -> 5287\n"
     ]
    },
    {
     "name": "stderr",
     "output_type": "stream",
     "text": [
      "\r",
      " 19%|█▊        | 239/1276 [01:06<12:44,  1.36it/s]"
     ]
    },
    {
     "name": "stdout",
     "output_type": "stream",
     "text": [
      " estimated tempo: 198.83495145631483\tbeats: 5667 -> 5657\n"
     ]
    },
    {
     "name": "stderr",
     "output_type": "stream",
     "text": [
      "\r",
      " 19%|█▉        | 240/1276 [01:07<13:42,  1.26it/s]"
     ]
    },
    {
     "name": "stdout",
     "output_type": "stream",
     "text": [
      " estimated tempo: 208.02653399671675\tbeats: 5987 -> 5983\n"
     ]
    },
    {
     "name": "stderr",
     "output_type": "stream",
     "text": [
      "\r",
      " 19%|█▉        | 241/1276 [01:08<13:16,  1.30it/s]"
     ]
    },
    {
     "name": "stdout",
     "output_type": "stream",
     "text": [
      " estimated tempo: 202.300465361313\tbeats: 4992 -> 4978\n",
      " estimated tempo: 184.22174840085538"
     ]
    },
    {
     "name": "stderr",
     "output_type": "stream",
     "text": [
      " 19%|█▉        | 243/1276 [01:08<07:39,  2.25it/s]"
     ]
    },
    {
     "name": "stdout",
     "output_type": "stream",
     "text": [
      "\tbeats: 1171 -> 1166\n",
      " estimated tempo: 192.57313432836492\tbeats: 1281 -> 1276\n"
     ]
    },
    {
     "name": "stderr",
     "output_type": "stream",
     "text": [
      "\r",
      " 19%|█▉        | 244/1276 [01:08<05:53,  2.92it/s]"
     ]
    },
    {
     "name": "stdout",
     "output_type": "stream",
     "text": [
      " estimated tempo: 185.87617260787982\tbeats: 1277 -> 1272\n"
     ]
    },
    {
     "name": "stderr",
     "output_type": "stream",
     "text": [
      "\r",
      " 19%|█▉        | 245/1276 [01:08<06:34,  2.61it/s]"
     ]
    },
    {
     "name": "stdout",
     "output_type": "stream",
     "text": [
      " estimated tempo: 209.25430210324922\tbeats: 2617 -> 2609\n"
     ]
    },
    {
     "name": "stderr",
     "output_type": "stream",
     "text": [
      "\r",
      " 19%|█▉        | 246/1276 [01:09<07:17,  2.35it/s]"
     ]
    },
    {
     "name": "stdout",
     "output_type": "stream",
     "text": [
      " estimated tempo: 198.45405224005827\tbeats: 2657 -> 2654\n"
     ]
    },
    {
     "name": "stderr",
     "output_type": "stream",
     "text": [
      "\r",
      " 19%|█▉        | 247/1276 [01:09<06:54,  2.48it/s]"
     ]
    },
    {
     "name": "stdout",
     "output_type": "stream",
     "text": [
      " estimated tempo: 212.45205075244368\tbeats: 1931 -> 1926\n"
     ]
    },
    {
     "name": "stderr",
     "output_type": "stream",
     "text": [
      "\r",
      " 19%|█▉        | 248/1276 [01:10<06:27,  2.65it/s]"
     ]
    },
    {
     "name": "stdout",
     "output_type": "stream",
     "text": [
      " estimated tempo: 215.55093555094857\tbeats: 1914 -> 1911\n"
     ]
    },
    {
     "name": "stderr",
     "output_type": "stream",
     "text": [
      "\r",
      " 20%|█▉        | 249/1276 [01:10<06:20,  2.70it/s]"
     ]
    },
    {
     "name": "stdout",
     "output_type": "stream",
     "text": [
      " estimated tempo: 203.36706135629734\tbeats: 1654 -> 1646\n"
     ]
    },
    {
     "name": "stderr",
     "output_type": "stream",
     "text": [
      "\r",
      " 20%|█▉        | 250/1276 [01:10<06:17,  2.72it/s]"
     ]
    },
    {
     "name": "stdout",
     "output_type": "stream",
     "text": [
      " estimated tempo: 222.0445459737115\tbeats: 1865 -> 1863\n"
     ]
    },
    {
     "name": "stderr",
     "output_type": "stream",
     "text": [
      "\r",
      " 20%|█▉        | 251/1276 [01:11<06:45,  2.53it/s]"
     ]
    },
    {
     "name": "stdout",
     "output_type": "stream",
     "text": [
      " estimated tempo: 217.55395683453025\tbeats: 2280 -> 2277\n",
      " estimated tempo: 197.62073466343392\tbeats: 181 -> 176\n",
      " estimated tempo: 202.86981476650107\tbeats: 152 -> 150\n"
     ]
    },
    {
     "name": "stderr",
     "output_type": "stream",
     "text": [
      "\r",
      " 20%|█▉        | 254/1276 [01:11<03:41,  4.62it/s]"
     ]
    },
    {
     "name": "stdout",
     "output_type": "stream",
     "text": [
      " estimated tempo: 218.56126482213648\tbeats: 937 -> 934\n"
     ]
    },
    {
     "name": "stderr",
     "output_type": "stream",
     "text": [
      "\r",
      " 20%|█▉        | 255/1276 [01:11<03:43,  4.57it/s]"
     ]
    },
    {
     "name": "stdout",
     "output_type": "stream",
     "text": [
      " estimated tempo: 213.58053302433754\tbeats: 1089 -> 1086\n"
     ]
    },
    {
     "name": "stderr",
     "output_type": "stream",
     "text": [
      "\r",
      " 20%|██        | 256/1276 [01:11<03:43,  4.56it/s]"
     ]
    },
    {
     "name": "stdout",
     "output_type": "stream",
     "text": [
      " estimated tempo: 213.33333333333326\tbeats: 837 -> 833\n"
     ]
    },
    {
     "name": "stderr",
     "output_type": "stream",
     "text": [
      "\r",
      " 20%|██        | 257/1276 [01:12<03:57,  4.29it/s]"
     ]
    },
    {
     "name": "stdout",
     "output_type": "stream",
     "text": [
      " estimated tempo: 207.06533010716717\tbeats: 2099 -> 2094\n"
     ]
    },
    {
     "name": "stderr",
     "output_type": "stream",
     "text": [
      " 20%|██        | 259/1276 [01:12<03:46,  4.50it/s]"
     ]
    },
    {
     "name": "stdout",
     "output_type": "stream",
     "text": [
      " estimated tempo: 218.84072089625087\tbeats: 987 -> 980\n",
      " estimated tempo: 219.28934010151565\tbeats: 939 -> 936\n"
     ]
    },
    {
     "name": "stderr",
     "output_type": "stream",
     "text": [
      "\r",
      " 20%|██        | 260/1276 [01:12<03:16,  5.18it/s]"
     ]
    },
    {
     "name": "stdout",
     "output_type": "stream",
     "text": [
      " estimated tempo: 227.186927736301\tbeats: 491 -> 479\n"
     ]
    },
    {
     "name": "stderr",
     "output_type": "stream",
     "text": [
      "\r",
      " 20%|██        | 261/1276 [01:13<03:21,  5.04it/s]"
     ]
    },
    {
     "name": "stdout",
     "output_type": "stream",
     "text": [
      " estimated tempo: 185.06024096385474\tbeats: 805 -> 800\n"
     ]
    },
    {
     "name": "stderr",
     "output_type": "stream",
     "text": [
      "\r",
      " 21%|██        | 262/1276 [01:13<04:11,  4.04it/s]"
     ]
    },
    {
     "name": "stdout",
     "output_type": "stream",
     "text": [
      " estimated tempo: 218.76186859095696\tbeats: 1804 -> 1791\n"
     ]
    },
    {
     "name": "stderr",
     "output_type": "stream",
     "text": [
      "\r",
      " 21%|██        | 263/1276 [01:13<04:05,  4.13it/s]"
     ]
    },
    {
     "name": "stdout",
     "output_type": "stream",
     "text": [
      " estimated tempo: 207.54679211290193\tbeats: 1441 -> 1437\n"
     ]
    },
    {
     "name": "stderr",
     "output_type": "stream",
     "text": [
      " 21%|██        | 265/1276 [01:14<03:39,  4.61it/s]"
     ]
    },
    {
     "name": "stdout",
     "output_type": "stream",
     "text": [
      " estimated tempo: 208.7091556130771\tbeats: 802 -> 796\n",
      " estimated tempo: 210.73170731706693\tbeats: 867 -> 859\n"
     ]
    },
    {
     "name": "stderr",
     "output_type": "stream",
     "text": [
      "\r",
      " 21%|██        | 266/1276 [01:14<03:19,  5.07it/s]"
     ]
    },
    {
     "name": "stdout",
     "output_type": "stream",
     "text": [
      " estimated tempo: 204.9952335557642\tbeats: 718 -> 711\n"
     ]
    },
    {
     "name": "stderr",
     "output_type": "stream",
     "text": [
      " 21%|██        | 268/1276 [01:14<03:12,  5.23it/s]"
     ]
    },
    {
     "name": "stdout",
     "output_type": "stream",
     "text": [
      " estimated tempo: 204.16482055826106\tbeats: 756 -> 752\n",
      " estimated tempo: 204.67870891323648\tbeats: 747 -> 740\n"
     ]
    },
    {
     "name": "stderr",
     "output_type": "stream",
     "text": [
      "\r",
      " 21%|██        | 269/1276 [01:14<03:17,  5.11it/s]"
     ]
    },
    {
     "name": "stdout",
     "output_type": "stream",
     "text": [
      " estimated tempo: 220.75400958134793\tbeats: 1168 -> 1164\n"
     ]
    },
    {
     "name": "stderr",
     "output_type": "stream",
     "text": [
      "\r",
      " 21%|██        | 270/1276 [01:15<03:35,  4.66it/s]"
     ]
    },
    {
     "name": "stdout",
     "output_type": "stream",
     "text": [
      " estimated tempo: 217.7987846049921\tbeats: 1084 -> 1081\n"
     ]
    },
    {
     "name": "stderr",
     "output_type": "stream",
     "text": [
      "\r",
      " 21%|██        | 271/1276 [01:15<03:35,  4.66it/s]"
     ]
    },
    {
     "name": "stdout",
     "output_type": "stream",
     "text": [
      " estimated tempo: 215.27803099361603\tbeats: 1275 -> 1274\n"
     ]
    },
    {
     "name": "stderr",
     "output_type": "stream",
     "text": [
      " 21%|██▏       | 273/1276 [01:15<03:27,  4.84it/s]"
     ]
    },
    {
     "name": "stdout",
     "output_type": "stream",
     "text": [
      " estimated tempo: 207.6546989974822\tbeats: 1768 -> 1764\n",
      " estimated tempo: 204.9586776859558\tbeats: 1317 -> 1311\n"
     ]
    },
    {
     "name": "stderr",
     "output_type": "stream",
     "text": [
      "\r",
      " 21%|██▏       | 274/1276 [01:15<03:02,  5.50it/s]"
     ]
    },
    {
     "name": "stdout",
     "output_type": "stream",
     "text": [
      " estimated tempo: 207.05882352940807\tbeats: 992 -> 986\n"
     ]
    },
    {
     "name": "stderr",
     "output_type": "stream",
     "text": [
      "\r",
      " 22%|██▏       | 275/1276 [01:16<03:50,  4.35it/s]"
     ]
    },
    {
     "name": "stdout",
     "output_type": "stream",
     "text": [
      " estimated tempo: 209.45454545453694\tbeats: 1853 -> 1844\n"
     ]
    },
    {
     "name": "stderr",
     "output_type": "stream",
     "text": [
      "\r",
      " 22%|██▏       | 276/1276 [01:16<04:27,  3.73it/s]"
     ]
    },
    {
     "name": "stdout",
     "output_type": "stream",
     "text": [
      " estimated tempo: 207.60913095714838\tbeats: 1905 -> 1900\n",
      " estimated tempo: 205.11322132943988"
     ]
    },
    {
     "name": "stderr",
     "output_type": "stream",
     "text": [
      " 22%|██▏       | 278/1276 [01:16<03:31,  4.71it/s]"
     ]
    },
    {
     "name": "stdout",
     "output_type": "stream",
     "text": [
      "\tbeats: 1175 -> 1169\n",
      " estimated tempo: 208.9959336878307\tbeats: 1140 -> 1137\n"
     ]
    },
    {
     "name": "stderr",
     "output_type": "stream",
     "text": [
      "\r",
      " 22%|██▏       | 279/1276 [01:17<03:44,  4.43it/s]"
     ]
    },
    {
     "name": "stdout",
     "output_type": "stream",
     "text": [
      " estimated tempo: 212.4078091106299\tbeats: 1173 -> 1171\n"
     ]
    },
    {
     "name": "stderr",
     "output_type": "stream",
     "text": [
      "\r",
      " 22%|██▏       | 280/1276 [01:17<03:41,  4.50it/s]"
     ]
    },
    {
     "name": "stdout",
     "output_type": "stream",
     "text": [
      " estimated tempo: 218.35818815331226\tbeats: 1468 -> 1468\n"
     ]
    },
    {
     "name": "stderr",
     "output_type": "stream",
     "text": [
      "\r",
      " 22%|██▏       | 281/1276 [01:17<05:51,  2.83it/s]"
     ]
    },
    {
     "name": "stdout",
     "output_type": "stream",
     "text": [
      " estimated tempo: 213.93219606996655\tbeats: 3534 -> 3533\n"
     ]
    },
    {
     "name": "stderr",
     "output_type": "stream",
     "text": [
      "\r",
      " 22%|██▏       | 282/1276 [01:18<06:44,  2.46it/s]"
     ]
    },
    {
     "name": "stdout",
     "output_type": "stream",
     "text": [
      " estimated tempo: 210.19500513170667\tbeats: 3621 -> 3618\n"
     ]
    },
    {
     "name": "stderr",
     "output_type": "stream",
     "text": [
      " 22%|██▏       | 284/1276 [01:18<04:56,  3.34it/s]"
     ]
    },
    {
     "name": "stdout",
     "output_type": "stream",
     "text": [
      " estimated tempo: 210.25234089826836\tbeats: 937 -> 934\n",
      " estimated tempo: 216.54135338345034\tbeats: 982 -> 975\n"
     ]
    },
    {
     "name": "stderr",
     "output_type": "stream",
     "text": [
      "\r",
      " 22%|██▏       | 285/1276 [01:19<04:40,  3.53it/s]"
     ]
    },
    {
     "name": "stdout",
     "output_type": "stream",
     "text": [
      " estimated tempo: 214.50411603292952\tbeats: 1410 -> 1407\n"
     ]
    },
    {
     "name": "stderr",
     "output_type": "stream",
     "text": [
      "\r",
      " 22%|██▏       | 286/1276 [01:19<04:45,  3.46it/s]"
     ]
    },
    {
     "name": "stdout",
     "output_type": "stream",
     "text": [
      " estimated tempo: 212.75393807713152\tbeats: 1719 -> 1716\n"
     ]
    },
    {
     "name": "stderr",
     "output_type": "stream",
     "text": [
      "\r",
      " 22%|██▏       | 287/1276 [01:19<04:33,  3.62it/s]"
     ]
    },
    {
     "name": "stdout",
     "output_type": "stream",
     "text": [
      " estimated tempo: 215.0637311703356\tbeats: 774 -> 768\n"
     ]
    },
    {
     "name": "stderr",
     "output_type": "stream",
     "text": [
      "\r",
      " 23%|██▎       | 288/1276 [01:20<04:50,  3.40it/s]"
     ]
    },
    {
     "name": "stdout",
     "output_type": "stream",
     "text": [
      " estimated tempo: 203.85843164468707\tbeats: 2057 -> 2051\n"
     ]
    },
    {
     "name": "stderr",
     "output_type": "stream",
     "text": [
      "\r",
      " 23%|██▎       | 289/1276 [01:20<04:45,  3.46it/s]"
     ]
    },
    {
     "name": "stdout",
     "output_type": "stream",
     "text": [
      " estimated tempo: 213.77319587630757\tbeats: 1098 -> 1095\n"
     ]
    },
    {
     "name": "stderr",
     "output_type": "stream",
     "text": [
      "\r",
      " 23%|██▎       | 290/1276 [01:20<04:35,  3.58it/s]"
     ]
    },
    {
     "name": "stdout",
     "output_type": "stream",
     "text": [
      " estimated tempo: 207.170461067545\tbeats: 1829 -> 1826\n"
     ]
    },
    {
     "name": "stderr",
     "output_type": "stream",
     "text": [
      "\r",
      " 23%|██▎       | 291/1276 [01:20<04:11,  3.92it/s]"
     ]
    },
    {
     "name": "stdout",
     "output_type": "stream",
     "text": [
      " estimated tempo: 203.6322166785426\tbeats: 1144 -> 1138\n",
      " estimated tempo: 217.73888694434808\tbeats: 998 -> "
     ]
    },
    {
     "name": "stderr",
     "output_type": "stream",
     "text": [
      "\r",
      " 23%|██▎       | 292/1276 [01:20<03:54,  4.20it/s]"
     ]
    },
    {
     "name": "stdout",
     "output_type": "stream",
     "text": [
      "993\n"
     ]
    },
    {
     "name": "stderr",
     "output_type": "stream",
     "text": [
      "\r",
      " 23%|██▎       | 293/1276 [01:21<03:53,  4.21it/s]"
     ]
    },
    {
     "name": "stdout",
     "output_type": "stream",
     "text": [
      " estimated tempo: 218.63731258303298\tbeats: 870 -> 858\n"
     ]
    },
    {
     "name": "stderr",
     "output_type": "stream",
     "text": [
      "\r",
      " 23%|██▎       | 294/1276 [01:21<06:04,  2.69it/s]"
     ]
    },
    {
     "name": "stdout",
     "output_type": "stream",
     "text": [
      " estimated tempo: 201.27764127764368\tbeats: 4046 -> 4042\n"
     ]
    },
    {
     "name": "stderr",
     "output_type": "stream",
     "text": [
      "\r",
      " 23%|██▎       | 295/1276 [01:22<06:15,  2.61it/s]"
     ]
    },
    {
     "name": "stdout",
     "output_type": "stream",
     "text": [
      " estimated tempo: 217.12857005481388\tbeats: 2120 -> 2113\n"
     ]
    },
    {
     "name": "stderr",
     "output_type": "stream",
     "text": [
      "\r",
      " 23%|██▎       | 296/1276 [01:22<06:19,  2.58it/s]"
     ]
    },
    {
     "name": "stdout",
     "output_type": "stream",
     "text": [
      " estimated tempo: 222.62937842608648\tbeats: 2359 -> 2355\n"
     ]
    },
    {
     "name": "stderr",
     "output_type": "stream",
     "text": [
      "\r",
      " 23%|██▎       | 297/1276 [01:22<05:57,  2.74it/s]"
     ]
    },
    {
     "name": "stdout",
     "output_type": "stream",
     "text": [
      " estimated tempo: 220.39410751864594\tbeats: 2138 -> 2132\n"
     ]
    },
    {
     "name": "stderr",
     "output_type": "stream",
     "text": [
      "\r",
      " 23%|██▎       | 298/1276 [01:23<06:03,  2.69it/s]"
     ]
    },
    {
     "name": "stdout",
     "output_type": "stream",
     "text": [
      " estimated tempo: 217.83038027872868\tbeats: 2059 -> 2054\n"
     ]
    },
    {
     "name": "stderr",
     "output_type": "stream",
     "text": [
      "\r",
      " 23%|██▎       | 299/1276 [01:23<05:20,  3.05it/s]"
     ]
    },
    {
     "name": "stdout",
     "output_type": "stream",
     "text": [
      " estimated tempo: 218.79367905631022\tbeats: 2093 -> 2090\n"
     ]
    },
    {
     "name": "stderr",
     "output_type": "stream",
     "text": [
      "\r",
      " 24%|██▎       | 300/1276 [01:23<05:31,  2.94it/s]"
     ]
    },
    {
     "name": "stdout",
     "output_type": "stream",
     "text": [
      " estimated tempo: 212.3893805309769\tbeats: 1902 -> 1899\n"
     ]
    },
    {
     "name": "stderr",
     "output_type": "stream",
     "text": [
      "\r",
      " 24%|██▎       | 301/1276 [01:24<05:13,  3.11it/s]"
     ]
    },
    {
     "name": "stdout",
     "output_type": "stream",
     "text": [
      " estimated tempo: 207.2874493927156\tbeats: 2215 -> 2209\n"
     ]
    },
    {
     "name": "stderr",
     "output_type": "stream",
     "text": [
      "\r",
      " 24%|██▎       | 302/1276 [01:24<04:53,  3.32it/s]"
     ]
    },
    {
     "name": "stdout",
     "output_type": "stream",
     "text": [
      " estimated tempo: 200.44289781714605\tbeats: 1316 -> 1308\n"
     ]
    },
    {
     "name": "stderr",
     "output_type": "stream",
     "text": [
      "\r",
      " 24%|██▎       | 303/1276 [01:24<05:07,  3.17it/s]"
     ]
    },
    {
     "name": "stdout",
     "output_type": "stream",
     "text": [
      " estimated tempo: 205.61414895342023\tbeats: 2350 -> 2346\n"
     ]
    },
    {
     "name": "stderr",
     "output_type": "stream",
     "text": [
      "\r",
      " 24%|██▍       | 304/1276 [01:25<05:34,  2.90it/s]"
     ]
    },
    {
     "name": "stdout",
     "output_type": "stream",
     "text": [
      " estimated tempo: 208.99854862118988\tbeats: 2391 -> 2386\n"
     ]
    },
    {
     "name": "stderr",
     "output_type": "stream",
     "text": [
      "\r",
      " 24%|██▍       | 305/1276 [01:25<04:53,  3.31it/s]"
     ]
    },
    {
     "name": "stdout",
     "output_type": "stream",
     "text": [
      " estimated tempo: 215.18840579709996\tbeats: 1706 -> 1698\n"
     ]
    },
    {
     "name": "stderr",
     "output_type": "stream",
     "text": [
      "\r",
      " 24%|██▍       | 306/1276 [01:25<05:06,  3.17it/s]"
     ]
    },
    {
     "name": "stdout",
     "output_type": "stream",
     "text": [
      " estimated tempo: 190.57615516257735\tbeats: 2169 -> 2164\n"
     ]
    },
    {
     "name": "stderr",
     "output_type": "stream",
     "text": [
      "\r",
      " 24%|██▍       | 307/1276 [01:26<05:00,  3.23it/s]"
     ]
    },
    {
     "name": "stdout",
     "output_type": "stream",
     "text": [
      " estimated tempo: 206.51597817614936\tbeats: 1903 -> 1897\n"
     ]
    },
    {
     "name": "stderr",
     "output_type": "stream",
     "text": [
      "\r",
      " 24%|██▍       | 308/1276 [01:26<04:56,  3.26it/s]"
     ]
    },
    {
     "name": "stdout",
     "output_type": "stream",
     "text": [
      " estimated tempo: 208.32844574781393\tbeats: 2202 -> 2199\n"
     ]
    },
    {
     "name": "stderr",
     "output_type": "stream",
     "text": [
      " 24%|██▍       | 310/1276 [01:26<04:05,  3.94it/s]"
     ]
    },
    {
     "name": "stdout",
     "output_type": "stream",
     "text": [
      " estimated tempo: 191.0754414125192\tbeats: 1473 -> 1470\n",
      " estimated tempo: 208.26359527627972\tbeats: 1363 -> 1358\n"
     ]
    },
    {
     "name": "stderr",
     "output_type": "stream",
     "text": [
      "\r",
      " 24%|██▍       | 311/1276 [01:27<04:30,  3.56it/s]"
     ]
    },
    {
     "name": "stdout",
     "output_type": "stream",
     "text": [
      " estimated tempo: 205.64084255622723\tbeats: 2459 -> 2456\n"
     ]
    },
    {
     "name": "stderr",
     "output_type": "stream",
     "text": [
      "\r",
      " 24%|██▍       | 312/1276 [01:27<04:56,  3.26it/s]"
     ]
    },
    {
     "name": "stdout",
     "output_type": "stream",
     "text": [
      " estimated tempo: 220.53876658006902\tbeats: 1935 -> 1920\n"
     ]
    },
    {
     "name": "stderr",
     "output_type": "stream",
     "text": [
      "\r",
      " 25%|██▍       | 313/1276 [01:27<05:15,  3.05it/s]"
     ]
    },
    {
     "name": "stdout",
     "output_type": "stream",
     "text": [
      " estimated tempo: 202.3867166577408\tbeats: 2348 -> 2343\n"
     ]
    },
    {
     "name": "stderr",
     "output_type": "stream",
     "text": [
      "\r",
      " 25%|██▍       | 314/1276 [01:28<05:00,  3.20it/s]"
     ]
    },
    {
     "name": "stdout",
     "output_type": "stream",
     "text": [
      " estimated tempo: 212.8679584242253\tbeats: 1415 -> 1412\n"
     ]
    },
    {
     "name": "stderr",
     "output_type": "stream",
     "text": [
      "\r",
      " 25%|██▍       | 315/1276 [01:28<04:31,  3.54it/s]"
     ]
    },
    {
     "name": "stdout",
     "output_type": "stream",
     "text": [
      " estimated tempo: 202.31542461005307\tbeats: 1372 -> 1369\n"
     ]
    },
    {
     "name": "stderr",
     "output_type": "stream",
     "text": [
      "\r",
      " 25%|██▍       | 316/1276 [01:28<04:26,  3.60it/s]"
     ]
    },
    {
     "name": "stdout",
     "output_type": "stream",
     "text": [
      " estimated tempo: 235.14332118870877\tbeats: 1476 -> 1473\n",
      " estimated tempo: 202.25821098834714\tbeats: 1113 -> 1104\n"
     ]
    },
    {
     "name": "stderr",
     "output_type": "stream",
     "text": [
      " 25%|██▍       | 318/1276 [01:29<04:32,  3.52it/s]"
     ]
    },
    {
     "name": "stdout",
     "output_type": "stream",
     "text": [
      " estimated tempo: 208.89721099832317\tbeats: 1984 -> 1978\n"
     ]
    },
    {
     "name": "stderr",
     "output_type": "stream",
     "text": [
      "\r",
      " 25%|██▌       | 319/1276 [01:29<04:59,  3.20it/s]"
     ]
    },
    {
     "name": "stdout",
     "output_type": "stream",
     "text": [
      " estimated tempo: 200.49870303740107\tbeats: 1789 -> 1784\n"
     ]
    },
    {
     "name": "stderr",
     "output_type": "stream",
     "text": [
      "\r",
      " 25%|██▌       | 320/1276 [01:29<04:29,  3.54it/s]"
     ]
    },
    {
     "name": "stdout",
     "output_type": "stream",
     "text": [
      " estimated tempo: 201.92292821239772\tbeats: 1749 -> 1745\n"
     ]
    },
    {
     "name": "stderr",
     "output_type": "stream",
     "text": [
      "\r",
      " 25%|██▌       | 321/1276 [01:30<04:30,  3.53it/s]"
     ]
    },
    {
     "name": "stdout",
     "output_type": "stream",
     "text": [
      " estimated tempo: 206.22986036519862\tbeats: 1921 -> 1918\n"
     ]
    },
    {
     "name": "stderr",
     "output_type": "stream",
     "text": [
      "\r",
      " 25%|██▌       | 322/1276 [01:30<04:43,  3.36it/s]"
     ]
    },
    {
     "name": "stdout",
     "output_type": "stream",
     "text": [
      " estimated tempo: 206.40145763741316\tbeats: 2033 -> 2028\n"
     ]
    },
    {
     "name": "stderr",
     "output_type": "stream",
     "text": [
      "\r",
      " 25%|██▌       | 323/1276 [01:30<04:41,  3.39it/s]"
     ]
    },
    {
     "name": "stdout",
     "output_type": "stream",
     "text": [
      " estimated tempo: 201.86635143592463\tbeats: 1914 -> 1910\n"
     ]
    },
    {
     "name": "stderr",
     "output_type": "stream",
     "text": [
      " 25%|██▌       | 325/1276 [01:31<03:47,  4.18it/s]"
     ]
    },
    {
     "name": "stdout",
     "output_type": "stream",
     "text": [
      " estimated tempo: 188.95927601809956\tbeats: 703 -> 700\n",
      " estimated tempo: 199.7857689364969\tbeats: 885 -> 879\n"
     ]
    },
    {
     "name": "stderr",
     "output_type": "stream",
     "text": [
      " 26%|██▌       | 327/1276 [01:31<03:06,  5.08it/s]"
     ]
    },
    {
     "name": "stdout",
     "output_type": "stream",
     "text": [
      " estimated tempo: 210.37997054492018\tbeats: 963 -> 960\n",
      " estimated tempo: 225.32842879663625\tbeats: 1081 -> 1077\n"
     ]
    },
    {
     "name": "stderr",
     "output_type": "stream",
     "text": [
      " 26%|██▌       | 329/1276 [01:31<02:53,  5.45it/s]"
     ]
    },
    {
     "name": "stdout",
     "output_type": "stream",
     "text": [
      " estimated tempo: 212.86333593916427\tbeats: 1021 -> 1010\n",
      " estimated tempo: 205.00707785642032\tbeats: 918 -> 915\n"
     ]
    },
    {
     "name": "stderr",
     "output_type": "stream",
     "text": [
      " 26%|██▌       | 331/1276 [01:32<02:50,  5.53it/s]"
     ]
    },
    {
     "name": "stdout",
     "output_type": "stream",
     "text": [
      " estimated tempo: 217.31665062560316\tbeats: 1093 -> 1086\n",
      " estimated tempo: 207.46076665808903\tbeats: 1300 -> 1294\n"
     ]
    },
    {
     "name": "stderr",
     "output_type": "stream",
     "text": [
      " 26%|██▌       | 333/1276 [01:32<02:58,  5.28it/s]"
     ]
    },
    {
     "name": "stdout",
     "output_type": "stream",
     "text": [
      " estimated tempo: 205.33927486327855\tbeats: 1249 -> 1246\n",
      " estimated tempo: 212.71432339752093\tbeats: 1276 -> 1270\n"
     ]
    },
    {
     "name": "stderr",
     "output_type": "stream",
     "text": [
      " 26%|██▋       | 335/1276 [01:32<02:35,  6.04it/s]"
     ]
    },
    {
     "name": "stdout",
     "output_type": "stream",
     "text": [
      " estimated tempo: 217.08542713567854\tbeats: 1097 -> 1090\n",
      " estimated tempo: 204.79999999999993\tbeats: 1259 -> 1252\n"
     ]
    },
    {
     "name": "stderr",
     "output_type": "stream",
     "text": [
      "\r",
      " 26%|██▋       | 336/1276 [01:33<02:46,  5.64it/s]"
     ]
    },
    {
     "name": "stdout",
     "output_type": "stream",
     "text": [
      " estimated tempo: 208.34338075716664\tbeats: 1286 -> 1282\n",
      " estimated tempo: 218.3741844471854\tbeats: 1203 -> 1196\n"
     ]
    },
    {
     "name": "stderr",
     "output_type": "stream",
     "text": [
      " 27%|██▋       | 339/1276 [01:33<02:47,  5.61it/s]"
     ]
    },
    {
     "name": "stdout",
     "output_type": "stream",
     "text": [
      " estimated tempo: 207.79350023324622\tbeats: 1246 -> 1240\n",
      " estimated tempo: 216.79428942245465\tbeats: 1158 -> 1154\n"
     ]
    },
    {
     "name": "stderr",
     "output_type": "stream",
     "text": [
      "\r",
      " 27%|██▋       | 340/1276 [01:33<02:39,  5.87it/s]"
     ]
    },
    {
     "name": "stdout",
     "output_type": "stream",
     "text": [
      " estimated tempo: 215.60920830993697\tbeats: 929 -> 926\n"
     ]
    },
    {
     "name": "stderr",
     "output_type": "stream",
     "text": [
      "\r",
      " 27%|██▋       | 341/1276 [01:34<03:17,  4.72it/s]"
     ]
    },
    {
     "name": "stdout",
     "output_type": "stream",
     "text": [
      " estimated tempo: 214.0214165914059\tbeats: 1438 -> 1434\n",
      " estimated tempo: 200.05788712011181"
     ]
    },
    {
     "name": "stderr",
     "output_type": "stream",
     "text": [
      " 27%|██▋       | 343/1276 [01:34<02:48,  5.53it/s]"
     ]
    },
    {
     "name": "stdout",
     "output_type": "stream",
     "text": [
      "\tbeats: 1144 -> 1135\n",
      " estimated tempo: 200.93023255813955\tbeats: 384 -> 378\n"
     ]
    },
    {
     "name": "stderr",
     "output_type": "stream",
     "text": [
      "\r",
      " 27%|██▋       | 344/1276 [01:34<02:58,  5.23it/s]"
     ]
    },
    {
     "name": "stdout",
     "output_type": "stream",
     "text": [
      " estimated tempo: 190.35422906124035\tbeats: 1127 -> 1121\n"
     ]
    },
    {
     "name": "stderr",
     "output_type": "stream",
     "text": [
      " 27%|██▋       | 346/1276 [01:35<03:03,  5.07it/s]"
     ]
    },
    {
     "name": "stdout",
     "output_type": "stream",
     "text": [
      " estimated tempo: 197.79653741593967\tbeats: 1214 -> 1211\n",
      " estimated tempo: 219.2197906755399\tbeats: 1127 -> 1122\n"
     ]
    },
    {
     "name": "stderr",
     "output_type": "stream",
     "text": [
      "\r",
      " 27%|██▋       | 347/1276 [01:35<02:51,  5.43it/s]"
     ]
    },
    {
     "name": "stdout",
     "output_type": "stream",
     "text": [
      " estimated tempo: 205.12175962293676\tbeats: 1524 -> 1521\n"
     ]
    },
    {
     "name": "stderr",
     "output_type": "stream",
     "text": [
      " 27%|██▋       | 349/1276 [01:35<03:26,  4.49it/s]"
     ]
    },
    {
     "name": "stdout",
     "output_type": "stream",
     "text": [
      " estimated tempo: 212.68435959299438\tbeats: 2286 -> 2281\n",
      " estimated tempo: 218.18181818181895\tbeats: 1247 -> 1241\n"
     ]
    },
    {
     "name": "stderr",
     "output_type": "stream",
     "text": [
      " 28%|██▊       | 351/1276 [01:36<03:04,  5.00it/s]"
     ]
    },
    {
     "name": "stdout",
     "output_type": "stream",
     "text": [
      " estimated tempo: 218.02816901408178\tbeats: 1275 -> 1272\n",
      " estimated tempo: 186.72669968482606\tbeats: 1307 -> 1301\n"
     ]
    },
    {
     "name": "stderr",
     "output_type": "stream",
     "text": [
      "\r",
      " 28%|██▊       | 352/1276 [01:36<03:11,  4.81it/s]"
     ]
    },
    {
     "name": "stdout",
     "output_type": "stream",
     "text": [
      " estimated tempo: 207.2029789924832\tbeats: 1116 -> 1102\n",
      " estimated tempo: 199.17620137299883\tbeats: 353 -> 351\n"
     ]
    },
    {
     "name": "stderr",
     "output_type": "stream",
     "text": [
      "\r",
      " 28%|██▊       | 354/1276 [01:36<03:49,  4.01it/s]"
     ]
    },
    {
     "name": "stdout",
     "output_type": "stream",
     "text": [
      " estimated tempo: 212.97226923578182\tbeats: 2758 -> 2752\n"
     ]
    },
    {
     "name": "stderr",
     "output_type": "stream",
     "text": [
      "\r",
      " 28%|██▊       | 355/1276 [01:37<04:30,  3.40it/s]"
     ]
    },
    {
     "name": "stdout",
     "output_type": "stream",
     "text": [
      " estimated tempo: 208.10702569128048\tbeats: 3234 -> 3231\n"
     ]
    },
    {
     "name": "stderr",
     "output_type": "stream",
     "text": [
      "\r",
      " 28%|██▊       | 356/1276 [01:37<05:08,  2.98it/s]"
     ]
    },
    {
     "name": "stdout",
     "output_type": "stream",
     "text": [
      " estimated tempo: 206.22575832919213\tbeats: 2919 -> 2916\n"
     ]
    },
    {
     "name": "stderr",
     "output_type": "stream",
     "text": [
      "\r",
      " 28%|██▊       | 357/1276 [01:38<04:33,  3.36it/s]"
     ]
    },
    {
     "name": "stdout",
     "output_type": "stream",
     "text": [
      " estimated tempo: 187.80408966341162\tbeats: 1465 -> 1462\n",
      " estimated tempo: 164.95873247373018"
     ]
    },
    {
     "name": "stderr",
     "output_type": "stream",
     "text": [
      " 28%|██▊       | 359/1276 [01:38<03:42,  4.13it/s]"
     ]
    },
    {
     "name": "stdout",
     "output_type": "stream",
     "text": [
      "\tbeats: 1623 -> 1621\n",
      " estimated tempo: 160.02604590590505\tbeats: 1578 -> 1576\n"
     ]
    },
    {
     "name": "stderr",
     "output_type": "stream",
     "text": [
      "\r",
      " 28%|██▊       | 360/1276 [01:38<04:59,  3.06it/s]"
     ]
    },
    {
     "name": "stdout",
     "output_type": "stream",
     "text": [
      " estimated tempo: 219.87411167512525\tbeats: 2603 -> 2591\n"
     ]
    },
    {
     "name": "stderr",
     "output_type": "stream",
     "text": [
      "\r",
      " 28%|██▊       | 361/1276 [01:39<05:29,  2.78it/s]"
     ]
    },
    {
     "name": "stdout",
     "output_type": "stream",
     "text": [
      " estimated tempo: 218.94138543516695\tbeats: 2818 -> 2815\n"
     ]
    },
    {
     "name": "stderr",
     "output_type": "stream",
     "text": [
      "\r",
      " 28%|██▊       | 362/1276 [01:39<06:02,  2.52it/s]"
     ]
    },
    {
     "name": "stdout",
     "output_type": "stream",
     "text": [
      " estimated tempo: 218.00486618004845\tbeats: 2615 -> 2612\n"
     ]
    },
    {
     "name": "stderr",
     "output_type": "stream",
     "text": [
      "\r",
      " 28%|██▊       | 363/1276 [01:40<05:56,  2.56it/s]"
     ]
    },
    {
     "name": "stdout",
     "output_type": "stream",
     "text": [
      " estimated tempo: 198.89724310777063\tbeats: 2190 -> 2187\n"
     ]
    },
    {
     "name": "stderr",
     "output_type": "stream",
     "text": [
      "\r",
      " 29%|██▊       | 364/1276 [01:40<05:24,  2.81it/s]"
     ]
    },
    {
     "name": "stdout",
     "output_type": "stream",
     "text": [
      " estimated tempo: 206.33428054766122\tbeats: 2307 -> 2304\n"
     ]
    },
    {
     "name": "stderr",
     "output_type": "stream",
     "text": [
      "\r",
      " 29%|██▊       | 365/1276 [01:40<05:38,  2.69it/s]"
     ]
    },
    {
     "name": "stdout",
     "output_type": "stream",
     "text": [
      " estimated tempo: 212.64649066322733\tbeats: 2400 -> 2397\n"
     ]
    },
    {
     "name": "stderr",
     "output_type": "stream",
     "text": [
      " 29%|██▉       | 367/1276 [01:41<04:05,  3.70it/s]"
     ]
    },
    {
     "name": "stdout",
     "output_type": "stream",
     "text": [
      " estimated tempo: 198.12359622665744\tbeats: 1439 -> 1436\n",
      " estimated tempo: 203.44370860926517\tbeats: 1424 -> 1421\n"
     ]
    },
    {
     "name": "stderr",
     "output_type": "stream",
     "text": [
      "\r",
      " 29%|██▉       | 368/1276 [01:41<03:48,  3.98it/s]"
     ]
    },
    {
     "name": "stdout",
     "output_type": "stream",
     "text": [
      " estimated tempo: 195.18531591952134\tbeats: 1391 -> 1388\n"
     ]
    },
    {
     "name": "stderr",
     "output_type": "stream",
     "text": [
      " 29%|██▉       | 370/1276 [01:42<03:56,  3.84it/s]"
     ]
    },
    {
     "name": "stdout",
     "output_type": "stream",
     "text": [
      " estimated tempo: 215.30569639130456\tbeats: 3221 -> 3212\n",
      " estimated tempo: 211.45075891281112\tbeats: 959 -> 955\n"
     ]
    },
    {
     "name": "stderr",
     "output_type": "stream",
     "text": [
      "\r",
      " 29%|██▉       | 371/1276 [01:42<05:09,  2.92it/s]"
     ]
    },
    {
     "name": "stdout",
     "output_type": "stream",
     "text": [
      " estimated tempo: 221.2725090035963\tbeats: 3114 -> 3107\n"
     ]
    },
    {
     "name": "stderr",
     "output_type": "stream",
     "text": [
      "\r",
      " 29%|██▉       | 372/1276 [01:42<05:23,  2.80it/s]"
     ]
    },
    {
     "name": "stdout",
     "output_type": "stream",
     "text": [
      " estimated tempo: 225.5994534896979\tbeats: 2439 -> 2435\n"
     ]
    },
    {
     "name": "stderr",
     "output_type": "stream",
     "text": [
      "\r",
      " 29%|██▉       | 373/1276 [01:43<06:13,  2.42it/s]"
     ]
    },
    {
     "name": "stdout",
     "output_type": "stream",
     "text": [
      " estimated tempo: 188.73291879211655\tbeats: 2842 -> 2839\n",
      " estimated tempo: 193.58196010407588"
     ]
    },
    {
     "name": "stderr",
     "output_type": "stream",
     "text": [
      "\r",
      " 29%|██▉       | 374/1276 [01:43<05:08,  2.92it/s]"
     ]
    },
    {
     "name": "stdout",
     "output_type": "stream",
     "text": [
      "\tbeats: 1109 -> 1105\n"
     ]
    },
    {
     "name": "stderr",
     "output_type": "stream",
     "text": [
      "\r",
      " 29%|██▉       | 375/1276 [01:44<08:36,  1.75it/s]"
     ]
    },
    {
     "name": "stdout",
     "output_type": "stream",
     "text": [
      " estimated tempo: 218.30651225746703\tbeats: 8521 -> 8518\n"
     ]
    },
    {
     "name": "stderr",
     "output_type": "stream",
     "text": [
      "\r",
      " 29%|██▉       | 376/1276 [01:45<10:54,  1.38it/s]"
     ]
    },
    {
     "name": "stdout",
     "output_type": "stream",
     "text": [
      " estimated tempo: 198.11553833111438\tbeats: 7299 -> 7296\n"
     ]
    },
    {
     "name": "stderr",
     "output_type": "stream",
     "text": [
      "\r",
      " 30%|██▉       | 377/1276 [01:47<12:55,  1.16it/s]"
     ]
    },
    {
     "name": "stdout",
     "output_type": "stream",
     "text": [
      " estimated tempo: 217.49325013500643\tbeats: 8892 -> 8889\n"
     ]
    },
    {
     "name": "stderr",
     "output_type": "stream",
     "text": [
      "\r",
      " 30%|██▉       | 378/1276 [01:48<13:36,  1.10it/s]"
     ]
    },
    {
     "name": "stdout",
     "output_type": "stream",
     "text": [
      " estimated tempo: 199.5433430438525\tbeats: 7464 -> 7463\n",
      " estimated tempo: 201.9916825896367"
     ]
    },
    {
     "name": "stderr",
     "output_type": "stream",
     "text": [
      "\r",
      " 30%|██▉       | 379/1276 [01:48<10:08,  1.48it/s]"
     ]
    },
    {
     "name": "stdout",
     "output_type": "stream",
     "text": [
      "\tbeats: 1143 -> 1140\n"
     ]
    },
    {
     "name": "stderr",
     "output_type": "stream",
     "text": [
      "\r",
      " 30%|██▉       | 380/1276 [01:48<08:21,  1.79it/s]"
     ]
    },
    {
     "name": "stdout",
     "output_type": "stream",
     "text": [
      " estimated tempo: 181.81684712791457\tbeats: 1726 -> 1723\n"
     ]
    },
    {
     "name": "stderr",
     "output_type": "stream",
     "text": [
      "\r",
      " 30%|██▉       | 381/1276 [01:48<07:43,  1.93it/s]"
     ]
    },
    {
     "name": "stdout",
     "output_type": "stream",
     "text": [
      " estimated tempo: 184.15163279287268\tbeats: 2438 -> 2433\n",
      " estimated tempo: 189.2957746478914"
     ]
    },
    {
     "name": "stderr",
     "output_type": "stream",
     "text": [
      " 30%|███       | 383/1276 [01:49<05:04,  2.94it/s]"
     ]
    },
    {
     "name": "stdout",
     "output_type": "stream",
     "text": [
      "\tbeats: 1463 -> 1457\n",
      " estimated tempo: 227.75172413793103\tbeats: 1174 -> 1168\n"
     ]
    },
    {
     "name": "stderr",
     "output_type": "stream",
     "text": [
      "\r",
      " 30%|███       | 384/1276 [01:49<05:06,  2.91it/s]"
     ]
    },
    {
     "name": "stdout",
     "output_type": "stream",
     "text": [
      " estimated tempo: 189.6085409252686\tbeats: 2082 -> 2079\n"
     ]
    },
    {
     "name": "stderr",
     "output_type": "stream",
     "text": [
      "\r",
      " 30%|███       | 385/1276 [01:50<05:22,  2.76it/s]"
     ]
    },
    {
     "name": "stdout",
     "output_type": "stream",
     "text": [
      " estimated tempo: 195.33159020679693\tbeats: 2380 -> 2375\n"
     ]
    },
    {
     "name": "stderr",
     "output_type": "stream",
     "text": [
      " 30%|███       | 387/1276 [01:50<04:11,  3.54it/s]"
     ]
    },
    {
     "name": "stdout",
     "output_type": "stream",
     "text": [
      " estimated tempo: 196.14770671490928\tbeats: 1390 -> 1383\n",
      " estimated tempo: 223.4145710776416\tbeats: 1017 -> 1005\n"
     ]
    },
    {
     "name": "stderr",
     "output_type": "stream",
     "text": [
      "\r",
      " 30%|███       | 388/1276 [01:50<03:36,  4.10it/s]"
     ]
    },
    {
     "name": "stdout",
     "output_type": "stream",
     "text": [
      " estimated tempo: 216.7795726941108\tbeats: 1117 -> 1106\n"
     ]
    },
    {
     "name": "stderr",
     "output_type": "stream",
     "text": [
      "\r",
      " 30%|███       | 389/1276 [01:50<03:41,  4.01it/s]"
     ]
    },
    {
     "name": "stdout",
     "output_type": "stream",
     "text": [
      " estimated tempo: 195.1332369345241\tbeats: 1508 -> 1505\n",
      " estimated tempo: 199.2139600691717"
     ]
    },
    {
     "name": "stderr",
     "output_type": "stream",
     "text": [
      " 31%|███       | 391/1276 [01:51<03:18,  4.46it/s]"
     ]
    },
    {
     "name": "stdout",
     "output_type": "stream",
     "text": [
      "\tbeats: 1327 -> 1319\n",
      " estimated tempo: 193.970007892659\tbeats: 906 -> 902\n"
     ]
    },
    {
     "name": "stderr",
     "output_type": "stream",
     "text": [
      "\r",
      " 31%|███       | 392/1276 [01:51<03:02,  4.86it/s]"
     ]
    },
    {
     "name": "stdout",
     "output_type": "stream",
     "text": [
      " estimated tempo: 223.4310782729181\tbeats: 1093 -> 1090\n"
     ]
    },
    {
     "name": "stderr",
     "output_type": "stream",
     "text": [
      "\r",
      " 31%|███       | 393/1276 [01:52<05:23,  2.73it/s]"
     ]
    },
    {
     "name": "stdout",
     "output_type": "stream",
     "text": [
      " estimated tempo: 204.38865177003453\tbeats: 4673 -> 4670\n"
     ]
    },
    {
     "name": "stderr",
     "output_type": "stream",
     "text": [
      "\r",
      " 31%|███       | 394/1276 [01:53<08:28,  1.73it/s]"
     ]
    },
    {
     "name": "stdout",
     "output_type": "stream",
     "text": [
      " estimated tempo: 211.12129250062662\tbeats: 6498 -> 6497\n"
     ]
    },
    {
     "name": "stderr",
     "output_type": "stream",
     "text": [
      "\r",
      " 31%|███       | 395/1276 [01:54<09:23,  1.56it/s]"
     ]
    },
    {
     "name": "stdout",
     "output_type": "stream",
     "text": [
      " estimated tempo: 208.1657449957124\tbeats: 5837 -> 5834\n"
     ]
    },
    {
     "name": "stderr",
     "output_type": "stream",
     "text": [
      "\r",
      " 31%|███       | 396/1276 [01:54<08:35,  1.71it/s]"
     ]
    },
    {
     "name": "stdout",
     "output_type": "stream",
     "text": [
      " estimated tempo: 206.95314892314997\tbeats: 3134 -> 3131\n"
     ]
    },
    {
     "name": "stderr",
     "output_type": "stream",
     "text": [
      " 31%|███       | 398/1276 [01:54<05:34,  2.63it/s]"
     ]
    },
    {
     "name": "stdout",
     "output_type": "stream",
     "text": [
      " estimated tempo: 169.8175787728038\tbeats: 1813 -> 1809\n",
      " estimated tempo: 220.86781029263238\tbeats: 796 -> 793\n"
     ]
    },
    {
     "name": "stderr",
     "output_type": "stream",
     "text": [
      "\r",
      " 31%|███▏      | 399/1276 [01:55<05:22,  2.72it/s]"
     ]
    },
    {
     "name": "stdout",
     "output_type": "stream",
     "text": [
      " estimated tempo: 207.73131973402317\tbeats: 1508 -> 1498\n"
     ]
    },
    {
     "name": "stderr",
     "output_type": "stream",
     "text": [
      "\r",
      " 31%|███▏      | 400/1276 [01:55<06:28,  2.25it/s]"
     ]
    },
    {
     "name": "stdout",
     "output_type": "stream",
     "text": [
      " estimated tempo: 202.94108169074426\tbeats: 3212 -> 3209\n"
     ]
    },
    {
     "name": "stderr",
     "output_type": "stream",
     "text": [
      "\r",
      " 31%|███▏      | 401/1276 [01:57<09:37,  1.51it/s]"
     ]
    },
    {
     "name": "stdout",
     "output_type": "stream",
     "text": [
      " estimated tempo: 197.9343086910261\tbeats: 7304 -> 7296\n"
     ]
    },
    {
     "name": "stderr",
     "output_type": "stream",
     "text": [
      "\r",
      " 32%|███▏      | 402/1276 [01:58<12:34,  1.16it/s]"
     ]
    },
    {
     "name": "stdout",
     "output_type": "stream",
     "text": [
      " estimated tempo: 209.55660224134522\tbeats: 9170 -> 9156\n"
     ]
    },
    {
     "name": "stderr",
     "output_type": "stream",
     "text": [
      " 32%|███▏      | 404/1276 [01:58<07:54,  1.84it/s]"
     ]
    },
    {
     "name": "stdout",
     "output_type": "stream",
     "text": [
      " estimated tempo: 156.96350364963504\tbeats: 1760 -> 1757\n",
      " estimated tempo: 229.60303080217363\tbeats: 849 -> 842\n"
     ]
    },
    {
     "name": "stderr",
     "output_type": "stream",
     "text": [
      "\r",
      " 32%|███▏      | 405/1276 [01:59<07:15,  2.00it/s]"
     ]
    },
    {
     "name": "stdout",
     "output_type": "stream",
     "text": [
      " estimated tempo: 220.33087883713534\tbeats: 1897 -> 1888\n"
     ]
    },
    {
     "name": "stderr",
     "output_type": "stream",
     "text": [
      "\r",
      " 32%|███▏      | 406/1276 [01:59<06:51,  2.11it/s]"
     ]
    },
    {
     "name": "stdout",
     "output_type": "stream",
     "text": [
      " estimated tempo: 204.44689655172422\tbeats: 3074 -> 3071\n"
     ]
    },
    {
     "name": "stderr",
     "output_type": "stream",
     "text": [
      " 32%|███▏      | 408/1276 [02:00<04:39,  3.11it/s]"
     ]
    },
    {
     "name": "stdout",
     "output_type": "stream",
     "text": [
      " estimated tempo: 167.00052714812585\tbeats: 1658 -> 1656\n",
      " estimated tempo: 228.099173553721\tbeats: 855 -> 852\n"
     ]
    },
    {
     "name": "stderr",
     "output_type": "stream",
     "text": [
      "\r",
      " 32%|███▏      | 409/1276 [02:00<04:36,  3.13it/s]"
     ]
    },
    {
     "name": "stdout",
     "output_type": "stream",
     "text": [
      " estimated tempo: 208.4439083232861\tbeats: 1587 -> 1584\n"
     ]
    },
    {
     "name": "stderr",
     "output_type": "stream",
     "text": [
      " 32%|███▏      | 411/1276 [02:00<04:05,  3.53it/s]"
     ]
    },
    {
     "name": "stdout",
     "output_type": "stream",
     "text": [
      " estimated tempo: 203.71091747821328\tbeats: 3114 -> 3111\n",
      " estimated tempo: 161.16396194739903\tbeats: 1537 -> 1537\n"
     ]
    },
    {
     "name": "stderr",
     "output_type": "stream",
     "text": [
      "\r",
      " 32%|███▏      | 412/1276 [02:01<03:22,  4.26it/s]"
     ]
    },
    {
     "name": "stdout",
     "output_type": "stream",
     "text": [
      " estimated tempo: 226.06899400950334\tbeats: 908 -> 907\n"
     ]
    },
    {
     "name": "stderr",
     "output_type": "stream",
     "text": [
      "\r",
      " 32%|███▏      | 413/1276 [02:01<03:40,  3.92it/s]"
     ]
    },
    {
     "name": "stdout",
     "output_type": "stream",
     "text": [
      " estimated tempo: 217.0678336980243\tbeats: 1769 -> 1766\n"
     ]
    },
    {
     "name": "stderr",
     "output_type": "stream",
     "text": [
      "\r",
      " 32%|███▏      | 414/1276 [02:02<08:49,  1.63it/s]"
     ]
    },
    {
     "name": "stdout",
     "output_type": "stream",
     "text": [
      " estimated tempo: 199.39541686981713\tbeats: 8515 -> 8512\n"
     ]
    },
    {
     "name": "stderr",
     "output_type": "stream",
     "text": [
      "\r",
      " 33%|███▎      | 415/1276 [02:04<12:50,  1.12it/s]"
     ]
    },
    {
     "name": "stdout",
     "output_type": "stream",
     "text": [
      " estimated tempo: 212.2811771719837\tbeats: 8574 -> 8564\n"
     ]
    },
    {
     "name": "stderr",
     "output_type": "stream",
     "text": [
      "\r",
      " 33%|███▎      | 416/1276 [02:04<10:21,  1.38it/s]"
     ]
    },
    {
     "name": "stdout",
     "output_type": "stream",
     "text": [
      " estimated tempo: 212.89757805660986\tbeats: 1688 -> 1685\n"
     ]
    },
    {
     "name": "stderr",
     "output_type": "stream",
     "text": [
      " 33%|███▎      | 418/1276 [02:05<06:31,  2.19it/s]"
     ]
    },
    {
     "name": "stdout",
     "output_type": "stream",
     "text": [
      " estimated tempo: 189.5987289689135\tbeats: 1543 -> 1540\n",
      " estimated tempo: 207.12499279663447\tbeats: 702 -> 699\n"
     ]
    },
    {
     "name": "stderr",
     "output_type": "stream",
     "text": [
      "\r",
      " 33%|███▎      | 419/1276 [02:05<06:25,  2.22it/s]"
     ]
    },
    {
     "name": "stdout",
     "output_type": "stream",
     "text": [
      " estimated tempo: 207.27116949878223\tbeats: 1804 -> 1797\n"
     ]
    },
    {
     "name": "stderr",
     "output_type": "stream",
     "text": [
      "\r",
      " 33%|███▎      | 420/1276 [02:05<05:58,  2.39it/s]"
     ]
    },
    {
     "name": "stdout",
     "output_type": "stream",
     "text": [
      " estimated tempo: 197.47344885410956\tbeats: 2326 -> 2320\n"
     ]
    },
    {
     "name": "stderr",
     "output_type": "stream",
     "text": [
      "\r",
      " 33%|███▎      | 421/1276 [02:06<05:14,  2.72it/s]"
     ]
    },
    {
     "name": "stdout",
     "output_type": "stream",
     "text": [
      " estimated tempo: 187.36467598475258\tbeats: 1687 -> 1684\n"
     ]
    },
    {
     "name": "stderr",
     "output_type": "stream",
     "text": [
      "\r",
      " 33%|███▎      | 422/1276 [02:06<04:40,  3.04it/s]"
     ]
    },
    {
     "name": "stdout",
     "output_type": "stream",
     "text": [
      " estimated tempo: 184.35206122804362\tbeats: 961 -> 959\n"
     ]
    },
    {
     "name": "stderr",
     "output_type": "stream",
     "text": [
      "\r",
      " 33%|███▎      | 423/1276 [02:06<04:31,  3.15it/s]"
     ]
    },
    {
     "name": "stdout",
     "output_type": "stream",
     "text": [
      " estimated tempo: 210.32365145228343\tbeats: 1855 -> 1851\n"
     ]
    },
    {
     "name": "stderr",
     "output_type": "stream",
     "text": [
      "\r",
      " 33%|███▎      | 424/1276 [02:06<04:25,  3.21it/s]"
     ]
    },
    {
     "name": "stdout",
     "output_type": "stream",
     "text": [
      " estimated tempo: 209.5770255344022\tbeats: 1680 -> 1674\n"
     ]
    },
    {
     "name": "stderr",
     "output_type": "stream",
     "text": [
      "\r",
      " 33%|███▎      | 425/1276 [02:07<04:08,  3.42it/s]"
     ]
    },
    {
     "name": "stdout",
     "output_type": "stream",
     "text": [
      " estimated tempo: 214.64270056992734\tbeats: 1782 -> 1776\n"
     ]
    },
    {
     "name": "stderr",
     "output_type": "stream",
     "text": [
      "\r",
      " 33%|███▎      | 426/1276 [02:08<06:24,  2.21it/s]"
     ]
    },
    {
     "name": "stdout",
     "output_type": "stream",
     "text": [
      " estimated tempo: 208.66987773249323\tbeats: 6230 -> 6220\n"
     ]
    },
    {
     "name": "stderr",
     "output_type": "stream",
     "text": [
      "\r",
      " 33%|███▎      | 427/1276 [02:08<08:16,  1.71it/s]"
     ]
    },
    {
     "name": "stdout",
     "output_type": "stream",
     "text": [
      " estimated tempo: 224.93288135593397\tbeats: 6626 -> 6622\n"
     ]
    },
    {
     "name": "stderr",
     "output_type": "stream",
     "text": [
      " 34%|███▎      | 429/1276 [02:09<05:29,  2.57it/s]"
     ]
    },
    {
     "name": "stdout",
     "output_type": "stream",
     "text": [
      " estimated tempo: 197.3696145124695\tbeats: 1559 -> 1553\n",
      " estimated tempo: 171.49969493593807\tbeats: 1640 -> 1638\n"
     ]
    },
    {
     "name": "stderr",
     "output_type": "stream",
     "text": [
      "\r",
      " 34%|███▍      | 431/1276 [02:09<03:29,  4.04it/s]"
     ]
    },
    {
     "name": "stdout",
     "output_type": "stream",
     "text": [
      " estimated tempo: 224.09009470181905\tbeats: 622 -> 619\n",
      " estimated tempo: 215.26613816534413\tbeats: 544 -> 540\n"
     ]
    },
    {
     "name": "stderr",
     "output_type": "stream",
     "text": [
      "\r",
      " 34%|███▍      | 432/1276 [02:09<03:50,  3.66it/s]"
     ]
    },
    {
     "name": "stdout",
     "output_type": "stream",
     "text": [
      " estimated tempo: 222.70779014308724\tbeats: 1932 -> 1929\n"
     ]
    },
    {
     "name": "stderr",
     "output_type": "stream",
     "text": [
      "\r",
      " 34%|███▍      | 433/1276 [02:10<04:02,  3.48it/s]"
     ]
    },
    {
     "name": "stdout",
     "output_type": "stream",
     "text": [
      " estimated tempo: 221.64719740846715\tbeats: 2074 -> 2070\n"
     ]
    },
    {
     "name": "stderr",
     "output_type": "stream",
     "text": [
      "\r",
      " 34%|███▍      | 434/1276 [02:10<04:31,  3.11it/s]"
     ]
    },
    {
     "name": "stdout",
     "output_type": "stream",
     "text": [
      " estimated tempo: 214.92537313432396\tbeats: 2481 -> 2478\n",
      " estimated tempo: 194.628487825268"
     ]
    },
    {
     "name": "stderr",
     "output_type": "stream",
     "text": [
      "\r",
      " 34%|███▍      | 435/1276 [02:10<03:56,  3.55it/s]"
     ]
    },
    {
     "name": "stdout",
     "output_type": "stream",
     "text": [
      "\tbeats: 1705 -> 1702\n"
     ]
    },
    {
     "name": "stderr",
     "output_type": "stream",
     "text": [
      "\r",
      " 34%|███▍      | 436/1276 [02:11<04:38,  3.02it/s]"
     ]
    },
    {
     "name": "stdout",
     "output_type": "stream",
     "text": [
      " estimated tempo: 219.24959216965078\tbeats: 2726 -> 2722\n"
     ]
    },
    {
     "name": "stderr",
     "output_type": "stream",
     "text": [
      "\r",
      " 34%|███▍      | 437/1276 [02:11<04:16,  3.27it/s]"
     ]
    },
    {
     "name": "stdout",
     "output_type": "stream",
     "text": [
      " estimated tempo: 211.98952509024045\tbeats: 1599 -> 1596\n"
     ]
    },
    {
     "name": "stderr",
     "output_type": "stream",
     "text": [
      "\r",
      " 34%|███▍      | 438/1276 [02:11<03:59,  3.50it/s]"
     ]
    },
    {
     "name": "stdout",
     "output_type": "stream",
     "text": [
      " estimated tempo: 197.46184527145567\tbeats: 1531 -> 1528\n"
     ]
    },
    {
     "name": "stderr",
     "output_type": "stream",
     "text": [
      "\r",
      " 34%|███▍      | 439/1276 [02:12<04:50,  2.89it/s]"
     ]
    },
    {
     "name": "stdout",
     "output_type": "stream",
     "text": [
      " estimated tempo: 203.59229603981825\tbeats: 2394 -> 2391\n"
     ]
    },
    {
     "name": "stderr",
     "output_type": "stream",
     "text": [
      "\r",
      " 34%|███▍      | 440/1276 [02:12<04:21,  3.20it/s]"
     ]
    },
    {
     "name": "stdout",
     "output_type": "stream",
     "text": [
      " estimated tempo: 220.8017735082197\tbeats: 1707 -> 1704\n"
     ]
    },
    {
     "name": "stderr",
     "output_type": "stream",
     "text": [
      "\r",
      " 35%|███▍      | 441/1276 [02:12<03:57,  3.52it/s]"
     ]
    },
    {
     "name": "stdout",
     "output_type": "stream",
     "text": [
      " estimated tempo: 184.4273031582008\tbeats: 1433 -> 1430\n",
      " estimated tempo: 212.95971978984386\tbeats: 542 -> 539\n"
     ]
    },
    {
     "name": "stderr",
     "output_type": "stream",
     "text": [
      "\r",
      " 35%|███▍      | 443/1276 [02:13<03:21,  4.13it/s]"
     ]
    },
    {
     "name": "stdout",
     "output_type": "stream",
     "text": [
      " estimated tempo: 219.48829613499316\tbeats: 2003 -> 1999\n"
     ]
    },
    {
     "name": "stderr",
     "output_type": "stream",
     "text": [
      "\r",
      " 35%|███▍      | 444/1276 [02:13<05:46,  2.40it/s]"
     ]
    },
    {
     "name": "stdout",
     "output_type": "stream",
     "text": [
      " estimated tempo: 205.71428571428496\tbeats: 5977 -> 5976\n"
     ]
    },
    {
     "name": "stderr",
     "output_type": "stream",
     "text": [
      "\r",
      " 35%|███▍      | 445/1276 [02:14<07:32,  1.84it/s]"
     ]
    },
    {
     "name": "stdout",
     "output_type": "stream",
     "text": [
      " estimated tempo: 202.78401852924327\tbeats: 5911 -> 5908\n"
     ]
    },
    {
     "name": "stderr",
     "output_type": "stream",
     "text": [
      "\r",
      " 35%|███▍      | 446/1276 [02:15<09:21,  1.48it/s]"
     ]
    },
    {
     "name": "stdout",
     "output_type": "stream",
     "text": [
      " estimated tempo: 215.77818853971095\tbeats: 5867 -> 5859\n"
     ]
    },
    {
     "name": "stderr",
     "output_type": "stream",
     "text": [
      "\r",
      " 35%|███▌      | 447/1276 [02:16<10:49,  1.28it/s]"
     ]
    },
    {
     "name": "stdout",
     "output_type": "stream",
     "text": [
      " estimated tempo: 204.38215204470742\tbeats: 5992 -> 5981\n"
     ]
    },
    {
     "name": "stderr",
     "output_type": "stream",
     "text": [
      "\r",
      " 35%|███▌      | 448/1276 [02:17<10:11,  1.35it/s]"
     ]
    },
    {
     "name": "stdout",
     "output_type": "stream",
     "text": [
      " estimated tempo: 185.31153705541902\tbeats: 4900 -> 4896\n"
     ]
    },
    {
     "name": "stderr",
     "output_type": "stream",
     "text": [
      "\r",
      " 35%|███▌      | 449/1276 [02:18<10:52,  1.27it/s]"
     ]
    },
    {
     "name": "stdout",
     "output_type": "stream",
     "text": [
      " estimated tempo: 197.45203376822138\tbeats: 6500 -> 6491\n"
     ]
    },
    {
     "name": "stderr",
     "output_type": "stream",
     "text": [
      "\r",
      " 35%|███▌      | 450/1276 [02:18<08:27,  1.63it/s]"
     ]
    },
    {
     "name": "stdout",
     "output_type": "stream",
     "text": [
      " estimated tempo: 225.388759020225\tbeats: 1488 -> 1485\n"
     ]
    },
    {
     "name": "stderr",
     "output_type": "stream",
     "text": [
      " 35%|███▌      | 452/1276 [02:19<05:53,  2.33it/s]"
     ]
    },
    {
     "name": "stdout",
     "output_type": "stream",
     "text": [
      " estimated tempo: 186.06654463228224\tbeats: 2116 -> 2113\n",
      " estimated tempo: 178.21782178217808\tbeats: 1044 -> 1044\n"
     ]
    },
    {
     "name": "stderr",
     "output_type": "stream",
     "text": [
      "\r",
      " 36%|███▌      | 453/1276 [02:19<04:51,  2.82it/s]"
     ]
    },
    {
     "name": "stdout",
     "output_type": "stream",
     "text": [
      " estimated tempo: 227.41116751269507\tbeats: 1679 -> 1670\n"
     ]
    },
    {
     "name": "stderr",
     "output_type": "stream",
     "text": [
      "\r",
      " 36%|███▌      | 454/1276 [02:21<10:15,  1.33it/s]"
     ]
    },
    {
     "name": "stdout",
     "output_type": "stream",
     "text": [
      " estimated tempo: 222.53978081855564\tbeats: 8710 -> 8704\n"
     ]
    },
    {
     "name": "stderr",
     "output_type": "stream",
     "text": [
      "\r",
      " 36%|███▌      | 455/1276 [02:22<11:55,  1.15it/s]"
     ]
    },
    {
     "name": "stdout",
     "output_type": "stream",
     "text": [
      " estimated tempo: 217.53485284358024\tbeats: 7546 -> 7540\n"
     ]
    },
    {
     "name": "stderr",
     "output_type": "stream",
     "text": [
      "\r",
      " 36%|███▌      | 456/1276 [02:23<12:55,  1.06it/s]"
     ]
    },
    {
     "name": "stdout",
     "output_type": "stream",
     "text": [
      " estimated tempo: 192.6173633440519\tbeats: 6096 -> 6092\n"
     ]
    },
    {
     "name": "stderr",
     "output_type": "stream",
     "text": [
      "\r",
      " 36%|███▌      | 457/1276 [02:24<13:50,  1.01s/it]"
     ]
    },
    {
     "name": "stdout",
     "output_type": "stream",
     "text": [
      " estimated tempo: 225.22349231375753\tbeats: 7474 -> 7469\n"
     ]
    },
    {
     "name": "stderr",
     "output_type": "stream",
     "text": [
      "\r",
      " 36%|███▌      | 458/1276 [02:24<10:46,  1.27it/s]"
     ]
    },
    {
     "name": "stdout",
     "output_type": "stream",
     "text": [
      " estimated tempo: 205.12258594713424\tbeats: 2561 -> 2558\n"
     ]
    },
    {
     "name": "stderr",
     "output_type": "stream",
     "text": [
      " 36%|███▌      | 460/1276 [02:25<06:23,  2.13it/s]"
     ]
    },
    {
     "name": "stdout",
     "output_type": "stream",
     "text": [
      " estimated tempo: 196.71404836625618\tbeats: 1370 -> 1367\n",
      " estimated tempo: 212.9980586114482\tbeats: 801 -> 792\n"
     ]
    },
    {
     "name": "stderr",
     "output_type": "stream",
     "text": [
      "\r",
      " 36%|███▌      | 461/1276 [02:25<05:49,  2.33it/s]"
     ]
    },
    {
     "name": "stdout",
     "output_type": "stream",
     "text": [
      " estimated tempo: 220.6006853456999\tbeats: 1870 -> 1864\n"
     ]
    },
    {
     "name": "stderr",
     "output_type": "stream",
     "text": [
      "\r",
      " 36%|███▌      | 462/1276 [02:25<05:53,  2.30it/s]"
     ]
    },
    {
     "name": "stdout",
     "output_type": "stream",
     "text": [
      " estimated tempo: 185.8187347127649\tbeats: 2401 -> 2396\n"
     ]
    },
    {
     "name": "stderr",
     "output_type": "stream",
     "text": [
      "\r",
      " 36%|███▋      | 463/1276 [02:26<06:06,  2.22it/s]"
     ]
    },
    {
     "name": "stdout",
     "output_type": "stream",
     "text": [
      " estimated tempo: 196.18946248003698\tbeats: 3038 -> 3035\n"
     ]
    },
    {
     "name": "stderr",
     "output_type": "stream",
     "text": [
      "\r",
      " 36%|███▋      | 464/1276 [02:26<05:31,  2.45it/s]"
     ]
    },
    {
     "name": "stdout",
     "output_type": "stream",
     "text": [
      " estimated tempo: 172.81963859529407\tbeats: 1185 -> 1181\n"
     ]
    },
    {
     "name": "stderr",
     "output_type": "stream",
     "text": [
      " 37%|███▋      | 466/1276 [02:27<03:57,  3.41it/s]"
     ]
    },
    {
     "name": "stdout",
     "output_type": "stream",
     "text": [
      " estimated tempo: 194.0502331177548\tbeats: 1485 -> 1482\n",
      " estimated tempo: 201.71598669234714\tbeats: 767 -> 758\n"
     ]
    },
    {
     "name": "stderr",
     "output_type": "stream",
     "text": [
      "\r",
      " 37%|███▋      | 467/1276 [02:27<03:31,  3.83it/s]"
     ]
    },
    {
     "name": "stdout",
     "output_type": "stream",
     "text": [
      " estimated tempo: 193.30579037691567\tbeats: 780 -> 776\n"
     ]
    },
    {
     "name": "stderr",
     "output_type": "stream",
     "text": [
      "\r",
      " 37%|███▋      | 468/1276 [02:27<04:03,  3.32it/s]"
     ]
    },
    {
     "name": "stdout",
     "output_type": "stream",
     "text": [
      " estimated tempo: 217.40510401029252\tbeats: 1860 -> 1855\n"
     ]
    },
    {
     "name": "stderr",
     "output_type": "stream",
     "text": [
      "\r",
      " 37%|███▋      | 469/1276 [02:27<03:51,  3.48it/s]"
     ]
    },
    {
     "name": "stdout",
     "output_type": "stream",
     "text": [
      " estimated tempo: 228.17134960847787\tbeats: 1749 -> 1746\n"
     ]
    },
    {
     "name": "stderr",
     "output_type": "stream",
     "text": [
      "\r",
      " 37%|███▋      | 470/1276 [02:28<04:22,  3.07it/s]"
     ]
    },
    {
     "name": "stdout",
     "output_type": "stream",
     "text": [
      " estimated tempo: 164.0538776478966\tbeats: 2802 -> 2797\n"
     ]
    },
    {
     "name": "stderr",
     "output_type": "stream",
     "text": [
      "\r",
      " 37%|███▋      | 471/1276 [02:29<06:01,  2.23it/s]"
     ]
    },
    {
     "name": "stdout",
     "output_type": "stream",
     "text": [
      " estimated tempo: 212.2301228183367\tbeats: 4598 -> 4592\n"
     ]
    },
    {
     "name": "stderr",
     "output_type": "stream",
     "text": [
      " 37%|███▋      | 473/1276 [02:29<04:27,  3.00it/s]"
     ]
    },
    {
     "name": "stdout",
     "output_type": "stream",
     "text": [
      " estimated tempo: 205.21376433784832\tbeats: 2581 -> 2578\n",
      " estimated tempo: 192.87980260839015\tbeats: 1392 -> 1389\n"
     ]
    },
    {
     "name": "stderr",
     "output_type": "stream",
     "text": [
      "\r",
      " 37%|███▋      | 474/1276 [02:29<04:45,  2.81it/s]"
     ]
    },
    {
     "name": "stdout",
     "output_type": "stream",
     "text": [
      " estimated tempo: 228.94050428517892\tbeats: 2616 -> 2613\n"
     ]
    },
    {
     "name": "stderr",
     "output_type": "stream",
     "text": [
      "\r",
      " 37%|███▋      | 475/1276 [02:30<04:20,  3.08it/s]"
     ]
    },
    {
     "name": "stdout",
     "output_type": "stream",
     "text": [
      " estimated tempo: 188.94925679138942\tbeats: 1397 -> 1392\n"
     ]
    },
    {
     "name": "stderr",
     "output_type": "stream",
     "text": [
      "\r",
      " 37%|███▋      | 476/1276 [02:31<06:26,  2.07it/s]"
     ]
    },
    {
     "name": "stdout",
     "output_type": "stream",
     "text": [
      " estimated tempo: 208.44098464126256\tbeats: 4388 -> 4383\n"
     ]
    },
    {
     "name": "stderr",
     "output_type": "stream",
     "text": [
      " 37%|███▋      | 478/1276 [02:31<04:12,  3.16it/s]"
     ]
    },
    {
     "name": "stdout",
     "output_type": "stream",
     "text": [
      " estimated tempo: 210.66904549509192\tbeats: 1073 -> 1068\n",
      " estimated tempo: 215.52853133769878\tbeats: 756 -> 749\n"
     ]
    },
    {
     "name": "stderr",
     "output_type": "stream",
     "text": [
      " 38%|███▊      | 480/1276 [02:31<03:30,  3.78it/s]"
     ]
    },
    {
     "name": "stdout",
     "output_type": "stream",
     "text": [
      " estimated tempo: 217.05512909979834\tbeats: 1824 -> 1820\n",
      " estimated tempo: 222.50120714630614\tbeats: 765 -> 760\n"
     ]
    },
    {
     "name": "stderr",
     "output_type": "stream",
     "text": [
      " 38%|███▊      | 482/1276 [02:32<02:29,  5.30it/s]"
     ]
    },
    {
     "name": "stdout",
     "output_type": "stream",
     "text": [
      " estimated tempo: 206.5256364288269\tbeats: 726 -> 723\n",
      " estimated tempo: 216.18280163373356\tbeats: 684 -> 681\n"
     ]
    },
    {
     "name": "stderr",
     "output_type": "stream",
     "text": [
      " 38%|███▊      | 484/1276 [02:32<02:12,  5.98it/s]"
     ]
    },
    {
     "name": "stdout",
     "output_type": "stream",
     "text": [
      " estimated tempo: 213.58313817330188\tbeats: 504 -> 497\n",
      " estimated tempo: 216.0308615516484\tbeats: 902 -> 894\n"
     ]
    },
    {
     "name": "stderr",
     "output_type": "stream",
     "text": [
      " 38%|███▊      | 487/1276 [02:32<01:27,  9.04it/s]"
     ]
    },
    {
     "name": "stdout",
     "output_type": "stream",
     "text": [
      " estimated tempo: 169.78060626360738\tbeats: 961 -> 958\n",
      " estimated tempo: 210.52819255627324\tbeats: 561 -> 556\n",
      " estimated tempo: 192.98183741844403\tbeats: 408 -> 398\n",
      " estimated tempo: 213.00462249614668\tbeats: 1317 -> 1311\n"
     ]
    },
    {
     "name": "stderr",
     "output_type": "stream",
     "text": [
      "\r",
      " 38%|███▊      | 489/1276 [02:33<03:44,  3.50it/s]"
     ]
    },
    {
     "name": "stdout",
     "output_type": "stream",
     "text": [
      " estimated tempo: 207.72797527048613\tbeats: 4879 -> 4875\n"
     ]
    },
    {
     "name": "stderr",
     "output_type": "stream",
     "text": [
      "\r",
      " 38%|███▊      | 490/1276 [02:33<03:31,  3.71it/s]"
     ]
    },
    {
     "name": "stdout",
     "output_type": "stream",
     "text": [
      " estimated tempo: 207.94223826715051\tbeats: 1135 -> 1129\n"
     ]
    },
    {
     "name": "stderr",
     "output_type": "stream",
     "text": [
      "\r",
      " 38%|███▊      | 491/1276 [02:34<05:57,  2.19it/s]"
     ]
    },
    {
     "name": "stdout",
     "output_type": "stream",
     "text": [
      " estimated tempo: 198.39265212405502\tbeats: 7931 -> 7928\n"
     ]
    },
    {
     "name": "stderr",
     "output_type": "stream",
     "text": [
      "\r",
      " 39%|███▊      | 492/1276 [02:35<05:51,  2.23it/s]"
     ]
    },
    {
     "name": "stdout",
     "output_type": "stream",
     "text": [
      " estimated tempo: 212.24543510447216\tbeats: 2864 -> 2863\n"
     ]
    },
    {
     "name": "stderr",
     "output_type": "stream",
     "text": [
      "\r",
      " 39%|███▊      | 493/1276 [02:36<06:31,  2.00it/s]"
     ]
    },
    {
     "name": "stdout",
     "output_type": "stream",
     "text": [
      " estimated tempo: 196.43876045253742\tbeats: 2683 -> 2682\n"
     ]
    },
    {
     "name": "stderr",
     "output_type": "stream",
     "text": [
      "\r",
      " 39%|███▊      | 494/1276 [02:36<06:15,  2.08it/s]"
     ]
    },
    {
     "name": "stdout",
     "output_type": "stream",
     "text": [
      " estimated tempo: 208.09959721714765\tbeats: 2704 -> 2701\n"
     ]
    },
    {
     "name": "stderr",
     "output_type": "stream",
     "text": [
      "\r",
      " 39%|███▉      | 495/1276 [02:37<06:36,  1.97it/s]"
     ]
    },
    {
     "name": "stdout",
     "output_type": "stream",
     "text": [
      " estimated tempo: 204.91751542102315\tbeats: 2713 -> 2710\n"
     ]
    },
    {
     "name": "stderr",
     "output_type": "stream",
     "text": [
      "\r",
      " 39%|███▉      | 496/1276 [02:37<06:12,  2.10it/s]"
     ]
    },
    {
     "name": "stdout",
     "output_type": "stream",
     "text": [
      " estimated tempo: 204.39445544554542\tbeats: 2738 -> 2735\n"
     ]
    },
    {
     "name": "stderr",
     "output_type": "stream",
     "text": [
      "\r",
      " 39%|███▉      | 497/1276 [02:37<06:02,  2.15it/s]"
     ]
    },
    {
     "name": "stdout",
     "output_type": "stream",
     "text": [
      " estimated tempo: 190.17746595129964\tbeats: 2412 -> 2409\n"
     ]
    },
    {
     "name": "stderr",
     "output_type": "stream",
     "text": [
      "\r",
      " 39%|███▉      | 498/1276 [02:38<05:56,  2.18it/s]"
     ]
    },
    {
     "name": "stdout",
     "output_type": "stream",
     "text": [
      " estimated tempo: 199.38461538461527\tbeats: 2757 -> 2754\n"
     ]
    },
    {
     "name": "stderr",
     "output_type": "stream",
     "text": [
      "\r",
      " 39%|███▉      | 499/1276 [02:38<06:14,  2.07it/s]"
     ]
    },
    {
     "name": "stdout",
     "output_type": "stream",
     "text": [
      " estimated tempo: 223.77622377620264\tbeats: 3078 -> 3074\n"
     ]
    },
    {
     "name": "stderr",
     "output_type": "stream",
     "text": [
      "\r",
      " 39%|███▉      | 500/1276 [02:39<05:37,  2.30it/s]"
     ]
    },
    {
     "name": "stdout",
     "output_type": "stream",
     "text": [
      " estimated tempo: 200.1916007574915\tbeats: 2603 -> 2600\n"
     ]
    },
    {
     "name": "stderr",
     "output_type": "stream",
     "text": [
      "\r",
      " 39%|███▉      | 501/1276 [02:39<05:33,  2.32it/s]"
     ]
    },
    {
     "name": "stdout",
     "output_type": "stream",
     "text": [
      " estimated tempo: 206.46557554444382\tbeats: 2844 -> 2841\n"
     ]
    },
    {
     "name": "stderr",
     "output_type": "stream",
     "text": [
      "\r",
      " 39%|███▉      | 502/1276 [02:40<05:34,  2.31it/s]"
     ]
    },
    {
     "name": "stdout",
     "output_type": "stream",
     "text": [
      " estimated tempo: 205.80178647383963\tbeats: 2807 -> 2804\n"
     ]
    },
    {
     "name": "stderr",
     "output_type": "stream",
     "text": [
      "\r",
      " 39%|███▉      | 503/1276 [02:40<05:36,  2.30it/s]"
     ]
    },
    {
     "name": "stdout",
     "output_type": "stream",
     "text": [
      " estimated tempo: 204.83874018727067\tbeats: 2625 -> 2621\n"
     ]
    },
    {
     "name": "stderr",
     "output_type": "stream",
     "text": [
      "\r",
      " 39%|███▉      | 504/1276 [02:40<04:55,  2.62it/s]"
     ]
    },
    {
     "name": "stdout",
     "output_type": "stream",
     "text": [
      " estimated tempo: 201.7447705529412\tbeats: 2030 -> 2027\n"
     ]
    },
    {
     "name": "stderr",
     "output_type": "stream",
     "text": [
      "\r",
      " 40%|███▉      | 505/1276 [02:41<04:28,  2.87it/s]"
     ]
    },
    {
     "name": "stdout",
     "output_type": "stream",
     "text": [
      " estimated tempo: 207.2663958212386\tbeats: 1906 -> 1902\n"
     ]
    },
    {
     "name": "stderr",
     "output_type": "stream",
     "text": [
      "\r",
      " 40%|███▉      | 506/1276 [02:41<04:00,  3.21it/s]"
     ]
    },
    {
     "name": "stdout",
     "output_type": "stream",
     "text": [
      " estimated tempo: 202.47592847317375\tbeats: 1839 -> 1836\n"
     ]
    },
    {
     "name": "stderr",
     "output_type": "stream",
     "text": [
      "\r",
      " 40%|███▉      | 507/1276 [02:41<03:51,  3.32it/s]"
     ]
    },
    {
     "name": "stdout",
     "output_type": "stream",
     "text": [
      " estimated tempo: 206.88003831111732\tbeats: 1782 -> 1779\n",
      " estimated tempo: 209.19122782512966"
     ]
    },
    {
     "name": "stderr",
     "output_type": "stream",
     "text": [
      "\r",
      " 40%|███▉      | 508/1276 [02:41<03:28,  3.68it/s]"
     ]
    },
    {
     "name": "stdout",
     "output_type": "stream",
     "text": [
      "\tbeats: 1782 -> 1779\n"
     ]
    },
    {
     "name": "stderr",
     "output_type": "stream",
     "text": [
      "\r",
      " 40%|███▉      | 509/1276 [02:42<03:30,  3.65it/s]"
     ]
    },
    {
     "name": "stdout",
     "output_type": "stream",
     "text": [
      " estimated tempo: 206.52990863644456\tbeats: 2030 -> 2027\n",
      " estimated tempo: 207.96905222437724"
     ]
    },
    {
     "name": "stderr",
     "output_type": "stream",
     "text": [
      "\r",
      " 40%|███▉      | 510/1276 [02:42<03:12,  3.98it/s]"
     ]
    },
    {
     "name": "stdout",
     "output_type": "stream",
     "text": [
      "\tbeats: 1771 -> 1768\n"
     ]
    },
    {
     "name": "stderr",
     "output_type": "stream",
     "text": [
      "\r",
      " 40%|████      | 511/1276 [02:42<03:21,  3.79it/s]"
     ]
    },
    {
     "name": "stdout",
     "output_type": "stream",
     "text": [
      " estimated tempo: 213.9202200825385\tbeats: 1924 -> 1919\n"
     ]
    },
    {
     "name": "stderr",
     "output_type": "stream",
     "text": [
      "\r",
      " 40%|████      | 512/1276 [02:42<03:16,  3.88it/s]"
     ]
    },
    {
     "name": "stdout",
     "output_type": "stream",
     "text": [
      " estimated tempo: 206.9222797927565\tbeats: 1822 -> 1816\n"
     ]
    },
    {
     "name": "stderr",
     "output_type": "stream",
     "text": [
      "\r",
      " 40%|████      | 513/1276 [02:43<03:25,  3.72it/s]"
     ]
    },
    {
     "name": "stdout",
     "output_type": "stream",
     "text": [
      " estimated tempo: 212.25557206538625\tbeats: 1780 -> 1776\n"
     ]
    },
    {
     "name": "stderr",
     "output_type": "stream",
     "text": [
      "\r",
      " 40%|████      | 514/1276 [02:43<03:33,  3.57it/s]"
     ]
    },
    {
     "name": "stdout",
     "output_type": "stream",
     "text": [
      " estimated tempo: 223.59128474829976\tbeats: 2082 -> 2079\n",
      " estimated tempo: 214.63933989884632"
     ]
    },
    {
     "name": "stderr",
     "output_type": "stream",
     "text": [
      " 40%|████      | 516/1276 [02:43<02:56,  4.31it/s]"
     ]
    },
    {
     "name": "stdout",
     "output_type": "stream",
     "text": [
      "\tbeats: 1218 -> 1215\n",
      " estimated tempo: 217.01726844582782\tbeats: 1548 -> 1542\n"
     ]
    },
    {
     "name": "stderr",
     "output_type": "stream",
     "text": [
      "\r",
      " 41%|████      | 517/1276 [02:43<03:02,  4.17it/s]"
     ]
    },
    {
     "name": "stdout",
     "output_type": "stream",
     "text": [
      " estimated tempo: 178.33138331383395\tbeats: 1223 -> 1220\n"
     ]
    },
    {
     "name": "stderr",
     "output_type": "stream",
     "text": [
      "\r",
      " 41%|████      | 518/1276 [02:44<02:59,  4.23it/s]"
     ]
    },
    {
     "name": "stdout",
     "output_type": "stream",
     "text": [
      " estimated tempo: 162.39075274880025\tbeats: 1253 -> 1247\n"
     ]
    },
    {
     "name": "stderr",
     "output_type": "stream",
     "text": [
      "\r",
      " 41%|████      | 519/1276 [02:44<03:03,  4.13it/s]"
     ]
    },
    {
     "name": "stdout",
     "output_type": "stream",
     "text": [
      " estimated tempo: 218.73417721518538\tbeats: 1525 -> 1522\n",
      " estimated tempo: 215.94376464463207"
     ]
    },
    {
     "name": "stderr",
     "output_type": "stream",
     "text": [
      "\r",
      " 41%|████      | 520/1276 [02:44<02:54,  4.34it/s]"
     ]
    },
    {
     "name": "stdout",
     "output_type": "stream",
     "text": [
      "\tbeats: 1527 -> 1524\n"
     ]
    },
    {
     "name": "stderr",
     "output_type": "stream",
     "text": [
      "\r",
      " 41%|████      | 521/1276 [02:45<03:32,  3.55it/s]"
     ]
    },
    {
     "name": "stdout",
     "output_type": "stream",
     "text": [
      " estimated tempo: 154.39254841519755\tbeats: 1665 -> 1663\n"
     ]
    },
    {
     "name": "stderr",
     "output_type": "stream",
     "text": [
      "\r",
      " 41%|████      | 522/1276 [02:45<03:45,  3.35it/s]"
     ]
    },
    {
     "name": "stdout",
     "output_type": "stream",
     "text": [
      " estimated tempo: 195.49668874172173\tbeats: 2009 -> 2004\n"
     ]
    },
    {
     "name": "stderr",
     "output_type": "stream",
     "text": [
      "\r",
      " 41%|████      | 523/1276 [02:45<03:45,  3.33it/s]"
     ]
    },
    {
     "name": "stdout",
     "output_type": "stream",
     "text": [
      " estimated tempo: 175.2697095435676\tbeats: 1786 -> 1784\n"
     ]
    },
    {
     "name": "stderr",
     "output_type": "stream",
     "text": [
      "\r",
      " 41%|████      | 524/1276 [02:45<03:34,  3.50it/s]"
     ]
    },
    {
     "name": "stdout",
     "output_type": "stream",
     "text": [
      " estimated tempo: 158.3400515429854\tbeats: 1736 -> 1734\n"
     ]
    },
    {
     "name": "stderr",
     "output_type": "stream",
     "text": [
      "\r",
      " 41%|████      | 525/1276 [02:46<03:59,  3.13it/s]"
     ]
    },
    {
     "name": "stdout",
     "output_type": "stream",
     "text": [
      " estimated tempo: 163.05934939160687\tbeats: 1776 -> 1775\n"
     ]
    },
    {
     "name": "stderr",
     "output_type": "stream",
     "text": [
      "\r",
      " 41%|████      | 526/1276 [02:46<04:04,  3.07it/s]"
     ]
    },
    {
     "name": "stdout",
     "output_type": "stream",
     "text": [
      " estimated tempo: 164.05421331761892\tbeats: 1754 -> 1752\n"
     ]
    },
    {
     "name": "stderr",
     "output_type": "stream",
     "text": [
      "\r",
      " 41%|████▏     | 527/1276 [02:47<04:10,  2.99it/s]"
     ]
    },
    {
     "name": "stdout",
     "output_type": "stream",
     "text": [
      " estimated tempo: 159.3697761552502\tbeats: 1669 -> 1667\n"
     ]
    },
    {
     "name": "stderr",
     "output_type": "stream",
     "text": [
      "\r",
      " 41%|████▏     | 528/1276 [02:47<03:47,  3.29it/s]"
     ]
    },
    {
     "name": "stdout",
     "output_type": "stream",
     "text": [
      " estimated tempo: 199.43624458994572\tbeats: 1619 -> 1615\n"
     ]
    },
    {
     "name": "stderr",
     "output_type": "stream",
     "text": [
      "\r",
      " 41%|████▏     | 529/1276 [02:47<03:37,  3.44it/s]"
     ]
    },
    {
     "name": "stdout",
     "output_type": "stream",
     "text": [
      " estimated tempo: 211.34921646069245\tbeats: 1762 -> 1757\n"
     ]
    },
    {
     "name": "stderr",
     "output_type": "stream",
     "text": [
      "\r",
      " 42%|████▏     | 530/1276 [02:47<03:51,  3.23it/s]"
     ]
    },
    {
     "name": "stdout",
     "output_type": "stream",
     "text": [
      " estimated tempo: 205.0603941512932\tbeats: 1904 -> 1898\n"
     ]
    },
    {
     "name": "stderr",
     "output_type": "stream",
     "text": [
      "\r",
      " 42%|████▏     | 531/1276 [02:48<03:37,  3.43it/s]"
     ]
    },
    {
     "name": "stdout",
     "output_type": "stream",
     "text": [
      " estimated tempo: 206.123260437376\tbeats: 1636 -> 1632\n"
     ]
    },
    {
     "name": "stderr",
     "output_type": "stream",
     "text": [
      "\r",
      " 42%|████▏     | 532/1276 [02:48<03:34,  3.47it/s]"
     ]
    },
    {
     "name": "stdout",
     "output_type": "stream",
     "text": [
      " estimated tempo: 197.11260827718738\tbeats: 1777 -> 1765\n",
      " estimated tempo: 196.89050611974787"
     ]
    },
    {
     "name": "stderr",
     "output_type": "stream",
     "text": [
      "\r",
      " 42%|████▏     | 533/1276 [02:48<03:15,  3.81it/s]"
     ]
    },
    {
     "name": "stdout",
     "output_type": "stream",
     "text": [
      "\tbeats: 1712 -> 1707\n",
      " estimated tempo: 195.22242137852953\tbeats: 853 -> 844\n"
     ]
    },
    {
     "name": "stderr",
     "output_type": "stream",
     "text": [
      " 42%|████▏     | 537/1276 [02:49<01:55,  6.39it/s]"
     ]
    },
    {
     "name": "stdout",
     "output_type": "stream",
     "text": [
      " estimated tempo: 200.0204269226818\tbeats: 894 -> 887\n",
      " estimated tempo: 200.4308202154107\tbeats: 865 -> 862\n",
      " estimated tempo: 201.49925037481222\tbeats: 924 -> 916\n"
     ]
    },
    {
     "name": "stderr",
     "output_type": "stream",
     "text": [
      "\r",
      " 42%|████▏     | 538/1276 [02:49<01:48,  6.81it/s]"
     ]
    },
    {
     "name": "stdout",
     "output_type": "stream",
     "text": [
      " estimated tempo: 203.6745908493581\tbeats: 1008 -> 1002\n"
     ]
    },
    {
     "name": "stderr",
     "output_type": "stream",
     "text": [
      "\r",
      " 42%|████▏     | 539/1276 [02:49<03:32,  3.47it/s]"
     ]
    },
    {
     "name": "stdout",
     "output_type": "stream",
     "text": [
      " estimated tempo: 235.21994555094057\tbeats: 4721 -> 4715\n"
     ]
    },
    {
     "name": "stderr",
     "output_type": "stream",
     "text": [
      " 42%|████▏     | 542/1276 [02:50<02:31,  4.84it/s]"
     ]
    },
    {
     "name": "stdout",
     "output_type": "stream",
     "text": [
      " estimated tempo: 210.12768175106265\tbeats: 2116 -> 2112\n",
      " estimated tempo: 204.93358633776015\tbeats: 396 -> 390\n",
      " estimated tempo: 201.91204588910065\tbeats: 389 -> 387\n"
     ]
    },
    {
     "name": "stderr",
     "output_type": "stream",
     "text": [
      " 43%|████▎     | 545/1276 [02:50<01:40,  7.31it/s]"
     ]
    },
    {
     "name": "stdout",
     "output_type": "stream",
     "text": [
      " estimated tempo: 202.7894380501028\tbeats: 352 -> 349\n",
      " estimated tempo: 198.85920144100845\tbeats: 389 -> 383\n",
      " estimated tempo: 203.29411764705875\tbeats: 388 -> 385\n",
      " estimated tempo: 209.15032679738312\tbeats: 405 -> 402\n"
     ]
    },
    {
     "name": "stderr",
     "output_type": "stream",
     "text": [
      " 43%|████▎     | 549/1276 [02:50<01:10, 10.26it/s]"
     ]
    },
    {
     "name": "stdout",
     "output_type": "stream",
     "text": [
      " estimated tempo: 191.47275617863863\tbeats: 396 -> 393\n",
      " estimated tempo: 193.77249256767382\tbeats: 374 -> 370\n",
      " estimated tempo: 207.97799174690493\tbeats: 442 -> 435\n"
     ]
    },
    {
     "name": "stderr",
     "output_type": "stream",
     "text": [
      "\r",
      " 43%|████▎     | 551/1276 [02:51<01:18,  9.28it/s]"
     ]
    },
    {
     "name": "stdout",
     "output_type": "stream",
     "text": [
      " estimated tempo: 219.65678627145167\tbeats: 571 -> 562\n",
      " estimated tempo: 199.89321943406324\tbeats: 453 -> 450\n"
     ]
    },
    {
     "name": "stderr",
     "output_type": "stream",
     "text": [
      "\r",
      " 43%|████▎     | 553/1276 [02:51<01:14,  9.71it/s]"
     ]
    },
    {
     "name": "stdout",
     "output_type": "stream",
     "text": [
      " estimated tempo: 211.82461103253394\tbeats: 531 -> 528\n",
      " estimated tempo: 210.7060114620169\tbeats: 555 -> 551\n",
      " estimated tempo: 210.69026548672667\tbeats: 485 -> 480\n"
     ]
    },
    {
     "name": "stderr",
     "output_type": "stream",
     "text": [
      " 44%|████▎     | 557/1276 [02:51<01:04, 11.10it/s]"
     ]
    },
    {
     "name": "stdout",
     "output_type": "stream",
     "text": [
      " estimated tempo: 207.42382271467883\tbeats: 283 -> 278\n",
      " estimated tempo: 205.9078080903094\tbeats: 242 -> 238\n",
      " estimated tempo: 195.12195121951177\tbeats: 258 -> 255\n"
     ]
    },
    {
     "name": "stderr",
     "output_type": "stream",
     "text": [
      "\r",
      " 44%|████▍     | 559/1276 [02:51<01:04, 11.15it/s]"
     ]
    },
    {
     "name": "stdout",
     "output_type": "stream",
     "text": [
      " estimated tempo: 203.6966431827579\tbeats: 404 -> 401\n",
      " estimated tempo: 206.96433289300236\tbeats: 385 -> 382\n",
      " estimated tempo: 198.13267813267768\tbeats: 404 -> 401\n"
     ]
    },
    {
     "name": "stderr",
     "output_type": "stream",
     "text": [
      "\r",
      " 44%|████▍     | 561/1276 [02:52<01:04, 11.05it/s]"
     ]
    },
    {
     "name": "stdout",
     "output_type": "stream",
     "text": [
      " estimated tempo: 220.9315068493162\tbeats: 427 -> 422\n",
      " estimated tempo: 221.00719424460752\tbeats: 457 -> 450\n"
     ]
    },
    {
     "name": "stderr",
     "output_type": "stream",
     "text": [
      " 44%|████▍     | 565/1276 [02:52<01:07, 10.53it/s]"
     ]
    },
    {
     "name": "stdout",
     "output_type": "stream",
     "text": [
      " estimated tempo: 199.48051948051892\tbeats: 415 -> 411\n",
      " estimated tempo: 193.82422802850357\tbeats: 397 -> 394\n",
      " estimated tempo: 204.57774269928723\tbeats: 394 -> 391\n"
     ]
    },
    {
     "name": "stderr",
     "output_type": "stream",
     "text": [
      "\r",
      " 44%|████▍     | 567/1276 [02:52<01:03, 11.18it/s]"
     ]
    },
    {
     "name": "stdout",
     "output_type": "stream",
     "text": [
      " estimated tempo: 207.16940414819013\tbeats: 388 -> 385\n",
      " estimated tempo: 204.95049504950433\tbeats: 327 -> 324\n",
      " estimated tempo: 206.03805980827005\tbeats: 316 -> 313\n"
     ]
    },
    {
     "name": "stderr",
     "output_type": "stream",
     "text": [
      "\r",
      " 45%|████▍     | 569/1276 [02:52<01:05, 10.79it/s]"
     ]
    },
    {
     "name": "stdout",
     "output_type": "stream",
     "text": [
      " estimated tempo: 203.56020942408347\tbeats: 339 -> 336\n",
      " estimated tempo: 203.5048049745563\tbeats: 478 -> 475\n",
      " estimated tempo: 209.13767019667463"
     ]
    },
    {
     "name": "stderr",
     "output_type": "stream",
     "text": [
      "\r",
      " 45%|████▍     | 571/1276 [02:53<01:07, 10.39it/s]"
     ]
    },
    {
     "name": "stdout",
     "output_type": "stream",
     "text": [
      "\tbeats: 443 -> 440\n",
      " estimated tempo: 214.11218055094733\tbeats: 487 -> 484\n"
     ]
    },
    {
     "name": "stderr",
     "output_type": "stream",
     "text": [
      " 45%|████▍     | 574/1276 [02:53<01:14,  9.48it/s]"
     ]
    },
    {
     "name": "stdout",
     "output_type": "stream",
     "text": [
      " estimated tempo: 207.71151178918151\tbeats: 462 -> 459\n",
      " estimated tempo: 217.358490566033\tbeats: 551 -> 543\n",
      " estimated tempo: 220.05730659025573\tbeats: 514 -> 508\n"
     ]
    },
    {
     "name": "stderr",
     "output_type": "stream",
     "text": [
      "\r",
      " 45%|████▌     | 576/1276 [02:53<01:06, 10.49it/s]"
     ]
    },
    {
     "name": "stdout",
     "output_type": "stream",
     "text": [
      " estimated tempo: 221.3357731015545\tbeats: 518 -> 515\n",
      " estimated tempo: 216.82242990654422\tbeats: 542 -> 538\n",
      " estimated tempo: 215.05207309884028"
     ]
    },
    {
     "name": "stderr",
     "output_type": "stream",
     "text": [
      "\r",
      " 45%|████▌     | 578/1276 [02:53<01:08, 10.26it/s]"
     ]
    },
    {
     "name": "stdout",
     "output_type": "stream",
     "text": [
      "\tbeats: 521 -> 517\n",
      " estimated tempo: 212.18328840970455\tbeats: 884 -> 881\n"
     ]
    },
    {
     "name": "stderr",
     "output_type": "stream",
     "text": [
      "\r",
      " 45%|████▌     | 580/1276 [02:54<01:16,  9.05it/s]"
     ]
    },
    {
     "name": "stdout",
     "output_type": "stream",
     "text": [
      " estimated tempo: 206.32835820895482\tbeats: 838 -> 835\n",
      " estimated tempo: 212.59515570934317"
     ]
    },
    {
     "name": "stderr",
     "output_type": "stream",
     "text": [
      " 46%|████▌     | 582/1276 [02:54<01:29,  7.76it/s]"
     ]
    },
    {
     "name": "stdout",
     "output_type": "stream",
     "text": [
      "\tbeats: 843 -> 839\n",
      " estimated tempo: 212.46926081295976\tbeats: 840 -> 837\n"
     ]
    },
    {
     "name": "stderr",
     "output_type": "stream",
     "text": [
      " 46%|████▌     | 584/1276 [02:54<01:30,  7.67it/s]"
     ]
    },
    {
     "name": "stdout",
     "output_type": "stream",
     "text": [
      " estimated tempo: 204.93358633776427\tbeats: 744 -> 741\n",
      " estimated tempo: 200.5909666525948\tbeats: 705 -> 698\n"
     ]
    },
    {
     "name": "stderr",
     "output_type": "stream",
     "text": [
      " 46%|████▌     | 586/1276 [02:54<01:42,  6.76it/s]"
     ]
    },
    {
     "name": "stdout",
     "output_type": "stream",
     "text": [
      " estimated tempo: 217.76937618146877\tbeats: 704 -> 701\n",
      " estimated tempo: 212.0836820083727\tbeats: 843 -> 840\n"
     ]
    },
    {
     "name": "stderr",
     "output_type": "stream",
     "text": [
      " 46%|████▌     | 588/1276 [02:55<01:47,  6.40it/s]"
     ]
    },
    {
     "name": "stdout",
     "output_type": "stream",
     "text": [
      " estimated tempo: 211.4880847308023\tbeats: 709 -> 705\n",
      " estimated tempo: 208.74292185730644\tbeats: 771 -> 767\n"
     ]
    },
    {
     "name": "stderr",
     "output_type": "stream",
     "text": [
      " 46%|████▌     | 590/1276 [02:55<01:36,  7.07it/s]"
     ]
    },
    {
     "name": "stdout",
     "output_type": "stream",
     "text": [
      " estimated tempo: 204.77064220183263\tbeats: 739 -> 724\n",
      " estimated tempo: 213.80846325166954\tbeats: 692 -> 686\n"
     ]
    },
    {
     "name": "stderr",
     "output_type": "stream",
     "text": [
      " 46%|████▋     | 593/1276 [02:55<01:26,  7.87it/s]"
     ]
    },
    {
     "name": "stdout",
     "output_type": "stream",
     "text": [
      " estimated tempo: 190.1560624249802\tbeats: 699 -> 696\n",
      " estimated tempo: 213.07028360049344\tbeats: 496 -> 494\n",
      " estimated tempo: 221.46439317953903\tbeats: 577 -> 574\n"
     ]
    },
    {
     "name": "stderr",
     "output_type": "stream",
     "text": [
      " 47%|████▋     | 595/1276 [02:56<01:19,  8.53it/s]"
     ]
    },
    {
     "name": "stdout",
     "output_type": "stream",
     "text": [
      " estimated tempo: 220.6368206847012\tbeats: 508 -> 506\n",
      " estimated tempo: 213.85587211550865\tbeats: 658 -> 654\n"
     ]
    },
    {
     "name": "stderr",
     "output_type": "stream",
     "text": [
      " 47%|████▋     | 598/1276 [02:56<01:18,  8.63it/s]"
     ]
    },
    {
     "name": "stdout",
     "output_type": "stream",
     "text": [
      " estimated tempo: 201.70523751522651\tbeats: 428 -> 423\n",
      " estimated tempo: 199.59970126960343\tbeats: 413 -> 408\n",
      " estimated tempo: 207.78028284484583\tbeats: 403 -> 399\n"
     ]
    },
    {
     "name": "stderr",
     "output_type": "stream",
     "text": [
      "\r",
      " 47%|████▋     | 600/1276 [02:56<01:16,  8.84it/s]"
     ]
    },
    {
     "name": "stdout",
     "output_type": "stream",
     "text": [
      " estimated tempo: 209.31359353970396\tbeats: 393 -> 382\n",
      " estimated tempo: 201.7649040080817\tbeats: 748 -> 742\n"
     ]
    },
    {
     "name": "stderr",
     "output_type": "stream",
     "text": [
      " 47%|████▋     | 602/1276 [02:56<01:20,  8.41it/s]"
     ]
    },
    {
     "name": "stdout",
     "output_type": "stream",
     "text": [
      " estimated tempo: 207.56756756757025\tbeats: 527 -> 522\n",
      " estimated tempo: 208.46186988367148\tbeats: 511 -> 507\n",
      " estimated tempo: 214.63274811895448\tbeats: 446 -> 443\n"
     ]
    },
    {
     "name": "stderr",
     "output_type": "stream",
     "text": [
      "\r",
      " 47%|████▋     | 604/1276 [02:57<01:51,  6.04it/s]"
     ]
    },
    {
     "name": "stdout",
     "output_type": "stream",
     "text": [
      " estimated tempo: 211.22708039492136\tbeats: 2344 -> 2337\n"
     ]
    },
    {
     "name": "stderr",
     "output_type": "stream",
     "text": [
      "\r",
      " 47%|████▋     | 605/1276 [02:57<02:11,  5.10it/s]"
     ]
    },
    {
     "name": "stdout",
     "output_type": "stream",
     "text": [
      " estimated tempo: 195.78518014955904\tbeats: 2334 -> 2331\n"
     ]
    },
    {
     "name": "stderr",
     "output_type": "stream",
     "text": [
      " 48%|████▊     | 607/1276 [02:58<02:12,  5.03it/s]"
     ]
    },
    {
     "name": "stdout",
     "output_type": "stream",
     "text": [
      " estimated tempo: 175.6384426898979\tbeats: 2244 -> 2242\n",
      " estimated tempo: 203.31803741616602\tbeats: 900 -> 894\n"
     ]
    },
    {
     "name": "stderr",
     "output_type": "stream",
     "text": [
      " 48%|████▊     | 610/1276 [02:58<01:32,  7.22it/s]"
     ]
    },
    {
     "name": "stdout",
     "output_type": "stream",
     "text": [
      " estimated tempo: 198.47810480976352\tbeats: 460 -> 456\n",
      " estimated tempo: 183.93613328705263\tbeats: 723 -> 720\n",
      " estimated tempo: 219.3788256631162\tbeats: 456 -> 454\n",
      " estimated tempo: 204.29154105337886\tbeats: 416 -> 412\n",
      " estimated tempo: 150.6937631394532\tbeats: 238 -> 236\n"
     ]
    },
    {
     "name": "stderr",
     "output_type": "stream",
     "text": [
      "\r",
      " 48%|████▊     | 613/1276 [02:58<01:43,  6.39it/s]"
     ]
    },
    {
     "name": "stdout",
     "output_type": "stream",
     "text": [
      " estimated tempo: 182.8281225202342\tbeats: 2364 -> 2363\n",
      " estimated tempo: 200.5850396991228\tbeats: 808 -> 804\n"
     ]
    },
    {
     "name": "stderr",
     "output_type": "stream",
     "text": [
      " 48%|████▊     | 617/1276 [02:59<01:24,  7.82it/s]"
     ]
    },
    {
     "name": "stdout",
     "output_type": "stream",
     "text": [
      " estimated tempo: 187.86639010085096\tbeats: 918 -> 915\n",
      " estimated tempo: 197.06434168414287\tbeats: 1157 -> 1151\n",
      " estimated tempo: 202.56725866010544\tbeats: 1161 -> 1156\n"
     ]
    },
    {
     "name": "stderr",
     "output_type": "stream",
     "text": [
      " 49%|████▊     | 619/1276 [02:59<01:28,  7.39it/s]"
     ]
    },
    {
     "name": "stdout",
     "output_type": "stream",
     "text": [
      " estimated tempo: 220.58765269065282\tbeats: 960 -> 957\n",
      " estimated tempo: 183.98882012378317\tbeats: 921 -> 915\n"
     ]
    },
    {
     "name": "stderr",
     "output_type": "stream",
     "text": [
      "\r",
      " 49%|████▊     | 621/1276 [02:59<01:23,  7.89it/s]"
     ]
    },
    {
     "name": "stdout",
     "output_type": "stream",
     "text": [
      " estimated tempo: 205.51999160457618\tbeats: 960 -> 956\n",
      " estimated tempo: 182.19895287958\tbeats: 1257 -> 1253\n"
     ]
    },
    {
     "name": "stderr",
     "output_type": "stream",
     "text": [
      " 49%|████▉     | 623/1276 [03:00<01:23,  7.80it/s]"
     ]
    },
    {
     "name": "stdout",
     "output_type": "stream",
     "text": [
      " estimated tempo: 178.88198757764405\tbeats: 1107 -> 1105\n",
      " estimated tempo: 182.1343873517803\tbeats: 681 -> 666\n"
     ]
    },
    {
     "name": "stderr",
     "output_type": "stream",
     "text": [
      " 49%|████▉     | 625/1276 [03:00<01:27,  7.45it/s]"
     ]
    },
    {
     "name": "stdout",
     "output_type": "stream",
     "text": [
      " estimated tempo: 211.52168923571548\tbeats: 1230 -> 1224\n",
      " estimated tempo: 214.539408047887\tbeats: 1266 -> 1263\n"
     ]
    },
    {
     "name": "stderr",
     "output_type": "stream",
     "text": [
      " 49%|████▉     | 628/1276 [03:00<01:13,  8.86it/s]"
     ]
    },
    {
     "name": "stdout",
     "output_type": "stream",
     "text": [
      " estimated tempo: 214.79735853942626\tbeats: 1062 -> 1057\n",
      " estimated tempo: 174.64345873104963\tbeats: 708 -> 704\n",
      " estimated tempo: 199.07834101382505\tbeats: 1004 -> 1001\n",
      " estimated tempo: 169.73734785394018\tbeats: 1214 -> 1209\n"
     ]
    },
    {
     "name": "stderr",
     "output_type": "stream",
     "text": [
      " 50%|████▉     | 632/1276 [03:01<01:18,  8.25it/s]"
     ]
    },
    {
     "name": "stdout",
     "output_type": "stream",
     "text": [
      " estimated tempo: 208.96992133271618\tbeats: 1238 -> 1235\n",
      " estimated tempo: 208.71665827881037\tbeats: 971 -> 965\n",
      " estimated tempo: 198.85145228215677\tbeats: 769 -> 763\n"
     ]
    },
    {
     "name": "stderr",
     "output_type": "stream",
     "text": [
      "\r",
      " 50%|████▉     | 633/1276 [03:01<01:27,  7.38it/s]"
     ]
    },
    {
     "name": "stdout",
     "output_type": "stream",
     "text": [
      " estimated tempo: 191.44162858330102\tbeats: 1353 -> 1350\n"
     ]
    },
    {
     "name": "stderr",
     "output_type": "stream",
     "text": [
      "\r",
      " 50%|████▉     | 634/1276 [03:01<01:59,  5.37it/s]"
     ]
    },
    {
     "name": "stdout",
     "output_type": "stream",
     "text": [
      " estimated tempo: 188.2127913927115\tbeats: 2079 -> 2074\n"
     ]
    },
    {
     "name": "stderr",
     "output_type": "stream",
     "text": [
      "\r",
      " 50%|████▉     | 635/1276 [03:02<02:13,  4.82it/s]"
     ]
    },
    {
     "name": "stdout",
     "output_type": "stream",
     "text": [
      " estimated tempo: 195.4145006839956\tbeats: 1490 -> 1482\n"
     ]
    },
    {
     "name": "stderr",
     "output_type": "stream",
     "text": [
      "\r",
      " 50%|████▉     | 636/1276 [03:02<02:16,  4.69it/s]"
     ]
    },
    {
     "name": "stdout",
     "output_type": "stream",
     "text": [
      " estimated tempo: 211.66969340882522\tbeats: 1344 -> 1341\n"
     ]
    },
    {
     "name": "stderr",
     "output_type": "stream",
     "text": [
      "\r",
      " 50%|████▉     | 637/1276 [03:02<02:48,  3.78it/s]"
     ]
    },
    {
     "name": "stdout",
     "output_type": "stream",
     "text": [
      " estimated tempo: 194.50498848810653\tbeats: 2525 -> 2505\n"
     ]
    },
    {
     "name": "stderr",
     "output_type": "stream",
     "text": [
      "\r",
      " 50%|█████     | 638/1276 [03:03<03:06,  3.42it/s]"
     ]
    },
    {
     "name": "stdout",
     "output_type": "stream",
     "text": [
      " estimated tempo: 208.093804468393\tbeats: 2329 -> 2326\n"
     ]
    },
    {
     "name": "stderr",
     "output_type": "stream",
     "text": [
      "\r",
      " 50%|█████     | 639/1276 [03:03<03:05,  3.44it/s]"
     ]
    },
    {
     "name": "stdout",
     "output_type": "stream",
     "text": [
      " estimated tempo: 201.87758167479734\tbeats: 2442 -> 2435\n"
     ]
    },
    {
     "name": "stderr",
     "output_type": "stream",
     "text": [
      "\r",
      " 50%|█████     | 640/1276 [03:03<03:11,  3.33it/s]"
     ]
    },
    {
     "name": "stdout",
     "output_type": "stream",
     "text": [
      " estimated tempo: 213.36519790888812\tbeats: 2776 -> 2772\n",
      " estimated tempo: 201.9281332164759\tbeats: 508 -> 498\n"
     ]
    },
    {
     "name": "stderr",
     "output_type": "stream",
     "text": [
      "\r",
      " 50%|█████     | 642/1276 [03:05<05:04,  2.08it/s]"
     ]
    },
    {
     "name": "stdout",
     "output_type": "stream",
     "text": [
      " estimated tempo: 171.4569207871612\tbeats: 7509 -> 7507\n"
     ]
    },
    {
     "name": "stderr",
     "output_type": "stream",
     "text": [
      "\r",
      " 50%|█████     | 643/1276 [03:05<04:48,  2.20it/s]"
     ]
    },
    {
     "name": "stdout",
     "output_type": "stream",
     "text": [
      " estimated tempo: 206.79132385938635\tbeats: 2109 -> 2100\n"
     ]
    },
    {
     "name": "stderr",
     "output_type": "stream",
     "text": [
      "\r",
      " 50%|█████     | 644/1276 [03:05<04:07,  2.56it/s]"
     ]
    },
    {
     "name": "stdout",
     "output_type": "stream",
     "text": [
      " estimated tempo: 215.46316188550216\tbeats: 1782 -> 1775\n"
     ]
    },
    {
     "name": "stderr",
     "output_type": "stream",
     "text": [
      "\r",
      " 51%|█████     | 645/1276 [03:06<03:47,  2.78it/s]"
     ]
    },
    {
     "name": "stdout",
     "output_type": "stream",
     "text": [
      " estimated tempo: 186.96629213483317\tbeats: 1579 -> 1575\n"
     ]
    },
    {
     "name": "stderr",
     "output_type": "stream",
     "text": [
      "\r",
      " 51%|█████     | 646/1276 [03:06<03:24,  3.08it/s]"
     ]
    },
    {
     "name": "stdout",
     "output_type": "stream",
     "text": [
      " estimated tempo: 205.17044663977086\tbeats: 1803 -> 1800\n"
     ]
    },
    {
     "name": "stderr",
     "output_type": "stream",
     "text": [
      "\r",
      " 51%|█████     | 647/1276 [03:06<03:13,  3.24it/s]"
     ]
    },
    {
     "name": "stdout",
     "output_type": "stream",
     "text": [
      " estimated tempo: 199.82035000774667\tbeats: 1848 -> 1834\n"
     ]
    },
    {
     "name": "stderr",
     "output_type": "stream",
     "text": [
      "\r",
      " 51%|█████     | 648/1276 [03:06<03:02,  3.44it/s]"
     ]
    },
    {
     "name": "stdout",
     "output_type": "stream",
     "text": [
      " estimated tempo: 206.53927813163585\tbeats: 1996 -> 1980\n"
     ]
    },
    {
     "name": "stderr",
     "output_type": "stream",
     "text": [
      "\r",
      " 51%|█████     | 649/1276 [03:07<03:09,  3.32it/s]"
     ]
    },
    {
     "name": "stdout",
     "output_type": "stream",
     "text": [
      " estimated tempo: 209.57178841308905\tbeats: 2033 -> 2029\n"
     ]
    },
    {
     "name": "stderr",
     "output_type": "stream",
     "text": [
      "\r",
      " 51%|█████     | 650/1276 [03:07<03:00,  3.47it/s]"
     ]
    },
    {
     "name": "stdout",
     "output_type": "stream",
     "text": [
      " estimated tempo: 207.49833222147296\tbeats: 1936 -> 1932\n"
     ]
    },
    {
     "name": "stderr",
     "output_type": "stream",
     "text": [
      "\r",
      " 51%|█████     | 651/1276 [03:07<03:02,  3.43it/s]"
     ]
    },
    {
     "name": "stdout",
     "output_type": "stream",
     "text": [
      " estimated tempo: 202.89933613332317\tbeats: 1974 -> 1971\n"
     ]
    },
    {
     "name": "stderr",
     "output_type": "stream",
     "text": [
      "\r",
      " 51%|█████     | 652/1276 [03:08<03:09,  3.30it/s]"
     ]
    },
    {
     "name": "stdout",
     "output_type": "stream",
     "text": [
      " estimated tempo: 206.33605731557108\tbeats: 1898 -> 1895\n"
     ]
    },
    {
     "name": "stderr",
     "output_type": "stream",
     "text": [
      "\r",
      " 51%|█████     | 653/1276 [03:08<02:58,  3.49it/s]"
     ]
    },
    {
     "name": "stdout",
     "output_type": "stream",
     "text": [
      " estimated tempo: 195.07789568751065\tbeats: 1739 -> 1738\n"
     ]
    },
    {
     "name": "stderr",
     "output_type": "stream",
     "text": [
      "\r",
      " 51%|█████▏    | 654/1276 [03:08<03:04,  3.37it/s]"
     ]
    },
    {
     "name": "stdout",
     "output_type": "stream",
     "text": [
      " estimated tempo: 202.55538623842514\tbeats: 2100 -> 2097\n"
     ]
    },
    {
     "name": "stderr",
     "output_type": "stream",
     "text": [
      "\r",
      " 51%|█████▏    | 655/1276 [03:08<03:00,  3.44it/s]"
     ]
    },
    {
     "name": "stdout",
     "output_type": "stream",
     "text": [
      " estimated tempo: 202.39458615304676\tbeats: 1808 -> 1805\n"
     ]
    },
    {
     "name": "stderr",
     "output_type": "stream",
     "text": [
      "\r",
      " 51%|█████▏    | 656/1276 [03:09<03:02,  3.41it/s]"
     ]
    },
    {
     "name": "stdout",
     "output_type": "stream",
     "text": [
      " estimated tempo: 186.91510520255096\tbeats: 1810 -> 1806\n"
     ]
    },
    {
     "name": "stderr",
     "output_type": "stream",
     "text": [
      "\r",
      " 51%|█████▏    | 657/1276 [03:09<03:03,  3.37it/s]"
     ]
    },
    {
     "name": "stdout",
     "output_type": "stream",
     "text": [
      " estimated tempo: 205.58317399618093\tbeats: 1985 -> 1982\n"
     ]
    },
    {
     "name": "stderr",
     "output_type": "stream",
     "text": [
      "\r",
      " 52%|█████▏    | 658/1276 [03:09<03:03,  3.37it/s]"
     ]
    },
    {
     "name": "stdout",
     "output_type": "stream",
     "text": [
      " estimated tempo: 200.4723430702351\tbeats: 1894 -> 1891\n"
     ]
    },
    {
     "name": "stderr",
     "output_type": "stream",
     "text": [
      "\r",
      " 52%|█████▏    | 659/1276 [03:09<02:46,  3.70it/s]"
     ]
    },
    {
     "name": "stdout",
     "output_type": "stream",
     "text": [
      " estimated tempo: 198.91748298190421\tbeats: 1441 -> 1438\n"
     ]
    },
    {
     "name": "stderr",
     "output_type": "stream",
     "text": [
      "\r",
      " 52%|█████▏    | 660/1276 [03:10<02:45,  3.73it/s]"
     ]
    },
    {
     "name": "stdout",
     "output_type": "stream",
     "text": [
      " estimated tempo: 194.0650511856962\tbeats: 1355 -> 1352\n"
     ]
    },
    {
     "name": "stderr",
     "output_type": "stream",
     "text": [
      "\r",
      " 52%|█████▏    | 661/1276 [03:10<03:10,  3.23it/s]"
     ]
    },
    {
     "name": "stdout",
     "output_type": "stream",
     "text": [
      " estimated tempo: 194.78260869565048\tbeats: 2240 -> 2234\n"
     ]
    },
    {
     "name": "stderr",
     "output_type": "stream",
     "text": [
      "\r",
      " 52%|█████▏    | 662/1276 [03:10<03:18,  3.09it/s]"
     ]
    },
    {
     "name": "stdout",
     "output_type": "stream",
     "text": [
      " estimated tempo: 199.45799457994448\tbeats: 2120 -> 2117\n"
     ]
    },
    {
     "name": "stderr",
     "output_type": "stream",
     "text": [
      "\r",
      " 52%|█████▏    | 663/1276 [03:11<03:17,  3.10it/s]"
     ]
    },
    {
     "name": "stdout",
     "output_type": "stream",
     "text": [
      " estimated tempo: 197.0132844709129\tbeats: 2271 -> 2268\n"
     ]
    },
    {
     "name": "stderr",
     "output_type": "stream",
     "text": [
      "\r",
      " 52%|█████▏    | 664/1276 [03:11<03:32,  2.87it/s]"
     ]
    },
    {
     "name": "stdout",
     "output_type": "stream",
     "text": [
      " estimated tempo: 198.72776280323603\tbeats: 2066 -> 2063\n"
     ]
    },
    {
     "name": "stderr",
     "output_type": "stream",
     "text": [
      "\r",
      " 52%|█████▏    | 665/1276 [03:12<03:26,  2.96it/s]"
     ]
    },
    {
     "name": "stdout",
     "output_type": "stream",
     "text": [
      " estimated tempo: 204.75863461926673\tbeats: 2137 -> 2134\n"
     ]
    },
    {
     "name": "stderr",
     "output_type": "stream",
     "text": [
      "\r",
      " 52%|█████▏    | 666/1276 [03:12<03:13,  3.16it/s]"
     ]
    },
    {
     "name": "stdout",
     "output_type": "stream",
     "text": [
      " estimated tempo: 192.42761692650666\tbeats: 2135 -> 2131\n"
     ]
    },
    {
     "name": "stderr",
     "output_type": "stream",
     "text": [
      "\r",
      " 52%|█████▏    | 667/1276 [03:12<03:11,  3.19it/s]"
     ]
    },
    {
     "name": "stdout",
     "output_type": "stream",
     "text": [
      " estimated tempo: 191.92730026505112\tbeats: 2085 -> 2082\n"
     ]
    },
    {
     "name": "stderr",
     "output_type": "stream",
     "text": [
      "\r",
      " 52%|█████▏    | 668/1276 [03:12<02:57,  3.42it/s]"
     ]
    },
    {
     "name": "stdout",
     "output_type": "stream",
     "text": [
      " estimated tempo: 192.61529887140625\tbeats: 2107 -> 2104\n"
     ]
    },
    {
     "name": "stderr",
     "output_type": "stream",
     "text": [
      "\r",
      " 52%|█████▏    | 669/1276 [03:13<03:04,  3.28it/s]"
     ]
    },
    {
     "name": "stdout",
     "output_type": "stream",
     "text": [
      " estimated tempo: 206.8965517241382\tbeats: 2176 -> 2173\n"
     ]
    },
    {
     "name": "stderr",
     "output_type": "stream",
     "text": [
      "\r",
      " 53%|█████▎    | 670/1276 [03:13<03:01,  3.34it/s]"
     ]
    },
    {
     "name": "stdout",
     "output_type": "stream",
     "text": [
      " estimated tempo: 198.95444361464038\tbeats: 2075 -> 2072\n"
     ]
    },
    {
     "name": "stderr",
     "output_type": "stream",
     "text": [
      "\r",
      " 53%|█████▎    | 671/1276 [03:13<03:05,  3.26it/s]"
     ]
    },
    {
     "name": "stdout",
     "output_type": "stream",
     "text": [
      " estimated tempo: 182.8124999999996\tbeats: 1996 -> 1994\n"
     ]
    },
    {
     "name": "stderr",
     "output_type": "stream",
     "text": [
      "\r",
      " 53%|█████▎    | 672/1276 [03:14<04:11,  2.40it/s]"
     ]
    },
    {
     "name": "stdout",
     "output_type": "stream",
     "text": [
      " estimated tempo: 206.5611563443357\tbeats: 4969 -> 4964\n"
     ]
    },
    {
     "name": "stderr",
     "output_type": "stream",
     "text": [
      "\r",
      " 53%|█████▎    | 673/1276 [03:15<05:28,  1.83it/s]"
     ]
    },
    {
     "name": "stdout",
     "output_type": "stream",
     "text": [
      " estimated tempo: 194.7450768815728\tbeats: 4742 -> 4739\n"
     ]
    },
    {
     "name": "stderr",
     "output_type": "stream",
     "text": [
      "\r",
      " 53%|█████▎    | 674/1276 [03:15<05:33,  1.81it/s]"
     ]
    },
    {
     "name": "stdout",
     "output_type": "stream",
     "text": [
      " estimated tempo: 178.99779878285446\tbeats: 3363 -> 3361\n"
     ]
    },
    {
     "name": "stderr",
     "output_type": "stream",
     "text": [
      "\r",
      " 53%|█████▎    | 675/1276 [03:16<06:22,  1.57it/s]"
     ]
    },
    {
     "name": "stdout",
     "output_type": "stream",
     "text": [
      " estimated tempo: 201.69979937990774\tbeats: 5421 -> 5418\n"
     ]
    },
    {
     "name": "stderr",
     "output_type": "stream",
     "text": [
      "\r",
      " 53%|█████▎    | 676/1276 [03:17<05:23,  1.85it/s]"
     ]
    },
    {
     "name": "stdout",
     "output_type": "stream",
     "text": [
      " estimated tempo: 209.51938704434428\tbeats: 1722 -> 1718\n",
      " estimated tempo: 197.55344689607867\tbeats: 510 -> 507\n"
     ]
    },
    {
     "name": "stderr",
     "output_type": "stream",
     "text": [
      "\r",
      " 53%|█████▎    | 678/1276 [03:17<03:46,  2.63it/s]"
     ]
    },
    {
     "name": "stdout",
     "output_type": "stream",
     "text": [
      " estimated tempo: 201.28369704749147\tbeats: 2576 -> 2573\n"
     ]
    },
    {
     "name": "stderr",
     "output_type": "stream",
     "text": [
      "\r",
      " 53%|█████▎    | 679/1276 [03:18<05:02,  1.97it/s]"
     ]
    },
    {
     "name": "stdout",
     "output_type": "stream",
     "text": [
      " estimated tempo: 201.19481599556352\tbeats: 5503 -> 5497\n"
     ]
    },
    {
     "name": "stderr",
     "output_type": "stream",
     "text": [
      "\r",
      " 53%|█████▎    | 680/1276 [03:19<06:17,  1.58it/s]"
     ]
    },
    {
     "name": "stdout",
     "output_type": "stream",
     "text": [
      " estimated tempo: 201.68307967770372\tbeats: 5407 -> 5401\n"
     ]
    },
    {
     "name": "stderr",
     "output_type": "stream",
     "text": [
      "\r",
      " 53%|█████▎    | 681/1276 [03:20<06:31,  1.52it/s]"
     ]
    },
    {
     "name": "stdout",
     "output_type": "stream",
     "text": [
      " estimated tempo: 207.7268367542702\tbeats: 5372 -> 5369\n"
     ]
    },
    {
     "name": "stderr",
     "output_type": "stream",
     "text": [
      "\r",
      " 53%|█████▎    | 682/1276 [03:20<06:36,  1.50it/s]"
     ]
    },
    {
     "name": "stdout",
     "output_type": "stream",
     "text": [
      " estimated tempo: 204.19497784342903\tbeats: 4966 -> 4963\n"
     ]
    },
    {
     "name": "stderr",
     "output_type": "stream",
     "text": [
      "\r",
      " 54%|█████▎    | 683/1276 [03:20<05:23,  1.83it/s]"
     ]
    },
    {
     "name": "stdout",
     "output_type": "stream",
     "text": [
      " estimated tempo: 210.59794337945794\tbeats: 1856 -> 1853\n"
     ]
    },
    {
     "name": "stderr",
     "output_type": "stream",
     "text": [
      "\r",
      " 54%|█████▎    | 684/1276 [03:21<04:27,  2.22it/s]"
     ]
    },
    {
     "name": "stdout",
     "output_type": "stream",
     "text": [
      " estimated tempo: 214.6909090908988\tbeats: 1819 -> 1812\n"
     ]
    },
    {
     "name": "stderr",
     "output_type": "stream",
     "text": [
      " 54%|█████▍    | 687/1276 [03:22<03:15,  3.01it/s]"
     ]
    },
    {
     "name": "stdout",
     "output_type": "stream",
     "text": [
      " estimated tempo: 200.17376194613317\tbeats: 4811 -> 4808\n",
      " estimated tempo: 177.74349083895817\tbeats: 836 -> 834\n",
      " estimated tempo: 224.71197805547217\tbeats: 438 -> 436\n"
     ]
    },
    {
     "name": "stderr",
     "output_type": "stream",
     "text": [
      "\r",
      " 54%|█████▍    | 688/1276 [03:22<02:49,  3.47it/s]"
     ]
    },
    {
     "name": "stdout",
     "output_type": "stream",
     "text": [
      " estimated tempo: 208.3880477019954\tbeats: 1061 -> 1056\n"
     ]
    },
    {
     "name": "stderr",
     "output_type": "stream",
     "text": [
      "\r",
      " 54%|█████▍    | 689/1276 [03:22<03:34,  2.74it/s]"
     ]
    },
    {
     "name": "stdout",
     "output_type": "stream",
     "text": [
      " estimated tempo: 218.15973979038037\tbeats: 5188 -> 5185\n"
     ]
    },
    {
     "name": "stderr",
     "output_type": "stream",
     "text": [
      "\r",
      " 54%|█████▍    | 690/1276 [03:23<04:43,  2.07it/s]"
     ]
    },
    {
     "name": "stdout",
     "output_type": "stream",
     "text": [
      " estimated tempo: 211.00741386832829\tbeats: 4800 -> 4795\n",
      " estimated tempo: 202.59397669817497"
     ]
    },
    {
     "name": "stderr",
     "output_type": "stream",
     "text": [
      "\r",
      " 54%|█████▍    | 691/1276 [03:23<03:50,  2.54it/s]"
     ]
    },
    {
     "name": "stdout",
     "output_type": "stream",
     "text": [
      "\tbeats: 1112 -> 1108\n"
     ]
    },
    {
     "name": "stderr",
     "output_type": "stream",
     "text": [
      " 54%|█████▍    | 693/1276 [03:24<02:46,  3.50it/s]"
     ]
    },
    {
     "name": "stdout",
     "output_type": "stream",
     "text": [
      " estimated tempo: 206.78459937565034\tbeats: 1138 -> 1130\n",
      " estimated tempo: 209.44608298654697\tbeats: 1581 -> 1578\n"
     ]
    },
    {
     "name": "stderr",
     "output_type": "stream",
     "text": [
      "\r",
      " 54%|█████▍    | 694/1276 [03:24<02:51,  3.39it/s]"
     ]
    },
    {
     "name": "stdout",
     "output_type": "stream",
     "text": [
      " estimated tempo: 208.89702212610104\tbeats: 2507 -> 2503\n"
     ]
    },
    {
     "name": "stderr",
     "output_type": "stream",
     "text": [
      "\r",
      " 54%|█████▍    | 695/1276 [03:24<02:44,  3.52it/s]"
     ]
    },
    {
     "name": "stdout",
     "output_type": "stream",
     "text": [
      " estimated tempo: 226.14015065053496\tbeats: 3231 -> 3227\n"
     ]
    },
    {
     "name": "stderr",
     "output_type": "stream",
     "text": [
      "\r",
      " 55%|█████▍    | 696/1276 [03:25<02:44,  3.52it/s]"
     ]
    },
    {
     "name": "stdout",
     "output_type": "stream",
     "text": [
      " estimated tempo: 207.28027681660956\tbeats: 1812 -> 1796\n",
      " estimated tempo: 208.58369098711876"
     ]
    },
    {
     "name": "stderr",
     "output_type": "stream",
     "text": [
      "\r",
      " 55%|█████▍    | 697/1276 [03:25<02:30,  3.85it/s]"
     ]
    },
    {
     "name": "stdout",
     "output_type": "stream",
     "text": [
      "\tbeats: 1170 -> 1166\n"
     ]
    },
    {
     "name": "stderr",
     "output_type": "stream",
     "text": [
      "\r",
      " 55%|█████▍    | 698/1276 [03:25<02:23,  4.03it/s]"
     ]
    },
    {
     "name": "stdout",
     "output_type": "stream",
     "text": [
      " estimated tempo: 221.8584496870495\tbeats: 856 -> 853\n",
      " estimated tempo: 197.8778224130774"
     ]
    },
    {
     "name": "stderr",
     "output_type": "stream",
     "text": [
      "\r",
      " 55%|█████▍    | 699/1276 [03:25<02:14,  4.29it/s]"
     ]
    },
    {
     "name": "stdout",
     "output_type": "stream",
     "text": [
      "\tbeats: 1397 -> 1390\n"
     ]
    },
    {
     "name": "stderr",
     "output_type": "stream",
     "text": [
      " 55%|█████▍    | 701/1276 [03:25<01:53,  5.06it/s]"
     ]
    },
    {
     "name": "stdout",
     "output_type": "stream",
     "text": [
      " estimated tempo: 172.95639674173182\tbeats: 1557 -> 1553\n",
      " estimated tempo: 213.14664333041583\tbeats: 1096 -> 1093\n",
      " estimated tempo: 200.59202507400175\tbeats: 1069 -> 1065\n"
     ]
    },
    {
     "name": "stderr",
     "output_type": "stream",
     "text": [
      " 55%|█████▌    | 704/1276 [03:26<02:17,  4.17it/s]"
     ]
    },
    {
     "name": "stdout",
     "output_type": "stream",
     "text": [
      " estimated tempo: 195.76686238006621\tbeats: 4065 -> 4058\n",
      " estimated tempo: 197.28440366972347\tbeats: 1186 -> 1183\n"
     ]
    },
    {
     "name": "stderr",
     "output_type": "stream",
     "text": [
      " 55%|█████▌    | 706/1276 [03:27<01:55,  4.95it/s]"
     ]
    },
    {
     "name": "stdout",
     "output_type": "stream",
     "text": [
      " estimated tempo: 214.6007451414768\tbeats: 1046 -> 1037\n",
      " estimated tempo: 199.44454463480315\tbeats: 1120 -> 1108\n"
     ]
    },
    {
     "name": "stderr",
     "output_type": "stream",
     "text": [
      "\r",
      " 55%|█████▌    | 707/1276 [03:27<01:54,  4.99it/s]"
     ]
    },
    {
     "name": "stdout",
     "output_type": "stream",
     "text": [
      " estimated tempo: 215.0807034449524\tbeats: 933 -> 927\n",
      " estimated tempo: 189.57761930883234\tbeats: 553 -> 542\n",
      " estimated tempo: 208.21439700841853"
     ]
    },
    {
     "name": "stderr",
     "output_type": "stream",
     "text": [
      "\r",
      " 56%|█████▌    | 709/1276 [03:27<01:28,  6.44it/s]"
     ]
    },
    {
     "name": "stdout",
     "output_type": "stream",
     "text": [
      "\tbeats: 1161 -> 1158\n"
     ]
    },
    {
     "name": "stderr",
     "output_type": "stream",
     "text": [
      "\r",
      " 56%|█████▌    | 710/1276 [03:27<02:05,  4.52it/s]"
     ]
    },
    {
     "name": "stdout",
     "output_type": "stream",
     "text": [
      " estimated tempo: 214.1107871720105\tbeats: 2456 -> 2453\n",
      " estimated tempo: 187.14801444043013\tbeats: 539 -> 536\n"
     ]
    },
    {
     "name": "stderr",
     "output_type": "stream",
     "text": [
      "\r",
      " 56%|█████▌    | 712/1276 [03:28<01:56,  4.86it/s]"
     ]
    },
    {
     "name": "stdout",
     "output_type": "stream",
     "text": [
      " estimated tempo: 212.00131449227763\tbeats: 2251 -> 2246\n"
     ]
    },
    {
     "name": "stderr",
     "output_type": "stream",
     "text": [
      "\r",
      " 56%|█████▌    | 713/1276 [03:28<01:57,  4.80it/s]"
     ]
    },
    {
     "name": "stdout",
     "output_type": "stream",
     "text": [
      " estimated tempo: 194.32602361600883\tbeats: 2392 -> 2389\n"
     ]
    },
    {
     "name": "stderr",
     "output_type": "stream",
     "text": [
      "\r",
      " 56%|█████▌    | 714/1276 [03:28<02:16,  4.12it/s]"
     ]
    },
    {
     "name": "stdout",
     "output_type": "stream",
     "text": [
      " estimated tempo: 209.0557505801126\tbeats: 2478 -> 2475\n",
      " estimated tempo: 216.77149577489328\tbeats: 476 -> 473\n",
      " estimated tempo: 234.59932797067586\tbeats: 489 -> 486\n",
      " estimated tempo: 218.01960121662708\tbeats: 1038 -> 1032\n"
     ]
    },
    {
     "name": "stderr",
     "output_type": "stream",
     "text": [
      " 56%|█████▋    | 718/1276 [03:29<02:32,  3.66it/s]"
     ]
    },
    {
     "name": "stdout",
     "output_type": "stream",
     "text": [
      " estimated tempo: 203.7993344846512\tbeats: 4500 -> 4494\n"
     ]
    },
    {
     "name": "stderr",
     "output_type": "stream",
     "text": [
      "\r",
      " 56%|█████▋    | 719/1276 [03:30<02:32,  3.66it/s]"
     ]
    },
    {
     "name": "stdout",
     "output_type": "stream",
     "text": [
      " estimated tempo: 223.25270128965192\tbeats: 3056 -> 3054\n",
      " estimated tempo: 234.86847220422487\tbeats: 661 -> 652\n"
     ]
    },
    {
     "name": "stderr",
     "output_type": "stream",
     "text": [
      "\r",
      " 57%|█████▋    | 721/1276 [03:30<02:28,  3.73it/s]"
     ]
    },
    {
     "name": "stdout",
     "output_type": "stream",
     "text": [
      " estimated tempo: 198.25914280986441\tbeats: 3201 -> 3196\n"
     ]
    },
    {
     "name": "stderr",
     "output_type": "stream",
     "text": [
      "\r",
      " 57%|█████▋    | 722/1276 [03:30<02:32,  3.63it/s]"
     ]
    },
    {
     "name": "stdout",
     "output_type": "stream",
     "text": [
      " estimated tempo: 202.03917838352237\tbeats: 2668 -> 2664\n",
      " estimated tempo: 232.97283038776084\tbeats: 509 -> 499\n"
     ]
    },
    {
     "name": "stderr",
     "output_type": "stream",
     "text": [
      "\r",
      " 57%|█████▋    | 724/1276 [03:31<02:12,  4.18it/s]"
     ]
    },
    {
     "name": "stdout",
     "output_type": "stream",
     "text": [
      " estimated tempo: 228.8512089896693\tbeats: 2995 -> 2992\n"
     ]
    },
    {
     "name": "stderr",
     "output_type": "stream",
     "text": [
      "\r",
      " 57%|█████▋    | 725/1276 [03:31<02:25,  3.79it/s]"
     ]
    },
    {
     "name": "stdout",
     "output_type": "stream",
     "text": [
      " estimated tempo: 233.2342388518726\tbeats: 2851 -> 2846\n"
     ]
    },
    {
     "name": "stderr",
     "output_type": "stream",
     "text": [
      " 57%|█████▋    | 727/1276 [03:32<02:16,  4.03it/s]"
     ]
    },
    {
     "name": "stdout",
     "output_type": "stream",
     "text": [
      " estimated tempo: 238.40034401204747\tbeats: 3063 -> 3058\n",
      " estimated tempo: 216.76508883195646\tbeats: 1614 -> 1608\n"
     ]
    },
    {
     "name": "stderr",
     "output_type": "stream",
     "text": [
      "\r",
      " 57%|█████▋    | 728/1276 [03:32<02:47,  3.26it/s]"
     ]
    },
    {
     "name": "stdout",
     "output_type": "stream",
     "text": [
      " estimated tempo: 197.4746077273475\tbeats: 3131 -> 3128\n",
      " estimated tempo: 238.37644249899824\tbeats: 1056 -> 1051\n"
     ]
    },
    {
     "name": "stderr",
     "output_type": "stream",
     "text": [
      "\r",
      " 57%|█████▋    | 730/1276 [03:33<02:43,  3.35it/s]"
     ]
    },
    {
     "name": "stdout",
     "output_type": "stream",
     "text": [
      " estimated tempo: 210.76740640352418\tbeats: 3834 -> 3831\n"
     ]
    },
    {
     "name": "stderr",
     "output_type": "stream",
     "text": [
      "\r",
      " 57%|█████▋    | 731/1276 [03:33<03:41,  2.46it/s]"
     ]
    },
    {
     "name": "stdout",
     "output_type": "stream",
     "text": [
      " estimated tempo: 204.57923776811162\tbeats: 4387 -> 4384\n"
     ]
    },
    {
     "name": "stderr",
     "output_type": "stream",
     "text": [
      "\r",
      " 57%|█████▋    | 732/1276 [03:34<03:28,  2.61it/s]"
     ]
    },
    {
     "name": "stdout",
     "output_type": "stream",
     "text": [
      " estimated tempo: 224.52008586323572\tbeats: 4242 -> 4239\n"
     ]
    },
    {
     "name": "stderr",
     "output_type": "stream",
     "text": [
      " 58%|█████▊    | 735/1276 [03:34<02:10,  4.15it/s]"
     ]
    },
    {
     "name": "stdout",
     "output_type": "stream",
     "text": [
      " estimated tempo: 227.3378977043956\tbeats: 1716 -> 1711\n",
      " estimated tempo: 208.98714392837482\tbeats: 1014 -> 1009\n",
      " estimated tempo: 150.10629786261387\tbeats: 808 -> 806\n"
     ]
    },
    {
     "name": "stderr",
     "output_type": "stream",
     "text": [
      " 58%|█████▊    | 738/1276 [03:35<01:27,  6.13it/s]"
     ]
    },
    {
     "name": "stdout",
     "output_type": "stream",
     "text": [
      " estimated tempo: 223.08663803991018\tbeats: 1159 -> 1156\n",
      " estimated tempo: 168.35242043139198\tbeats: 837 -> 833\n",
      " estimated tempo: 242.61061585016702\tbeats: 922 -> 917\n"
     ]
    },
    {
     "name": "stderr",
     "output_type": "stream",
     "text": [
      "\r",
      " 58%|█████▊    | 740/1276 [03:35<01:08,  7.77it/s]"
     ]
    },
    {
     "name": "stdout",
     "output_type": "stream",
     "text": [
      " estimated tempo: 211.79749187180772\tbeats: 749 -> 744\n",
      " estimated tempo: 238.71953792346923\tbeats: 694 -> 686\n"
     ]
    },
    {
     "name": "stderr",
     "output_type": "stream",
     "text": [
      "\r",
      " 58%|█████▊    | 742/1276 [03:35<01:14,  7.14it/s]"
     ]
    },
    {
     "name": "stdout",
     "output_type": "stream",
     "text": [
      " estimated tempo: 199.87165775401024\tbeats: 1053 -> 1050\n",
      " estimated tempo: 200.97798280561923\tbeats: 1016 -> 1012\n"
     ]
    },
    {
     "name": "stderr",
     "output_type": "stream",
     "text": [
      " 58%|█████▊    | 745/1276 [03:35<00:58,  9.12it/s]"
     ]
    },
    {
     "name": "stdout",
     "output_type": "stream",
     "text": [
      " estimated tempo: 199.98541189514071\tbeats: 1030 -> 1027\n",
      " estimated tempo: 210.2878539667677\tbeats: 845 -> 844\n",
      " estimated tempo: 211.43676512761542\tbeats: 781 -> 774\n"
     ]
    },
    {
     "name": "stderr",
     "output_type": "stream",
     "text": [
      " 59%|█████▊    | 749/1276 [03:36<00:47, 11.08it/s]"
     ]
    },
    {
     "name": "stdout",
     "output_type": "stream",
     "text": [
      " estimated tempo: 221.34927412468068\tbeats: 871 -> 868\n",
      " estimated tempo: 210.74777040933026\tbeats: 858 -> 855\n",
      " estimated tempo: 227.57803239825958\tbeats: 917 -> 911\n",
      " estimated tempo: 213.77112168711116\tbeats: 804 -> 801\n"
     ]
    },
    {
     "name": "stderr",
     "output_type": "stream",
     "text": [
      "\r",
      " 59%|█████▉    | 751/1276 [03:36<00:46, 11.40it/s]"
     ]
    },
    {
     "name": "stdout",
     "output_type": "stream",
     "text": [
      " estimated tempo: 216.0415464512423\tbeats: 781 -> 774\n",
      " estimated tempo: 230.70355731225325\tbeats: 896 -> 890\n",
      " estimated tempo: 249.54956707850974\tbeats: 865 -> 861\n"
     ]
    },
    {
     "name": "stderr",
     "output_type": "stream",
     "text": [
      "\r",
      " 59%|█████▉    | 753/1276 [03:36<00:41, 12.54it/s]"
     ]
    },
    {
     "name": "stdout",
     "output_type": "stream",
     "text": [
      " estimated tempo: 223.88692579505155\tbeats: 704 -> 701\n",
      " estimated tempo: 219.59027266028008\tbeats: 1272 -> 1269\n"
     ]
    },
    {
     "name": "stderr",
     "output_type": "stream",
     "text": [
      " 59%|█████▉    | 757/1276 [03:36<00:46, 11.18it/s]"
     ]
    },
    {
     "name": "stdout",
     "output_type": "stream",
     "text": [
      " estimated tempo: 226.18726224076465\tbeats: 1308 -> 1305\n",
      " estimated tempo: 224.68654221231657\tbeats: 838 -> 835\n",
      " estimated tempo: 226.55928076418786\tbeats: 849 -> 845\n"
     ]
    },
    {
     "name": "stderr",
     "output_type": "stream",
     "text": [
      "\r",
      " 59%|█████▉    | 759/1276 [03:37<00:52,  9.92it/s]"
     ]
    },
    {
     "name": "stdout",
     "output_type": "stream",
     "text": [
      " estimated tempo: 208.62366333218307\tbeats: 885 -> 882\n",
      " estimated tempo: 208.15515268325308\tbeats: 1458 -> 1455\n"
     ]
    },
    {
     "name": "stderr",
     "output_type": "stream",
     "text": [
      "\r",
      " 60%|█████▉    | 761/1276 [03:37<00:49, 10.42it/s]"
     ]
    },
    {
     "name": "stdout",
     "output_type": "stream",
     "text": [
      " estimated tempo: 159.55678670359308\tbeats: 835 -> 832\n",
      " estimated tempo: 148.95405218194665\tbeats: 785 -> 783\n",
      " estimated tempo: 143.74085182963586\tbeats: 845 -> 843\n"
     ]
    },
    {
     "name": "stderr",
     "output_type": "stream",
     "text": [
      "\r",
      " 60%|█████▉    | 763/1276 [03:37<00:53,  9.57it/s]"
     ]
    },
    {
     "name": "stdout",
     "output_type": "stream",
     "text": [
      " estimated tempo: 147.2566371681404\tbeats: 829 -> 827\n",
      " estimated tempo: 188.45296855168414\tbeats: 1136 -> 1130\n"
     ]
    },
    {
     "name": "stderr",
     "output_type": "stream",
     "text": [
      " 60%|██████    | 767/1276 [03:37<00:53,  9.52it/s]"
     ]
    },
    {
     "name": "stdout",
     "output_type": "stream",
     "text": [
      " estimated tempo: 232.27757708140814\tbeats: 902 -> 899\n",
      " estimated tempo: 229.4281170043562\tbeats: 917 -> 914\n",
      " estimated tempo: 222.19863656774302\tbeats: 957 -> 954\n"
     ]
    },
    {
     "name": "stderr",
     "output_type": "stream",
     "text": [
      "\r",
      " 60%|██████    | 769/1276 [03:38<00:48, 10.36it/s]"
     ]
    },
    {
     "name": "stdout",
     "output_type": "stream",
     "text": [
      " estimated tempo: 182.12503849707414\tbeats: 724 -> 722\n",
      " estimated tempo: 228.38097974429186\tbeats: 777 -> 771\n",
      " estimated tempo: 208.24889396318073\tbeats: 728 -> 725\n"
     ]
    },
    {
     "name": "stderr",
     "output_type": "stream",
     "text": [
      " 61%|██████    | 773/1276 [03:38<00:45, 10.95it/s]"
     ]
    },
    {
     "name": "stdout",
     "output_type": "stream",
     "text": [
      " estimated tempo: 221.93155893536857\tbeats: 750 -> 747\n",
      " estimated tempo: 199.04226401042615\tbeats: 1089 -> 1086\n",
      " estimated tempo: 229.2162188696528\tbeats: 796 -> 793\n"
     ]
    },
    {
     "name": "stderr",
     "output_type": "stream",
     "text": [
      "\r",
      " 61%|██████    | 775/1276 [03:38<00:47, 10.53it/s]"
     ]
    },
    {
     "name": "stdout",
     "output_type": "stream",
     "text": [
      " estimated tempo: 227.08829568788468\tbeats: 681 -> 678\n",
      " estimated tempo: 231.5340442986061\tbeats: 755 -> 752\n",
      " estimated tempo: 217.29182640699295\tbeats: 789 -> 786\n"
     ]
    },
    {
     "name": "stderr",
     "output_type": "stream",
     "text": [
      "\r",
      " 61%|██████    | 777/1276 [03:38<00:45, 11.07it/s]"
     ]
    },
    {
     "name": "stdout",
     "output_type": "stream",
     "text": [
      " estimated tempo: 216.32448673009557\tbeats: 761 -> 758\n",
      " estimated tempo: 229.85670233992298\tbeats: 746 -> 742\n"
     ]
    },
    {
     "name": "stderr",
     "output_type": "stream",
     "text": [
      "\r",
      " 61%|██████    | 779/1276 [03:39<00:53,  9.27it/s]"
     ]
    },
    {
     "name": "stdout",
     "output_type": "stream",
     "text": [
      " estimated tempo: 154.35339155401405\tbeats: 1173 -> 1170\n",
      " estimated tempo: 197.56741509646795\tbeats: 1065 -> 1060\n"
     ]
    },
    {
     "name": "stderr",
     "output_type": "stream",
     "text": [
      " 61%|██████▏   | 782/1276 [03:39<00:54,  9.05it/s]"
     ]
    },
    {
     "name": "stdout",
     "output_type": "stream",
     "text": [
      " estimated tempo: 176.9550845809843\tbeats: 1317 -> 1312\n",
      " estimated tempo: 223.23304436511825\tbeats: 1423 -> 1416\n"
     ]
    },
    {
     "name": "stderr",
     "output_type": "stream",
     "text": [
      " 62%|██████▏   | 785/1276 [03:39<00:54,  8.95it/s]"
     ]
    },
    {
     "name": "stdout",
     "output_type": "stream",
     "text": [
      " estimated tempo: 184.94296577946784\tbeats: 965 -> 963\n",
      " estimated tempo: 212.50324254215258\tbeats: 622 -> 618\n",
      " estimated tempo: 209.35735828628964\tbeats: 735 -> 731\n"
     ]
    },
    {
     "name": "stderr",
     "output_type": "stream",
     "text": [
      " 62%|██████▏   | 787/1276 [03:40<01:01,  7.95it/s]"
     ]
    },
    {
     "name": "stdout",
     "output_type": "stream",
     "text": [
      " estimated tempo: 192.57288708343643\tbeats: 1201 -> 1196\n",
      " estimated tempo: 190.41322314049617\tbeats: 1119 -> 1116\n",
      " estimated tempo: 223.71345344697465\tbeats: 572 -> 569\n"
     ]
    },
    {
     "name": "stderr",
     "output_type": "stream",
     "text": [
      "\r",
      " 62%|██████▏   | 789/1276 [03:40<00:49,  9.91it/s]"
     ]
    },
    {
     "name": "stdout",
     "output_type": "stream",
     "text": [
      " estimated tempo: 152.8970251716245\tbeats: 437 -> 435\n",
      " estimated tempo: 224.47240661844762\tbeats: 762 -> 759\n"
     ]
    },
    {
     "name": "stderr",
     "output_type": "stream",
     "text": [
      " 62%|██████▏   | 793/1276 [03:40<00:47, 10.17it/s]"
     ]
    },
    {
     "name": "stdout",
     "output_type": "stream",
     "text": [
      " estimated tempo: 227.66485967199634\tbeats: 839 -> 834\n",
      " estimated tempo: 215.60366972477198\tbeats: 825 -> 819\n",
      " estimated tempo: 213.1483087597597\tbeats: 758 -> 755\n"
     ]
    },
    {
     "name": "stderr",
     "output_type": "stream",
     "text": [
      "\r",
      " 62%|██████▏   | 795/1276 [03:40<00:42, 11.19it/s]"
     ]
    },
    {
     "name": "stdout",
     "output_type": "stream",
     "text": [
      " estimated tempo: 219.6330974876077\tbeats: 763 -> 760\n",
      " estimated tempo: 220.41643218908453\tbeats: 846 -> 844\n",
      " estimated tempo: 227.57929883138604\tbeats: 762 -> 757\n"
     ]
    },
    {
     "name": "stderr",
     "output_type": "stream",
     "text": [
      "\r",
      " 62%|██████▏   | 797/1276 [03:40<00:41, 11.50it/s]"
     ]
    },
    {
     "name": "stdout",
     "output_type": "stream",
     "text": [
      " estimated tempo: 210.13435314245478\tbeats: 808 -> 805\n",
      " estimated tempo: 183.6466290269013\tbeats: 1191 -> 1188\n"
     ]
    },
    {
     "name": "stderr",
     "output_type": "stream",
     "text": [
      " 63%|██████▎   | 801/1276 [03:41<00:38, 12.31it/s]"
     ]
    },
    {
     "name": "stdout",
     "output_type": "stream",
     "text": [
      " estimated tempo: 232.68530207393985\tbeats: 609 -> 606\n",
      " estimated tempo: 230.0932090545937\tbeats: 544 -> 541\n",
      " estimated tempo: 209.0613266583234\tbeats: 506 -> 503\n",
      " estimated tempo: 220.38005356459647\tbeats: 554 -> 551\n",
      " estimated tempo: 216.95710161070446"
     ]
    },
    {
     "name": "stderr",
     "output_type": "stream",
     "text": [
      "\r",
      " 63%|██████▎   | 804/1276 [03:41<00:31, 14.81it/s]"
     ]
    },
    {
     "name": "stdout",
     "output_type": "stream",
     "text": [
      "\tbeats: 546 -> 542\n",
      " estimated tempo: 211.6833964127026\tbeats: 564 -> 560\n",
      " estimated tempo: 248.63309352517823"
     ]
    },
    {
     "name": "stderr",
     "output_type": "stream",
     "text": [
      "\r",
      " 63%|██████▎   | 806/1276 [03:41<00:40, 11.60it/s]"
     ]
    },
    {
     "name": "stdout",
     "output_type": "stream",
     "text": [
      "\tbeats: 836 -> 833\n",
      " estimated tempo: 172.1874101753375\tbeats: 986 -> 982\n",
      " estimated tempo: 205.05517977928352\tbeats: 776 -> 770\n"
     ]
    },
    {
     "name": "stderr",
     "output_type": "stream",
     "text": [
      "\r",
      " 63%|██████▎   | 808/1276 [03:41<00:38, 12.31it/s]"
     ]
    },
    {
     "name": "stdout",
     "output_type": "stream",
     "text": [
      " estimated tempo: 184.10398465799906\tbeats: 756 -> 752\n",
      " estimated tempo: 160.13224134044677\tbeats: 1370 -> 1366\n"
     ]
    },
    {
     "name": "stderr",
     "output_type": "stream",
     "text": [
      "\r",
      " 63%|██████▎   | 810/1276 [03:42<00:53,  8.63it/s]"
     ]
    },
    {
     "name": "stdout",
     "output_type": "stream",
     "text": [
      " estimated tempo: 162.2196724731417\tbeats: 1478 -> 1475\n",
      " estimated tempo: 165.84590945194836\tbeats: 1423 -> 1421\n"
     ]
    },
    {
     "name": "stderr",
     "output_type": "stream",
     "text": [
      "\r",
      " 64%|██████▎   | 812/1276 [03:42<01:06,  7.03it/s]"
     ]
    },
    {
     "name": "stdout",
     "output_type": "stream",
     "text": [
      " estimated tempo: 161.06882087929284\tbeats: 1411 -> 1406\n"
     ]
    },
    {
     "name": "stderr",
     "output_type": "stream",
     "text": [
      " 64%|██████▍   | 815/1276 [03:43<01:03,  7.27it/s]"
     ]
    },
    {
     "name": "stdout",
     "output_type": "stream",
     "text": [
      " estimated tempo: 163.9274279615787\tbeats: 1321 -> 1318\n",
      " estimated tempo: 220.2120753083746\tbeats: 471 -> 465\n",
      " estimated tempo: 186.99252234178385\tbeats: 842 -> 837\n"
     ]
    },
    {
     "name": "stderr",
     "output_type": "stream",
     "text": [
      "\r",
      " 64%|██████▍   | 817/1276 [03:43<00:55,  8.30it/s]"
     ]
    },
    {
     "name": "stdout",
     "output_type": "stream",
     "text": [
      " estimated tempo: 227.96946837477068\tbeats: 1148 -> 1145\n",
      " estimated tempo: 227.18614718614543\tbeats: 1274 -> 1270\n"
     ]
    },
    {
     "name": "stderr",
     "output_type": "stream",
     "text": [
      "\r",
      " 64%|██████▍   | 819/1276 [03:43<01:01,  7.43it/s]"
     ]
    },
    {
     "name": "stdout",
     "output_type": "stream",
     "text": [
      " estimated tempo: 205.0916859533557\tbeats: 1071 -> 1066\n",
      " estimated tempo: 228.19015846538633\tbeats: 1362 -> 1356\n",
      " estimated tempo: 193.0567649716587\tbeats: 366 -> 363\n",
      " estimated tempo: 201.1251212415113\tbeats: 646 -> 644\n"
     ]
    },
    {
     "name": "stderr",
     "output_type": "stream",
     "text": [
      "\r",
      " 64%|██████▍   | 822/1276 [03:43<00:46,  9.83it/s]"
     ]
    },
    {
     "name": "stdout",
     "output_type": "stream",
     "text": [
      " estimated tempo: 231.87307601231643\tbeats: 1288 -> 1282\n"
     ]
    },
    {
     "name": "stderr",
     "output_type": "stream",
     "text": [
      "\r",
      " 65%|██████▍   | 824/1276 [03:43<00:49,  9.05it/s]"
     ]
    },
    {
     "name": "stdout",
     "output_type": "stream",
     "text": [
      " estimated tempo: 175.9843200553413\tbeats: 1041 -> 1037\n",
      " estimated tempo: 254.5856353591153\tbeats: 929 -> 925\n",
      " estimated tempo: 234.7028862478795\tbeats: 1709 -> 1705\n"
     ]
    },
    {
     "name": "stderr",
     "output_type": "stream",
     "text": [
      "\r",
      " 65%|██████▍   | 826/1276 [03:44<00:46,  9.61it/s]"
     ]
    },
    {
     "name": "stdout",
     "output_type": "stream",
     "text": [
      " estimated tempo: 194.15730337078728\tbeats: 1127 -> 1124\n",
      " estimated tempo: 184.9404453650961\tbeats: 1236 -> 1233\n",
      " estimated tempo: 221.24877410918694"
     ]
    },
    {
     "name": "stderr",
     "output_type": "stream",
     "text": [
      "\r",
      " 65%|██████▍   | 828/1276 [03:44<00:46,  9.62it/s]"
     ]
    },
    {
     "name": "stdout",
     "output_type": "stream",
     "text": [
      "\tbeats: 1422 -> 1419\n"
     ]
    },
    {
     "name": "stderr",
     "output_type": "stream",
     "text": [
      "\r",
      " 65%|██████▌   | 830/1276 [03:44<00:57,  7.78it/s]"
     ]
    },
    {
     "name": "stdout",
     "output_type": "stream",
     "text": [
      " estimated tempo: 246.94160980617787\tbeats: 1858 -> 1849\n",
      " estimated tempo: 204.3886517700218\tbeats: 745 -> 741\n",
      " estimated tempo: 205.66509922690713"
     ]
    },
    {
     "name": "stderr",
     "output_type": "stream",
     "text": [
      " 65%|██████▌   | 832/1276 [03:44<00:58,  7.63it/s]"
     ]
    },
    {
     "name": "stdout",
     "output_type": "stream",
     "text": [
      "\tbeats: 757 -> 751\n",
      " estimated tempo: 215.06016189017677\tbeats: 767 -> 764\n"
     ]
    },
    {
     "name": "stderr",
     "output_type": "stream",
     "text": [
      "\r",
      " 65%|██████▌   | 834/1276 [03:45<00:48,  9.05it/s]"
     ]
    },
    {
     "name": "stdout",
     "output_type": "stream",
     "text": [
      " estimated tempo: 211.4016660630201\tbeats: 760 -> 757\n",
      " estimated tempo: 226.59323367427214\tbeats: 757 -> 750\n",
      " estimated tempo: 206.60826377871268\tbeats: 767 -> 762\n"
     ]
    },
    {
     "name": "stderr",
     "output_type": "stream",
     "text": [
      "\r",
      " 66%|██████▌   | 836/1276 [03:45<00:43, 10.14it/s]"
     ]
    },
    {
     "name": "stdout",
     "output_type": "stream",
     "text": [
      " estimated tempo: 205.19214498819994\tbeats: 763 -> 760\n",
      " estimated tempo: 227.33762841720414\tbeats: 520 -> 517\n"
     ]
    },
    {
     "name": "stderr",
     "output_type": "stream",
     "text": [
      " 66%|██████▌   | 840/1276 [03:45<00:43, 10.05it/s]"
     ]
    },
    {
     "name": "stdout",
     "output_type": "stream",
     "text": [
      " estimated tempo: 178.0737217598086\tbeats: 1039 -> 1034\n",
      " estimated tempo: 212.26638589102294\tbeats: 1074 -> 1071\n",
      " estimated tempo: 209.4545454545473\tbeats: 1153 -> 1149\n",
      " estimated tempo: 139.98987341772101\tbeats: 105 -> 103\n"
     ]
    },
    {
     "name": "stderr",
     "output_type": "stream",
     "text": [
      "\r",
      " 66%|██████▌   | 843/1276 [03:45<00:33, 12.89it/s]"
     ]
    },
    {
     "name": "stdout",
     "output_type": "stream",
     "text": [
      " estimated tempo: 179.3461338868707\tbeats: 828 -> 822\n",
      " estimated tempo: 186.35919970445858\tbeats: 845 -> 838\n"
     ]
    },
    {
     "name": "stderr",
     "output_type": "stream",
     "text": [
      "\r",
      " 66%|██████▌   | 845/1276 [03:46<00:44,  9.71it/s]"
     ]
    },
    {
     "name": "stdout",
     "output_type": "stream",
     "text": [
      " estimated tempo: 189.4181616904895\tbeats: 854 -> 848\n",
      " estimated tempo: 183.09159387771342\tbeats: 1443 -> 1438\n"
     ]
    },
    {
     "name": "stderr",
     "output_type": "stream",
     "text": [
      "\r",
      " 66%|██████▋   | 847/1276 [03:46<00:45,  9.47it/s]"
     ]
    },
    {
     "name": "stdout",
     "output_type": "stream",
     "text": [
      " estimated tempo: 217.64169381107675\tbeats: 662 -> 657\n",
      " estimated tempo: 243.0231443141702\tbeats: 1798 -> 1794\n"
     ]
    },
    {
     "name": "stderr",
     "output_type": "stream",
     "text": [
      "\r",
      " 67%|██████▋   | 849/1276 [03:46<00:47,  9.07it/s]"
     ]
    },
    {
     "name": "stdout",
     "output_type": "stream",
     "text": [
      " estimated tempo: 239.76924382105156\tbeats: 989 -> 982\n",
      " estimated tempo: 248.0788847330837\tbeats: 648 -> 638\n"
     ]
    },
    {
     "name": "stderr",
     "output_type": "stream",
     "text": [
      "\r",
      " 67%|██████▋   | 850/1276 [03:46<00:50,  8.40it/s]"
     ]
    },
    {
     "name": "stdout",
     "output_type": "stream",
     "text": [
      " estimated tempo: 237.5257731958817\tbeats: 1859 -> 1851\n"
     ]
    },
    {
     "name": "stderr",
     "output_type": "stream",
     "text": [
      " 67%|██████▋   | 852/1276 [03:47<00:59,  7.19it/s]"
     ]
    },
    {
     "name": "stdout",
     "output_type": "stream",
     "text": [
      " estimated tempo: 171.526948429624\tbeats: 1316 -> 1314\n",
      " estimated tempo: 231.44312393888148\tbeats: 1321 -> 1317\n"
     ]
    },
    {
     "name": "stderr",
     "output_type": "stream",
     "text": [
      "\r",
      " 67%|██████▋   | 853/1276 [03:47<01:02,  6.76it/s]"
     ]
    },
    {
     "name": "stdout",
     "output_type": "stream",
     "text": [
      " estimated tempo: 164.70214455917434\tbeats: 1710 -> 1707\n"
     ]
    },
    {
     "name": "stderr",
     "output_type": "stream",
     "text": [
      " 67%|██████▋   | 855/1276 [03:47<01:12,  5.80it/s]"
     ]
    },
    {
     "name": "stdout",
     "output_type": "stream",
     "text": [
      " estimated tempo: 197.4661631804496\tbeats: 1982 -> 1976\n",
      " estimated tempo: 243.5485381681931\tbeats: 1707 -> 1699\n"
     ]
    },
    {
     "name": "stderr",
     "output_type": "stream",
     "text": [
      " 67%|██████▋   | 857/1276 [03:48<01:07,  6.20it/s]"
     ]
    },
    {
     "name": "stdout",
     "output_type": "stream",
     "text": [
      " estimated tempo: 237.1161548731664\tbeats: 1442 -> 1438\n",
      " estimated tempo: 154.6780592004892\tbeats: 678 -> 675\n"
     ]
    },
    {
     "name": "stderr",
     "output_type": "stream",
     "text": [
      "\r",
      " 67%|██████▋   | 858/1276 [03:48<01:01,  6.84it/s]"
     ]
    },
    {
     "name": "stdout",
     "output_type": "stream",
     "text": [
      " estimated tempo: 150.59458547693288\tbeats: 686 -> 684\n",
      " estimated tempo: 159.2039800995026\tbeats: 539 -> 536\n"
     ]
    },
    {
     "name": "stderr",
     "output_type": "stream",
     "text": [
      "\r",
      " 67%|██████▋   | 860/1276 [03:48<01:17,  5.39it/s]"
     ]
    },
    {
     "name": "stdout",
     "output_type": "stream",
     "text": [
      " estimated tempo: 203.29411764705776\tbeats: 2844 -> 2841\n"
     ]
    },
    {
     "name": "stderr",
     "output_type": "stream",
     "text": [
      "\r",
      " 67%|██████▋   | 861/1276 [03:49<01:35,  4.35it/s]"
     ]
    },
    {
     "name": "stdout",
     "output_type": "stream",
     "text": [
      " estimated tempo: 191.50129870130817\tbeats: 2560 -> 2557\n"
     ]
    },
    {
     "name": "stderr",
     "output_type": "stream",
     "text": [
      "\r",
      " 68%|██████▊   | 862/1276 [03:49<01:47,  3.83it/s]"
     ]
    },
    {
     "name": "stdout",
     "output_type": "stream",
     "text": [
      " estimated tempo: 203.78146386730006\tbeats: 2827 -> 2823\n"
     ]
    },
    {
     "name": "stderr",
     "output_type": "stream",
     "text": [
      "\r",
      " 68%|██████▊   | 863/1276 [03:49<01:52,  3.67it/s]"
     ]
    },
    {
     "name": "stdout",
     "output_type": "stream",
     "text": [
      " estimated tempo: 196.7956516112341\tbeats: 1743 -> 1738\n",
      " estimated tempo: 205.52845528455362\tbeats: 631 -> 628\n"
     ]
    },
    {
     "name": "stderr",
     "output_type": "stream",
     "text": [
      "\r",
      " 68%|██████▊   | 865/1276 [03:49<01:26,  4.76it/s]"
     ]
    },
    {
     "name": "stdout",
     "output_type": "stream",
     "text": [
      " estimated tempo: 186.76492262343456\tbeats: 1127 -> 1126\n"
     ]
    },
    {
     "name": "stderr",
     "output_type": "stream",
     "text": [
      "\r",
      " 68%|██████▊   | 866/1276 [03:50<01:56,  3.51it/s]"
     ]
    },
    {
     "name": "stdout",
     "output_type": "stream",
     "text": [
      " estimated tempo: 201.2227074235829\tbeats: 2925 -> 2922\n",
      " estimated tempo: 205.0629011553271\tbeats: 705 -> 700\n"
     ]
    },
    {
     "name": "stderr",
     "output_type": "stream",
     "text": [
      "\r",
      " 68%|██████▊   | 868/1276 [03:50<01:29,  4.55it/s]"
     ]
    },
    {
     "name": "stdout",
     "output_type": "stream",
     "text": [
      " estimated tempo: 209.42734709778335\tbeats: 1302 -> 1297\n"
     ]
    },
    {
     "name": "stderr",
     "output_type": "stream",
     "text": [
      "\r",
      " 68%|██████▊   | 869/1276 [03:51<01:57,  3.45it/s]"
     ]
    },
    {
     "name": "stdout",
     "output_type": "stream",
     "text": [
      " estimated tempo: 194.63216837227174\tbeats: 3454 -> 3451\n"
     ]
    },
    {
     "name": "stderr",
     "output_type": "stream",
     "text": [
      "\r",
      " 68%|██████▊   | 870/1276 [03:51<02:07,  3.18it/s]"
     ]
    },
    {
     "name": "stdout",
     "output_type": "stream",
     "text": [
      " estimated tempo: 192.99826689774693\tbeats: 3161 -> 3156\n"
     ]
    },
    {
     "name": "stderr",
     "output_type": "stream",
     "text": [
      "\r",
      " 68%|██████▊   | 871/1276 [03:52<02:27,  2.74it/s]"
     ]
    },
    {
     "name": "stdout",
     "output_type": "stream",
     "text": [
      " estimated tempo: 191.76029962545763\tbeats: 4339 -> 4336\n"
     ]
    },
    {
     "name": "stderr",
     "output_type": "stream",
     "text": [
      " 68%|██████▊   | 873/1276 [03:52<02:07,  3.17it/s]"
     ]
    },
    {
     "name": "stdout",
     "output_type": "stream",
     "text": [
      " estimated tempo: 184.9252097774427\tbeats: 3940 -> 3937\n",
      " estimated tempo: 188.43873229151282\tbeats: 1013 -> 1009\n"
     ]
    },
    {
     "name": "stderr",
     "output_type": "stream",
     "text": [
      "\r",
      " 68%|██████▊   | 874/1276 [03:53<02:22,  2.81it/s]"
     ]
    },
    {
     "name": "stdout",
     "output_type": "stream",
     "text": [
      " estimated tempo: 193.26279668286864\tbeats: 2688 -> 2688\n"
     ]
    },
    {
     "name": "stderr",
     "output_type": "stream",
     "text": [
      "\r",
      " 69%|██████▊   | 875/1276 [03:53<02:11,  3.05it/s]"
     ]
    },
    {
     "name": "stdout",
     "output_type": "stream",
     "text": [
      " estimated tempo: 212.07247359751094\tbeats: 2162 -> 2157\n"
     ]
    },
    {
     "name": "stderr",
     "output_type": "stream",
     "text": [
      "\r",
      " 69%|██████▊   | 876/1276 [03:53<02:24,  2.77it/s]"
     ]
    },
    {
     "name": "stdout",
     "output_type": "stream",
     "text": [
      " estimated tempo: 207.97636632200368\tbeats: 2314 -> 2309\n"
     ]
    },
    {
     "name": "stderr",
     "output_type": "stream",
     "text": [
      "\r",
      " 69%|██████▊   | 877/1276 [03:54<03:31,  1.89it/s]"
     ]
    },
    {
     "name": "stdout",
     "output_type": "stream",
     "text": [
      " estimated tempo: 208.935372710233\tbeats: 4443 -> 4440\n"
     ]
    },
    {
     "name": "stderr",
     "output_type": "stream",
     "text": [
      "\r",
      " 69%|██████▉   | 878/1276 [03:55<02:52,  2.31it/s]"
     ]
    },
    {
     "name": "stdout",
     "output_type": "stream",
     "text": [
      " estimated tempo: 194.08461250467764\tbeats: 1789 -> 1784\n"
     ]
    },
    {
     "name": "stderr",
     "output_type": "stream",
     "text": [
      "\r",
      " 69%|██████▉   | 879/1276 [03:55<02:58,  2.22it/s]"
     ]
    },
    {
     "name": "stdout",
     "output_type": "stream",
     "text": [
      " estimated tempo: 187.48038360943013\tbeats: 4177 -> 4172\n"
     ]
    },
    {
     "name": "stderr",
     "output_type": "stream",
     "text": [
      "\r",
      " 69%|██████▉   | 880/1276 [03:56<03:48,  1.73it/s]"
     ]
    },
    {
     "name": "stdout",
     "output_type": "stream",
     "text": [
      " estimated tempo: 182.47551773960606\tbeats: 4397 -> 4391\n"
     ]
    },
    {
     "name": "stderr",
     "output_type": "stream",
     "text": [
      "\r",
      " 69%|██████▉   | 881/1276 [03:57<04:11,  1.57it/s]"
     ]
    },
    {
     "name": "stdout",
     "output_type": "stream",
     "text": [
      " estimated tempo: 201.49344096872437\tbeats: 5622 -> 5618\n"
     ]
    },
    {
     "name": "stderr",
     "output_type": "stream",
     "text": [
      "\r",
      " 69%|██████▉   | 882/1276 [03:57<04:33,  1.44it/s]"
     ]
    },
    {
     "name": "stdout",
     "output_type": "stream",
     "text": [
      " estimated tempo: 200.41258926209906\tbeats: 5268 -> 5265\n"
     ]
    },
    {
     "name": "stderr",
     "output_type": "stream",
     "text": [
      "\r",
      " 69%|██████▉   | 883/1276 [03:58<04:49,  1.36it/s]"
     ]
    },
    {
     "name": "stdout",
     "output_type": "stream",
     "text": [
      " estimated tempo: 186.32521421006822\tbeats: 6206 -> 6201\n"
     ]
    },
    {
     "name": "stderr",
     "output_type": "stream",
     "text": [
      "\r",
      " 69%|██████▉   | 884/1276 [03:59<05:16,  1.24it/s]"
     ]
    },
    {
     "name": "stdout",
     "output_type": "stream",
     "text": [
      " estimated tempo: 192.26035256075465\tbeats: 6436 -> 6434\n",
      " estimated tempo: 203.00411177309536"
     ]
    },
    {
     "name": "stderr",
     "output_type": "stream",
     "text": [
      "\r",
      " 69%|██████▉   | 885/1276 [03:59<03:59,  1.63it/s]"
     ]
    },
    {
     "name": "stdout",
     "output_type": "stream",
     "text": [
      "\tbeats: 1616 -> 1610\n"
     ]
    },
    {
     "name": "stderr",
     "output_type": "stream",
     "text": [
      "\r",
      " 69%|██████▉   | 886/1276 [04:00<03:20,  1.95it/s]"
     ]
    },
    {
     "name": "stdout",
     "output_type": "stream",
     "text": [
      " estimated tempo: 199.8629198080892\tbeats: 3315 -> 3309\n"
     ]
    },
    {
     "name": "stderr",
     "output_type": "stream",
     "text": [
      "\r",
      " 70%|██████▉   | 887/1276 [04:00<02:53,  2.24it/s]"
     ]
    },
    {
     "name": "stdout",
     "output_type": "stream",
     "text": [
      " estimated tempo: 214.04037360650008\tbeats: 2362 -> 2360\n"
     ]
    },
    {
     "name": "stderr",
     "output_type": "stream",
     "text": [
      "\r",
      " 70%|██████▉   | 888/1276 [04:01<03:39,  1.77it/s]"
     ]
    },
    {
     "name": "stdout",
     "output_type": "stream",
     "text": [
      " estimated tempo: 200.67052436914676\tbeats: 4941 -> 4938\n"
     ]
    },
    {
     "name": "stderr",
     "output_type": "stream",
     "text": [
      "\r",
      " 70%|██████▉   | 889/1276 [04:02<04:19,  1.49it/s]"
     ]
    },
    {
     "name": "stdout",
     "output_type": "stream",
     "text": [
      " estimated tempo: 204.44712470384962\tbeats: 5306 -> 5302\n"
     ]
    },
    {
     "name": "stderr",
     "output_type": "stream",
     "text": [
      "\r",
      " 70%|██████▉   | 890/1276 [04:02<03:36,  1.78it/s]"
     ]
    },
    {
     "name": "stdout",
     "output_type": "stream",
     "text": [
      " estimated tempo: 207.60319231099527\tbeats: 2183 -> 2180\n"
     ]
    },
    {
     "name": "stderr",
     "output_type": "stream",
     "text": [
      "\r",
      " 70%|██████▉   | 891/1276 [04:02<03:14,  1.98it/s]"
     ]
    },
    {
     "name": "stdout",
     "output_type": "stream",
     "text": [
      " estimated tempo: 210.37968232396332\tbeats: 2230 -> 2224\n"
     ]
    },
    {
     "name": "stderr",
     "output_type": "stream",
     "text": [
      "\r",
      " 70%|██████▉   | 892/1276 [04:03<02:56,  2.18it/s]"
     ]
    },
    {
     "name": "stdout",
     "output_type": "stream",
     "text": [
      " estimated tempo: 219.1676575505351\tbeats: 2477 -> 2474\n"
     ]
    },
    {
     "name": "stderr",
     "output_type": "stream",
     "text": [
      "\r",
      " 70%|██████▉   | 893/1276 [04:04<03:48,  1.68it/s]"
     ]
    },
    {
     "name": "stdout",
     "output_type": "stream",
     "text": [
      " estimated tempo: 219.2114477089645\tbeats: 5407 -> 5403\n"
     ]
    },
    {
     "name": "stderr",
     "output_type": "stream",
     "text": [
      "\r",
      " 70%|███████   | 894/1276 [04:04<04:05,  1.56it/s]"
     ]
    },
    {
     "name": "stdout",
     "output_type": "stream",
     "text": [
      " estimated tempo: 214.8066298342714\tbeats: 5187 -> 5184\n"
     ]
    },
    {
     "name": "stderr",
     "output_type": "stream",
     "text": [
      "\r",
      " 70%|███████   | 895/1276 [04:05<03:16,  1.94it/s]"
     ]
    },
    {
     "name": "stdout",
     "output_type": "stream",
     "text": [
      " estimated tempo: 210.51949008916324\tbeats: 1959 -> 1956\n"
     ]
    },
    {
     "name": "stderr",
     "output_type": "stream",
     "text": [
      "\r",
      " 70%|███████   | 896/1276 [04:05<02:54,  2.18it/s]"
     ]
    },
    {
     "name": "stdout",
     "output_type": "stream",
     "text": [
      " estimated tempo: 207.56756756756818\tbeats: 2735 -> 2724\n",
      " estimated tempo: 192.84848839591632"
     ]
    },
    {
     "name": "stderr",
     "output_type": "stream",
     "text": [
      "\r",
      " 70%|███████   | 897/1276 [04:05<02:23,  2.65it/s]"
     ]
    },
    {
     "name": "stdout",
     "output_type": "stream",
     "text": [
      "\tbeats: 1632 -> 1622\n"
     ]
    },
    {
     "name": "stderr",
     "output_type": "stream",
     "text": [
      "\r",
      " 70%|███████   | 898/1276 [04:06<02:31,  2.49it/s]"
     ]
    },
    {
     "name": "stdout",
     "output_type": "stream",
     "text": [
      " estimated tempo: 203.875011521806\tbeats: 2825 -> 2817\n"
     ]
    },
    {
     "name": "stderr",
     "output_type": "stream",
     "text": [
      "\r",
      " 70%|███████   | 899/1276 [04:06<02:32,  2.48it/s]"
     ]
    },
    {
     "name": "stdout",
     "output_type": "stream",
     "text": [
      " estimated tempo: 188.73160117753145\tbeats: 3021 -> 3019\n"
     ]
    },
    {
     "name": "stderr",
     "output_type": "stream",
     "text": [
      " 71%|███████   | 901/1276 [04:07<01:55,  3.25it/s]"
     ]
    },
    {
     "name": "stdout",
     "output_type": "stream",
     "text": [
      " estimated tempo: 196.3816332142001\tbeats: 3375 -> 3369\n",
      " estimated tempo: 205.47092547092876\tbeats: 1024 -> 1021\n"
     ]
    },
    {
     "name": "stderr",
     "output_type": "stream",
     "text": [
      " 71%|███████   | 903/1276 [04:07<01:28,  4.22it/s]"
     ]
    },
    {
     "name": "stdout",
     "output_type": "stream",
     "text": [
      " estimated tempo: 216.4898425234308\tbeats: 1271 -> 1267\n",
      " estimated tempo: 221.7245240761479\tbeats: 1343 -> 1337\n"
     ]
    },
    {
     "name": "stderr",
     "output_type": "stream",
     "text": [
      "\r",
      " 71%|███████   | 905/1276 [04:07<01:03,  5.83it/s]"
     ]
    },
    {
     "name": "stdout",
     "output_type": "stream",
     "text": [
      " estimated tempo: 209.10680686220226\tbeats: 964 -> 961\n",
      " estimated tempo: 223.9481601481139\tbeats: 899 -> 895\n"
     ]
    },
    {
     "name": "stderr",
     "output_type": "stream",
     "text": [
      "\r",
      " 71%|███████   | 906/1276 [04:07<00:59,  6.26it/s]"
     ]
    },
    {
     "name": "stdout",
     "output_type": "stream",
     "text": [
      " estimated tempo: 204.5326370757149\tbeats: 438 -> 438\n"
     ]
    },
    {
     "name": "stderr",
     "output_type": "stream",
     "text": [
      " 71%|███████   | 908/1276 [04:08<01:01,  6.03it/s]"
     ]
    },
    {
     "name": "stdout",
     "output_type": "stream",
     "text": [
      " estimated tempo: 200.19160075749267\tbeats: 2958 -> 2951\n",
      " estimated tempo: 228.7312285019161\tbeats: 1244 -> 1238\n"
     ]
    },
    {
     "name": "stderr",
     "output_type": "stream",
     "text": [
      "\r",
      " 71%|███████   | 909/1276 [04:08<01:04,  5.69it/s]"
     ]
    },
    {
     "name": "stdout",
     "output_type": "stream",
     "text": [
      " estimated tempo: 231.23501533314803\tbeats: 1212 -> 1206\n"
     ]
    },
    {
     "name": "stderr",
     "output_type": "stream",
     "text": [
      "\r",
      " 71%|███████▏  | 910/1276 [04:08<01:09,  5.26it/s]"
     ]
    },
    {
     "name": "stdout",
     "output_type": "stream",
     "text": [
      " estimated tempo: 194.49350649351103\tbeats: 2125 -> 2120\n"
     ]
    },
    {
     "name": "stderr",
     "output_type": "stream",
     "text": [
      " 71%|███████▏  | 912/1276 [04:08<01:15,  4.83it/s]"
     ]
    },
    {
     "name": "stdout",
     "output_type": "stream",
     "text": [
      " estimated tempo: 195.1039260969881\tbeats: 2296 -> 2290\n",
      " estimated tempo: 228.89582741981312\tbeats: 1158 -> 1150\n"
     ]
    },
    {
     "name": "stderr",
     "output_type": "stream",
     "text": [
      " 72%|███████▏  | 915/1276 [04:09<00:53,  6.73it/s]"
     ]
    },
    {
     "name": "stdout",
     "output_type": "stream",
     "text": [
      " estimated tempo: 165.96086839989314\tbeats: 961 -> 958\n",
      " estimated tempo: 213.00848379377948\tbeats: 486 -> 476\n",
      " estimated tempo: 230.79946060489345\tbeats: 1121 -> 1118\n"
     ]
    },
    {
     "name": "stderr",
     "output_type": "stream",
     "text": [
      "\r",
      " 72%|███████▏  | 916/1276 [04:09<00:53,  6.71it/s]"
     ]
    },
    {
     "name": "stdout",
     "output_type": "stream",
     "text": [
      " estimated tempo: 228.67984189723245\tbeats: 1225 -> 1203\n"
     ]
    },
    {
     "name": "stderr",
     "output_type": "stream",
     "text": [
      " 72%|███████▏  | 918/1276 [04:09<00:55,  6.40it/s]"
     ]
    },
    {
     "name": "stdout",
     "output_type": "stream",
     "text": [
      " estimated tempo: 228.5514223194775\tbeats: 1249 -> 1245\n",
      " estimated tempo: 207.2511053514294\tbeats: 1038 -> 1036\n"
     ]
    },
    {
     "name": "stderr",
     "output_type": "stream",
     "text": [
      "\r",
      " 72%|███████▏  | 919/1276 [04:09<00:51,  6.95it/s]"
     ]
    },
    {
     "name": "stdout",
     "output_type": "stream",
     "text": [
      " estimated tempo: 210.1063906781492\tbeats: 1115 -> 1103\n",
      " estimated tempo: 208.06641905178054\tbeats: 1118 -> 1115\n"
     ]
    },
    {
     "name": "stderr",
     "output_type": "stream",
     "text": [
      "\r",
      " 72%|███████▏  | 921/1276 [04:10<01:00,  5.91it/s]"
     ]
    },
    {
     "name": "stdout",
     "output_type": "stream",
     "text": [
      " estimated tempo: 207.83788076104736\tbeats: 2805 -> 2793\n",
      " estimated tempo: 211.29860601614064\tbeats: 733 -> 729\n"
     ]
    },
    {
     "name": "stderr",
     "output_type": "stream",
     "text": [
      " 72%|███████▏  | 924/1276 [04:10<00:50,  6.96it/s]"
     ]
    },
    {
     "name": "stdout",
     "output_type": "stream",
     "text": [
      " estimated tempo: 199.3805793405021\tbeats: 905 -> 901\n",
      " estimated tempo: 216.92558392178378\tbeats: 687 -> 684\n"
     ]
    },
    {
     "name": "stderr",
     "output_type": "stream",
     "text": [
      " 73%|███████▎  | 926/1276 [04:10<00:49,  7.09it/s]"
     ]
    },
    {
     "name": "stdout",
     "output_type": "stream",
     "text": [
      " estimated tempo: 208.02806727891692\tbeats: 1040 -> 1037\n",
      " estimated tempo: 189.5984200131662\tbeats: 1075 -> 1069\n"
     ]
    },
    {
     "name": "stderr",
     "output_type": "stream",
     "text": [
      " 73%|███████▎  | 928/1276 [04:11<00:52,  6.61it/s]"
     ]
    },
    {
     "name": "stdout",
     "output_type": "stream",
     "text": [
      " estimated tempo: 187.08201077729223\tbeats: 1043 -> 1040\n",
      " estimated tempo: 188.60238353195976\tbeats: 1041 -> 1038\n"
     ]
    },
    {
     "name": "stderr",
     "output_type": "stream",
     "text": [
      " 73%|███████▎  | 930/1276 [04:11<00:49,  7.06it/s]"
     ]
    },
    {
     "name": "stdout",
     "output_type": "stream",
     "text": [
      " estimated tempo: 191.7503250975409\tbeats: 1044 -> 1040\n",
      " estimated tempo: 196.224272533708\tbeats: 1081 -> 1078\n"
     ]
    },
    {
     "name": "stderr",
     "output_type": "stream",
     "text": [
      "\r",
      " 73%|███████▎  | 931/1276 [04:11<00:54,  6.29it/s]"
     ]
    },
    {
     "name": "stdout",
     "output_type": "stream",
     "text": [
      " estimated tempo: 194.68594498169512\tbeats: 1106 -> 1103\n"
     ]
    },
    {
     "name": "stderr",
     "output_type": "stream",
     "text": [
      " 73%|███████▎  | 933/1276 [04:12<01:04,  5.36it/s]"
     ]
    },
    {
     "name": "stdout",
     "output_type": "stream",
     "text": [
      " estimated tempo: 183.9520958083878\tbeats: 2898 -> 2893\n",
      " estimated tempo: 207.32951036612545\tbeats: 648 -> 642\n",
      " estimated tempo: 200.34782608695733\tbeats: 695 -> 689\n"
     ]
    },
    {
     "name": "stderr",
     "output_type": "stream",
     "text": [
      "\r",
      " 73%|███████▎  | 935/1276 [04:12<01:08,  4.94it/s]"
     ]
    },
    {
     "name": "stdout",
     "output_type": "stream",
     "text": [
      " estimated tempo: 194.276679841903\tbeats: 2770 -> 2767\n",
      " estimated tempo: 209.20096852300316\tbeats: 762 -> 757\n"
     ]
    },
    {
     "name": "stderr",
     "output_type": "stream",
     "text": [
      "\r",
      " 73%|███████▎  | 937/1276 [04:12<01:01,  5.52it/s]"
     ]
    },
    {
     "name": "stdout",
     "output_type": "stream",
     "text": [
      " estimated tempo: 171.62011173183714\tbeats: 2403 -> 2400\n"
     ]
    },
    {
     "name": "stderr",
     "output_type": "stream",
     "text": [
      "\r",
      " 74%|███████▎  | 938/1276 [04:13<01:14,  4.55it/s]"
     ]
    },
    {
     "name": "stdout",
     "output_type": "stream",
     "text": [
      " estimated tempo: 181.18507681053063\tbeats: 2715 -> 2690\n"
     ]
    },
    {
     "name": "stderr",
     "output_type": "stream",
     "text": [
      "\r",
      " 74%|███████▎  | 939/1276 [04:13<01:46,  3.16it/s]"
     ]
    },
    {
     "name": "stdout",
     "output_type": "stream",
     "text": [
      " estimated tempo: 212.24489795918154\tbeats: 4964 -> 4961\n"
     ]
    },
    {
     "name": "stderr",
     "output_type": "stream",
     "text": [
      "\r",
      " 74%|███████▎  | 940/1276 [04:14<01:49,  3.06it/s]"
     ]
    },
    {
     "name": "stdout",
     "output_type": "stream",
     "text": [
      " estimated tempo: 193.38668748780003\tbeats: 1703 -> 1699\n"
     ]
    },
    {
     "name": "stderr",
     "output_type": "stream",
     "text": [
      "\r",
      " 74%|███████▎  | 941/1276 [04:14<02:08,  2.60it/s]"
     ]
    },
    {
     "name": "stdout",
     "output_type": "stream",
     "text": [
      " estimated tempo: 201.80303353984638\tbeats: 3726 -> 3723\n"
     ]
    },
    {
     "name": "stderr",
     "output_type": "stream",
     "text": [
      "\r",
      " 74%|███████▍  | 942/1276 [04:15<02:27,  2.26it/s]"
     ]
    },
    {
     "name": "stdout",
     "output_type": "stream",
     "text": [
      " estimated tempo: 199.1550165380388\tbeats: 3848 -> 3841\n"
     ]
    },
    {
     "name": "stderr",
     "output_type": "stream",
     "text": [
      "\r",
      " 74%|███████▍  | 943/1276 [04:16<02:55,  1.90it/s]"
     ]
    },
    {
     "name": "stdout",
     "output_type": "stream",
     "text": [
      " estimated tempo: 186.74772036474025\tbeats: 3540 -> 3537\n"
     ]
    },
    {
     "name": "stderr",
     "output_type": "stream",
     "text": [
      "\r",
      " 74%|███████▍  | 944/1276 [04:16<03:02,  1.82it/s]"
     ]
    },
    {
     "name": "stdout",
     "output_type": "stream",
     "text": [
      " estimated tempo: 204.31832202344367\tbeats: 4476 -> 4473\n"
     ]
    },
    {
     "name": "stderr",
     "output_type": "stream",
     "text": [
      "\r",
      " 74%|███████▍  | 945/1276 [04:16<02:26,  2.26it/s]"
     ]
    },
    {
     "name": "stdout",
     "output_type": "stream",
     "text": [
      " estimated tempo: 212.2958791911866\tbeats: 1868 -> 1865\n"
     ]
    },
    {
     "name": "stderr",
     "output_type": "stream",
     "text": [
      " 74%|███████▍  | 947/1276 [04:17<01:49,  3.01it/s]"
     ]
    },
    {
     "name": "stdout",
     "output_type": "stream",
     "text": [
      " estimated tempo: 202.752\tbeats: 1217 -> 1212\n",
      " estimated tempo: 206.66766332785727\tbeats: 1167 -> 1162\n"
     ]
    },
    {
     "name": "stderr",
     "output_type": "stream",
     "text": [
      "\r",
      " 74%|███████▍  | 948/1276 [04:17<01:29,  3.65it/s]"
     ]
    },
    {
     "name": "stdout",
     "output_type": "stream",
     "text": [
      " estimated tempo: 203.0850594975749\tbeats: 944 -> 941\n"
     ]
    },
    {
     "name": "stderr",
     "output_type": "stream",
     "text": [
      " 74%|███████▍  | 950/1276 [04:17<01:15,  4.34it/s]"
     ]
    },
    {
     "name": "stdout",
     "output_type": "stream",
     "text": [
      " estimated tempo: 204.40028388928567\tbeats: 1146 -> 1142\n",
      " estimated tempo: 196.6564633859101\tbeats: 1045 -> 1041\n"
     ]
    },
    {
     "name": "stderr",
     "output_type": "stream",
     "text": [
      "\r",
      " 75%|███████▍  | 951/1276 [04:18<01:58,  2.75it/s]"
     ]
    },
    {
     "name": "stdout",
     "output_type": "stream",
     "text": [
      " estimated tempo: 190.1774659513\tbeats: 4186 -> 4178\n",
      " estimated tempo: 204.3541364296038"
     ]
    },
    {
     "name": "stderr",
     "output_type": "stream",
     "text": [
      "\r",
      " 75%|███████▍  | 952/1276 [04:18<01:37,  3.31it/s]"
     ]
    },
    {
     "name": "stdout",
     "output_type": "stream",
     "text": [
      "\tbeats: 1099 -> 1095\n",
      " estimated tempo: 206.5525672371631\tbeats: 1399 -> 1393\n"
     ]
    },
    {
     "name": "stderr",
     "output_type": "stream",
     "text": [
      " 75%|███████▍  | 955/1276 [04:19<01:11,  4.48it/s]"
     ]
    },
    {
     "name": "stdout",
     "output_type": "stream",
     "text": [
      " estimated tempo: 199.79188345473577\tbeats: 1518 -> 1512\n",
      " estimated tempo: 204.63724756917978\tbeats: 959 -> 955\n"
     ]
    },
    {
     "name": "stderr",
     "output_type": "stream",
     "text": [
      " 75%|███████▌  | 957/1276 [04:19<00:53,  5.92it/s]"
     ]
    },
    {
     "name": "stdout",
     "output_type": "stream",
     "text": [
      " estimated tempo: 205.6326854422897\tbeats: 1048 -> 1034\n",
      " estimated tempo: 205.620137299771\tbeats: 972 -> 961\n"
     ]
    },
    {
     "name": "stderr",
     "output_type": "stream",
     "text": [
      "\r",
      " 75%|███████▌  | 958/1276 [04:19<00:54,  5.86it/s]"
     ]
    },
    {
     "name": "stdout",
     "output_type": "stream",
     "text": [
      " estimated tempo: 200.97196261682336\tbeats: 929 -> 915\n"
     ]
    },
    {
     "name": "stderr",
     "output_type": "stream",
     "text": [
      " 75%|███████▌  | 960/1276 [04:20<01:16,  4.14it/s]"
     ]
    },
    {
     "name": "stdout",
     "output_type": "stream",
     "text": [
      " estimated tempo: 212.9138812426512\tbeats: 3111 -> 3106\n",
      " estimated tempo: 213.0239303843337\tbeats: 1603 -> 1600\n"
     ]
    },
    {
     "name": "stderr",
     "output_type": "stream",
     "text": [
      " 75%|███████▌  | 962/1276 [04:20<01:02,  5.00it/s]"
     ]
    },
    {
     "name": "stdout",
     "output_type": "stream",
     "text": [
      " estimated tempo: 230.47202250704078\tbeats: 1527 -> 1524\n",
      " estimated tempo: 226.12567324955\tbeats: 1356 -> 1353\n"
     ]
    },
    {
     "name": "stderr",
     "output_type": "stream",
     "text": [
      " 76%|███████▌  | 964/1276 [04:21<00:50,  6.18it/s]"
     ]
    },
    {
     "name": "stdout",
     "output_type": "stream",
     "text": [
      " estimated tempo: 205.4493213117987\tbeats: 1167 -> 1163\n",
      " estimated tempo: 214.1777617848142\tbeats: 1352 -> 1345\n"
     ]
    },
    {
     "name": "stderr",
     "output_type": "stream",
     "text": [
      "\r",
      " 76%|███████▌  | 965/1276 [04:21<00:47,  6.58it/s]"
     ]
    },
    {
     "name": "stdout",
     "output_type": "stream",
     "text": [
      " estimated tempo: 216.52507330276146\tbeats: 1383 -> 1378\n",
      " estimated tempo: 207.34048560135673"
     ]
    },
    {
     "name": "stderr",
     "output_type": "stream",
     "text": [
      " 76%|███████▌  | 967/1276 [04:21<00:46,  6.62it/s]"
     ]
    },
    {
     "name": "stdout",
     "output_type": "stream",
     "text": [
      "\tbeats: 1232 -> 1227\n",
      " estimated tempo: 212.60647359454896\tbeats: 1365 -> 1359\n"
     ]
    },
    {
     "name": "stderr",
     "output_type": "stream",
     "text": [
      "\r",
      " 76%|███████▌  | 968/1276 [04:21<00:44,  6.92it/s]"
     ]
    },
    {
     "name": "stdout",
     "output_type": "stream",
     "text": [
      " estimated tempo: 183.70764119601336\tbeats: 1079 -> 1062\n"
     ]
    },
    {
     "name": "stderr",
     "output_type": "stream",
     "text": [
      "\r",
      " 76%|███████▌  | 969/1276 [04:21<00:51,  5.98it/s]"
     ]
    },
    {
     "name": "stdout",
     "output_type": "stream",
     "text": [
      " estimated tempo: 195.36315965636092\tbeats: 1147 -> 1144\n"
     ]
    },
    {
     "name": "stderr",
     "output_type": "stream",
     "text": [
      " 76%|███████▌  | 971/1276 [04:22<01:13,  4.14it/s]"
     ]
    },
    {
     "name": "stdout",
     "output_type": "stream",
     "text": [
      " estimated tempo: 198.70568484808535\tbeats: 3997 -> 3985\n",
      " estimated tempo: 200.37463205779707\tbeats: 1182 -> 1175\n"
     ]
    },
    {
     "name": "stderr",
     "output_type": "stream",
     "text": [
      "\r",
      " 76%|███████▌  | 972/1276 [04:23<02:02,  2.49it/s]"
     ]
    },
    {
     "name": "stdout",
     "output_type": "stream",
     "text": [
      " estimated tempo: 200.08016032063935\tbeats: 4487 -> 4476\n"
     ]
    },
    {
     "name": "stderr",
     "output_type": "stream",
     "text": [
      "\r",
      " 76%|███████▋  | 973/1276 [04:24<02:33,  1.98it/s]"
     ]
    },
    {
     "name": "stdout",
     "output_type": "stream",
     "text": [
      " estimated tempo: 215.42686265425502\tbeats: 4695 -> 4681\n"
     ]
    },
    {
     "name": "stderr",
     "output_type": "stream",
     "text": [
      "\r",
      " 76%|███████▋  | 974/1276 [04:24<02:14,  2.25it/s]"
     ]
    },
    {
     "name": "stdout",
     "output_type": "stream",
     "text": [
      " estimated tempo: 204.53263707571713\tbeats: 1772 -> 1769\n"
     ]
    },
    {
     "name": "stderr",
     "output_type": "stream",
     "text": [
      "\r",
      " 76%|███████▋  | 975/1276 [04:24<02:03,  2.43it/s]"
     ]
    },
    {
     "name": "stdout",
     "output_type": "stream",
     "text": [
      " estimated tempo: 206.87306763796013\tbeats: 1801 -> 1794\n"
     ]
    },
    {
     "name": "stderr",
     "output_type": "stream",
     "text": [
      "\r",
      " 76%|███████▋  | 976/1276 [04:24<01:52,  2.66it/s]"
     ]
    },
    {
     "name": "stdout",
     "output_type": "stream",
     "text": [
      " estimated tempo: 206.49787138695876\tbeats: 1689 -> 1683\n"
     ]
    },
    {
     "name": "stderr",
     "output_type": "stream",
     "text": [
      "\r",
      " 77%|███████▋  | 977/1276 [04:25<01:46,  2.82it/s]"
     ]
    },
    {
     "name": "stdout",
     "output_type": "stream",
     "text": [
      " estimated tempo: 206.33997972288108\tbeats: 1841 -> 1839\n"
     ]
    },
    {
     "name": "stderr",
     "output_type": "stream",
     "text": [
      "\r",
      " 77%|███████▋  | 978/1276 [04:25<01:37,  3.05it/s]"
     ]
    },
    {
     "name": "stdout",
     "output_type": "stream",
     "text": [
      " estimated tempo: 203.38758620689066\tbeats: 1633 -> 1631\n"
     ]
    },
    {
     "name": "stderr",
     "output_type": "stream",
     "text": [
      "\r",
      " 77%|███████▋  | 979/1276 [04:25<01:37,  3.05it/s]"
     ]
    },
    {
     "name": "stdout",
     "output_type": "stream",
     "text": [
      " estimated tempo: 204.81400437635335\tbeats: 1655 -> 1647\n"
     ]
    },
    {
     "name": "stderr",
     "output_type": "stream",
     "text": [
      "\r",
      " 77%|███████▋  | 980/1276 [04:26<01:39,  2.98it/s]"
     ]
    },
    {
     "name": "stdout",
     "output_type": "stream",
     "text": [
      " estimated tempo: 203.40088009995748\tbeats: 1710 -> 1707\n"
     ]
    },
    {
     "name": "stderr",
     "output_type": "stream",
     "text": [
      "\r",
      " 77%|███████▋  | 981/1276 [04:26<01:31,  3.24it/s]"
     ]
    },
    {
     "name": "stdout",
     "output_type": "stream",
     "text": [
      " estimated tempo: 207.02954898911452\tbeats: 1750 -> 1745\n"
     ]
    },
    {
     "name": "stderr",
     "output_type": "stream",
     "text": [
      "\r",
      " 77%|███████▋  | 982/1276 [04:26<01:31,  3.20it/s]"
     ]
    },
    {
     "name": "stdout",
     "output_type": "stream",
     "text": [
      " estimated tempo: 206.48394675019452\tbeats: 1620 -> 1614\n"
     ]
    },
    {
     "name": "stderr",
     "output_type": "stream",
     "text": [
      "\r",
      " 77%|███████▋  | 983/1276 [04:27<01:26,  3.40it/s]"
     ]
    },
    {
     "name": "stdout",
     "output_type": "stream",
     "text": [
      " estimated tempo: 200.77459333849666\tbeats: 1585 -> 1568\n"
     ]
    },
    {
     "name": "stderr",
     "output_type": "stream",
     "text": [
      "\r",
      " 77%|███████▋  | 984/1276 [04:27<01:38,  2.98it/s]"
     ]
    },
    {
     "name": "stdout",
     "output_type": "stream",
     "text": [
      " estimated tempo: 204.90846590455462\tbeats: 2177 -> 2168\n"
     ]
    },
    {
     "name": "stderr",
     "output_type": "stream",
     "text": [
      "\r",
      " 77%|███████▋  | 985/1276 [04:27<01:42,  2.85it/s]"
     ]
    },
    {
     "name": "stdout",
     "output_type": "stream",
     "text": [
      " estimated tempo: 200.3404129356912\tbeats: 1617 -> 1613\n"
     ]
    },
    {
     "name": "stderr",
     "output_type": "stream",
     "text": [
      "\r",
      " 77%|███████▋  | 986/1276 [04:28<01:42,  2.83it/s]"
     ]
    },
    {
     "name": "stdout",
     "output_type": "stream",
     "text": [
      " estimated tempo: 198.5040140982966\tbeats: 1661 -> 1658\n"
     ]
    },
    {
     "name": "stderr",
     "output_type": "stream",
     "text": [
      "\r",
      " 77%|███████▋  | 987/1276 [04:28<01:32,  3.12it/s]"
     ]
    },
    {
     "name": "stdout",
     "output_type": "stream",
     "text": [
      " estimated tempo: 198.45272026811406\tbeats: 1591 -> 1582\n"
     ]
    },
    {
     "name": "stderr",
     "output_type": "stream",
     "text": [
      "\r",
      " 77%|███████▋  | 988/1276 [04:28<01:37,  2.97it/s]"
     ]
    },
    {
     "name": "stdout",
     "output_type": "stream",
     "text": [
      " estimated tempo: 201.68508589561236\tbeats: 1644 -> 1626\n"
     ]
    },
    {
     "name": "stderr",
     "output_type": "stream",
     "text": [
      "\r",
      " 78%|███████▊  | 989/1276 [04:29<01:33,  3.07it/s]"
     ]
    },
    {
     "name": "stdout",
     "output_type": "stream",
     "text": [
      " estimated tempo: 199.18608328940763\tbeats: 1977 -> 1970\n"
     ]
    },
    {
     "name": "stderr",
     "output_type": "stream",
     "text": [
      "\r",
      " 78%|███████▊  | 990/1276 [04:29<02:11,  2.18it/s]"
     ]
    },
    {
     "name": "stdout",
     "output_type": "stream",
     "text": [
      " estimated tempo: 212.07185094277517\tbeats: 4424 -> 4418\n"
     ]
    },
    {
     "name": "stderr",
     "output_type": "stream",
     "text": [
      "\r",
      " 78%|███████▊  | 991/1276 [04:30<01:54,  2.48it/s]"
     ]
    },
    {
     "name": "stdout",
     "output_type": "stream",
     "text": [
      " estimated tempo: 211.91246431970134\tbeats: 1853 -> 1850\n"
     ]
    },
    {
     "name": "stderr",
     "output_type": "stream",
     "text": [
      "\r",
      " 78%|███████▊  | 992/1276 [04:30<01:47,  2.65it/s]"
     ]
    },
    {
     "name": "stdout",
     "output_type": "stream",
     "text": [
      " estimated tempo: 192.0432529849067\tbeats: 1832 -> 1829\n"
     ]
    },
    {
     "name": "stderr",
     "output_type": "stream",
     "text": [
      "\r",
      " 78%|███████▊  | 993/1276 [04:30<01:40,  2.81it/s]"
     ]
    },
    {
     "name": "stdout",
     "output_type": "stream",
     "text": [
      " estimated tempo: 225.80467675376687\tbeats: 2139 -> 2133\n"
     ]
    },
    {
     "name": "stderr",
     "output_type": "stream",
     "text": [
      "\r",
      " 78%|███████▊  | 994/1276 [04:31<01:42,  2.75it/s]"
     ]
    },
    {
     "name": "stdout",
     "output_type": "stream",
     "text": [
      " estimated tempo: 209.908893709319\tbeats: 1991 -> 1985\n"
     ]
    },
    {
     "name": "stderr",
     "output_type": "stream",
     "text": [
      "\r",
      " 78%|███████▊  | 995/1276 [04:31<01:33,  3.01it/s]"
     ]
    },
    {
     "name": "stdout",
     "output_type": "stream",
     "text": [
      " estimated tempo: 207.54557015684884\tbeats: 1790 -> 1786\n"
     ]
    },
    {
     "name": "stderr",
     "output_type": "stream",
     "text": [
      "\r",
      " 78%|███████▊  | 996/1276 [04:31<01:34,  2.95it/s]"
     ]
    },
    {
     "name": "stdout",
     "output_type": "stream",
     "text": [
      " estimated tempo: 198.15480844409674\tbeats: 1991 -> 1987\n"
     ]
    },
    {
     "name": "stderr",
     "output_type": "stream",
     "text": [
      " 78%|███████▊  | 998/1276 [04:32<01:14,  3.73it/s]"
     ]
    },
    {
     "name": "stdout",
     "output_type": "stream",
     "text": [
      " estimated tempo: 218.94736842105178\tbeats: 1459 -> 1446\n",
      " estimated tempo: 239.42446043165327\tbeats: 1111 -> 1107\n"
     ]
    },
    {
     "name": "stderr",
     "output_type": "stream",
     "text": [
      "\r",
      " 78%|███████▊  | 999/1276 [04:32<01:02,  4.41it/s]"
     ]
    },
    {
     "name": "stdout",
     "output_type": "stream",
     "text": [
      " estimated tempo: 204.33813095479528\tbeats: 1079 -> 1068\n"
     ]
    },
    {
     "name": "stderr",
     "output_type": "stream",
     "text": [
      " 78%|███████▊  | 1001/1276 [04:32<00:59,  4.62it/s]"
     ]
    },
    {
     "name": "stdout",
     "output_type": "stream",
     "text": [
      " estimated tempo: 167.76699029126223\tbeats: 1268 -> 1262\n",
      " estimated tempo: 223.56478167501945\tbeats: 1488 -> 1485\n"
     ]
    },
    {
     "name": "stderr",
     "output_type": "stream",
     "text": [
      " 79%|███████▊  | 1003/1276 [04:33<00:55,  4.96it/s]"
     ]
    },
    {
     "name": "stdout",
     "output_type": "stream",
     "text": [
      " estimated tempo: 213.6630602782064\tbeats: 1205 -> 1201\n",
      " estimated tempo: 214.278929871776\tbeats: 1456 -> 1453\n"
     ]
    },
    {
     "name": "stderr",
     "output_type": "stream",
     "text": [
      " 79%|███████▉  | 1005/1276 [04:33<01:03,  4.30it/s]"
     ]
    },
    {
     "name": "stdout",
     "output_type": "stream",
     "text": [
      " estimated tempo: 202.26449071468838\tbeats: 2562 -> 2558\n",
      " estimated tempo: 142.32205531377232\tbeats: 731 -> 728\n"
     ]
    },
    {
     "name": "stderr",
     "output_type": "stream",
     "text": [
      "\r",
      " 79%|███████▉  | 1006/1276 [04:33<01:03,  4.28it/s]"
     ]
    },
    {
     "name": "stdout",
     "output_type": "stream",
     "text": [
      " estimated tempo: 185.15723270440037\tbeats: 987 -> 980\n"
     ]
    },
    {
     "name": "stderr",
     "output_type": "stream",
     "text": [
      "\r",
      " 79%|███████▉  | 1007/1276 [04:34<01:40,  2.67it/s]"
     ]
    },
    {
     "name": "stdout",
     "output_type": "stream",
     "text": [
      " estimated tempo: 222.16151064686736\tbeats: 4449 -> 4446\n"
     ]
    },
    {
     "name": "stderr",
     "output_type": "stream",
     "text": [
      "\r",
      " 79%|███████▉  | 1008/1276 [04:35<01:54,  2.35it/s]"
     ]
    },
    {
     "name": "stdout",
     "output_type": "stream",
     "text": [
      " estimated tempo: 212.4301439457946\tbeats: 4118 -> 4111\n"
     ]
    },
    {
     "name": "stderr",
     "output_type": "stream",
     "text": [
      "\r",
      " 79%|███████▉  | 1009/1276 [04:35<01:57,  2.27it/s]"
     ]
    },
    {
     "name": "stdout",
     "output_type": "stream",
     "text": [
      " estimated tempo: 207.5294117647027\tbeats: 3805 -> 3802\n"
     ]
    },
    {
     "name": "stderr",
     "output_type": "stream",
     "text": [
      "\r",
      " 79%|███████▉  | 1010/1276 [04:36<03:03,  1.45it/s]"
     ]
    },
    {
     "name": "stdout",
     "output_type": "stream",
     "text": [
      " estimated tempo: 215.96932253942728\tbeats: 8847 -> 8844\n"
     ]
    },
    {
     "name": "stderr",
     "output_type": "stream",
     "text": [
      "\r",
      " 79%|███████▉  | 1011/1276 [04:37<02:29,  1.77it/s]"
     ]
    },
    {
     "name": "stdout",
     "output_type": "stream",
     "text": [
      " estimated tempo: 198.13673498638462\tbeats: 1422 -> 1419\n",
      " estimated tempo: 196.77682881545002"
     ]
    },
    {
     "name": "stderr",
     "output_type": "stream",
     "text": [
      "\r",
      " 79%|███████▉  | 1012/1276 [04:37<01:59,  2.20it/s]"
     ]
    },
    {
     "name": "stdout",
     "output_type": "stream",
     "text": [
      "\tbeats: 1464 -> 1452\n"
     ]
    },
    {
     "name": "stderr",
     "output_type": "stream",
     "text": [
      " 79%|███████▉  | 1014/1276 [04:38<01:36,  2.72it/s]"
     ]
    },
    {
     "name": "stdout",
     "output_type": "stream",
     "text": [
      " estimated tempo: 193.93939393939073\tbeats: 2896 -> 2891\n",
      " estimated tempo: 200.77220077220002\tbeats: 1507 -> 1503\n"
     ]
    },
    {
     "name": "stderr",
     "output_type": "stream",
     "text": [
      "\r",
      " 80%|███████▉  | 1015/1276 [04:38<01:58,  2.21it/s]"
     ]
    },
    {
     "name": "stdout",
     "output_type": "stream",
     "text": [
      " estimated tempo: 206.89588221017522\tbeats: 4066 -> 4061\n"
     ]
    },
    {
     "name": "stderr",
     "output_type": "stream",
     "text": [
      "\r",
      " 80%|███████▉  | 1016/1276 [04:39<01:54,  2.27it/s]"
     ]
    },
    {
     "name": "stdout",
     "output_type": "stream",
     "text": [
      " estimated tempo: 201.90700412007402\tbeats: 3445 -> 3442\n"
     ]
    },
    {
     "name": "stderr",
     "output_type": "stream",
     "text": [
      "\r",
      " 80%|███████▉  | 1017/1276 [04:39<01:59,  2.17it/s]"
     ]
    },
    {
     "name": "stdout",
     "output_type": "stream",
     "text": [
      " estimated tempo: 190.24908125765634\tbeats: 3606 -> 3603\n"
     ]
    },
    {
     "name": "stderr",
     "output_type": "stream",
     "text": [
      "\r",
      " 80%|███████▉  | 1018/1276 [04:40<02:11,  1.97it/s]"
     ]
    },
    {
     "name": "stdout",
     "output_type": "stream",
     "text": [
      " estimated tempo: 197.559984956752\tbeats: 3493 -> 3490\n"
     ]
    },
    {
     "name": "stderr",
     "output_type": "stream",
     "text": [
      "\r",
      " 80%|███████▉  | 1019/1276 [04:40<02:00,  2.13it/s]"
     ]
    },
    {
     "name": "stdout",
     "output_type": "stream",
     "text": [
      " estimated tempo: 196.6989186112607\tbeats: 3488 -> 3485\n"
     ]
    },
    {
     "name": "stderr",
     "output_type": "stream",
     "text": [
      "\r",
      " 80%|███████▉  | 1020/1276 [04:40<01:43,  2.47it/s]"
     ]
    },
    {
     "name": "stdout",
     "output_type": "stream",
     "text": [
      " estimated tempo: 224.93826372714713\tbeats: 1495 -> 1489\n"
     ]
    },
    {
     "name": "stderr",
     "output_type": "stream",
     "text": [
      "\r",
      " 80%|████████  | 1021/1276 [04:41<02:05,  2.03it/s]"
     ]
    },
    {
     "name": "stdout",
     "output_type": "stream",
     "text": [
      " estimated tempo: 209.6367163979182\tbeats: 5606 -> 5599\n"
     ]
    },
    {
     "name": "stderr",
     "output_type": "stream",
     "text": [
      "\r",
      " 80%|████████  | 1022/1276 [04:42<02:31,  1.67it/s]"
     ]
    },
    {
     "name": "stdout",
     "output_type": "stream",
     "text": [
      " estimated tempo: 193.8830780171246\tbeats: 5128 -> 5122\n"
     ]
    },
    {
     "name": "stderr",
     "output_type": "stream",
     "text": [
      "\r",
      " 80%|████████  | 1023/1276 [04:43<02:51,  1.48it/s]"
     ]
    },
    {
     "name": "stdout",
     "output_type": "stream",
     "text": [
      " estimated tempo: 200.87183958159275\tbeats: 5334 -> 5327\n"
     ]
    },
    {
     "name": "stderr",
     "output_type": "stream",
     "text": [
      " 80%|████████  | 1025/1276 [04:43<01:44,  2.40it/s]"
     ]
    },
    {
     "name": "stdout",
     "output_type": "stream",
     "text": [
      " estimated tempo: 206.7778753292344\tbeats: 1139 -> 1136\n",
      " estimated tempo: 212.29781982723517\tbeats: 1150 -> 1147\n"
     ]
    },
    {
     "name": "stderr",
     "output_type": "stream",
     "text": [
      " 80%|████████  | 1027/1276 [04:44<01:15,  3.29it/s]"
     ]
    },
    {
     "name": "stdout",
     "output_type": "stream",
     "text": [
      " estimated tempo: 201.75542205477888\tbeats: 1119 -> 1116\n",
      " estimated tempo: 204.2216358839054\tbeats: 1154 -> 1141\n"
     ]
    },
    {
     "name": "stderr",
     "output_type": "stream",
     "text": [
      " 81%|████████  | 1029/1276 [04:44<01:02,  3.95it/s]"
     ]
    },
    {
     "name": "stdout",
     "output_type": "stream",
     "text": [
      " estimated tempo: 210.20363477118482\tbeats: 1144 -> 1133\n",
      " estimated tempo: 209.58335468661798\tbeats: 1166 -> 1153\n"
     ]
    },
    {
     "name": "stderr",
     "output_type": "stream",
     "text": [
      " 81%|████████  | 1031/1276 [04:44<00:50,  4.82it/s]"
     ]
    },
    {
     "name": "stdout",
     "output_type": "stream",
     "text": [
      " estimated tempo: 208.880914156201\tbeats: 950 -> 941\n",
      " estimated tempo: 226.97128484594518\tbeats: 896 -> 891\n"
     ]
    },
    {
     "name": "stderr",
     "output_type": "stream",
     "text": [
      " 81%|████████  | 1033/1276 [04:45<01:01,  3.95it/s]"
     ]
    },
    {
     "name": "stdout",
     "output_type": "stream",
     "text": [
      " estimated tempo: 194.92068656958884\tbeats: 4074 -> 4071\n",
      " estimated tempo: 200.5346596207656\tbeats: 947 -> 944\n"
     ]
    },
    {
     "name": "stderr",
     "output_type": "stream",
     "text": [
      "\r",
      " 81%|████████  | 1034/1276 [04:45<00:57,  4.21it/s]"
     ]
    },
    {
     "name": "stdout",
     "output_type": "stream",
     "text": [
      " estimated tempo: 209.64513193811922\tbeats: 1390 -> 1384\n",
      " estimated tempo: 198.7277628032306"
     ]
    },
    {
     "name": "stderr",
     "output_type": "stream",
     "text": [
      " 81%|████████  | 1036/1276 [04:46<00:51,  4.69it/s]"
     ]
    },
    {
     "name": "stdout",
     "output_type": "stream",
     "text": [
      "\tbeats: 922 -> 921\n",
      " estimated tempo: 213.74565133358863\tbeats: 1086 -> 1079\n"
     ]
    },
    {
     "name": "stderr",
     "output_type": "stream",
     "text": [
      "\r",
      " 81%|████████▏ | 1037/1276 [04:46<00:50,  4.72it/s]"
     ]
    },
    {
     "name": "stdout",
     "output_type": "stream",
     "text": [
      " estimated tempo: 202.00068989306652\tbeats: 974 -> 969\n"
     ]
    },
    {
     "name": "stderr",
     "output_type": "stream",
     "text": [
      "\r",
      " 81%|████████▏ | 1038/1276 [04:46<01:10,  3.37it/s]"
     ]
    },
    {
     "name": "stdout",
     "output_type": "stream",
     "text": [
      " estimated tempo: 207.93937306234574\tbeats: 3193 -> 3190\n"
     ]
    },
    {
     "name": "stderr",
     "output_type": "stream",
     "text": [
      "\r",
      " 81%|████████▏ | 1039/1276 [04:47<01:38,  2.41it/s]"
     ]
    },
    {
     "name": "stdout",
     "output_type": "stream",
     "text": [
      " estimated tempo: 189.74117647058867\tbeats: 4446 -> 4444\n"
     ]
    },
    {
     "name": "stderr",
     "output_type": "stream",
     "text": [
      "\r",
      " 82%|████████▏ | 1040/1276 [04:48<01:53,  2.08it/s]"
     ]
    },
    {
     "name": "stdout",
     "output_type": "stream",
     "text": [
      " estimated tempo: 206.093994036626\tbeats: 4317 -> 4311\n"
     ]
    },
    {
     "name": "stderr",
     "output_type": "stream",
     "text": [
      "\r",
      " 82%|████████▏ | 1041/1276 [04:48<01:58,  1.99it/s]"
     ]
    },
    {
     "name": "stdout",
     "output_type": "stream",
     "text": [
      " estimated tempo: 199.70030850595194\tbeats: 3580 -> 3577\n"
     ]
    },
    {
     "name": "stderr",
     "output_type": "stream",
     "text": [
      "\r",
      " 82%|████████▏ | 1042/1276 [04:49<01:58,  1.98it/s]"
     ]
    },
    {
     "name": "stdout",
     "output_type": "stream",
     "text": [
      " estimated tempo: 192.24368918347338\tbeats: 3585 -> 3579\n"
     ]
    },
    {
     "name": "stderr",
     "output_type": "stream",
     "text": [
      "\r",
      " 82%|████████▏ | 1043/1276 [04:49<01:38,  2.36it/s]"
     ]
    },
    {
     "name": "stdout",
     "output_type": "stream",
     "text": [
      " estimated tempo: 234.20201635914043\tbeats: 2086 -> 2083\n"
     ]
    },
    {
     "name": "stderr",
     "output_type": "stream",
     "text": [
      "\r",
      " 82%|████████▏ | 1044/1276 [04:49<01:26,  2.69it/s]"
     ]
    },
    {
     "name": "stdout",
     "output_type": "stream",
     "text": [
      " estimated tempo: 200.30534351145064\tbeats: 1571 -> 1565\n"
     ]
    },
    {
     "name": "stderr",
     "output_type": "stream",
     "text": [
      "\r",
      " 82%|████████▏ | 1045/1276 [04:49<01:16,  3.01it/s]"
     ]
    },
    {
     "name": "stdout",
     "output_type": "stream",
     "text": [
      " estimated tempo: 218.4495259341841\tbeats: 1352 -> 1337\n"
     ]
    },
    {
     "name": "stderr",
     "output_type": "stream",
     "text": [
      "\r",
      " 82%|████████▏ | 1046/1276 [04:50<01:11,  3.21it/s]"
     ]
    },
    {
     "name": "stdout",
     "output_type": "stream",
     "text": [
      " estimated tempo: 196.5497630331757\tbeats: 1850 -> 1847\n"
     ]
    },
    {
     "name": "stderr",
     "output_type": "stream",
     "text": [
      "\r",
      " 82%|████████▏ | 1047/1276 [04:50<01:05,  3.52it/s]"
     ]
    },
    {
     "name": "stdout",
     "output_type": "stream",
     "text": [
      " estimated tempo: 228.75297855440823\tbeats: 1386 -> 1379\n"
     ]
    },
    {
     "name": "stderr",
     "output_type": "stream",
     "text": [
      "\r",
      " 82%|████████▏ | 1048/1276 [04:50<01:01,  3.70it/s]"
     ]
    },
    {
     "name": "stdout",
     "output_type": "stream",
     "text": [
      " estimated tempo: 193.34883832450367\tbeats: 2364 -> 2361\n"
     ]
    },
    {
     "name": "stderr",
     "output_type": "stream",
     "text": [
      "\r",
      " 82%|████████▏ | 1049/1276 [04:51<01:23,  2.70it/s]"
     ]
    },
    {
     "name": "stdout",
     "output_type": "stream",
     "text": [
      " estimated tempo: 199.52029625409497\tbeats: 3935 -> 3932\n"
     ]
    },
    {
     "name": "stderr",
     "output_type": "stream",
     "text": [
      "\r",
      " 82%|████████▏ | 1050/1276 [04:51<01:14,  3.03it/s]"
     ]
    },
    {
     "name": "stdout",
     "output_type": "stream",
     "text": [
      " estimated tempo: 203.1148986188679\tbeats: 1433 -> 1430\n"
     ]
    },
    {
     "name": "stderr",
     "output_type": "stream",
     "text": [
      "\r",
      " 82%|████████▏ | 1051/1276 [04:51<01:13,  3.05it/s]"
     ]
    },
    {
     "name": "stdout",
     "output_type": "stream",
     "text": [
      " estimated tempo: 203.91099123397424\tbeats: 2734 -> 2731\n"
     ]
    },
    {
     "name": "stderr",
     "output_type": "stream",
     "text": [
      "\r",
      " 82%|████████▏ | 1052/1276 [04:52<01:48,  2.06it/s]"
     ]
    },
    {
     "name": "stdout",
     "output_type": "stream",
     "text": [
      " estimated tempo: 190.06526392732027\tbeats: 4597 -> 4596\n"
     ]
    },
    {
     "name": "stderr",
     "output_type": "stream",
     "text": [
      "\r",
      " 83%|████████▎ | 1053/1276 [04:52<01:30,  2.48it/s]"
     ]
    },
    {
     "name": "stdout",
     "output_type": "stream",
     "text": [
      " estimated tempo: 214.2884166719169\tbeats: 1775 -> 1772\n"
     ]
    },
    {
     "name": "stderr",
     "output_type": "stream",
     "text": [
      "\r",
      " 83%|████████▎ | 1054/1276 [04:53<01:31,  2.43it/s]"
     ]
    },
    {
     "name": "stdout",
     "output_type": "stream",
     "text": [
      " estimated tempo: 219.99024865920376\tbeats: 2866 -> 2863\n"
     ]
    },
    {
     "name": "stderr",
     "output_type": "stream",
     "text": [
      "\r",
      " 83%|████████▎ | 1055/1276 [04:53<01:41,  2.17it/s]"
     ]
    },
    {
     "name": "stdout",
     "output_type": "stream",
     "text": [
      " estimated tempo: 191.8317265556517\tbeats: 3580 -> 3574\n"
     ]
    },
    {
     "name": "stderr",
     "output_type": "stream",
     "text": [
      "\r",
      " 83%|████████▎ | 1056/1276 [04:54<01:43,  2.14it/s]"
     ]
    },
    {
     "name": "stdout",
     "output_type": "stream",
     "text": [
      " estimated tempo: 214.54733574755332\tbeats: 2697 -> 2688\n"
     ]
    },
    {
     "name": "stderr",
     "output_type": "stream",
     "text": [
      "\r",
      " 83%|████████▎ | 1057/1276 [04:54<01:51,  1.97it/s]"
     ]
    },
    {
     "name": "stdout",
     "output_type": "stream",
     "text": [
      " estimated tempo: 204.0714389429349\tbeats: 3179 -> 3171\n"
     ]
    },
    {
     "name": "stderr",
     "output_type": "stream",
     "text": [
      "\r",
      " 83%|████████▎ | 1058/1276 [04:55<01:41,  2.15it/s]"
     ]
    },
    {
     "name": "stdout",
     "output_type": "stream",
     "text": [
      " estimated tempo: 207.40148029606166\tbeats: 2173 -> 2170\n"
     ]
    },
    {
     "name": "stderr",
     "output_type": "stream",
     "text": [
      "\r",
      " 83%|████████▎ | 1059/1276 [04:55<01:34,  2.30it/s]"
     ]
    },
    {
     "name": "stdout",
     "output_type": "stream",
     "text": [
      " estimated tempo: 205.3494611431948\tbeats: 1995 -> 1990\n"
     ]
    },
    {
     "name": "stderr",
     "output_type": "stream",
     "text": [
      "\r",
      " 83%|████████▎ | 1060/1276 [04:55<01:27,  2.46it/s]"
     ]
    },
    {
     "name": "stdout",
     "output_type": "stream",
     "text": [
      " estimated tempo: 206.32563299916586\tbeats: 2115 -> 2112\n"
     ]
    },
    {
     "name": "stderr",
     "output_type": "stream",
     "text": [
      "\r",
      " 83%|████████▎ | 1061/1276 [04:56<01:29,  2.39it/s]"
     ]
    },
    {
     "name": "stdout",
     "output_type": "stream",
     "text": [
      " estimated tempo: 203.5390175344658\tbeats: 2142 -> 2139\n"
     ]
    },
    {
     "name": "stderr",
     "output_type": "stream",
     "text": [
      "\r",
      " 83%|████████▎ | 1062/1276 [04:56<01:31,  2.33it/s]"
     ]
    },
    {
     "name": "stdout",
     "output_type": "stream",
     "text": [
      " estimated tempo: 197.20399429386632\tbeats: 2135 -> 2132\n"
     ]
    },
    {
     "name": "stderr",
     "output_type": "stream",
     "text": [
      "\r",
      " 83%|████████▎ | 1063/1276 [04:57<01:22,  2.57it/s]"
     ]
    },
    {
     "name": "stdout",
     "output_type": "stream",
     "text": [
      " estimated tempo: 211.02702702702763\tbeats: 1913 -> 1910\n"
     ]
    },
    {
     "name": "stderr",
     "output_type": "stream",
     "text": [
      "\r",
      " 83%|████████▎ | 1064/1276 [04:57<01:21,  2.60it/s]"
     ]
    },
    {
     "name": "stdout",
     "output_type": "stream",
     "text": [
      " estimated tempo: 201.10979487499245\tbeats: 2141 -> 2137\n"
     ]
    },
    {
     "name": "stderr",
     "output_type": "stream",
     "text": [
      "\r",
      " 83%|████████▎ | 1065/1276 [04:57<01:23,  2.54it/s]"
     ]
    },
    {
     "name": "stdout",
     "output_type": "stream",
     "text": [
      " estimated tempo: 203.39625349887962\tbeats: 2185 -> 2182\n"
     ]
    },
    {
     "name": "stderr",
     "output_type": "stream",
     "text": [
      "\r",
      " 84%|████████▎ | 1066/1276 [04:58<01:16,  2.74it/s]"
     ]
    },
    {
     "name": "stdout",
     "output_type": "stream",
     "text": [
      " estimated tempo: 196.85918234912546\tbeats: 2143 -> 2140\n"
     ]
    },
    {
     "name": "stderr",
     "output_type": "stream",
     "text": [
      "\r",
      " 84%|████████▎ | 1067/1276 [04:58<01:20,  2.59it/s]"
     ]
    },
    {
     "name": "stdout",
     "output_type": "stream",
     "text": [
      " estimated tempo: 206.0028050490887\tbeats: 2123 -> 2120\n"
     ]
    },
    {
     "name": "stderr",
     "output_type": "stream",
     "text": [
      "\r",
      " 84%|████████▎ | 1068/1276 [04:59<01:19,  2.62it/s]"
     ]
    },
    {
     "name": "stdout",
     "output_type": "stream",
     "text": [
      " estimated tempo: 202.99559471365873\tbeats: 1956 -> 1953\n"
     ]
    },
    {
     "name": "stderr",
     "output_type": "stream",
     "text": [
      "\r",
      " 84%|████████▍ | 1069/1276 [04:59<01:19,  2.62it/s]"
     ]
    },
    {
     "name": "stdout",
     "output_type": "stream",
     "text": [
      " estimated tempo: 197.9207048458147\tbeats: 2223 -> 2208\n"
     ]
    },
    {
     "name": "stderr",
     "output_type": "stream",
     "text": [
      "\r",
      " 84%|████████▍ | 1070/1276 [04:59<01:14,  2.77it/s]"
     ]
    },
    {
     "name": "stdout",
     "output_type": "stream",
     "text": [
      " estimated tempo: 208.67308316211887\tbeats: 2327 -> 2318\n"
     ]
    },
    {
     "name": "stderr",
     "output_type": "stream",
     "text": [
      "\r",
      " 84%|████████▍ | 1071/1276 [05:00<01:16,  2.67it/s]"
     ]
    },
    {
     "name": "stdout",
     "output_type": "stream",
     "text": [
      " estimated tempo: 198.72080649678298\tbeats: 2656 -> 2653\n"
     ]
    },
    {
     "name": "stderr",
     "output_type": "stream",
     "text": [
      "\r",
      " 84%|████████▍ | 1072/1276 [05:00<01:11,  2.87it/s]"
     ]
    },
    {
     "name": "stdout",
     "output_type": "stream",
     "text": [
      " estimated tempo: 205.02407002188036\tbeats: 2059 -> 2054\n"
     ]
    },
    {
     "name": "stderr",
     "output_type": "stream",
     "text": [
      "\r",
      " 84%|████████▍ | 1073/1276 [05:00<01:11,  2.85it/s]"
     ]
    },
    {
     "name": "stdout",
     "output_type": "stream",
     "text": [
      " estimated tempo: 202.97990726429313\tbeats: 2243 -> 2227\n"
     ]
    },
    {
     "name": "stderr",
     "output_type": "stream",
     "text": [
      "\r",
      " 84%|████████▍ | 1074/1276 [05:01<01:12,  2.78it/s]"
     ]
    },
    {
     "name": "stdout",
     "output_type": "stream",
     "text": [
      " estimated tempo: 202.3080782739571\tbeats: 2042 -> 2036\n"
     ]
    },
    {
     "name": "stderr",
     "output_type": "stream",
     "text": [
      "\r",
      " 84%|████████▍ | 1075/1276 [05:01<01:07,  2.97it/s]"
     ]
    },
    {
     "name": "stdout",
     "output_type": "stream",
     "text": [
      " estimated tempo: 205.03084954912114\tbeats: 2274 -> 2271\n"
     ]
    },
    {
     "name": "stderr",
     "output_type": "stream",
     "text": [
      "\r",
      " 84%|████████▍ | 1076/1276 [05:01<01:07,  2.96it/s]"
     ]
    },
    {
     "name": "stdout",
     "output_type": "stream",
     "text": [
      " estimated tempo: 206.13257421716258\tbeats: 2089 -> 2085\n"
     ]
    },
    {
     "name": "stderr",
     "output_type": "stream",
     "text": [
      "\r",
      " 84%|████████▍ | 1077/1276 [05:02<01:06,  3.01it/s]"
     ]
    },
    {
     "name": "stdout",
     "output_type": "stream",
     "text": [
      " estimated tempo: 205.1367997653674\tbeats: 2050 -> 2042\n"
     ]
    },
    {
     "name": "stderr",
     "output_type": "stream",
     "text": [
      "\r",
      " 84%|████████▍ | 1078/1276 [05:02<01:07,  2.95it/s]"
     ]
    },
    {
     "name": "stdout",
     "output_type": "stream",
     "text": [
      " estimated tempo: 199.33174224343682\tbeats: 2258 -> 2255\n"
     ]
    },
    {
     "name": "stderr",
     "output_type": "stream",
     "text": [
      "\r",
      " 85%|████████▍ | 1079/1276 [05:02<01:03,  3.11it/s]"
     ]
    },
    {
     "name": "stdout",
     "output_type": "stream",
     "text": [
      " estimated tempo: 198.37795800466736\tbeats: 2083 -> 2074\n"
     ]
    },
    {
     "name": "stderr",
     "output_type": "stream",
     "text": [
      "\r",
      " 85%|████████▍ | 1080/1276 [05:03<01:07,  2.89it/s]"
     ]
    },
    {
     "name": "stdout",
     "output_type": "stream",
     "text": [
      " estimated tempo: 200.8124658946203\tbeats: 2001 -> 1998\n"
     ]
    },
    {
     "name": "stderr",
     "output_type": "stream",
     "text": [
      "\r",
      " 85%|████████▍ | 1081/1276 [05:03<01:08,  2.86it/s]"
     ]
    },
    {
     "name": "stdout",
     "output_type": "stream",
     "text": [
      " estimated tempo: 202.42811501597416\tbeats: 1998 -> 1982\n"
     ]
    },
    {
     "name": "stderr",
     "output_type": "stream",
     "text": [
      "\r",
      " 85%|████████▍ | 1082/1276 [05:03<01:09,  2.77it/s]"
     ]
    },
    {
     "name": "stdout",
     "output_type": "stream",
     "text": [
      " estimated tempo: 209.49411931415733\tbeats: 2301 -> 2295\n"
     ]
    },
    {
     "name": "stderr",
     "output_type": "stream",
     "text": [
      "\r",
      " 85%|████████▍ | 1083/1276 [05:04<01:04,  3.01it/s]"
     ]
    },
    {
     "name": "stdout",
     "output_type": "stream",
     "text": [
      " estimated tempo: 214.6949912297747\tbeats: 2458 -> 2452\n"
     ]
    },
    {
     "name": "stderr",
     "output_type": "stream",
     "text": [
      "\r",
      " 85%|████████▍ | 1084/1276 [05:04<01:21,  2.35it/s]"
     ]
    },
    {
     "name": "stdout",
     "output_type": "stream",
     "text": [
      " estimated tempo: 197.11260827718962\tbeats: 5028 -> 5025\n"
     ]
    },
    {
     "name": "stderr",
     "output_type": "stream",
     "text": [
      " 85%|████████▌ | 1086/1276 [05:05<00:54,  3.50it/s]"
     ]
    },
    {
     "name": "stdout",
     "output_type": "stream",
     "text": [
      " estimated tempo: 149.0017732345887\tbeats: 817 -> 814\n",
      " estimated tempo: 211.00741386830015\tbeats: 1035 -> 1032\n"
     ]
    },
    {
     "name": "stderr",
     "output_type": "stream",
     "text": [
      "\r",
      " 85%|████████▌ | 1087/1276 [05:05<00:44,  4.22it/s]"
     ]
    },
    {
     "name": "stdout",
     "output_type": "stream",
     "text": [
      " estimated tempo: 203.3071168233283\tbeats: 873 -> 869\n"
     ]
    },
    {
     "name": "stderr",
     "output_type": "stream",
     "text": [
      "\r",
      " 85%|████████▌ | 1088/1276 [05:05<00:52,  3.60it/s]"
     ]
    },
    {
     "name": "stdout",
     "output_type": "stream",
     "text": [
      " estimated tempo: 211.60593792172773\tbeats: 1873 -> 1870\n"
     ]
    },
    {
     "name": "stderr",
     "output_type": "stream",
     "text": [
      "\r",
      " 85%|████████▌ | 1089/1276 [05:05<00:53,  3.48it/s]"
     ]
    },
    {
     "name": "stdout",
     "output_type": "stream",
     "text": [
      " estimated tempo: 213.5496017378747\tbeats: 1750 -> 1747\n"
     ]
    },
    {
     "name": "stderr",
     "output_type": "stream",
     "text": [
      "\r",
      " 85%|████████▌ | 1090/1276 [05:06<00:58,  3.17it/s]"
     ]
    },
    {
     "name": "stdout",
     "output_type": "stream",
     "text": [
      " estimated tempo: 214.8024155101174\tbeats: 1915 -> 1909\n"
     ]
    },
    {
     "name": "stderr",
     "output_type": "stream",
     "text": [
      "\r",
      " 86%|████████▌ | 1091/1276 [05:07<01:24,  2.18it/s]"
     ]
    },
    {
     "name": "stdout",
     "output_type": "stream",
     "text": [
      " estimated tempo: 207.0638986249793\tbeats: 6048 -> 6043\n"
     ]
    },
    {
     "name": "stderr",
     "output_type": "stream",
     "text": [
      "\r",
      " 86%|████████▌ | 1092/1276 [05:07<01:44,  1.76it/s]"
     ]
    },
    {
     "name": "stdout",
     "output_type": "stream",
     "text": [
      " estimated tempo: 196.72088624697946\tbeats: 6599 -> 6585\n"
     ]
    },
    {
     "name": "stderr",
     "output_type": "stream",
     "text": [
      "\r",
      " 86%|████████▌ | 1093/1276 [05:08<01:54,  1.60it/s]"
     ]
    },
    {
     "name": "stdout",
     "output_type": "stream",
     "text": [
      " estimated tempo: 201.17323929331548\tbeats: 6566 -> 6563\n"
     ]
    },
    {
     "name": "stderr",
     "output_type": "stream",
     "text": [
      "\r",
      " 86%|████████▌ | 1094/1276 [05:09<02:05,  1.45it/s]"
     ]
    },
    {
     "name": "stdout",
     "output_type": "stream",
     "text": [
      " estimated tempo: 204.39337614058599\tbeats: 6734 -> 6731\n"
     ]
    },
    {
     "name": "stderr",
     "output_type": "stream",
     "text": [
      "\r",
      " 86%|████████▌ | 1095/1276 [05:10<02:06,  1.43it/s]"
     ]
    },
    {
     "name": "stdout",
     "output_type": "stream",
     "text": [
      " estimated tempo: 196.0350548796159\tbeats: 5957 -> 5956\n"
     ]
    },
    {
     "name": "stderr",
     "output_type": "stream",
     "text": [
      "\r",
      " 86%|████████▌ | 1096/1276 [05:11<02:13,  1.34it/s]"
     ]
    },
    {
     "name": "stdout",
     "output_type": "stream",
     "text": [
      " estimated tempo: 204.3941109852573\tbeats: 6494 -> 6493\n"
     ]
    },
    {
     "name": "stderr",
     "output_type": "stream",
     "text": [
      "\r",
      " 86%|████████▌ | 1097/1276 [05:11<01:49,  1.63it/s]"
     ]
    },
    {
     "name": "stdout",
     "output_type": "stream",
     "text": [
      " estimated tempo: 191.2115841798155\tbeats: 2130 -> 2126\n"
     ]
    },
    {
     "name": "stderr",
     "output_type": "stream",
     "text": [
      " 86%|████████▌ | 1099/1276 [05:11<01:13,  2.41it/s]"
     ]
    },
    {
     "name": "stdout",
     "output_type": "stream",
     "text": [
      " estimated tempo: 195.77158519871884\tbeats: 2134 -> 2129\n",
      " estimated tempo: 196.79182403910232\tbeats: 806 -> 803\n"
     ]
    },
    {
     "name": "stderr",
     "output_type": "stream",
     "text": [
      "\r",
      " 86%|████████▌ | 1100/1276 [05:12<01:07,  2.59it/s]"
     ]
    },
    {
     "name": "stdout",
     "output_type": "stream",
     "text": [
      " estimated tempo: 192.38997968855796\tbeats: 2062 -> 2055\n"
     ]
    },
    {
     "name": "stderr",
     "output_type": "stream",
     "text": [
      " 86%|████████▋ | 1102/1276 [05:12<00:51,  3.35it/s]"
     ]
    },
    {
     "name": "stdout",
     "output_type": "stream",
     "text": [
      " estimated tempo: 191.40981972252249\tbeats: 2075 -> 2071\n",
      " estimated tempo: 211.6064757160645\tbeats: 976 -> 971\n"
     ]
    },
    {
     "name": "stderr",
     "output_type": "stream",
     "text": [
      " 87%|████████▋ | 1104/1276 [05:13<00:40,  4.22it/s]"
     ]
    },
    {
     "name": "stdout",
     "output_type": "stream",
     "text": [
      " estimated tempo: 220.59257342476647\tbeats: 1031 -> 1028\n",
      " estimated tempo: 199.9421463696845\tbeats: 1221 -> 1217\n"
     ]
    },
    {
     "name": "stderr",
     "output_type": "stream",
     "text": [
      "\r",
      " 87%|████████▋ | 1105/1276 [05:13<00:51,  3.29it/s]"
     ]
    },
    {
     "name": "stdout",
     "output_type": "stream",
     "text": [
      " estimated tempo: 206.1708067864541\tbeats: 2308 -> 2305\n"
     ]
    },
    {
     "name": "stderr",
     "output_type": "stream",
     "text": [
      "\r",
      " 87%|████████▋ | 1106/1276 [05:13<00:52,  3.22it/s]"
     ]
    },
    {
     "name": "stdout",
     "output_type": "stream",
     "text": [
      " estimated tempo: 214.23216620659102\tbeats: 2177 -> 2172\n"
     ]
    },
    {
     "name": "stderr",
     "output_type": "stream",
     "text": [
      "\r",
      " 87%|████████▋ | 1107/1276 [05:14<01:02,  2.70it/s]"
     ]
    },
    {
     "name": "stdout",
     "output_type": "stream",
     "text": [
      " estimated tempo: 214.54462866227712\tbeats: 2602 -> 2595\n"
     ]
    },
    {
     "name": "stderr",
     "output_type": "stream",
     "text": [
      " 87%|████████▋ | 1110/1276 [05:14<00:34,  4.83it/s]"
     ]
    },
    {
     "name": "stdout",
     "output_type": "stream",
     "text": [
      " estimated tempo: 222.67323861988416\tbeats: 1531 -> 1528\n",
      " estimated tempo: 211.93166885676578\tbeats: 226 -> 219\n",
      " estimated tempo: 220.36863604662955\tbeats: 915 -> 910\n"
     ]
    },
    {
     "name": "stderr",
     "output_type": "stream",
     "text": [
      "\r",
      " 87%|████████▋ | 1111/1276 [05:14<00:34,  4.81it/s]"
     ]
    },
    {
     "name": "stdout",
     "output_type": "stream",
     "text": [
      " estimated tempo: 195.17547398144615\tbeats: 1441 -> 1435\n",
      " estimated tempo: 187.8516102731344"
     ]
    },
    {
     "name": "stderr",
     "output_type": "stream",
     "text": [
      "\r",
      " 87%|████████▋ | 1112/1276 [05:15<00:33,  4.88it/s]"
     ]
    },
    {
     "name": "stdout",
     "output_type": "stream",
     "text": [
      "\tbeats: 1612 -> 1608\n"
     ]
    },
    {
     "name": "stderr",
     "output_type": "stream",
     "text": [
      "\r",
      " 87%|████████▋ | 1113/1276 [05:15<00:36,  4.42it/s]"
     ]
    },
    {
     "name": "stdout",
     "output_type": "stream",
     "text": [
      " estimated tempo: 198.48906560636186\tbeats: 1569 -> 1567\n"
     ]
    },
    {
     "name": "stderr",
     "output_type": "stream",
     "text": [
      " 87%|████████▋ | 1115/1276 [05:15<00:32,  4.93it/s]"
     ]
    },
    {
     "name": "stdout",
     "output_type": "stream",
     "text": [
      " estimated tempo: 195.16026566561197\tbeats: 1627 -> 1622\n",
      " estimated tempo: 203.76500315856296\tbeats: 756 -> 750\n"
     ]
    },
    {
     "name": "stderr",
     "output_type": "stream",
     "text": [
      "\r",
      " 87%|████████▋ | 1116/1276 [05:15<00:32,  4.92it/s]"
     ]
    },
    {
     "name": "stdout",
     "output_type": "stream",
     "text": [
      " estimated tempo: 218.10866778424247\tbeats: 1337 -> 1334\n"
     ]
    },
    {
     "name": "stderr",
     "output_type": "stream",
     "text": [
      " 88%|████████▊ | 1118/1276 [05:16<00:30,  5.11it/s]"
     ]
    },
    {
     "name": "stdout",
     "output_type": "stream",
     "text": [
      " estimated tempo: 201.085173501577\tbeats: 1590 -> 1586\n",
      " estimated tempo: 222.250803858523\tbeats: 1012 -> 1009\n"
     ]
    },
    {
     "name": "stderr",
     "output_type": "stream",
     "text": [
      " 88%|████████▊ | 1120/1276 [05:16<00:36,  4.26it/s]"
     ]
    },
    {
     "name": "stdout",
     "output_type": "stream",
     "text": [
      " estimated tempo: 211.67823601470786\tbeats: 3443 -> 3439\n",
      " estimated tempo: 207.81176470586723\tbeats: 1075 -> 1072\n"
     ]
    },
    {
     "name": "stderr",
     "output_type": "stream",
     "text": [
      "\r",
      " 88%|████████▊ | 1121/1276 [05:17<00:30,  5.11it/s]"
     ]
    },
    {
     "name": "stdout",
     "output_type": "stream",
     "text": [
      " estimated tempo: 210.7690671205207\tbeats: 856 -> 853\n",
      " estimated tempo: 220.37302725968266\tbeats: 401 -> 392\n"
     ]
    },
    {
     "name": "stderr",
     "output_type": "stream",
     "text": [
      "\r",
      " 88%|████████▊ | 1123/1276 [05:17<00:35,  4.36it/s]"
     ]
    },
    {
     "name": "stdout",
     "output_type": "stream",
     "text": [
      " estimated tempo: 203.10947267190136\tbeats: 3308 -> 3303\n",
      " estimated tempo: 206.70297981416255\tbeats: 814 -> 811\n"
     ]
    },
    {
     "name": "stderr",
     "output_type": "stream",
     "text": [
      "\r",
      " 88%|████████▊ | 1125/1276 [05:17<00:26,  5.70it/s]"
     ]
    },
    {
     "name": "stdout",
     "output_type": "stream",
     "text": [
      " estimated tempo: 186.8874468561182\tbeats: 919 -> 915\n"
     ]
    },
    {
     "name": "stderr",
     "output_type": "stream",
     "text": [
      "\r",
      " 88%|████████▊ | 1126/1276 [05:18<00:28,  5.26it/s]"
     ]
    },
    {
     "name": "stdout",
     "output_type": "stream",
     "text": [
      " estimated tempo: 200.18316308559557\tbeats: 1690 -> 1686\n",
      " estimated tempo: 210.7317073170701"
     ]
    },
    {
     "name": "stderr",
     "output_type": "stream",
     "text": [
      "\r",
      " 88%|████████▊ | 1127/1276 [05:18<00:28,  5.23it/s]"
     ]
    },
    {
     "name": "stdout",
     "output_type": "stream",
     "text": [
      "\tbeats: 1512 -> 1509\n"
     ]
    },
    {
     "name": "stderr",
     "output_type": "stream",
     "text": [
      "\r",
      " 88%|████████▊ | 1128/1276 [05:18<00:32,  4.53it/s]"
     ]
    },
    {
     "name": "stdout",
     "output_type": "stream",
     "text": [
      " estimated tempo: 207.96054948925155\tbeats: 1455 -> 1450\n"
     ]
    },
    {
     "name": "stderr",
     "output_type": "stream",
     "text": [
      "\r",
      " 88%|████████▊ | 1129/1276 [05:18<00:33,  4.34it/s]"
     ]
    },
    {
     "name": "stdout",
     "output_type": "stream",
     "text": [
      " estimated tempo: 210.61495844875432\tbeats: 1608 -> 1605\n"
     ]
    },
    {
     "name": "stderr",
     "output_type": "stream",
     "text": [
      "\r",
      " 89%|████████▊ | 1130/1276 [05:19<00:37,  3.88it/s]"
     ]
    },
    {
     "name": "stdout",
     "output_type": "stream",
     "text": [
      " estimated tempo: 209.58686039166247\tbeats: 1578 -> 1575\n"
     ]
    },
    {
     "name": "stderr",
     "output_type": "stream",
     "text": [
      "\r",
      " 89%|████████▊ | 1131/1276 [05:19<00:35,  4.05it/s]"
     ]
    },
    {
     "name": "stdout",
     "output_type": "stream",
     "text": [
      " estimated tempo: 209.6133434419992\tbeats: 1573 -> 1567\n"
     ]
    },
    {
     "name": "stderr",
     "output_type": "stream",
     "text": [
      "\r",
      " 89%|████████▊ | 1132/1276 [05:19<00:38,  3.70it/s]"
     ]
    },
    {
     "name": "stdout",
     "output_type": "stream",
     "text": [
      " estimated tempo: 213.36077170417607\tbeats: 1606 -> 1603\n"
     ]
    },
    {
     "name": "stderr",
     "output_type": "stream",
     "text": [
      "\r",
      " 89%|████████▉ | 1133/1276 [05:19<00:39,  3.61it/s]"
     ]
    },
    {
     "name": "stdout",
     "output_type": "stream",
     "text": [
      " estimated tempo: 211.06251209599168\tbeats: 1370 -> 1359\n"
     ]
    },
    {
     "name": "stderr",
     "output_type": "stream",
     "text": [
      " 89%|████████▉ | 1135/1276 [05:20<00:32,  4.32it/s]"
     ]
    },
    {
     "name": "stdout",
     "output_type": "stream",
     "text": [
      " estimated tempo: 197.84207578869385\tbeats: 1630 -> 1625\n",
      " estimated tempo: 202.4202919087432\tbeats: 1475 -> 1470\n"
     ]
    },
    {
     "name": "stderr",
     "output_type": "stream",
     "text": [
      "\r",
      " 89%|████████▉ | 1136/1276 [05:20<00:30,  4.53it/s]"
     ]
    },
    {
     "name": "stdout",
     "output_type": "stream",
     "text": [
      " estimated tempo: 203.29411764705839\tbeats: 1314 -> 1308\n"
     ]
    },
    {
     "name": "stderr",
     "output_type": "stream",
     "text": [
      "\r",
      " 89%|████████▉ | 1137/1276 [05:21<00:55,  2.48it/s]"
     ]
    },
    {
     "name": "stdout",
     "output_type": "stream",
     "text": [
      " estimated tempo: 207.50756093222034\tbeats: 5893 -> 5889\n"
     ]
    },
    {
     "name": "stderr",
     "output_type": "stream",
     "text": [
      "\r",
      " 89%|████████▉ | 1138/1276 [05:22<01:13,  1.88it/s]"
     ]
    },
    {
     "name": "stdout",
     "output_type": "stream",
     "text": [
      " estimated tempo: 206.41944531007334\tbeats: 4967 -> 4964\n"
     ]
    },
    {
     "name": "stderr",
     "output_type": "stream",
     "text": [
      "\r",
      " 89%|████████▉ | 1139/1276 [05:23<01:25,  1.60it/s]"
     ]
    },
    {
     "name": "stdout",
     "output_type": "stream",
     "text": [
      " estimated tempo: 205.09090909091083\tbeats: 5202 -> 5199\n"
     ]
    },
    {
     "name": "stderr",
     "output_type": "stream",
     "text": [
      "\r",
      " 89%|████████▉ | 1140/1276 [05:23<01:27,  1.55it/s]"
     ]
    },
    {
     "name": "stdout",
     "output_type": "stream",
     "text": [
      " estimated tempo: 213.31317902692965\tbeats: 4573 -> 4570\n"
     ]
    },
    {
     "name": "stderr",
     "output_type": "stream",
     "text": [
      "\r",
      " 89%|████████▉ | 1141/1276 [05:24<01:40,  1.34it/s]"
     ]
    },
    {
     "name": "stdout",
     "output_type": "stream",
     "text": [
      " estimated tempo: 199.79188345473517\tbeats: 7000 -> 6995\n"
     ]
    },
    {
     "name": "stderr",
     "output_type": "stream",
     "text": [
      "\r",
      " 89%|████████▉ | 1142/1276 [05:25<01:41,  1.32it/s]"
     ]
    },
    {
     "name": "stdout",
     "output_type": "stream",
     "text": [
      " estimated tempo: 202.5380367406746\tbeats: 6372 -> 6365\n"
     ]
    },
    {
     "name": "stderr",
     "output_type": "stream",
     "text": [
      "\r",
      " 90%|████████▉ | 1143/1276 [05:26<01:49,  1.21it/s]"
     ]
    },
    {
     "name": "stdout",
     "output_type": "stream",
     "text": [
      " estimated tempo: 202.23737043612027\tbeats: 6394 -> 6387\n"
     ]
    },
    {
     "name": "stderr",
     "output_type": "stream",
     "text": [
      "\r",
      " 90%|████████▉ | 1144/1276 [05:27<01:44,  1.26it/s]"
     ]
    },
    {
     "name": "stdout",
     "output_type": "stream",
     "text": [
      " estimated tempo: 212.5096525096804\tbeats: 4454 -> 4447\n"
     ]
    },
    {
     "name": "stderr",
     "output_type": "stream",
     "text": [
      "\r",
      " 90%|████████▉ | 1145/1276 [05:28<01:43,  1.27it/s]"
     ]
    },
    {
     "name": "stdout",
     "output_type": "stream",
     "text": [
      " estimated tempo: 192.76163000360782\tbeats: 6532 -> 6528\n"
     ]
    },
    {
     "name": "stderr",
     "output_type": "stream",
     "text": [
      "\r",
      " 90%|████████▉ | 1146/1276 [05:28<01:21,  1.59it/s]"
     ]
    },
    {
     "name": "stdout",
     "output_type": "stream",
     "text": [
      " estimated tempo: 200.86636697997787\tbeats: 2136 -> 2133\n"
     ]
    },
    {
     "name": "stderr",
     "output_type": "stream",
     "text": [
      "\r",
      " 90%|████████▉ | 1147/1276 [05:28<01:20,  1.60it/s]"
     ]
    },
    {
     "name": "stdout",
     "output_type": "stream",
     "text": [
      " estimated tempo: 201.56620078951525\tbeats: 5490 -> 5487\n"
     ]
    },
    {
     "name": "stderr",
     "output_type": "stream",
     "text": [
      "\r",
      " 90%|████████▉ | 1148/1276 [05:29<01:24,  1.51it/s]"
     ]
    },
    {
     "name": "stdout",
     "output_type": "stream",
     "text": [
      " estimated tempo: 202.47007410221775\tbeats: 4403 -> 4399\n"
     ]
    },
    {
     "name": "stderr",
     "output_type": "stream",
     "text": [
      "\r",
      " 90%|█████████ | 1149/1276 [05:30<01:29,  1.41it/s]"
     ]
    },
    {
     "name": "stdout",
     "output_type": "stream",
     "text": [
      " estimated tempo: 200.95109542103694\tbeats: 6324 -> 6309\n"
     ]
    },
    {
     "name": "stderr",
     "output_type": "stream",
     "text": [
      "\r",
      " 90%|█████████ | 1150/1276 [05:30<01:16,  1.65it/s]"
     ]
    },
    {
     "name": "stdout",
     "output_type": "stream",
     "text": [
      " estimated tempo: 199.88186650915574\tbeats: 2334 -> 2331\n"
     ]
    },
    {
     "name": "stderr",
     "output_type": "stream",
     "text": [
      "\r",
      " 90%|█████████ | 1151/1276 [05:31<01:02,  1.99it/s]"
     ]
    },
    {
     "name": "stdout",
     "output_type": "stream",
     "text": [
      " estimated tempo: 202.3486901535691\tbeats: 2382 -> 2378\n"
     ]
    },
    {
     "name": "stderr",
     "output_type": "stream",
     "text": [
      "\r",
      " 90%|█████████ | 1152/1276 [05:31<01:13,  1.69it/s]"
     ]
    },
    {
     "name": "stdout",
     "output_type": "stream",
     "text": [
      " estimated tempo: 196.52784746613\tbeats: 6203 -> 6194\n"
     ]
    },
    {
     "name": "stderr",
     "output_type": "stream",
     "text": [
      "\r",
      " 90%|█████████ | 1153/1276 [05:32<01:20,  1.52it/s]"
     ]
    },
    {
     "name": "stdout",
     "output_type": "stream",
     "text": [
      " estimated tempo: 196.41594885001993\tbeats: 6132 -> 6126\n"
     ]
    },
    {
     "name": "stderr",
     "output_type": "stream",
     "text": [
      "\r",
      " 90%|█████████ | 1154/1276 [05:33<01:21,  1.50it/s]"
     ]
    },
    {
     "name": "stdout",
     "output_type": "stream",
     "text": [
      " estimated tempo: 200.08306588635838\tbeats: 6718 -> 6713\n",
      " estimated tempo: 161.71967536740422\tbeats: 666 -> 664\n"
     ]
    },
    {
     "name": "stderr",
     "output_type": "stream",
     "text": [
      "\r",
      " 91%|█████████ | 1156/1276 [05:33<00:51,  2.35it/s]"
     ]
    },
    {
     "name": "stdout",
     "output_type": "stream",
     "text": [
      " estimated tempo: 205.0916859533556\tbeats: 1499 -> 1495\n"
     ]
    },
    {
     "name": "stderr",
     "output_type": "stream",
     "text": [
      "\r",
      " 91%|█████████ | 1157/1276 [05:34<01:05,  1.82it/s]"
     ]
    },
    {
     "name": "stdout",
     "output_type": "stream",
     "text": [
      " estimated tempo: 194.1653240798144\tbeats: 5816 -> 5812\n"
     ]
    },
    {
     "name": "stderr",
     "output_type": "stream",
     "text": [
      "\r",
      " 91%|█████████ | 1158/1276 [05:35<01:13,  1.60it/s]"
     ]
    },
    {
     "name": "stdout",
     "output_type": "stream",
     "text": [
      " estimated tempo: 199.77638334284154\tbeats: 6373 -> 6370\n"
     ]
    },
    {
     "name": "stderr",
     "output_type": "stream",
     "text": [
      "\r",
      " 91%|█████████ | 1159/1276 [05:36<01:23,  1.40it/s]"
     ]
    },
    {
     "name": "stdout",
     "output_type": "stream",
     "text": [
      " estimated tempo: 203.54656732303735\tbeats: 5370 -> 5367\n"
     ]
    },
    {
     "name": "stderr",
     "output_type": "stream",
     "text": [
      "\r",
      " 91%|█████████ | 1160/1276 [05:36<01:18,  1.47it/s]"
     ]
    },
    {
     "name": "stdout",
     "output_type": "stream",
     "text": [
      " estimated tempo: 204.48191701798658\tbeats: 3329 -> 3326\n"
     ]
    },
    {
     "name": "stderr",
     "output_type": "stream",
     "text": [
      "\r",
      " 91%|█████████ | 1161/1276 [05:37<01:15,  1.52it/s]"
     ]
    },
    {
     "name": "stdout",
     "output_type": "stream",
     "text": [
      " estimated tempo: 202.08193883439108\tbeats: 3801 -> 3799\n"
     ]
    },
    {
     "name": "stderr",
     "output_type": "stream",
     "text": [
      "\r",
      " 91%|█████████ | 1162/1276 [05:38<01:10,  1.62it/s]"
     ]
    },
    {
     "name": "stdout",
     "output_type": "stream",
     "text": [
      " estimated tempo: 207.95969773299376\tbeats: 3401 -> 3399\n"
     ]
    },
    {
     "name": "stderr",
     "output_type": "stream",
     "text": [
      "\r",
      " 91%|█████████ | 1163/1276 [05:38<01:13,  1.53it/s]"
     ]
    },
    {
     "name": "stdout",
     "output_type": "stream",
     "text": [
      " estimated tempo: 204.49163959109518\tbeats: 5381 -> 5378\n"
     ]
    },
    {
     "name": "stderr",
     "output_type": "stream",
     "text": [
      "\r",
      " 91%|█████████ | 1164/1276 [05:39<01:24,  1.32it/s]"
     ]
    },
    {
     "name": "stdout",
     "output_type": "stream",
     "text": [
      " estimated tempo: 219.93976930507708\tbeats: 5956 -> 5953\n"
     ]
    },
    {
     "name": "stderr",
     "output_type": "stream",
     "text": [
      "\r",
      " 91%|█████████▏| 1165/1276 [05:40<01:25,  1.29it/s]"
     ]
    },
    {
     "name": "stdout",
     "output_type": "stream",
     "text": [
      " estimated tempo: 196.32379793061705\tbeats: 5348 -> 5345\n"
     ]
    },
    {
     "name": "stderr",
     "output_type": "stream",
     "text": [
      "\r",
      " 91%|█████████▏| 1166/1276 [05:41<01:25,  1.28it/s]"
     ]
    },
    {
     "name": "stdout",
     "output_type": "stream",
     "text": [
      " estimated tempo: 212.9254302103281\tbeats: 5423 -> 5416\n"
     ]
    },
    {
     "name": "stderr",
     "output_type": "stream",
     "text": [
      "\r",
      " 91%|█████████▏| 1167/1276 [05:42<01:48,  1.00it/s]"
     ]
    },
    {
     "name": "stdout",
     "output_type": "stream",
     "text": [
      " estimated tempo: 210.88426931430288\tbeats: 7374 -> 7369\n"
     ]
    },
    {
     "name": "stderr",
     "output_type": "stream",
     "text": [
      "\r",
      " 92%|█████████▏| 1168/1276 [05:43<01:43,  1.04it/s]"
     ]
    },
    {
     "name": "stdout",
     "output_type": "stream",
     "text": [
      " estimated tempo: 216.07756162473459\tbeats: 4746 -> 4743\n"
     ]
    },
    {
     "name": "stderr",
     "output_type": "stream",
     "text": [
      "\r",
      " 92%|█████████▏| 1169/1276 [05:44<01:33,  1.14it/s]"
     ]
    },
    {
     "name": "stdout",
     "output_type": "stream",
     "text": [
      " estimated tempo: 217.21877008782377\tbeats: 5976 -> 5973\n"
     ]
    },
    {
     "name": "stderr",
     "output_type": "stream",
     "text": [
      "\r",
      " 92%|█████████▏| 1170/1276 [05:45<01:21,  1.31it/s]"
     ]
    },
    {
     "name": "stdout",
     "output_type": "stream",
     "text": [
      " estimated tempo: 202.65832681782695\tbeats: 3576 -> 3573\n"
     ]
    },
    {
     "name": "stderr",
     "output_type": "stream",
     "text": [
      "\r",
      " 92%|█████████▏| 1171/1276 [05:45<01:21,  1.29it/s]"
     ]
    },
    {
     "name": "stdout",
     "output_type": "stream",
     "text": [
      " estimated tempo: 214.69347719471543\tbeats: 5853 -> 5850\n"
     ]
    },
    {
     "name": "stderr",
     "output_type": "stream",
     "text": [
      "\r",
      " 92%|█████████▏| 1172/1276 [05:46<01:03,  1.63it/s]"
     ]
    },
    {
     "name": "stdout",
     "output_type": "stream",
     "text": [
      " estimated tempo: 231.59658234210377\tbeats: 1203 -> 1200\n"
     ]
    },
    {
     "name": "stderr",
     "output_type": "stream",
     "text": [
      "\r",
      " 92%|█████████▏| 1173/1276 [05:46<00:57,  1.80it/s]"
     ]
    },
    {
     "name": "stdout",
     "output_type": "stream",
     "text": [
      " estimated tempo: 231.57542069595573\tbeats: 1562 -> 1557\n"
     ]
    },
    {
     "name": "stderr",
     "output_type": "stream",
     "text": [
      "\r",
      " 92%|█████████▏| 1174/1276 [05:46<00:46,  2.19it/s]"
     ]
    },
    {
     "name": "stdout",
     "output_type": "stream",
     "text": [
      " estimated tempo: 228.15709969788242\tbeats: 1118 -> 1111\n"
     ]
    },
    {
     "name": "stderr",
     "output_type": "stream",
     "text": [
      "\r",
      " 92%|█████████▏| 1175/1276 [05:46<00:41,  2.43it/s]"
     ]
    },
    {
     "name": "stdout",
     "output_type": "stream",
     "text": [
      " estimated tempo: 230.19857624578682\tbeats: 1199 -> 1194\n"
     ]
    },
    {
     "name": "stderr",
     "output_type": "stream",
     "text": [
      "\r",
      " 92%|█████████▏| 1176/1276 [05:47<00:41,  2.42it/s]"
     ]
    },
    {
     "name": "stdout",
     "output_type": "stream",
     "text": [
      " estimated tempo: 226.96266685702273\tbeats: 1484 -> 1481\n",
      " estimated tempo: 215.54293351152978\tbeats: 741 -> 737\n"
     ]
    },
    {
     "name": "stderr",
     "output_type": "stream",
     "text": [
      " 92%|█████████▏| 1180/1276 [05:48<00:23,  4.09it/s]"
     ]
    },
    {
     "name": "stdout",
     "output_type": "stream",
     "text": [
      " estimated tempo: 206.0487804877884\tbeats: 3801 -> 3796\n",
      " estimated tempo: 179.33283914010545\tbeats: 1131 -> 1125\n",
      " estimated tempo: 171.48040469822124\tbeats: 863 -> 861\n"
     ]
    },
    {
     "name": "stderr",
     "output_type": "stream",
     "text": [
      "\r",
      " 93%|█████████▎| 1182/1276 [05:48<00:18,  5.13it/s]"
     ]
    },
    {
     "name": "stdout",
     "output_type": "stream",
     "text": [
      " estimated tempo: 174.71090047393216\tbeats: 961 -> 933\n",
      " estimated tempo: 210.8924485125858\tbeats: 1039 -> 1036\n"
     ]
    },
    {
     "name": "stderr",
     "output_type": "stream",
     "text": [
      "\r",
      " 93%|█████████▎| 1183/1276 [05:48<00:18,  5.11it/s]"
     ]
    },
    {
     "name": "stdout",
     "output_type": "stream",
     "text": [
      " estimated tempo: 209.40015580368953\tbeats: 574 -> 571\n",
      " estimated tempo: 206.1473684210518\tbeats: 529 -> 525\n",
      " estimated tempo: 216.9251218431559"
     ]
    },
    {
     "name": "stderr",
     "output_type": "stream",
     "text": [
      " 93%|█████████▎| 1186/1276 [05:48<00:13,  6.67it/s]"
     ]
    },
    {
     "name": "stdout",
     "output_type": "stream",
     "text": [
      "\tbeats: 585 -> 582\n",
      " estimated tempo: 211.5918367346931\tbeats: 696 -> 693\n"
     ]
    },
    {
     "name": "stderr",
     "output_type": "stream",
     "text": [
      " 93%|█████████▎| 1188/1276 [05:49<00:13,  6.76it/s]"
     ]
    },
    {
     "name": "stdout",
     "output_type": "stream",
     "text": [
      " estimated tempo: 210.8399691754425\tbeats: 1007 -> 1003\n",
      " estimated tempo: 211.21466768525562\tbeats: 549 -> 535\n"
     ]
    },
    {
     "name": "stderr",
     "output_type": "stream",
     "text": [
      " 93%|█████████▎| 1190/1276 [05:49<00:12,  7.07it/s]"
     ]
    },
    {
     "name": "stdout",
     "output_type": "stream",
     "text": [
      " estimated tempo: 210.98297324366925\tbeats: 922 -> 919\n",
      " estimated tempo: 215.7752341311158\tbeats: 992 -> 988\n"
     ]
    },
    {
     "name": "stderr",
     "output_type": "stream",
     "text": [
      " 93%|█████████▎| 1193/1276 [05:49<00:09,  8.38it/s]"
     ]
    },
    {
     "name": "stdout",
     "output_type": "stream",
     "text": [
      " estimated tempo: 210.91438676791827\tbeats: 558 -> 555\n",
      " estimated tempo: 206.4516129032256\tbeats: 920 -> 917\n",
      " estimated tempo: 209.76863753213516\tbeats: 678 -> 673\n"
     ]
    },
    {
     "name": "stderr",
     "output_type": "stream",
     "text": [
      "\r",
      " 94%|█████████▎| 1194/1276 [05:49<00:10,  7.65it/s]"
     ]
    },
    {
     "name": "stdout",
     "output_type": "stream",
     "text": [
      " estimated tempo: 217.8181365841508\tbeats: 744 -> 741\n"
     ]
    },
    {
     "name": "stderr",
     "output_type": "stream",
     "text": [
      " 94%|█████████▎| 1196/1276 [05:50<00:17,  4.46it/s]"
     ]
    },
    {
     "name": "stdout",
     "output_type": "stream",
     "text": [
      " estimated tempo: 208.61023255814075\tbeats: 4723 -> 4714\n",
      " estimated tempo: 183.7702871410742\tbeats: 667 -> 652\n",
      " estimated tempo: 216.5922444183314"
     ]
    },
    {
     "name": "stderr",
     "output_type": "stream",
     "text": [
      "\r",
      " 94%|█████████▍| 1198/1276 [05:50<00:12,  6.16it/s]"
     ]
    },
    {
     "name": "stdout",
     "output_type": "stream",
     "text": [
      "\tbeats: 501 -> 498\n",
      " estimated tempo: 220.29401219074575\tbeats: 580 -> 577\n"
     ]
    },
    {
     "name": "stderr",
     "output_type": "stream",
     "text": [
      " 94%|█████████▍| 1201/1276 [05:51<00:09,  8.00it/s]"
     ]
    },
    {
     "name": "stdout",
     "output_type": "stream",
     "text": [
      " estimated tempo: 215.57506837484146\tbeats: 595 -> 592\n",
      " estimated tempo: 153.19685039370387\tbeats: 654 -> 652\n",
      " estimated tempo: 215.62564991334298\tbeats: 595 -> 585\n"
     ]
    },
    {
     "name": "stderr",
     "output_type": "stream",
     "text": [
      "\r",
      " 94%|█████████▍| 1202/1276 [05:51<00:09,  8.15it/s]"
     ]
    },
    {
     "name": "stdout",
     "output_type": "stream",
     "text": [
      " estimated tempo: 209.6663296258866\tbeats: 729 -> 722\n"
     ]
    },
    {
     "name": "stderr",
     "output_type": "stream",
     "text": [
      "\r",
      " 94%|█████████▍| 1203/1276 [05:51<00:19,  3.78it/s]"
     ]
    },
    {
     "name": "stdout",
     "output_type": "stream",
     "text": [
      " estimated tempo: 200.03005259205358\tbeats: 5840 -> 5836\n",
      " estimated tempo: 199.23085675276823\tbeats: 1263 -> "
     ]
    },
    {
     "name": "stderr",
     "output_type": "stream",
     "text": [
      " 94%|█████████▍| 1205/1276 [05:52<00:15,  4.49it/s]"
     ]
    },
    {
     "name": "stdout",
     "output_type": "stream",
     "text": [
      "1260\n",
      " estimated tempo: 216.70799486960206\tbeats: 642 -> 637\n"
     ]
    },
    {
     "name": "stderr",
     "output_type": "stream",
     "text": [
      "\r",
      " 95%|█████████▍| 1207/1276 [05:52<00:11,  5.92it/s]"
     ]
    },
    {
     "name": "stdout",
     "output_type": "stream",
     "text": [
      " estimated tempo: 156.96350364963337\tbeats: 588 -> 586\n",
      " estimated tempo: 211.05343511450607\tbeats: 576 -> 569\n",
      " estimated tempo: 209.54383970441972\tbeats: 742 -> 727\n"
     ]
    },
    {
     "name": "stderr",
     "output_type": "stream",
     "text": [
      " 95%|█████████▍| 1210/1276 [05:52<00:10,  6.43it/s]"
     ]
    },
    {
     "name": "stdout",
     "output_type": "stream",
     "text": [
      " estimated tempo: 209.27161572052296\tbeats: 969 -> 965\n",
      " estimated tempo: 213.00967191352433\tbeats: 841 -> 838\n"
     ]
    },
    {
     "name": "stderr",
     "output_type": "stream",
     "text": [
      " 95%|█████████▍| 1212/1276 [05:53<00:09,  6.85it/s]"
     ]
    },
    {
     "name": "stdout",
     "output_type": "stream",
     "text": [
      " estimated tempo: 215.73033707865181\tbeats: 725 -> 714\n",
      " estimated tempo: 206.90798563139055\tbeats: 849 -> 847\n",
      " estimated tempo: 208.3832335329357"
     ]
    },
    {
     "name": "stderr",
     "output_type": "stream",
     "text": [
      "\r",
      " 95%|█████████▌| 1214/1276 [05:53<00:07,  7.91it/s]"
     ]
    },
    {
     "name": "stdout",
     "output_type": "stream",
     "text": [
      "\tbeats: 921 -> 917\n",
      " estimated tempo: 197.65759045132444\tbeats: 563 -> 560\n"
     ]
    },
    {
     "name": "stderr",
     "output_type": "stream",
     "text": [
      " 95%|█████████▌| 1217/1276 [05:53<00:06,  9.33it/s]"
     ]
    },
    {
     "name": "stdout",
     "output_type": "stream",
     "text": [
      " estimated tempo: 214.6583850931708\tbeats: 605 -> 599\n",
      " estimated tempo: 199.29564411492183\tbeats: 799 -> 796\n",
      " estimated tempo: 74.25551115121827\tbeats: 302 -> 300\n"
     ]
    },
    {
     "name": "stderr",
     "output_type": "stream",
     "text": [
      "\r",
      " 96%|█████████▌| 1219/1276 [05:53<00:05,  9.53it/s]"
     ]
    },
    {
     "name": "stdout",
     "output_type": "stream",
     "text": [
      " estimated tempo: 219.5854181558259\tbeats: 402 -> 399\n",
      " estimated tempo: 189.83795660532945\tbeats: 909 -> 907\n"
     ]
    },
    {
     "name": "stderr",
     "output_type": "stream",
     "text": [
      " 96%|█████████▌| 1222/1276 [05:54<00:05,  9.29it/s]"
     ]
    },
    {
     "name": "stdout",
     "output_type": "stream",
     "text": [
      " estimated tempo: 208.34517504198377\tbeats: 1276 -> 1275\n",
      " estimated tempo: 181.25874125874097\tbeats: 700 -> 698\n",
      " estimated tempo: 170.2696044888461\tbeats: 799 -> 796\n"
     ]
    },
    {
     "name": "stderr",
     "output_type": "stream",
     "text": [
      "\r",
      " 96%|█████████▌| 1224/1276 [05:54<00:05,  9.42it/s]"
     ]
    },
    {
     "name": "stdout",
     "output_type": "stream",
     "text": [
      " estimated tempo: 200.98334655035683\tbeats: 886 -> 878\n",
      " estimated tempo: 207.35202492211968\tbeats: 446 -> 443\n"
     ]
    },
    {
     "name": "stderr",
     "output_type": "stream",
     "text": [
      "\r",
      " 96%|█████████▌| 1225/1276 [05:54<00:07,  6.90it/s]"
     ]
    },
    {
     "name": "stdout",
     "output_type": "stream",
     "text": [
      " estimated tempo: 198.70225872689986\tbeats: 2320 -> 2313\n"
     ]
    },
    {
     "name": "stderr",
     "output_type": "stream",
     "text": [
      " 96%|█████████▌| 1227/1276 [05:55<00:08,  6.02it/s]"
     ]
    },
    {
     "name": "stdout",
     "output_type": "stream",
     "text": [
      " estimated tempo: 207.8015783539976\tbeats: 2016 -> 2014\n",
      " estimated tempo: 214.3654633420177\tbeats: 1058 -> 1052\n",
      " estimated tempo: 167.31311405382294\tbeats: 256 -> 255\n"
     ]
    },
    {
     "name": "stderr",
     "output_type": "stream",
     "text": [
      "\r",
      " 96%|█████████▋| 1229/1276 [05:55<00:06,  7.05it/s]"
     ]
    },
    {
     "name": "stdout",
     "output_type": "stream",
     "text": [
      " estimated tempo: 212.6620516047751\tbeats: 1227 -> 1224\n"
     ]
    },
    {
     "name": "stderr",
     "output_type": "stream",
     "text": [
      "\r",
      " 96%|█████████▋| 1230/1276 [05:56<00:11,  4.03it/s]"
     ]
    },
    {
     "name": "stdout",
     "output_type": "stream",
     "text": [
      " estimated tempo: 193.47708310758998\tbeats: 3767 -> 3761\n"
     ]
    },
    {
     "name": "stderr",
     "output_type": "stream",
     "text": [
      "\r",
      " 96%|█████████▋| 1231/1276 [05:56<00:11,  4.00it/s]"
     ]
    },
    {
     "name": "stdout",
     "output_type": "stream",
     "text": [
      " estimated tempo: 198.30508474576342\tbeats: 2146 -> 2142\n"
     ]
    },
    {
     "name": "stderr",
     "output_type": "stream",
     "text": [
      "\r",
      " 97%|█████████▋| 1232/1276 [05:56<00:15,  2.81it/s]"
     ]
    },
    {
     "name": "stdout",
     "output_type": "stream",
     "text": [
      " estimated tempo: 204.93860582036163\tbeats: 4738 -> 4734\n"
     ]
    },
    {
     "name": "stderr",
     "output_type": "stream",
     "text": [
      "\r",
      " 97%|█████████▋| 1233/1276 [05:57<00:19,  2.18it/s]"
     ]
    },
    {
     "name": "stdout",
     "output_type": "stream",
     "text": [
      " estimated tempo: 194.70422535211605\tbeats: 3984 -> 3981\n"
     ]
    },
    {
     "name": "stderr",
     "output_type": "stream",
     "text": [
      "\r",
      " 97%|█████████▋| 1234/1276 [05:58<00:19,  2.19it/s]"
     ]
    },
    {
     "name": "stdout",
     "output_type": "stream",
     "text": [
      " estimated tempo: 192.21357063403588\tbeats: 3834 -> 3831\n"
     ]
    },
    {
     "name": "stderr",
     "output_type": "stream",
     "text": [
      "\r",
      " 97%|█████████▋| 1235/1276 [05:58<00:20,  2.05it/s]"
     ]
    },
    {
     "name": "stdout",
     "output_type": "stream",
     "text": [
      " estimated tempo: 203.99191608122473\tbeats: 3538 -> 3535\n"
     ]
    },
    {
     "name": "stderr",
     "output_type": "stream",
     "text": [
      " 97%|█████████▋| 1237/1276 [05:59<00:14,  2.65it/s]"
     ]
    },
    {
     "name": "stdout",
     "output_type": "stream",
     "text": [
      " estimated tempo: 191.4075480655087\tbeats: 3730 -> 3727\n",
      " estimated tempo: 214.0411413404142\tbeats: 411 -> 398\n"
     ]
    },
    {
     "name": "stderr",
     "output_type": "stream",
     "text": [
      "\r",
      " 97%|█████████▋| 1238/1276 [05:59<00:12,  3.08it/s]"
     ]
    },
    {
     "name": "stdout",
     "output_type": "stream",
     "text": [
      " estimated tempo: 218.0597978059786\tbeats: 677 -> 677\n"
     ]
    },
    {
     "name": "stderr",
     "output_type": "stream",
     "text": [
      "\r",
      " 97%|█████████▋| 1239/1276 [05:59<00:11,  3.24it/s]"
     ]
    },
    {
     "name": "stdout",
     "output_type": "stream",
     "text": [
      " estimated tempo: 179.64912280701537\tbeats: 2071 -> 2068\n"
     ]
    },
    {
     "name": "stderr",
     "output_type": "stream",
     "text": [
      "\r",
      " 97%|█████████▋| 1240/1276 [06:00<00:12,  2.87it/s]"
     ]
    },
    {
     "name": "stdout",
     "output_type": "stream",
     "text": [
      " estimated tempo: 215.3185760107707\tbeats: 2640 -> 2637\n"
     ]
    },
    {
     "name": "stderr",
     "output_type": "stream",
     "text": [
      " 97%|█████████▋| 1242/1276 [06:00<00:10,  3.40it/s]"
     ]
    },
    {
     "name": "stdout",
     "output_type": "stream",
     "text": [
      " estimated tempo: 206.65993945509535\tbeats: 2005 -> 1993\n",
      " estimated tempo: 220.0090328408304\tbeats: 1843 -> 1836\n"
     ]
    },
    {
     "name": "stderr",
     "output_type": "stream",
     "text": [
      "\r",
      " 97%|█████████▋| 1243/1276 [06:01<00:11,  2.76it/s]"
     ]
    },
    {
     "name": "stdout",
     "output_type": "stream",
     "text": [
      " estimated tempo: 229.12707182320074\tbeats: 3582 -> 3575\n",
      " estimated tempo: 199.69409605383842\tbeats: 764 -> 753\n"
     ]
    },
    {
     "name": "stderr",
     "output_type": "stream",
     "text": [
      "\r",
      " 98%|█████████▊| 1245/1276 [06:01<00:07,  3.92it/s]"
     ]
    },
    {
     "name": "stdout",
     "output_type": "stream",
     "text": [
      " estimated tempo: 226.01801801802148\tbeats: 1127 -> 1123\n",
      " estimated tempo: 218.2061281337045\tbeats: 670 -> 662\n"
     ]
    },
    {
     "name": "stderr",
     "output_type": "stream",
     "text": [
      " 98%|█████████▊| 1248/1276 [06:01<00:05,  5.21it/s]"
     ]
    },
    {
     "name": "stdout",
     "output_type": "stream",
     "text": [
      " estimated tempo: 237.1056439942104\tbeats: 1218 -> 1214\n",
      " estimated tempo: 231.32530120482045\tbeats: 1164 -> 1161\n"
     ]
    },
    {
     "name": "stderr",
     "output_type": "stream",
     "text": [
      "\r",
      " 98%|█████████▊| 1249/1276 [06:02<00:04,  5.76it/s]"
     ]
    },
    {
     "name": "stdout",
     "output_type": "stream",
     "text": [
      " estimated tempo: 194.5017434391625\tbeats: 851 -> 848\n"
     ]
    },
    {
     "name": "stderr",
     "output_type": "stream",
     "text": [
      "\r",
      " 98%|█████████▊| 1250/1276 [06:02<00:06,  4.01it/s]"
     ]
    },
    {
     "name": "stdout",
     "output_type": "stream",
     "text": [
      " estimated tempo: 204.28372739916836\tbeats: 2290 -> 2287\n",
      " estimated tempo: 199.944459872254\tbeats: 859 -> 854\n"
     ]
    },
    {
     "name": "stderr",
     "output_type": "stream",
     "text": [
      "\r",
      " 98%|█████████▊| 1252/1276 [06:02<00:05,  4.33it/s]"
     ]
    },
    {
     "name": "stdout",
     "output_type": "stream",
     "text": [
      " estimated tempo: 237.48496821852777\tbeats: 2370 -> 2367\n",
      " estimated tempo: 205.35652173913013\tbeats: 789 -> 786\n"
     ]
    },
    {
     "name": "stderr",
     "output_type": "stream",
     "text": [
      "\r",
      " 98%|█████████▊| 1254/1276 [06:03<00:05,  3.89it/s]"
     ]
    },
    {
     "name": "stdout",
     "output_type": "stream",
     "text": [
      " estimated tempo: 190.22501308215547\tbeats: 3396 -> 3384\n",
      " estimated tempo: 211.6703786191543\tbeats: 844 -> 841\n"
     ]
    },
    {
     "name": "stderr",
     "output_type": "stream",
     "text": [
      " 99%|█████████▊| 1257/1276 [06:04<00:04,  4.44it/s]"
     ]
    },
    {
     "name": "stdout",
     "output_type": "stream",
     "text": [
      " estimated tempo: 196.75491033304735\tbeats: 2634 -> 2631\n",
      " estimated tempo: 196.56937584193196\tbeats: 876 -> 873\n"
     ]
    },
    {
     "name": "stderr",
     "output_type": "stream",
     "text": [
      " 99%|█████████▊| 1259/1276 [06:04<00:03,  5.35it/s]"
     ]
    },
    {
     "name": "stdout",
     "output_type": "stream",
     "text": [
      " estimated tempo: 233.96344321199817\tbeats: 921 -> 915\n",
      " estimated tempo: 200.68021567814426\tbeats: 687 -> 684\n"
     ]
    },
    {
     "name": "stderr",
     "output_type": "stream",
     "text": [
      "\r",
      " 99%|█████████▊| 1260/1276 [06:04<00:04,  3.81it/s]"
     ]
    },
    {
     "name": "stdout",
     "output_type": "stream",
     "text": [
      " estimated tempo: 196.69755335762326\tbeats: 2985 -> 2979\n"
     ]
    },
    {
     "name": "stderr",
     "output_type": "stream",
     "text": [
      "\r",
      " 99%|█████████▉| 1261/1276 [06:05<00:03,  3.76it/s]"
     ]
    },
    {
     "name": "stdout",
     "output_type": "stream",
     "text": [
      " estimated tempo: 201.16414435389854\tbeats: 2652 -> 2649\n",
      " estimated tempo: 217.63847144697058\tbeats: 779 -> 775\n"
     ]
    },
    {
     "name": "stderr",
     "output_type": "stream",
     "text": [
      "\r",
      " 99%|█████████▉| 1263/1276 [06:05<00:02,  4.95it/s]"
     ]
    },
    {
     "name": "stdout",
     "output_type": "stream",
     "text": [
      " estimated tempo: 177.06051873198894\tbeats: 842 -> 840\n"
     ]
    },
    {
     "name": "stderr",
     "output_type": "stream",
     "text": [
      " 99%|█████████▉| 1265/1276 [06:05<00:02,  4.74it/s]"
     ]
    },
    {
     "name": "stdout",
     "output_type": "stream",
     "text": [
      " estimated tempo: 188.56541564363386\tbeats: 2491 -> 2485\n",
      " estimated tempo: 211.28803668195158\tbeats: 688 -> 679\n"
     ]
    },
    {
     "name": "stderr",
     "output_type": "stream",
     "text": [
      "\r",
      " 99%|█████████▉| 1266/1276 [06:06<00:02,  3.45it/s]"
     ]
    },
    {
     "name": "stdout",
     "output_type": "stream",
     "text": [
      " estimated tempo: 194.73851030111234\tbeats: 3490 -> 3486\n"
     ]
    },
    {
     "name": "stderr",
     "output_type": "stream",
     "text": [
      "\r",
      " 99%|█████████▉| 1267/1276 [06:06<00:02,  3.22it/s]"
     ]
    },
    {
     "name": "stdout",
     "output_type": "stream",
     "text": [
      " estimated tempo: 204.92751045094155\tbeats: 3083 -> 3078\n"
     ]
    },
    {
     "name": "stderr",
     "output_type": "stream",
     "text": [
      "\r",
      " 99%|█████████▉| 1268/1276 [06:07<00:02,  2.95it/s]"
     ]
    },
    {
     "name": "stdout",
     "output_type": "stream",
     "text": [
      " estimated tempo: 202.05462290154028\tbeats: 3061 -> 3057\n"
     ]
    },
    {
     "name": "stderr",
     "output_type": "stream",
     "text": [
      "\r",
      " 99%|█████████▉| 1269/1276 [06:07<00:02,  2.70it/s]"
     ]
    },
    {
     "name": "stdout",
     "output_type": "stream",
     "text": [
      " estimated tempo: 183.79068283343247\tbeats: 2550 -> 2547\n",
      " estimated tempo: 209.86337020169194\tbeats: 675 -> 671\n",
      " estimated tempo: 207.28943338437898"
     ]
    },
    {
     "name": "stderr",
     "output_type": "stream",
     "text": [
      "100%|█████████▉| 1272/1276 [06:07<00:00,  4.47it/s]"
     ]
    },
    {
     "name": "stdout",
     "output_type": "stream",
     "text": [
      "\tbeats: 849 -> 845\n",
      " estimated tempo: 183.32876035778938\tbeats: 737 -> 733\n",
      " estimated tempo: 195.60155239327048\tbeats: 376 -> 367\n"
     ]
    },
    {
     "name": "stderr",
     "output_type": "stream",
     "text": [
      "\r",
      "100%|█████████▉| 1274/1276 [06:08<00:00,  4.39it/s]"
     ]
    },
    {
     "name": "stdout",
     "output_type": "stream",
     "text": [
      " estimated tempo: 191.81988742963435\tbeats: 3642 -> 3638\n"
     ]
    },
    {
     "name": "stderr",
     "output_type": "stream",
     "text": [
      "\r",
      "100%|█████████▉| 1275/1276 [06:08<00:00,  3.17it/s]"
     ]
    },
    {
     "name": "stdout",
     "output_type": "stream",
     "text": [
      " estimated tempo: 196.33873544853319\tbeats: 3498 -> 3493\n"
     ]
    },
    {
     "name": "stderr",
     "output_type": "stream",
     "text": [
      "100%|██████████| 1276/1276 [06:09<00:00,  3.46it/s]"
     ]
    },
    {
     "name": "stdout",
     "output_type": "stream",
     "text": [
      " estimated tempo: 212.26533166457037\tbeats: 2231 -> 2226\n"
     ]
    },
    {
     "name": "stderr",
     "output_type": "stream",
     "text": [
      "\n"
     ]
    }
   ],
   "source": [
    "path_beginning = my_drive_path + \"maestro-v3.0.0/\"\n",
    "pieces = []\n",
    "\n",
    "# how many steps you get\n",
    "for i in tqdm(range(my_data.shape[0])):  # 1276 pieces\n",
    "  # loads the piece into pretty_midi form\n",
    "  path_part = my_data.iloc[i][\"midi_filename\"]\n",
    "  split = my_data.iloc[i][\"split\"]\n",
    "  path = path_beginning + path_part\n",
    "  midi_data = pretty_midi.PrettyMIDI(path)\n",
    "\n",
    "  # estimates the tempo of the piece\n",
    "  tempo = midi_data.estimate_tempo()\n",
    "  print(\" estimated tempo:\", tempo, end=\"\")\n",
    "  # gets piano roll sampled at estimated tempo\n",
    "  # (diff tempo for each piece)\n",
    "  roll = midi_data.get_piano_roll(tempo/60).T\n",
    "  print(\"\\tbeats:\", roll.shape[0], end=\" -> \")  # before silence removed or any other cut/padding\n",
    "    \n",
    "  # removes silence at beginning of piece\n",
    "  over = False\n",
    "  r = np.zeros(128)\n",
    "  while over == False:\n",
    "    m = roll[0]\n",
    "    if np.array_equal(m,r):\n",
    "      roll = roll[1:]\n",
    "    else:\n",
    "      over = True\n",
    "    \n",
    "  # removes silence at end of piece\n",
    "  over = False\n",
    "  r = np.zeros(128)\n",
    "  while over == False:\n",
    "    m = roll[-1]\n",
    "    if np.array_equal(m,r):\n",
    "      roll = roll[:-1]\n",
    "    else:\n",
    "      over = True\n",
    "    \n",
    "  # converts roll to binary matrix (only 0s and 1s)\n",
    "  roll = np.where(roll > 0, 1, 0)\n",
    "    \n",
    "  # recalculate num beats after removing silence etc.\n",
    "  beats = roll.shape[0]\n",
    "  print(beats)  # ends print line from above (pre-processing beats)\n",
    "\n",
    "  # save to data_sizes - beats, tempo, split, etc. for each piece\n",
    "  this_piece = my_data.iloc[i].copy()\n",
    "  this_piece[\"tempo\"] = tempo\n",
    "  this_piece[\"beats\"] = beats\n",
    "  this_piece[\"roll\"] = roll\n",
    "    \n",
    "  pieces.append(this_piece)"
   ]
  },
  {
   "cell_type": "markdown",
   "metadata": {},
   "source": [
    "## Add to bins"
   ]
  },
  {
   "cell_type": "code",
   "execution_count": 43,
   "metadata": {},
   "outputs": [],
   "source": [
    "class Bin:\n",
    "    def __init__(self, length, lower_bound, upper_bound, verbose=False):\n",
    "        self.verbose = verbose\n",
    "        self.bin_length = length  # how long the pieces are in this bin\n",
    "        self.lower_bound = lower_bound  # inclusive # the shortest pieces that get put into this bin (round up beats in piece)\n",
    "        self.upper_bound = upper_bound  # exclusive # the longest pieces in this bin (truncate)\n",
    "        self.pieces = []\n",
    "        self.bin_count = 0\n",
    "        \n",
    "    def add_piece(self, roll, length, save_to_bins=False):\n",
    "        if self.verbose:\n",
    "            print(f\"adding piece of length {length}\", end=\" \")\n",
    "        \n",
    "        self.bin_count += 1\n",
    "        \n",
    "        # fit piece to bin size\n",
    "        if length >= self.bin_length:\n",
    "            fit_roll = self.truncate(roll, length)\n",
    "            \n",
    "            if self.verbose:\n",
    "                print(f\"truncated to {fit_roll.shape[0]}\")\n",
    "        else:\n",
    "            fit_roll = self.add_beats_repeat(roll, length)\n",
    "            \n",
    "            if self.verbose:\n",
    "                print(f\"repeated to {fit_roll.shape[0]}\")\n",
    "\n",
    "        # save fit piece in bin\n",
    "        if save_to_bins:\n",
    "            self.pieces.append(fit_roll)\n",
    "            \n",
    "        return fit_roll\n",
    "        \n",
    "    def add_sub_piece(self, roll, length, roll_before, roll_after, save_to_bins=False):\n",
    "        if self.verbose:\n",
    "            print(f\"adding piece of length {length}\", end=\" \")\n",
    "            \n",
    "        self.bin_count += 1\n",
    "        \n",
    "        # fit sub-piece to bin size\n",
    "        if length >= self.bin_length:\n",
    "            fit_roll = self.truncate(roll, length)\n",
    "            \n",
    "            if self.verbose:\n",
    "                print(f\"truncated to {fit_roll.shape[0]}\")\n",
    "        else:\n",
    "            fit_roll = self.add_beats_from_neighbor(roll, length, roll_before, roll_after)\n",
    "            \n",
    "            if self.verbose:\n",
    "                print(f\"extended to {fit_roll.shape[0]}\")\n",
    "        \n",
    "        # save fit sub-piece in bin\n",
    "        if save_to_bins:\n",
    "            self.pieces.append(fit_roll)\n",
    "            \n",
    "        return fit_roll\n",
    "        \n",
    "        \n",
    "    def get_bin_length(self):\n",
    "        return self.bin_length\n",
    "    \n",
    "    def get_bin_count(self):\n",
    "        return self.bin_count\n",
    "    \n",
    "    def truncate(self, roll, length):\n",
    "        beats_to_remove = length - self.bin_length # shape aka beats\n",
    "        if beats_to_remove > 0:\n",
    "            roll = roll[:(-1) * beats_to_remove] # cut off last [beats_to_remove] beats\n",
    "        return roll\n",
    "    \n",
    "    def add_beats_repeat(self, roll, length):\n",
    "        beats_to_add = self.bin_length - length\n",
    "        if beats_to_add > 0:  # never ever adding more than 1 repeat\n",
    "            roll = np.vstack((roll,roll))\n",
    "            roll = roll[:self.bin_length] \n",
    "        return roll\n",
    "    \n",
    "    def add_beats_from_neighbor(self, roll, length, roll_before=None, roll_after=None):\n",
    "        \"\"\"For a sub-piece that must expand to meet a bin length, borrow beats from neighboring sub-pieces.\"\"\"\n",
    "        beats_to_add = self.bin_length - length\n",
    "        \n",
    "        if self.verbose:\n",
    "            print(f\"added {beats_to_add} beats\", end=\" \")\n",
    "        \n",
    "        if (roll_before is None) and (roll_after is None):\n",
    "            print(\"error: cannot use method on one sub-piece; must be at least two sub-pieces\")\n",
    "        elif roll_before is None:  # first sub-piece\n",
    "            # add from roll after\n",
    "            beats_after = roll_after[:beats_to_add]\n",
    "            roll = np.vstack((roll, beats_after))\n",
    "        elif roll_after is None:  # last sub-piece\n",
    "            # add from roll before\n",
    "            beats_before = roll_before[-1*beats_to_add:]\n",
    "            roll = np.vstack((beats_before, roll))\n",
    "        elif beats_to_add == 1:  # middle piece only adds 1 beat\n",
    "            # add from roll after\n",
    "            beats_after = roll_after[:beats_to_add]\n",
    "            roll = np.vstack((roll, beats_after))\n",
    "        else: # a sub-piece in the middle\n",
    "            # add half from roll before, and\n",
    "            # add half from roll after\n",
    "            beats_from_before = beats_to_add // 2\n",
    "            beats_from_after = beats_to_add - beats_from_before\n",
    "            beats_before = roll_before[-1*beats_from_before:]\n",
    "            beats_after = roll_after[:beats_from_after]\n",
    "            roll = np.vstack((beats_before, roll, beats_after))\n",
    "        return roll\n",
    "        \n",
    "class Bin_Holder:\n",
    "    def __init__(self, num_bins, min_size, max_size, verbose=True):\n",
    "        \"\"\"a class to create and contain all the bins\"\"\"\n",
    "        self.verbose = verbose\n",
    "        self.num_bins = num_bins\n",
    "        self.bins = []\n",
    "        self.max_size = max_size\n",
    "        self.min_size = min_size\n",
    "       \n",
    "        # shorten names for conciseness\n",
    "        pl = min_size\n",
    "        pu = max_size\n",
    "        \n",
    "        # calculate exponential formula constants\n",
    "        # formula is f(x) = a*e^(b*x)\n",
    "        self.a = pl * (pl / pu)**(1/(num_bins-1))\n",
    "        self.b = (1/(num_bins-1)) * math.log(pu/pl)\n",
    "        \n",
    "        # create bins\n",
    "        for i in range(1, num_bins+1):\n",
    "            lower_bound, bin_length, upper_bound = self.get_bin_bounds(i)\n",
    "            # create a new bin and add to self.bins\n",
    "            self.bins.append(Bin(bin_length, lower_bound, upper_bound))  # add verbose=verbose for bins to inherit verbose\n",
    "            \n",
    "        # for sorting purposes, create list of bin bounds\n",
    "        self.bin_bounds = [self.apply_exp(x+0.5) for x in range(num_bins+1)] # start at 0 not 1, to include lowest bound\n",
    "        self.bin_lengths = [self.apply_exp(x) for x in range(1, num_bins+1)]\n",
    "        self.max_bin_bound = self.bin_bounds[-1]  # largest piece that fits into a bin without splitting into sub-pieces\n",
    "        \n",
    "    def get_bin_bounds(self, bin_num):\n",
    "        \"\"\"Get bounds for a bin using exponential formula.\"\"\"\n",
    "        lower_bound = self.apply_exp(bin_num - 0.5)\n",
    "        bin_length = self.apply_exp(bin_num)\n",
    "        upper_bound = self.apply_exp(bin_num + 0.5)\n",
    "    \n",
    "        if self.verbose:\n",
    "            print(f\"current bin bounds for bin {bin_num}: [{lower_bound}, {bin_length}, {upper_bound})\")\n",
    "\n",
    "        return lower_bound, bin_length, upper_bound\n",
    "    \n",
    "    def print_bin_info(self):\n",
    "        print(\"num_bins:\", self.num_bins)\n",
    "        print(\"max_size:\", self.max_size, \"\\tmin_size:\", self.min_size)\n",
    "        print(\"bin_bounds:\", self.bin_bounds)\n",
    "        print(\"bin_lengths:\", self.bin_lengths)\n",
    "        \n",
    "    def print_bin_counts(self):\n",
    "        print([this_bin.get_bin_count() for this_bin in self.bins])\n",
    "        \n",
    "    def print_bin_lengths(self):\n",
    "        print([this_bin.get_bin_length() for this_bin in self.bins])\n",
    "        \n",
    "    def apply_exp(self, bin_num):\n",
    "        return int(self.a*math.exp(self.b * bin_num))\n",
    "    \n",
    "    def get_bin_ind(self, length):\n",
    "        return bisect(self.bin_bounds, length) - 1\n",
    "    \n",
    "    def get_bin_length(self, length):\n",
    "        bin_ind = self.get_bin_ind(length)\n",
    "        return self.bins[bin_ind].get_length()\n",
    "    \n",
    "    def get_bin_ind_and_length(self, length):\n",
    "        \"\"\"Returns both ind and length at once.\"\"\"\n",
    "        bin_ind = self.get_bin_ind(length)\n",
    "        bin_length = self.bins[bin_ind].get_length()\n",
    "        return bin_ind, bin_length\n",
    "    \n",
    "    def add_piece(self, roll, length):\n",
    "        fit_rolls = []\n",
    "        # if larger than can fit in largest bin (len>=max_bin_bound), break into sub-pieces\n",
    "        # note: max_bin_bound is exclusive\n",
    "        if length >= self.max_bin_bound:\n",
    "            # how many sub-pieces to split this roll into\n",
    "            n_splits = math.ceil(length / self.max_size)\n",
    "            sub_pieces = np.array_split(roll, n_splits, axis=0)  # shape (beats,128)\n",
    "            \n",
    "            if self.verbose:\n",
    "                print(f\"piece size {length} is too large; split into {n_splits} sub-pieces of sizes {[r.shape[0] for r in sub_pieces]}\")\n",
    "            \n",
    "            # for each sub-piece\n",
    "            for i in range(n_splits):\n",
    "                sub_piece = sub_pieces[i]\n",
    "                sub_length = sub_piece.shape[0]\n",
    "                \n",
    "                # get sub-piece before and after, in case this sub-piece needs expanding to fit in bin\n",
    "                if i != 0:  # not first piece\n",
    "                    roll_before = sub_pieces[i-1]\n",
    "                else:\n",
    "                    roll_before = None  # first piece\n",
    "                    \n",
    "                if i != n_splits - 1:  # not last piece\n",
    "                    roll_after = sub_pieces[i+1]\n",
    "                else:\n",
    "                    roll_after = None  # last piece\n",
    "                \n",
    "                # insert sub-piece in bin\n",
    "                bin_ind = self.get_bin_ind(sub_length)\n",
    "                if self.verbose:\n",
    "                    print(\"bin:\", bin_ind, \"length:\", length)\n",
    "                fit_rolls.append(self.bins[bin_ind].add_sub_piece(sub_piece, sub_length, roll_before, roll_after))\n",
    "        \n",
    "        # fits in bin w/o breaking into pieces\n",
    "        else:  \n",
    "            bin_ind = self.get_bin_ind(length)\n",
    "            if self.verbose:\n",
    "                print(\"bin\", bin_ind, \"length\", length)\n",
    "            \n",
    "            if bin_ind >= 0: # large enough for a bin\n",
    "                fit_rolls.append(self.bins[bin_ind].add_piece(roll, length))\n",
    "                \n",
    "        return fit_rolls\n",
    "                "
   ]
  },
  {
   "cell_type": "code",
   "execution_count": 44,
   "metadata": {},
   "outputs": [],
   "source": [
    "def add_roll_to_split(roll, tempo, beats, split):\n",
    "    # convert roll to tensor\n",
    "    # and save roll, tempo, beats\n",
    "    roll_data = np.array([torch.tensor(roll), tempo, beats], dtype=\"object\")\n",
    "    if split==\"test\":\n",
    "        test.append(roll_data)\n",
    "    elif split==\"train\":\n",
    "        train.append(roll_data)\n",
    "    else:\n",
    "        validation.append(roll_data)\n",
    "        \n",
    "# clear lists each time data are added to rolls\n",
    "train = []\n",
    "test = []\n",
    "validation = []"
   ]
  },
  {
   "cell_type": "code",
   "execution_count": 45,
   "metadata": {},
   "outputs": [],
   "source": [
    "# set constants\n",
    "num_bins = 16\n",
    "max_length = 700\n",
    "\n",
    "# find shortest piece length\n",
    "all_beat_lengths = [piece[\"beats\"] for piece in pieces]  # note: pieces is NOT sorted by length\n",
    "all_beat_lengths.sort()\n",
    "min_length = all_beat_lengths[9]  # 10th-shortest piece length"
   ]
  },
  {
   "cell_type": "code",
   "execution_count": 46,
   "metadata": {},
   "outputs": [
    {
     "name": "stdout",
     "output_type": "stream",
     "text": [
      "num_bins: 16\n",
      "max_size: 700 \tmin_size: 255\n",
      "bin_bounds: [246, 263, 282, 301, 322, 345, 369, 394, 422, 451, 483, 517, 553, 591, 632, 676, 723]\n",
      "bin_lengths: [255, 272, 291, 312, 333, 357, 381, 408, 436, 467, 499, 534, 571, 611, 654, 700]\n"
     ]
    }
   ],
   "source": [
    "# create bins to hold pieces\n",
    "all_bins = Bin_Holder(num_bins, min_length, max_length, verbose=False)\n",
    "all_bins.print_bin_info()"
   ]
  },
  {
   "cell_type": "code",
   "execution_count": 47,
   "metadata": {},
   "outputs": [],
   "source": [
    "for piece in pieces:\n",
    "    roll = piece[\"roll\"]\n",
    "    tempo = piece[\"tempo\"]\n",
    "    split = piece[\"split\"]\n",
    "    beats = piece[\"beats\"]\n",
    "    \n",
    "    # fit roll to a bin\n",
    "    # may return multiple 'fit_roll's - from pieces larger than max_size\n",
    "    fit_rolls = all_bins.add_piece(roll, beats)\n",
    "    \n",
    "    # save each fit_roll to split\n",
    "    for fit_roll in fit_rolls:\n",
    "        add_roll_to_split(fit_roll, tempo, fit_roll.shape[0], split)"
   ]
  },
  {
   "cell_type": "code",
   "execution_count": 48,
   "metadata": {},
   "outputs": [
    {
     "name": "stdout",
     "output_type": "stream",
     "text": [
      "[255, 272, 291, 312, 333, 357, 381, 408, 436, 467, 499, 534, 571, 611, 654, 700]\n"
     ]
    }
   ],
   "source": [
    "all_bins.print_bin_lengths()"
   ]
  },
  {
   "cell_type": "code",
   "execution_count": 49,
   "metadata": {},
   "outputs": [
    {
     "name": "stdout",
     "output_type": "stream",
     "text": [
      "[3, 3, 1, 2, 3, 24, 101, 91, 96, 186, 196, 408, 590, 723, 1089, 580]\n"
     ]
    }
   ],
   "source": [
    "all_bins.print_bin_counts()"
   ]
  },
  {
   "cell_type": "code",
   "execution_count": 50,
   "metadata": {},
   "outputs": [],
   "source": [
    "# find lengths of train pieces\n",
    "train_lengths_all = [piece[0].shape[0] for piece in train]"
   ]
  },
  {
   "cell_type": "code",
   "execution_count": 51,
   "metadata": {},
   "outputs": [
    {
     "name": "stdout",
     "output_type": "stream",
     "text": [
      "[(255, 3), (272, 2), (312, 1), (333, 1), (357, 12), (381, 86), (408, 62), (436, 60), (467, 118), (499, 137), (534, 350), (571, 456), (611, 562), (654, 944), (700, 468)]\n"
     ]
    }
   ],
   "source": [
    "# tally lengths of train pieces\n",
    "train_lengths = set(train_lengths_all)\n",
    "length_tallies = []\n",
    "for length in train_lengths:\n",
    "    length_tallies.append((length, train_lengths_all.count(length)))\n",
    "    \n",
    "length_tallies.sort(key=lambda x:x[0])\n",
    "print(length_tallies)"
   ]
  },
  {
   "cell_type": "code",
   "execution_count": 52,
   "metadata": {},
   "outputs": [
    {
     "name": "stdout",
     "output_type": "stream",
     "text": [
      "FOR TRAIN ONLY\n",
      "lengths:\n",
      "255\n",
      "272\n",
      "312\n",
      "333\n",
      "357\n",
      "381\n",
      "408\n",
      "436\n",
      "467\n",
      "499\n",
      "534\n",
      "571\n",
      "611\n",
      "654\n",
      "700\n",
      "\n",
      "counts:\n",
      "3\n",
      "2\n",
      "1\n",
      "1\n",
      "12\n",
      "86\n",
      "62\n",
      "60\n",
      "118\n",
      "137\n",
      "350\n",
      "456\n",
      "562\n",
      "944\n",
      "468\n"
     ]
    }
   ],
   "source": [
    "# print lengths, then counts, in matching order\n",
    "lengths = [x[0] for x in length_tallies]\n",
    "counts = [x[1] for x in length_tallies]\n",
    "\n",
    "print(\"FOR TRAIN ONLY\")\n",
    "print(\"lengths:\")\n",
    "for length in lengths:\n",
    "    print(length)\n",
    "    \n",
    "print(\"\\ncounts:\")\n",
    "for c in counts:\n",
    "    print(c)"
   ]
  },
  {
   "cell_type": "code",
   "execution_count": 53,
   "metadata": {},
   "outputs": [
    {
     "data": {
      "text/plain": [
       "[765,\n",
       " 544,\n",
       " 312,\n",
       " 333,\n",
       " 4284,\n",
       " 32766,\n",
       " 25296,\n",
       " 26160,\n",
       " 55106,\n",
       " 68363,\n",
       " 186900,\n",
       " 260376,\n",
       " 343382,\n",
       " 617376,\n",
       " 327600]"
      ]
     },
     "execution_count": 53,
     "metadata": {},
     "output_type": "execute_result"
    }
   ],
   "source": [
    "# may help estimate run time:\n",
    "# calculate length times batch size\n",
    "len_times_count = [x[0] * x[1] for x in length_tallies]\n",
    "len_times_count"
   ]
  },
  {
   "cell_type": "code",
   "execution_count": 54,
   "metadata": {
    "colab": {
     "base_uri": "https://localhost:8080/"
    },
    "id": "EAkw3A_1xmIo",
    "outputId": "e296a695-cce8-4d55-ba89-a63bb5f6e8f6"
   },
   "outputs": [
    {
     "name": "stdout",
     "output_type": "stream",
     "text": [
      "validation:\t 396\n",
      "test:\t 438\n",
      "train:\t 3262\n"
     ]
    }
   ],
   "source": [
    "# see how many pieces are in each set\n",
    "print(\"validation:\\t\", len(validation))\n",
    "print(\"test:\\t\", len(test))\n",
    "print(\"train:\\t\", len(train))"
   ]
  },
  {
   "cell_type": "code",
   "execution_count": 55,
   "metadata": {
    "id": "eNQu9MluBSBe"
   },
   "outputs": [],
   "source": [
    "# the data does not save until you run this.\n",
    "torch.save(validation, my_drive_path + \"usable_data/mar-1-variable_bin_bounds_val.csv\")\n",
    "torch.save(test, my_drive_path + \"usable_data/mar-1-variable_bin_bounds_test.csv\")\n",
    "torch.save(train, my_drive_path + \"usable_data/mar-1-variable_bin_bounds_train.csv\")"
   ]
  }
 ],
 "metadata": {
  "colab": {
   "provenance": []
  },
  "kernelspec": {
   "display_name": "Python 3",
   "language": "python",
   "name": "python3"
  },
  "language_info": {
   "codemirror_mode": {
    "name": "ipython",
    "version": 3
   },
   "file_extension": ".py",
   "mimetype": "text/x-python",
   "name": "python",
   "nbconvert_exporter": "python",
   "pygments_lexer": "ipython3",
   "version": "3.8.2"
  }
 },
 "nbformat": 4,
 "nbformat_minor": 1
}

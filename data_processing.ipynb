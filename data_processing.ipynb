{
 "cells": [
  {
   "cell_type": "code",
   "execution_count": 1,
   "metadata": {
    "colab": {
     "base_uri": "https://localhost:8080/"
    },
    "id": "dd3K0avvtOAX",
    "outputId": "a121bda8-6cc7-45b3-d869-e994cb251b39"
   },
   "outputs": [],
   "source": [
    "drive = False  # False for Local\n",
    "if drive:\n",
    "    !pip install pretty_midi"
   ]
  },
  {
   "cell_type": "code",
   "execution_count": 2,
   "metadata": {
    "id": "UhjTVBAwtYJd"
   },
   "outputs": [],
   "source": [
    "import numpy as np\n",
    "import matplotlib.pyplot as plt\n",
    "import pretty_midi\n",
    "from mido import Message, MidiFile, MidiTrack\n",
    "import pandas as pd\n",
    "import json\n",
    "import torch as torch\n",
    "import math\n",
    "from bisect import bisect\n",
    "from tqdm import tqdm"
   ]
  },
  {
   "cell_type": "code",
   "execution_count": 3,
   "metadata": {
    "colab": {
     "base_uri": "https://localhost:8080/"
    },
    "id": "PNQ18B_yhh7m",
    "outputId": "8ff532c3-5282-4376-acd2-b14f6083eb6d"
   },
   "outputs": [],
   "source": [
    "if drive:\n",
    "    from google.colab import drive\n",
    "    drive.mount('/content/drive')\n",
    "    my_drive_path = #DRIVE PATH HERE\n",
    "else: # local\n",
    "    my_drive_path = \"./\""
   ]
  },
  {
   "cell_type": "code",
   "execution_count": 4,
   "metadata": {
    "id": "fC-omUPGwUSw"
   },
   "outputs": [],
   "source": [
    "my_data = pd.read_csv(my_drive_path + 'maestro-v3.0.0/maestro-v3.0.0.csv')"
   ]
  },
  {
   "cell_type": "code",
   "execution_count": 5,
   "metadata": {
    "colab": {
     "base_uri": "https://localhost:8080/"
    },
    "id": "s_jmKE9lvva4",
    "outputId": "5c747ba6-b4d2-454f-8761-106a8b650d07"
   },
   "outputs": [
    {
     "data": {
      "text/plain": [
       "canonical_composer                                       Claude Debussy\n",
       "canonical_title                          \"Voiles\" from Preludes, Book I\n",
       "split                                                             train\n",
       "year                                                               2008\n",
       "midi_filename         2008/MIDI-Unprocessed_07_R3_2008_01-05_ORIG_MI...\n",
       "audio_filename        2008/MIDI-Unprocessed_07_R3_2008_01-05_ORIG_MI...\n",
       "duration                                                     212.295461\n",
       "Name: 45, dtype: object"
      ]
     },
     "execution_count": 5,
     "metadata": {},
     "output_type": "execute_result"
    }
   ],
   "source": [
    "my_data.iloc[45]"
   ]
  },
  {
   "cell_type": "markdown",
   "metadata": {},
   "source": [
    "## Initial Processing of Pieces\n",
    "- convert to piano roll\n",
    "- get num beats; tempo\n",
    "- remove silence at beginning/end"
   ]
  },
  {
   "cell_type": "code",
   "execution_count": null,
   "metadata": {
    "colab": {
     "base_uri": "https://localhost:8080/",
     "height": 1000
    },
    "id": "MTl11R_5_8DV",
    "outputId": "2460bfc6-edd9-4c2f-c0de-a254d8ae9046"
   },
   "outputs": [],
   "source": [
    "path_beginning = my_drive_path + \"maestro-v3.0.0/\"\n",
    "pieces = []\n",
    "\n",
    "# how many steps you get\n",
    "for i in tqdm(range(my_data.shape[0])):  # 1276 pieces\n",
    "  # loads the piece into pretty_midi form\n",
    "  path_part = my_data.iloc[i][\"midi_filename\"]\n",
    "  split = my_data.iloc[i][\"split\"]\n",
    "  path = path_beginning + path_part\n",
    "  midi_data = pretty_midi.PrettyMIDI(path)\n",
    "\n",
    "  # estimates the tempo of the piece\n",
    "  tempo = midi_data.estimate_tempo()\n",
    "  print(\" estimated tempo:\", tempo, end=\"\")\n",
    "  # gets piano roll sampled at estimated tempo\n",
    "  # (diff tempo for each piece)\n",
    "  roll = midi_data.get_piano_roll(tempo/60).T\n",
    "  print(\"\\tbeats:\", roll.shape[0], end=\" -> \")  # before silence removed or any other cut/padding\n",
    "    \n",
    "  # removes silence at beginning of piece\n",
    "  over = False\n",
    "  r = np.zeros(128)\n",
    "  while over == False:\n",
    "    m = roll[0]\n",
    "    if np.array_equal(m,r):\n",
    "      roll = roll[1:]\n",
    "    else:\n",
    "      over = True\n",
    "    \n",
    "  # removes silence at end of piece\n",
    "  over = False\n",
    "  r = np.zeros(128)\n",
    "  while over == False:\n",
    "    m = roll[-1]\n",
    "    if np.array_equal(m,r):\n",
    "      roll = roll[:-1]\n",
    "    else:\n",
    "      over = True\n",
    "    \n",
    "  # converts roll to binary matrix (only 0s and 1s)\n",
    "  roll = np.where(roll > 0, 1, 0)\n",
    "    \n",
    "  # recalculate num beats after removing silence etc.\n",
    "  beats = roll.shape[0]\n",
    "  print(beats)  # ends print line from above (pre-processing beats)\n",
    "\n",
    "  # save to data_sizes - beats, tempo, split, etc. for each piece\n",
    "  this_piece = my_data.iloc[i].copy()\n",
    "  this_piece[\"tempo\"] = tempo\n",
    "  this_piece[\"beats\"] = beats\n",
    "  this_piece[\"roll\"] = roll\n",
    "    \n",
    "  pieces.append(this_piece)"
   ]
  },
  {
   "cell_type": "markdown",
   "metadata": {},
   "source": [
    "## Add to bins"
   ]
  },
  {
   "cell_type": "code",
   "execution_count": 43,
   "metadata": {},
   "outputs": [],
   "source": [
    "class Bin:\n",
    "    def __init__(self, length, lower_bound, upper_bound, verbose=False):\n",
    "        self.verbose = verbose\n",
    "        self.bin_length = length  # how long the pieces are in this bin\n",
    "        self.lower_bound = lower_bound  # inclusive # the shortest pieces that get put into this bin (round up beats in piece)\n",
    "        self.upper_bound = upper_bound  # exclusive # the longest pieces in this bin (truncate)\n",
    "        self.pieces = []\n",
    "        self.bin_count = 0\n",
    "        \n",
    "    def add_piece(self, roll, length, save_to_bins=False):\n",
    "        if self.verbose:\n",
    "            print(f\"adding piece of length {length}\", end=\" \")\n",
    "        \n",
    "        self.bin_count += 1\n",
    "        \n",
    "        # fit piece to bin size\n",
    "        if length >= self.bin_length:\n",
    "            fit_roll = self.truncate(roll, length)\n",
    "            \n",
    "            if self.verbose:\n",
    "                print(f\"truncated to {fit_roll.shape[0]}\")\n",
    "        else:\n",
    "            fit_roll = self.add_beats_repeat(roll, length)\n",
    "            \n",
    "            if self.verbose:\n",
    "                print(f\"repeated to {fit_roll.shape[0]}\")\n",
    "\n",
    "        # save fit piece in bin\n",
    "        if save_to_bins:\n",
    "            self.pieces.append(fit_roll)\n",
    "            \n",
    "        return fit_roll\n",
    "        \n",
    "    def add_sub_piece(self, roll, length, roll_before, roll_after, save_to_bins=False):\n",
    "        if self.verbose:\n",
    "            print(f\"adding piece of length {length}\", end=\" \")\n",
    "            \n",
    "        self.bin_count += 1\n",
    "        \n",
    "        # fit sub-piece to bin size\n",
    "        if length >= self.bin_length:\n",
    "            fit_roll = self.truncate(roll, length)\n",
    "            \n",
    "            if self.verbose:\n",
    "                print(f\"truncated to {fit_roll.shape[0]}\")\n",
    "        else:\n",
    "            fit_roll = self.add_beats_from_neighbor(roll, length, roll_before, roll_after)\n",
    "            \n",
    "            if self.verbose:\n",
    "                print(f\"extended to {fit_roll.shape[0]}\")\n",
    "        \n",
    "        # save fit sub-piece in bin\n",
    "        if save_to_bins:\n",
    "            self.pieces.append(fit_roll)\n",
    "            \n",
    "        return fit_roll\n",
    "        \n",
    "        \n",
    "    def get_bin_length(self):\n",
    "        return self.bin_length\n",
    "    \n",
    "    def get_bin_count(self):\n",
    "        return self.bin_count\n",
    "    \n",
    "    def truncate(self, roll, length):\n",
    "        beats_to_remove = length - self.bin_length # shape aka beats\n",
    "        if beats_to_remove > 0:\n",
    "            roll = roll[:(-1) * beats_to_remove] # cut off last [beats_to_remove] beats\n",
    "        return roll\n",
    "    \n",
    "    def add_beats_repeat(self, roll, length):\n",
    "        beats_to_add = self.bin_length - length\n",
    "        if beats_to_add > 0:  # never ever adding more than 1 repeat\n",
    "            roll = np.vstack((roll,roll))\n",
    "            roll = roll[:self.bin_length] \n",
    "        return roll\n",
    "    \n",
    "    def add_beats_from_neighbor(self, roll, length, roll_before=None, roll_after=None):\n",
    "        \"\"\"For a sub-piece that must expand to meet a bin length, borrow beats from neighboring sub-pieces.\"\"\"\n",
    "        beats_to_add = self.bin_length - length\n",
    "        \n",
    "        if self.verbose:\n",
    "            print(f\"added {beats_to_add} beats\", end=\" \")\n",
    "        \n",
    "        if (roll_before is None) and (roll_after is None):\n",
    "            print(\"error: cannot use method on one sub-piece; must be at least two sub-pieces\")\n",
    "        elif roll_before is None:  # first sub-piece\n",
    "            # add from roll after\n",
    "            beats_after = roll_after[:beats_to_add]\n",
    "            roll = np.vstack((roll, beats_after))\n",
    "        elif roll_after is None:  # last sub-piece\n",
    "            # add from roll before\n",
    "            beats_before = roll_before[-1*beats_to_add:]\n",
    "            roll = np.vstack((beats_before, roll))\n",
    "        elif beats_to_add == 1:  # middle piece only adds 1 beat\n",
    "            # add from roll after\n",
    "            beats_after = roll_after[:beats_to_add]\n",
    "            roll = np.vstack((roll, beats_after))\n",
    "        else: # a sub-piece in the middle\n",
    "            # add half from roll before, and\n",
    "            # add half from roll after\n",
    "            beats_from_before = beats_to_add // 2\n",
    "            beats_from_after = beats_to_add - beats_from_before\n",
    "            beats_before = roll_before[-1*beats_from_before:]\n",
    "            beats_after = roll_after[:beats_from_after]\n",
    "            roll = np.vstack((beats_before, roll, beats_after))\n",
    "        return roll\n",
    "        \n",
    "class Bin_Holder:\n",
    "    def __init__(self, num_bins, min_size, max_size, verbose=True):\n",
    "        \"\"\"a class to create and contain all the bins\"\"\"\n",
    "        self.verbose = verbose\n",
    "        self.num_bins = num_bins\n",
    "        self.bins = []\n",
    "        self.max_size = max_size\n",
    "        self.min_size = min_size\n",
    "       \n",
    "        # shorten names for conciseness\n",
    "        pl = min_size\n",
    "        pu = max_size\n",
    "        \n",
    "        # calculate exponential formula constants\n",
    "        # formula is f(x) = a*e^(b*x)\n",
    "        self.a = pl * (pl / pu)**(1/(num_bins-1))\n",
    "        self.b = (1/(num_bins-1)) * math.log(pu/pl)\n",
    "        \n",
    "        # create bins\n",
    "        for i in range(1, num_bins+1):\n",
    "            lower_bound, bin_length, upper_bound = self.get_bin_bounds(i)\n",
    "            # create a new bin and add to self.bins\n",
    "            self.bins.append(Bin(bin_length, lower_bound, upper_bound))  # add verbose=verbose for bins to inherit verbose\n",
    "            \n",
    "        # for sorting purposes, create list of bin bounds\n",
    "        self.bin_bounds = [self.apply_exp(x+0.5) for x in range(num_bins+1)] # start at 0 not 1, to include lowest bound\n",
    "        self.bin_lengths = [self.apply_exp(x) for x in range(1, num_bins+1)]\n",
    "        self.max_bin_bound = self.bin_bounds[-1]  # largest piece that fits into a bin without splitting into sub-pieces\n",
    "        \n",
    "    def get_bin_bounds(self, bin_num):\n",
    "        \"\"\"Get bounds for a bin using exponential formula.\"\"\"\n",
    "        lower_bound = self.apply_exp(bin_num - 0.5)\n",
    "        bin_length = self.apply_exp(bin_num)\n",
    "        upper_bound = self.apply_exp(bin_num + 0.5)\n",
    "    \n",
    "        if self.verbose:\n",
    "            print(f\"current bin bounds for bin {bin_num}: [{lower_bound}, {bin_length}, {upper_bound})\")\n",
    "\n",
    "        return lower_bound, bin_length, upper_bound\n",
    "    \n",
    "    def print_bin_info(self):\n",
    "        print(\"num_bins:\", self.num_bins)\n",
    "        print(\"max_size:\", self.max_size, \"\\tmin_size:\", self.min_size)\n",
    "        print(\"bin_bounds:\", self.bin_bounds)\n",
    "        print(\"bin_lengths:\", self.bin_lengths)\n",
    "        \n",
    "    def print_bin_counts(self):\n",
    "        print([this_bin.get_bin_count() for this_bin in self.bins])\n",
    "        \n",
    "    def print_bin_lengths(self):\n",
    "        print([this_bin.get_bin_length() for this_bin in self.bins])\n",
    "        \n",
    "    def apply_exp(self, bin_num):\n",
    "        return int(self.a*math.exp(self.b * bin_num))\n",
    "    \n",
    "    def get_bin_ind(self, length):\n",
    "        return bisect(self.bin_bounds, length) - 1\n",
    "    \n",
    "    def get_bin_length(self, length):\n",
    "        bin_ind = self.get_bin_ind(length)\n",
    "        return self.bins[bin_ind].get_length()\n",
    "    \n",
    "    def get_bin_ind_and_length(self, length):\n",
    "        \"\"\"Returns both ind and length at once.\"\"\"\n",
    "        bin_ind = self.get_bin_ind(length)\n",
    "        bin_length = self.bins[bin_ind].get_length()\n",
    "        return bin_ind, bin_length\n",
    "    \n",
    "    def add_piece(self, roll, length):\n",
    "        fit_rolls = []\n",
    "        # if larger than can fit in largest bin (len>=max_bin_bound), break into sub-pieces\n",
    "        # note: max_bin_bound is exclusive\n",
    "        if length >= self.max_bin_bound:\n",
    "            # how many sub-pieces to split this roll into\n",
    "            n_splits = math.ceil(length / self.max_size)\n",
    "            sub_pieces = np.array_split(roll, n_splits, axis=0)  # shape (beats,128)\n",
    "            \n",
    "            if self.verbose:\n",
    "                print(f\"piece size {length} is too large; split into {n_splits} sub-pieces of sizes {[r.shape[0] for r in sub_pieces]}\")\n",
    "            \n",
    "            # for each sub-piece\n",
    "            for i in range(n_splits):\n",
    "                sub_piece = sub_pieces[i]\n",
    "                sub_length = sub_piece.shape[0]\n",
    "                \n",
    "                # get sub-piece before and after, in case this sub-piece needs expanding to fit in bin\n",
    "                if i != 0:  # not first piece\n",
    "                    roll_before = sub_pieces[i-1]\n",
    "                else:\n",
    "                    roll_before = None  # first piece\n",
    "                    \n",
    "                if i != n_splits - 1:  # not last piece\n",
    "                    roll_after = sub_pieces[i+1]\n",
    "                else:\n",
    "                    roll_after = None  # last piece\n",
    "                \n",
    "                # insert sub-piece in bin\n",
    "                bin_ind = self.get_bin_ind(sub_length)\n",
    "                if self.verbose:\n",
    "                    print(\"bin:\", bin_ind, \"length:\", length)\n",
    "                fit_rolls.append(self.bins[bin_ind].add_sub_piece(sub_piece, sub_length, roll_before, roll_after))\n",
    "        \n",
    "        # fits in bin w/o breaking into pieces\n",
    "        else:  \n",
    "            bin_ind = self.get_bin_ind(length)\n",
    "            if self.verbose:\n",
    "                print(\"bin\", bin_ind, \"length\", length)\n",
    "            \n",
    "            if bin_ind >= 0: # large enough for a bin\n",
    "                fit_rolls.append(self.bins[bin_ind].add_piece(roll, length))\n",
    "                \n",
    "        return fit_rolls\n",
    "                "
   ]
  },
  {
   "cell_type": "code",
   "execution_count": 44,
   "metadata": {},
   "outputs": [],
   "source": [
    "def add_roll_to_split(roll, tempo, beats, split):\n",
    "    # convert roll to tensor\n",
    "    # and save roll, tempo, beats\n",
    "    roll_data = np.array([torch.tensor(roll), tempo, beats], dtype=\"object\")\n",
    "    if split==\"test\":\n",
    "        test.append(roll_data)\n",
    "    elif split==\"train\":\n",
    "        train.append(roll_data)\n",
    "    else:\n",
    "        validation.append(roll_data)\n",
    "        \n",
    "# clear lists each time data are added to rolls\n",
    "train = []\n",
    "test = []\n",
    "validation = []"
   ]
  },
  {
   "cell_type": "code",
   "execution_count": 45,
   "metadata": {},
   "outputs": [],
   "source": [
    "# set constants\n",
    "num_bins = 16\n",
    "max_length = 700\n",
    "\n",
    "# find shortest piece length\n",
    "all_beat_lengths = [piece[\"beats\"] for piece in pieces]  # note: pieces is NOT sorted by length\n",
    "all_beat_lengths.sort()\n",
    "min_length = all_beat_lengths[9]  # 10th-shortest piece length"
   ]
  },
  {
   "cell_type": "code",
   "execution_count": null,
   "metadata": {},
   "outputs": [],
   "source": [
    "# create bins to hold pieces\n",
    "all_bins = Bin_Holder(num_bins, min_length, max_length, verbose=False)\n",
    "all_bins.print_bin_info()"
   ]
  },
  {
   "cell_type": "code",
   "execution_count": 47,
   "metadata": {},
   "outputs": [],
   "source": [
    "for piece in pieces:\n",
    "    roll = piece[\"roll\"]\n",
    "    tempo = piece[\"tempo\"]\n",
    "    split = piece[\"split\"]\n",
    "    beats = piece[\"beats\"]\n",
    "    \n",
    "    # fit roll to a bin\n",
    "    # may return multiple 'fit_roll's - from pieces larger than max_size\n",
    "    fit_rolls = all_bins.add_piece(roll, beats)\n",
    "    \n",
    "    # save each fit_roll to split\n",
    "    for fit_roll in fit_rolls:\n",
    "        add_roll_to_split(fit_roll, tempo, fit_roll.shape[0], split)"
   ]
  },
  {
   "cell_type": "code",
   "execution_count": null,
   "metadata": {},
   "outputs": [],
   "source": [
    "all_bins.print_bin_lengths()"
   ]
  },
  {
   "cell_type": "code",
   "execution_count": null,
   "metadata": {},
   "outputs": [],
   "source": [
    "all_bins.print_bin_counts()"
   ]
  },
  {
   "cell_type": "code",
   "execution_count": 50,
   "metadata": {},
   "outputs": [],
   "source": [
    "# find lengths of train pieces\n",
    "train_lengths_all = [piece[0].shape[0] for piece in train]"
   ]
  },
  {
   "cell_type": "code",
   "execution_count": null,
   "metadata": {},
   "outputs": [],
   "source": [
    "# tally lengths of train pieces\n",
    "train_lengths = set(train_lengths_all)\n",
    "length_tallies = []\n",
    "for length in train_lengths:\n",
    "    length_tallies.append((length, train_lengths_all.count(length)))\n",
    "    \n",
    "length_tallies.sort(key=lambda x:x[0])\n",
    "print(length_tallies)"
   ]
  },
  {
   "cell_type": "code",
   "execution_count": null,
   "metadata": {},
   "outputs": [],
   "source": [
    "# print lengths, then counts, in matching order\n",
    "lengths = [x[0] for x in length_tallies]\n",
    "counts = [x[1] for x in length_tallies]\n",
    "\n",
    "print(\"FOR TRAIN ONLY\")\n",
    "print(\"lengths:\")\n",
    "for length in lengths:\n",
    "    print(length)\n",
    "    \n",
    "print(\"\\ncounts:\")\n",
    "for c in counts:\n",
    "    print(c)"
   ]
  },
  {
   "cell_type": "code",
   "execution_count": null,
   "metadata": {},
   "outputs": [],
   "source": [
    "# may help estimate run time:\n",
    "# calculate length times batch size\n",
    "len_times_count = [x[0] * x[1] for x in length_tallies]\n",
    "len_times_count"
   ]
  },
  {
   "cell_type": "code",
   "execution_count": null,
   "metadata": {
    "colab": {
     "base_uri": "https://localhost:8080/"
    },
    "id": "EAkw3A_1xmIo",
    "outputId": "e296a695-cce8-4d55-ba89-a63bb5f6e8f6"
   },
   "outputs": [],
   "source": [
    "# see how many pieces are in each set\n",
    "print(\"validation:\\t\", len(validation))\n",
    "print(\"test:\\t\", len(test))\n",
    "print(\"train:\\t\", len(train))"
   ]
  },
  {
   "cell_type": "code",
   "execution_count": 55,
   "metadata": {
    "id": "eNQu9MluBSBe"
   },
   "outputs": [],
   "source": [
    "# the data does not save until you run this.\n",
    "torch.save(validation, my_drive_path + \"usable_data/mar-1-variable_bin_bounds_val.csv\")\n",
    "torch.save(test, my_drive_path + \"usable_data/mar-1-variable_bin_bounds_test.csv\")\n",
    "torch.save(train, my_drive_path + \"usable_data/mar-1-variable_bin_bounds_train.csv\")"
   ]
  }
 ],
 "metadata": {
  "colab": {
   "provenance": []
  },
  "kernelspec": {
   "display_name": "Python 3",
   "language": "python",
   "name": "python3"
  },
  "language_info": {
   "codemirror_mode": {
    "name": "ipython",
    "version": 3
   },
   "file_extension": ".py",
   "mimetype": "text/x-python",
   "name": "python",
   "nbconvert_exporter": "python",
   "pygments_lexer": "ipython3",
   "version": "3.8.2"
  }
 },
 "nbformat": 4,
 "nbformat_minor": 1
}

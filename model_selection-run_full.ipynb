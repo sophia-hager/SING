{
 "cells": [
  {
   "cell_type": "code",
   "execution_count": 1,
   "id": "nervous-apparatus",
   "metadata": {},
   "outputs": [],
   "source": [
    "drive = False  # False for Local\n",
    "if drive:\n",
    "    !pip install pretty_midi\n",
    "    !pip install -U sparsemax\n",
    "# locally, also compile torch (with CUDA enabled if available):\n",
    "# conda install pytorch==1.11.0 torchvision==0.12.0 torchaudio==0.11.0 cudatoolkit=11.3 -c pytorch"
   ]
  },
  {
   "cell_type": "code",
   "execution_count": 2,
   "id": "gross-tissue",
   "metadata": {},
   "outputs": [],
   "source": [
    "import os\n",
    "import numpy as np\n",
    "import matplotlib.pyplot as plt\n",
    "import pretty_midi\n",
    "#this package is used to write it back into music.\n",
    "from mido import Message, MidiFile, MidiTrack\n",
    "import torch \n",
    "import torch.nn as nn\n",
    "import torch.nn.functional as F\n",
    "import torch.optim as optim\n",
    "from tqdm import tqdm\n",
    "import random\n",
    "import torch.distributions\n",
    "import sparsemax"
   ]
  },
  {
   "cell_type": "code",
   "execution_count": 3,
   "id": "enhanced-congo",
   "metadata": {},
   "outputs": [],
   "source": [
    "if drive:\n",
    "    from google.colab import drive\n",
    "    drive.mount('/content/drive')\n",
    "    my_drive_path = '/content/drive/MyDrive/2022_Special_Studies_Hablutzel/ModelCopies/'\n",
    "else: # local\n",
    "    my_drive_path = \"./\""
   ]
  },
  {
   "cell_type": "code",
   "execution_count": 4,
   "id": "breeding-contact",
   "metadata": {},
   "outputs": [],
   "source": [
    "# this is the model\n",
    "class music_generator(nn.Module):\n",
    "    def __init__(self, hidden_size, output_size, base_lstm=False):\n",
    "        super().__init__()\n",
    "        self.hidden_size = hidden_size  # 128\n",
    "        # output_size is num expected features (128)\n",
    "        self.lstm = nn.LSTM(output_size, hidden_size, num_layers=1, bidirectional=False)\n",
    "        self.attention = nn.Linear(2, 1)\n",
    "        self.softmax = sparsemax.Sparsemax(dim=1)\n",
    "        self.sigmoid = nn.Sigmoid()\n",
    "        self.hidden = None\n",
    "        self.base_lstm = base_lstm  # true to use lstm without attention\n",
    "\n",
    "    def init_hidden(self, batch_size):\n",
    "        # set hidden state to zeros after each batch\n",
    "        hidden = (torch.zeros(1, batch_size, self.hidden_size)).float() # .to(\"cuda:0\")  # [layers, batch_size, hidden_size/features]\n",
    "        self.hidden = (hidden, hidden) # hidden_state, cell_state\n",
    "        return\n",
    "\n",
    "    def set_random_hidden(self, batch_size):\n",
    "        # create new random hidden layer\n",
    "        hidden = (torch.randn(1, batch_size, self.hidden_size)).float() # .to(\"cuda:0\")\n",
    "        self.hidden = (hidden, hidden)\n",
    "        return\n",
    "\n",
    "    def forward(self, in_put, batch_size, prev_sequence, batched_ssm):\n",
    "        # look at tensor things - view vs. reshape vs. permute, and unsqueeze and squeeze\n",
    "        # try looking at the LSTM equations\n",
    "        # .to('cpu')  # returns a copy of the tensor in CPU memory\n",
    "        # .to('cuda:0')  # returns copy in CUDA memory, 0 indicates first GPU device\n",
    "        # https://pytorch.org/docs/stable/tensors.html#torch.Tensor.to\n",
    "\n",
    "        # sequence length\n",
    "        # size of input (10 or 1)\n",
    "        sequence_length = in_put.size()[0]\n",
    "        # print(\"in_put:\", in_put.shape)\n",
    "\n",
    "        # Run the LSTM\n",
    "        # output - sequence of all the hidden states\n",
    "        # hidden - most recent hidden state\n",
    "        # input dimensions: [sequence_length, batch_size, 128]\n",
    "        output, self.hidden = self.lstm(in_put.float(), self.hidden) # removed input.tocuda, so hidden doesn't need cuda either # make sure hidden in cuda memory! - #0].to(\"cuda:0\").float(), hidden[1].to(\"cuda:0\").float()))\n",
    "        # output dimensions: [sequence_length, batch_size, 128]\n",
    "        # outputs as many beats (sequence_length) as there were beats in the input\n",
    "        # hidden: last hidden states from last beat\n",
    "\n",
    "        #########################\n",
    "        # attention starts here #\n",
    "        #########################\n",
    "        \n",
    "        # output without attention\n",
    "        new_output = output.view(sequence_length, batch_size, 1, 128)  # reshape\n",
    "        avg_output = torch.sum(new_output, 2)\n",
    "        \n",
    "        # if we're using a starter sequence, cut output to last note\n",
    "        avg_output = avg_output[-1,:,:].unsqueeze(1)  # [batch_size, 1, 128]\n",
    "        \n",
    "        # return early (w/o attention) for base lstm\n",
    "        if self.base_lstm:\n",
    "          return avg_output.transpose(0,1), self.hidden\n",
    "        \n",
    "        #this variable holds the output after the attention has been applied.\n",
    "        seqs = []\n",
    "\n",
    "        # slice the batched ssms to the right places\n",
    "        beat_num = prev_sequence.shape[0]\n",
    "        \n",
    "        # find the row for this beat in each ssm\n",
    "        # batched_ssm shape is (batch_size*beats, beats), bc all the pieces are stacked vertically atop each other\n",
    "        inds_across_pieces = range(beat_num, batched_ssm.shape[0], batched_ssm.shape[1])  # eg 11, 2625, 105 - indices of this beat in each of the pieces in the batched_ssm\n",
    "        \n",
    "        # for the row for this beat in each ssm, slice the row up to (not including) this beat\n",
    "        ssm_slice = batched_ssm[inds_across_pieces, :beat_num] # [batch_size, beat_num]\n",
    "        \n",
    "        # sparsemax makes entries in the vector add to 1\n",
    "        weights = self.softmax(ssm_slice)  # weights are shape [batch_size, beat_num]\n",
    "\n",
    "        # this is the sparsemaxed SSM multiplied by the entire previous sequence\n",
    "        # to scale the previous timesteps for how much attention to pay to each\n",
    "        # TODO: replace .T\n",
    "        weighted = (prev_sequence.T*weights).T  # [batch_size, beat_num]\n",
    "\n",
    "        # then it's summed to provide weights for each note.\n",
    "        weight_vec = (torch.sum(weighted, axis=0)).unsqueeze(1)  # [batch_size, 1, 128]\n",
    "\n",
    "        # This concatenates the weights for each note with the output for that note, which is then run through the linear layer to get the final output.\n",
    "        # returns attentioned note\n",
    "        pt2 = torch.hstack((weight_vec, avg_output)).transpose(1,2)\n",
    "        attentioned = self.attention(pt2.float()).permute(2,0,1)  # before .permute() .to(\"cuda:0\")).to('cpu')\n",
    "\n",
    "        # delete vars to remove clutter in memory\n",
    "        del pt2\n",
    "        del weight_vec\n",
    "        del weighted\n",
    "        del weights\n",
    "        del ssm_slice\n",
    "        del inds_across_pieces\n",
    "        del beat_num\n",
    "        del new_output\n",
    "        del avg_output\n",
    "\n",
    "        # return attentioned note\n",
    "        return attentioned.double(), self.hidden  # hidden = hidden_state, cell_state"
   ]
  },
  {
   "cell_type": "code",
   "execution_count": 5,
   "id": "fresh-waterproof",
   "metadata": {},
   "outputs": [],
   "source": [
    "class model_trainer():\n",
    "  def __init__(self, generator, optimizer, data, hidden_size=128, batch_size=50):\n",
    "    self.generator = generator\n",
    "    self.optimizer = optimizer\n",
    "    self.batch_size = batch_size  # play with this\n",
    "    self.hidden_size = hidden_size  # 128\n",
    "    self.data = data\n",
    "    self.data_length = data[0][0].shape[0]  # as long as piece length doesn't vary\n",
    "\n",
    "  def train_epochs(self, num_epochs=50, full_training=False, variable_size_batches=False, save_name=\"model\"):\n",
    "    #trains each epoch\n",
    "    losslist = []\n",
    "    #useful when you want to see the progression of the SSM over time\n",
    "    piclist = []\n",
    "\n",
    "    for iter in tqdm(range(0, num_epochs)):\n",
    "      # start training the generator\n",
    "      self.generator.train()\n",
    "\n",
    "      if variable_size_batches:\n",
    "        # use all data, and group batches by piece size\n",
    "        batches = make_variable_size_batches(self.data)\n",
    "      elif full_training and not variable_size_batches: # truncating data doesn't work w/ variable size batches currently\n",
    "        # use all data\n",
    "        batches = make_batches(self.data, self.batch_size, self.data_length)\n",
    "      else:\n",
    "        # use first 100 pieces\n",
    "        # can we overfit on a small dataset? if so, can be a good thing b/c shows the model can learn\n",
    "        batches = make_batches(self.data[:100], self.batch_size, self.data_length)\n",
    "\n",
    "      cum_loss = 0\n",
    "      for batch_num in tqdm(range(len(batches))):\n",
    "        batch = batches[batch_num]\n",
    "        if full_training:\n",
    "          # train on full-length pieces\n",
    "          loss = self.train(batch)\n",
    "        else:\n",
    "          # train on first 105 beats of each piece\n",
    "          loss = self.train(batch[:,:105,:])  # [batch, beats, 128]\n",
    "        cum_loss+=loss\n",
    "        del batch\n",
    "        del loss\n",
    "      del batches\n",
    "          \n",
    "      # print loss for early stopping\n",
    "      print(cum_loss)\n",
    "    \n",
    "      # save generator after each epoch\n",
    "      curr_file = f\"{my_drive_path}trained/{save_name}-epoch-{str(iter)}-loss-{cum_loss:.5f}.txt\"\n",
    "      # !touch curr_file\n",
    "      torch.save(self.generator, curr_file)\n",
    "\n",
    "      # generate example piece for piclist\n",
    "      snap = self.generate_n_examples(n=1, length=95, starter_notes=10)\n",
    "\n",
    "      losslist.append(cum_loss) \n",
    "      piclist.append(snap)\n",
    "      del snap\n",
    "        \n",
    "      # early stopping:\n",
    "      # after each epoch,\n",
    "      # run w/ validation\n",
    "      # if devset (validation) loss goes up for ~5 epochs in a row, early stopping\n",
    "    return losslist, piclist\n",
    "\n",
    "  # train for one batch\n",
    "  def train(self, batch, starter_notes=10):\n",
    "    # seed vectors for the beginning:\n",
    "    batch_size = batch.shape[0]\n",
    "    self_sim = batch_SSM(batch.transpose(0,1), batch_size)  # use variable batch size\n",
    "    sequence = batch[:,0:starter_notes,:].transpose(0,1)  # start w/ some amount of the piece - 10 might be a bit much\n",
    "    generated = batch[:,0:starter_notes,:].transpose(0,1)\n",
    "\n",
    "    # reset hidden to zeros for each batch\n",
    "    self.generator.init_hidden(batch_size)\n",
    "        \n",
    "    # zero the gradients before training for each batch\n",
    "    self.optimizer.zero_grad()\n",
    "    \n",
    "    # for accumulating loss\n",
    "    loss = 0\n",
    "\n",
    "    # first .forward on sequence of num_starter_beats (~5 or 10 or so)\n",
    "    # then loop from there to generate one more element\n",
    "    next_element = sequence.to(\"cpu\")  # make copy!\n",
    "\n",
    "    # take\n",
    "    for i in range(0,batch.shape[1]-starter_notes):  # for each beat\n",
    "      # iterate through beats, generating for each piece in the batch as you go\n",
    "      val = torch.rand(1)  # probability it uses original - teacher forcing\n",
    "\n",
    "      # generate a beat for each piece in the batch\n",
    "      # we need to do this even in cases of teacher forcing, so we can calculate loss\n",
    "      output, _ = self.generator.forward(next_element, batch_size, sequence, self_sim)  # returns output, hidden - we don't need the latest copy of hidden\n",
    "      # print(\"outside output:\", output.shape)\n",
    "        \n",
    "      if (val > .8):\n",
    "        # teacher forcing - 20% of the time,  use original from piece instead of output\n",
    "        next_element = batch[:,i+1,:].unsqueeze(0)  # [1, 0/deleted, 128] to [1, 1, 128]\n",
    "      else:\n",
    "        # 80% of the time we keep the output\n",
    "        # take last output for each batch\n",
    "        next_element = topk_batch_sample(output, 5) # sample up to 5 most likely notes at this beat\n",
    "      \n",
    "      # add next_element (either generated or teacher) to sequence\n",
    "      sequence = torch.vstack((sequence, next_element.to(\"cpu\"))) # .unsqueeze(0)\n",
    "      # append output (generated - not teacher forced) for loss\n",
    "      generated = torch.vstack((generated, output))  # used for loss\n",
    "    \n",
    "    # run loss after training on whole length of the pieces in the batches\n",
    "    single_loss = custom_loss(generated[starter_notes:,:,:], batch.transpose(0,1)[starter_notes:,:,:])\n",
    "    single_loss.backward()\n",
    "\n",
    "    # update the parameters of the LSTM after running on full batch\n",
    "    self.optimizer.step()\n",
    "\n",
    "    loss += single_loss.detach().to('cpu')\n",
    "    del next_element\n",
    "    del self_sim\n",
    "    del sequence\n",
    "    del generated\n",
    "    del single_loss\n",
    "    return (loss)\n",
    "\n",
    "#   def generate_n_pieces_old(self, initial_vectors, n_pieces, length, batched_ssm):\n",
    "#     # generates a batch of n new pieces of music\n",
    "\n",
    "#     # freeze generator so it doesn't train anymore\n",
    "#     self.generator.eval()  \n",
    "#     # start generator on random hidden states and cell states\n",
    "#     self.generator.set_random_hidden(n_pieces)\n",
    "  \n",
    "#     # initial vectors in format [batch_size, num_notes=10, 128]\n",
    "#     # change sequence to [10, batch_size, 128]\n",
    "#     sequence = initial_vectors.transpose(0,1)\n",
    "    \n",
    "#     # can't generate more notes than the ssm\n",
    "#     max_notes = batched_ssm.shape[0]\n",
    "    \n",
    "#     # generate [length] more beats for the piece\n",
    "#     for i in range(0, min(length, max_notes)):  # one at a time\n",
    "#       print(i)\n",
    "#       with torch.no_grad():\n",
    "#         # use n_pieces to generate as the batch size\n",
    "#         output, _ = self.generator.forward(sequence.float(), n_pieces, sequence, batched_ssm)\n",
    "#         next_element = topk_batch_sample(output, 5)  # sample up to 5 most likely notes at this beat\n",
    "#       # add element to sequence\n",
    "#       sequence = torch.vstack((sequence, next_element.to(\"cpu\")))\n",
    "\n",
    "#     # return sequence of beats\n",
    "#     return sequence\n",
    "\n",
    "  def generate_n_pieces(self, initial_vectors, n_pieces, length, batched_ssm):\n",
    "    # generates a batch of n new pieces of music\n",
    "\n",
    "    # freeze generator so it doesn't train anymore\n",
    "    self.generator.eval()  \n",
    "    # start generator on random hidden states and cell states\n",
    "    self.generator.set_random_hidden(n_pieces)\n",
    "  \n",
    "    # initial vectors in format [batch_size, num_notes=10, 128]\n",
    "    # change sequence to [10, batch_size, 128]\n",
    "    sequence = initial_vectors.transpose(0,1)\n",
    "    next_element = sequence.to(\"cpu\")\n",
    "\n",
    "    # can't generate more notes than the ssm has entries\n",
    "    max_notes = batched_ssm.shape[0]-sequence.shape[0]\n",
    "    \n",
    "    # generate [length] more beats for the piece\n",
    "    # or as many beats as available in the ssm\n",
    "    for i in range(min(length, max_notes)):  # one at a time\n",
    "      with torch.no_grad():\n",
    "        # use n_pieces to generate as the batch size\n",
    "        output, _ = self.generator.forward(next_element.float(), n_pieces, sequence, batched_ssm)\n",
    "        next_element = topk_batch_sample(output, 5)  # sample up to 5 most likely notes at this beat\n",
    "      # add element to sequence\n",
    "      sequence = torch.vstack((sequence, next_element.to(\"cpu\")))\n",
    "\n",
    "    # return sequence of beats\n",
    "    return sequence\n",
    "  \n",
    "#   def generate_n_examples_old(self, n=1, length=390, starter_notes=10, source_piece=0):\n",
    "#     # get piece from the data\n",
    "#     piece = self.data[source_piece][0].unsqueeze(0)  # in format [1, 400, 128]\n",
    "\n",
    "#     # take first 10 notes in format [1, 10, 128]\n",
    "#     first_vec = piece[:,0:starter_notes,:]\n",
    "\n",
    "#     # create batched SSMs for each piece\n",
    "#     batched_ssms = batch_SSM(piece.transpose(0,1), n)\n",
    "\n",
    "#     # generate pieces\n",
    "#     new_gen = self.generate_n_pieces(first_vec, n, length, batched_ssms)\n",
    "\n",
    "#     # clean up variables\n",
    "#     del piece\n",
    "#     del first_vec\n",
    "#     del batched_ssms\n",
    "\n",
    "#     # return pieces\n",
    "#     return new_gen\n",
    "\n",
    "  def generate_n_examples(self, n=1, length=390, starter_notes=10, piece_inds=[0], random_source_pieces=False):\n",
    "    # get pieces from the data\n",
    "    pieces = torch.vstack([self.data[i][0].unsqueeze(0) for i in piece_inds]) # get just the note for each piece, and stack pieces\n",
    "    \n",
    "    # print(pieces.shape)\n",
    "\n",
    "    # take first 10 notes in format [1, 10, 128]\n",
    "    first_vecs = pieces[:,0:starter_notes,:]\n",
    "\n",
    "    # create batched SSMs for each piece\n",
    "    batched_ssms = batch_SSM(pieces.transpose(0,1), n)\n",
    "\n",
    "    # generate pieces\n",
    "    new_gen = self.generate_n_pieces(first_vecs, n, length, batched_ssms)\n",
    "\n",
    "    # clean up variables\n",
    "    del pieces\n",
    "    del first_vecs\n",
    "    del batched_ssms\n",
    "\n",
    "    # return pieces\n",
    "    return new_gen\n"
   ]
  },
  {
   "cell_type": "code",
   "execution_count": 6,
   "id": "motivated-ebony",
   "metadata": {},
   "outputs": [],
   "source": [
    "#this function takes in the piece of music and returns the chroma vectors\n",
    "def get_chroma(roll, length):\n",
    "    chroma_matrix = torch.zeros((roll.size()[0],12))\n",
    "    for note in range(0, 12):\n",
    "        chroma_matrix[:, note] = torch.sum(roll[:, note::12], axis=1)\n",
    "    return chroma_matrix"
   ]
  },
  {
   "cell_type": "code",
   "execution_count": 7,
   "id": "inner-witness",
   "metadata": {},
   "outputs": [],
   "source": [
    "#this takes in the sequence and creates a self-similarity matrix (it calls chroma function inside)\n",
    "def SSM(sequence):\n",
    "  #tensor will be in form length, hidden_size (128)\n",
    "  cos = nn.CosineSimilarity(dim=1)\n",
    "  chrom = get_chroma(sequence, sequence.size()[0])\n",
    "  len = chrom.size()[0]\n",
    "  SSM=torch.zeros((len, len))\n",
    "  for i in range(0, len):\n",
    "    SSM[i] = cos(chrom[i].view(1, -1),chrom)\n",
    "  return (SSM)"
   ]
  },
  {
   "cell_type": "code",
   "execution_count": 8,
   "id": "informational-referral",
   "metadata": {},
   "outputs": [],
   "source": [
    "#this bundles the SSM function.\n",
    "def batch_SSM(seq, batch_size):\n",
    "  # takes sequence in format\n",
    "  # [beats=400, batch_size, 128]\n",
    "  # print(\"SSM\\tsequence_shape\", seq.shape)\n",
    "  SSMs = []\n",
    "  for i in range(0, batch_size):\n",
    "    # print(\"SSM\\tsequence\", seq[:,i,:].shape)\n",
    "    ssm = SSM(seq[:,i,:])  # [beats, batch, 128]\n",
    "    # print(\"SSM\\tssm\", ssm.shape)\n",
    "    SSMs.append(ssm)  \n",
    "  return torch.vstack(SSMs)"
   ]
  },
  {
   "cell_type": "code",
   "execution_count": 9,
   "id": "stylish-bangkok",
   "metadata": {},
   "outputs": [],
   "source": [
    "#sampling function \n",
    "def topk_sample_one(sequence, k):\n",
    "  #takes in size sequence length, batch size, values\n",
    "  softmax = sparsemax.Sparsemax(dim=2)\n",
    "  vals, indices = torch.topk(sequence[:, :, 20:108],k)\n",
    "  indices+=20\n",
    "  seq = torch.distributions.Categorical(softmax(vals.float()))\n",
    "  samples = seq.sample()\n",
    "  onehot = F.one_hot(torch.gather(indices, -1, samples.unsqueeze(-1)), num_classes = sequence.shape[2]).squeeze(dim=2)\n",
    "  return(onehot)"
   ]
  },
  {
   "cell_type": "code",
   "execution_count": 10,
   "id": "valued-soccer",
   "metadata": {},
   "outputs": [],
   "source": [
    "#samples multiple times for the time-step\n",
    "def topk_batch_sample(sequence, k):\n",
    "  for i in range(0, 3):\n",
    "    new= topk_sample_one(sequence, k)\n",
    "    if i ==0:\n",
    "      sum = new\n",
    "    else:\n",
    "      sum+=new\n",
    "  return(torch.where(sum>0, 1, 0))\n"
   ]
  },
  {
   "cell_type": "code",
   "execution_count": 11,
   "id": "emerging-hygiene",
   "metadata": {},
   "outputs": [],
   "source": [
    "def custom_loss(output, target):\n",
    "  # custom loss function\n",
    "  criterion = nn.BCEWithLogitsLoss()\n",
    "  weighted_mse = criterion(output.double(), target.double())\n",
    "  batch_size = output.size()[1]\n",
    "  ssm_err = 0\n",
    "  for i in range(0, batch_size):\n",
    "    SSM1 = SSM(output[:,i,:])\n",
    "    SSM2 = SSM(target[:,i,:])\n",
    "    ssm_err += (torch.sum((SSM1-SSM2)**2)/(SSM2.size(0)**2))\n",
    "\n",
    "\n",
    "  return torch.sum(weighted_mse)+ssm_err"
   ]
  },
  {
   "cell_type": "code",
   "execution_count": 12,
   "id": "stupid-amazon",
   "metadata": {},
   "outputs": [],
   "source": [
    "# returns batches where piece size is constant within the batch\n",
    "# but piece size is different across batches\n",
    "# and batches are in random order\n",
    "def make_variable_size_batches(data, min_batch_size=10):\n",
    "  # sort data by num beats (element at index 2 in each sublist)\n",
    "  data.sort(key = lambda x: x[2], reverse=False)  # sort descending\n",
    "\n",
    "  # split data into batches, where each batch contains pieces of the same size\n",
    "  batches = []\n",
    "\n",
    "  i = 0  # counter of pieces\n",
    "  \n",
    "  while i < len(data):\n",
    "    this_batch = []\n",
    "    pieces_this_batch = 0\n",
    "    current_beats = data[i][2] # num beats in this batch\n",
    "\n",
    "    # for all pieces with this # of beats\n",
    "    while i < len(data) and data[i][2] == current_beats:\n",
    "      # get tensor from row of data, and reshape \n",
    "      just_tensor = data[i][0].view(1, data[i][0].shape[0], 128)  \n",
    "      this_batch.append(just_tensor)\n",
    "\n",
    "      # increment counters\n",
    "      i += 1\n",
    "      pieces_this_batch += 1\n",
    "\n",
    "    # print(\"this batch\", this_batch)\n",
    "    # print(\"shapes in batch\")\n",
    "    # for p in this_batch:\n",
    "      # print(\"\\t\", p.shape)\n",
    "        \n",
    "    # only save large enough batches\n",
    "    if pieces_this_batch >= min_batch_size:\n",
    "        # reformat pieces in this batch into one tensor of size [batch size, beats, 128]\n",
    "        batch = torch.cat(this_batch, dim=0)\n",
    "\n",
    "        # store batch\n",
    "        batches.append(batch)\n",
    "\n",
    "    # clean up variables\n",
    "    del this_batch\n",
    "    del pieces_this_batch\n",
    "    del current_beats\n",
    "\n",
    "  # randomize batches order\n",
    "  random.shuffle(batches)\n",
    "\n",
    "  return batches"
   ]
  },
  {
   "cell_type": "code",
   "execution_count": 13,
   "id": "violent-thermal",
   "metadata": {},
   "outputs": [],
   "source": [
    "# Takes in the batch size and data and returns batches of the batch size\n",
    "def make_batches(data, batch_size, piece_size=800, slice_data=False):\n",
    "  # slice data to piece_size\n",
    "  if slice_data:\n",
    "    data = [(roll[0][:piece_size], roll[1], roll[2]) for roll in data if len(roll[0]) >= piece_size]\n",
    "    # print(f\"sliced pieces to length {piece_size}; total pieces is now {len(data)}\")\n",
    "    \n",
    "  random.shuffle(data)\n",
    "  batches = []\n",
    "  if batch_size > 1:  # make batches\n",
    "    num_batches = len(data)//batch_size\n",
    "    for i in range(0, num_batches):\n",
    "      # take just the tensors, and vstack\n",
    "      batch = torch.cat([roll[0] for roll in data[i*batch_size: (i+1)*(batch_size)]]).view(batch_size, piece_size, 128)\n",
    "      batches.append(batch)\n",
    "  else:  # each piece is its own batch - doesn't use passed-in piece_size\n",
    "    for i in range(len(data)):\n",
    "      # removes tempo info from data, but leaves 1 piece per batch\n",
    "      piece_size = data[i][0].shape[0]\n",
    "      batch = data[i][0].view(1, piece_size, 128)\n",
    "      batches.append(batch)\n",
    "      # print(batches[i])\n",
    "  # print(batches)\n",
    "  return batches"
   ]
  },
  {
   "cell_type": "code",
   "execution_count": 14,
   "id": "worthy-anchor",
   "metadata": {},
   "outputs": [],
   "source": [
    "def get_models_in_directory(filepath):\n",
    "    # get the names of all files, sorted by epoch\n",
    "    files = os.listdir(my_drive_path + filepath)\n",
    "    files_by_epoch = [(name, int(name.split(\"-\")[2])) for name in files if 'model' in name]  # parse out epoch\n",
    "    files_by_epoch.sort(key = lambda x: x[1])  # sort by epoch\n",
    "    \n",
    "    # load model at each epoch\n",
    "    files_to_load = [my_drive_path + filepath + filename[0] for filename in files_by_epoch]  # paths to each file\n",
    "    # print(\"loading:\\n\", files_to_load, sep=\"\")\n",
    "    models = [torch.load(filename) for filename in files_to_load]  # load models\n",
    "    return models"
   ]
  },
  {
   "cell_type": "code",
   "execution_count": 15,
   "id": "written-eugene",
   "metadata": {},
   "outputs": [],
   "source": [
    "def generate_val_pieces(trainer, val_batch, starter_notes=10):\n",
    "    # how many pieces in batch\n",
    "    n = val_batch.shape[0]\n",
    "    \n",
    "    # length of the pieces in this batch\n",
    "    length = val_batch.shape[1]\n",
    "    \n",
    "    # take first 10 notes in format [1, 10, 128]\n",
    "    first_vecs = val_batch[:,0:starter_notes,:]\n",
    "\n",
    "    # create batched SSMs for each piece\n",
    "    batched_ssms = batch_SSM(val_batch.transpose(0,1), n)\n",
    "\n",
    "    # generate pieces\n",
    "    generated = trainer.generate_n_pieces(first_vecs, n, length - starter_notes, batched_ssms)\n",
    "    \n",
    "    # get loss\n",
    "    single_loss = custom_loss(generated[starter_notes:,:,:], val_batch.transpose(0,1)[starter_notes:,:,:])\n",
    "    #single_loss.backward()\n",
    "    loss = single_loss.detach()\n",
    "\n",
    "    # clean up variables\n",
    "    del n\n",
    "    del length\n",
    "    del first_vecs\n",
    "    del batched_ssms\n",
    "    del single_loss\n",
    "\n",
    "    # return pieces and loss\n",
    "    return generated, float(loss)"
   ]
  },
  {
   "cell_type": "code",
   "execution_count": 16,
   "id": "significant-auction",
   "metadata": {},
   "outputs": [],
   "source": [
    "def get_loss_on_data(trainer, data, val_size=450, variable_batches=False):\n",
    "    \"\"\"Get loss when generating on given data, generating with a given model\"\"\"\n",
    "    # make batches from val_data\n",
    "    # so we can generate for all pieces of the same length at once\n",
    "    if variable_batches:\n",
    "        batches = make_variable_size_batches(data, min_batch_size=0)\n",
    "    else:\n",
    "        # batch size 50 for speeeed (we hopeee)\n",
    "        batches = make_batches(data, 50, piece_size=val_size, slice_data=True)\n",
    "    \n",
    "    # accumulate loss for each batch\n",
    "    cum_loss = 0\n",
    "    for batch_num in range(len(batches)): # tqdm(range(len(batches))):\n",
    "        val_batch = batches[batch_num]\n",
    "        # create pieces to get loss\n",
    "        generated, loss = generate_val_pieces(trainer, val_batch)\n",
    "        # print(\"\\tloss:\", loss)\n",
    "        cum_loss += loss\n",
    "        del val_batch\n",
    "        del loss\n",
    "        del generated\n",
    "        \n",
    "    return cum_loss"
   ]
  },
  {
   "cell_type": "code",
   "execution_count": 17,
   "id": "serial-nurse",
   "metadata": {},
   "outputs": [],
   "source": [
    "# for each model, get validation loss\n",
    "def val_loss_for_all_models(trainers, val_data, val_size=450, variable_batches=False):\n",
    "    loss_list = []\n",
    "    for i in tqdm(range(len(trainers))):\n",
    "        trainer = trainers[i]\n",
    "        # print(f\"calculating loss for epoch {i}:\")\n",
    "        loss_list.append(get_loss_on_data(trainer, val_data, val_size, variable_batches))\n",
    "        print(loss_list)\n",
    "        del trainer\n",
    "        \n",
    "    return loss_list"
   ]
  },
  {
   "cell_type": "code",
   "execution_count": 18,
   "id": "early-carol",
   "metadata": {},
   "outputs": [],
   "source": [
    "models_att = get_models_in_directory(\"trained/attention_model_v3/\")\n",
    "models_lstm = get_models_in_directory(\"trained/lstm_v3/\")"
   ]
  },
  {
   "cell_type": "code",
   "execution_count": 19,
   "id": "sitting-multimedia",
   "metadata": {},
   "outputs": [
    {
     "data": {
      "text/plain": [
       "[music_generator(\n",
       "   (lstm): LSTM(128, 128)\n",
       "   (attention): Linear(in_features=2, out_features=1, bias=True)\n",
       "   (softmax): Sparsemax(dim=1)\n",
       "   (sigmoid): Sigmoid()\n",
       " ),\n",
       " music_generator(\n",
       "   (lstm): LSTM(128, 128)\n",
       "   (attention): Linear(in_features=2, out_features=1, bias=True)\n",
       "   (softmax): Sparsemax(dim=1)\n",
       "   (sigmoid): Sigmoid()\n",
       " ),\n",
       " music_generator(\n",
       "   (lstm): LSTM(128, 128)\n",
       "   (attention): Linear(in_features=2, out_features=1, bias=True)\n",
       "   (softmax): Sparsemax(dim=1)\n",
       "   (sigmoid): Sigmoid()\n",
       " ),\n",
       " music_generator(\n",
       "   (lstm): LSTM(128, 128)\n",
       "   (attention): Linear(in_features=2, out_features=1, bias=True)\n",
       "   (softmax): Sparsemax(dim=1)\n",
       "   (sigmoid): Sigmoid()\n",
       " ),\n",
       " music_generator(\n",
       "   (lstm): LSTM(128, 128)\n",
       "   (attention): Linear(in_features=2, out_features=1, bias=True)\n",
       "   (softmax): Sparsemax(dim=1)\n",
       "   (sigmoid): Sigmoid()\n",
       " ),\n",
       " music_generator(\n",
       "   (lstm): LSTM(128, 128)\n",
       "   (attention): Linear(in_features=2, out_features=1, bias=True)\n",
       "   (softmax): Sparsemax(dim=1)\n",
       "   (sigmoid): Sigmoid()\n",
       " ),\n",
       " music_generator(\n",
       "   (lstm): LSTM(128, 128)\n",
       "   (attention): Linear(in_features=2, out_features=1, bias=True)\n",
       "   (softmax): Sparsemax(dim=1)\n",
       "   (sigmoid): Sigmoid()\n",
       " ),\n",
       " music_generator(\n",
       "   (lstm): LSTM(128, 128)\n",
       "   (attention): Linear(in_features=2, out_features=1, bias=True)\n",
       "   (softmax): Sparsemax(dim=1)\n",
       "   (sigmoid): Sigmoid()\n",
       " ),\n",
       " music_generator(\n",
       "   (lstm): LSTM(128, 128)\n",
       "   (attention): Linear(in_features=2, out_features=1, bias=True)\n",
       "   (softmax): Sparsemax(dim=1)\n",
       "   (sigmoid): Sigmoid()\n",
       " ),\n",
       " music_generator(\n",
       "   (lstm): LSTM(128, 128)\n",
       "   (attention): Linear(in_features=2, out_features=1, bias=True)\n",
       "   (softmax): Sparsemax(dim=1)\n",
       "   (sigmoid): Sigmoid()\n",
       " ),\n",
       " music_generator(\n",
       "   (lstm): LSTM(128, 128)\n",
       "   (attention): Linear(in_features=2, out_features=1, bias=True)\n",
       "   (softmax): Sparsemax(dim=1)\n",
       "   (sigmoid): Sigmoid()\n",
       " ),\n",
       " music_generator(\n",
       "   (lstm): LSTM(128, 128)\n",
       "   (attention): Linear(in_features=2, out_features=1, bias=True)\n",
       "   (softmax): Sparsemax(dim=1)\n",
       "   (sigmoid): Sigmoid()\n",
       " ),\n",
       " music_generator(\n",
       "   (lstm): LSTM(128, 128)\n",
       "   (attention): Linear(in_features=2, out_features=1, bias=True)\n",
       "   (softmax): Sparsemax(dim=1)\n",
       "   (sigmoid): Sigmoid()\n",
       " ),\n",
       " music_generator(\n",
       "   (lstm): LSTM(128, 128)\n",
       "   (attention): Linear(in_features=2, out_features=1, bias=True)\n",
       "   (softmax): Sparsemax(dim=1)\n",
       "   (sigmoid): Sigmoid()\n",
       " ),\n",
       " music_generator(\n",
       "   (lstm): LSTM(128, 128)\n",
       "   (attention): Linear(in_features=2, out_features=1, bias=True)\n",
       "   (softmax): Sparsemax(dim=1)\n",
       "   (sigmoid): Sigmoid()\n",
       " ),\n",
       " music_generator(\n",
       "   (lstm): LSTM(128, 128)\n",
       "   (attention): Linear(in_features=2, out_features=1, bias=True)\n",
       "   (softmax): Sparsemax(dim=1)\n",
       "   (sigmoid): Sigmoid()\n",
       " ),\n",
       " music_generator(\n",
       "   (lstm): LSTM(128, 128)\n",
       "   (attention): Linear(in_features=2, out_features=1, bias=True)\n",
       "   (softmax): Sparsemax(dim=1)\n",
       "   (sigmoid): Sigmoid()\n",
       " ),\n",
       " music_generator(\n",
       "   (lstm): LSTM(128, 128)\n",
       "   (attention): Linear(in_features=2, out_features=1, bias=True)\n",
       "   (softmax): Sparsemax(dim=1)\n",
       "   (sigmoid): Sigmoid()\n",
       " ),\n",
       " music_generator(\n",
       "   (lstm): LSTM(128, 128)\n",
       "   (attention): Linear(in_features=2, out_features=1, bias=True)\n",
       "   (softmax): Sparsemax(dim=1)\n",
       "   (sigmoid): Sigmoid()\n",
       " ),\n",
       " music_generator(\n",
       "   (lstm): LSTM(128, 128)\n",
       "   (attention): Linear(in_features=2, out_features=1, bias=True)\n",
       "   (softmax): Sparsemax(dim=1)\n",
       "   (sigmoid): Sigmoid()\n",
       " ),\n",
       " music_generator(\n",
       "   (lstm): LSTM(128, 128)\n",
       "   (attention): Linear(in_features=2, out_features=1, bias=True)\n",
       "   (softmax): Sparsemax(dim=1)\n",
       "   (sigmoid): Sigmoid()\n",
       " ),\n",
       " music_generator(\n",
       "   (lstm): LSTM(128, 128)\n",
       "   (attention): Linear(in_features=2, out_features=1, bias=True)\n",
       "   (softmax): Sparsemax(dim=1)\n",
       "   (sigmoid): Sigmoid()\n",
       " ),\n",
       " music_generator(\n",
       "   (lstm): LSTM(128, 128)\n",
       "   (attention): Linear(in_features=2, out_features=1, bias=True)\n",
       "   (softmax): Sparsemax(dim=1)\n",
       "   (sigmoid): Sigmoid()\n",
       " ),\n",
       " music_generator(\n",
       "   (lstm): LSTM(128, 128)\n",
       "   (attention): Linear(in_features=2, out_features=1, bias=True)\n",
       "   (softmax): Sparsemax(dim=1)\n",
       "   (sigmoid): Sigmoid()\n",
       " ),\n",
       " music_generator(\n",
       "   (lstm): LSTM(128, 128)\n",
       "   (attention): Linear(in_features=2, out_features=1, bias=True)\n",
       "   (softmax): Sparsemax(dim=1)\n",
       "   (sigmoid): Sigmoid()\n",
       " ),\n",
       " music_generator(\n",
       "   (lstm): LSTM(128, 128)\n",
       "   (attention): Linear(in_features=2, out_features=1, bias=True)\n",
       "   (softmax): Sparsemax(dim=1)\n",
       "   (sigmoid): Sigmoid()\n",
       " ),\n",
       " music_generator(\n",
       "   (lstm): LSTM(128, 128)\n",
       "   (attention): Linear(in_features=2, out_features=1, bias=True)\n",
       "   (softmax): Sparsemax(dim=1)\n",
       "   (sigmoid): Sigmoid()\n",
       " ),\n",
       " music_generator(\n",
       "   (lstm): LSTM(128, 128)\n",
       "   (attention): Linear(in_features=2, out_features=1, bias=True)\n",
       "   (softmax): Sparsemax(dim=1)\n",
       "   (sigmoid): Sigmoid()\n",
       " ),\n",
       " music_generator(\n",
       "   (lstm): LSTM(128, 128)\n",
       "   (attention): Linear(in_features=2, out_features=1, bias=True)\n",
       "   (softmax): Sparsemax(dim=1)\n",
       "   (sigmoid): Sigmoid()\n",
       " ),\n",
       " music_generator(\n",
       "   (lstm): LSTM(128, 128)\n",
       "   (attention): Linear(in_features=2, out_features=1, bias=True)\n",
       "   (softmax): Sparsemax(dim=1)\n",
       "   (sigmoid): Sigmoid()\n",
       " )]"
      ]
     },
     "execution_count": 19,
     "metadata": {},
     "output_type": "execute_result"
    }
   ],
   "source": [
    "models_att"
   ]
  },
  {
   "cell_type": "code",
   "execution_count": 20,
   "id": "built-carol",
   "metadata": {},
   "outputs": [
    {
     "data": {
      "text/plain": [
       "[music_generator(\n",
       "   (lstm): LSTM(128, 128)\n",
       "   (attention): Linear(in_features=2, out_features=1, bias=True)\n",
       "   (softmax): Sparsemax(dim=1)\n",
       "   (sigmoid): Sigmoid()\n",
       " ),\n",
       " music_generator(\n",
       "   (lstm): LSTM(128, 128)\n",
       "   (attention): Linear(in_features=2, out_features=1, bias=True)\n",
       "   (softmax): Sparsemax(dim=1)\n",
       "   (sigmoid): Sigmoid()\n",
       " ),\n",
       " music_generator(\n",
       "   (lstm): LSTM(128, 128)\n",
       "   (attention): Linear(in_features=2, out_features=1, bias=True)\n",
       "   (softmax): Sparsemax(dim=1)\n",
       "   (sigmoid): Sigmoid()\n",
       " ),\n",
       " music_generator(\n",
       "   (lstm): LSTM(128, 128)\n",
       "   (attention): Linear(in_features=2, out_features=1, bias=True)\n",
       "   (softmax): Sparsemax(dim=1)\n",
       "   (sigmoid): Sigmoid()\n",
       " ),\n",
       " music_generator(\n",
       "   (lstm): LSTM(128, 128)\n",
       "   (attention): Linear(in_features=2, out_features=1, bias=True)\n",
       "   (softmax): Sparsemax(dim=1)\n",
       "   (sigmoid): Sigmoid()\n",
       " ),\n",
       " music_generator(\n",
       "   (lstm): LSTM(128, 128)\n",
       "   (attention): Linear(in_features=2, out_features=1, bias=True)\n",
       "   (softmax): Sparsemax(dim=1)\n",
       "   (sigmoid): Sigmoid()\n",
       " ),\n",
       " music_generator(\n",
       "   (lstm): LSTM(128, 128)\n",
       "   (attention): Linear(in_features=2, out_features=1, bias=True)\n",
       "   (softmax): Sparsemax(dim=1)\n",
       "   (sigmoid): Sigmoid()\n",
       " ),\n",
       " music_generator(\n",
       "   (lstm): LSTM(128, 128)\n",
       "   (attention): Linear(in_features=2, out_features=1, bias=True)\n",
       "   (softmax): Sparsemax(dim=1)\n",
       "   (sigmoid): Sigmoid()\n",
       " ),\n",
       " music_generator(\n",
       "   (lstm): LSTM(128, 128)\n",
       "   (attention): Linear(in_features=2, out_features=1, bias=True)\n",
       "   (softmax): Sparsemax(dim=1)\n",
       "   (sigmoid): Sigmoid()\n",
       " ),\n",
       " music_generator(\n",
       "   (lstm): LSTM(128, 128)\n",
       "   (attention): Linear(in_features=2, out_features=1, bias=True)\n",
       "   (softmax): Sparsemax(dim=1)\n",
       "   (sigmoid): Sigmoid()\n",
       " ),\n",
       " music_generator(\n",
       "   (lstm): LSTM(128, 128)\n",
       "   (attention): Linear(in_features=2, out_features=1, bias=True)\n",
       "   (softmax): Sparsemax(dim=1)\n",
       "   (sigmoid): Sigmoid()\n",
       " ),\n",
       " music_generator(\n",
       "   (lstm): LSTM(128, 128)\n",
       "   (attention): Linear(in_features=2, out_features=1, bias=True)\n",
       "   (softmax): Sparsemax(dim=1)\n",
       "   (sigmoid): Sigmoid()\n",
       " ),\n",
       " music_generator(\n",
       "   (lstm): LSTM(128, 128)\n",
       "   (attention): Linear(in_features=2, out_features=1, bias=True)\n",
       "   (softmax): Sparsemax(dim=1)\n",
       "   (sigmoid): Sigmoid()\n",
       " ),\n",
       " music_generator(\n",
       "   (lstm): LSTM(128, 128)\n",
       "   (attention): Linear(in_features=2, out_features=1, bias=True)\n",
       "   (softmax): Sparsemax(dim=1)\n",
       "   (sigmoid): Sigmoid()\n",
       " ),\n",
       " music_generator(\n",
       "   (lstm): LSTM(128, 128)\n",
       "   (attention): Linear(in_features=2, out_features=1, bias=True)\n",
       "   (softmax): Sparsemax(dim=1)\n",
       "   (sigmoid): Sigmoid()\n",
       " ),\n",
       " music_generator(\n",
       "   (lstm): LSTM(128, 128)\n",
       "   (attention): Linear(in_features=2, out_features=1, bias=True)\n",
       "   (softmax): Sparsemax(dim=1)\n",
       "   (sigmoid): Sigmoid()\n",
       " ),\n",
       " music_generator(\n",
       "   (lstm): LSTM(128, 128)\n",
       "   (attention): Linear(in_features=2, out_features=1, bias=True)\n",
       "   (softmax): Sparsemax(dim=1)\n",
       "   (sigmoid): Sigmoid()\n",
       " ),\n",
       " music_generator(\n",
       "   (lstm): LSTM(128, 128)\n",
       "   (attention): Linear(in_features=2, out_features=1, bias=True)\n",
       "   (softmax): Sparsemax(dim=1)\n",
       "   (sigmoid): Sigmoid()\n",
       " ),\n",
       " music_generator(\n",
       "   (lstm): LSTM(128, 128)\n",
       "   (attention): Linear(in_features=2, out_features=1, bias=True)\n",
       "   (softmax): Sparsemax(dim=1)\n",
       "   (sigmoid): Sigmoid()\n",
       " ),\n",
       " music_generator(\n",
       "   (lstm): LSTM(128, 128)\n",
       "   (attention): Linear(in_features=2, out_features=1, bias=True)\n",
       "   (softmax): Sparsemax(dim=1)\n",
       "   (sigmoid): Sigmoid()\n",
       " ),\n",
       " music_generator(\n",
       "   (lstm): LSTM(128, 128)\n",
       "   (attention): Linear(in_features=2, out_features=1, bias=True)\n",
       "   (softmax): Sparsemax(dim=1)\n",
       "   (sigmoid): Sigmoid()\n",
       " ),\n",
       " music_generator(\n",
       "   (lstm): LSTM(128, 128)\n",
       "   (attention): Linear(in_features=2, out_features=1, bias=True)\n",
       "   (softmax): Sparsemax(dim=1)\n",
       "   (sigmoid): Sigmoid()\n",
       " ),\n",
       " music_generator(\n",
       "   (lstm): LSTM(128, 128)\n",
       "   (attention): Linear(in_features=2, out_features=1, bias=True)\n",
       "   (softmax): Sparsemax(dim=1)\n",
       "   (sigmoid): Sigmoid()\n",
       " ),\n",
       " music_generator(\n",
       "   (lstm): LSTM(128, 128)\n",
       "   (attention): Linear(in_features=2, out_features=1, bias=True)\n",
       "   (softmax): Sparsemax(dim=1)\n",
       "   (sigmoid): Sigmoid()\n",
       " ),\n",
       " music_generator(\n",
       "   (lstm): LSTM(128, 128)\n",
       "   (attention): Linear(in_features=2, out_features=1, bias=True)\n",
       "   (softmax): Sparsemax(dim=1)\n",
       "   (sigmoid): Sigmoid()\n",
       " ),\n",
       " music_generator(\n",
       "   (lstm): LSTM(128, 128)\n",
       "   (attention): Linear(in_features=2, out_features=1, bias=True)\n",
       "   (softmax): Sparsemax(dim=1)\n",
       "   (sigmoid): Sigmoid()\n",
       " ),\n",
       " music_generator(\n",
       "   (lstm): LSTM(128, 128)\n",
       "   (attention): Linear(in_features=2, out_features=1, bias=True)\n",
       "   (softmax): Sparsemax(dim=1)\n",
       "   (sigmoid): Sigmoid()\n",
       " ),\n",
       " music_generator(\n",
       "   (lstm): LSTM(128, 128)\n",
       "   (attention): Linear(in_features=2, out_features=1, bias=True)\n",
       "   (softmax): Sparsemax(dim=1)\n",
       "   (sigmoid): Sigmoid()\n",
       " ),\n",
       " music_generator(\n",
       "   (lstm): LSTM(128, 128)\n",
       "   (attention): Linear(in_features=2, out_features=1, bias=True)\n",
       "   (softmax): Sparsemax(dim=1)\n",
       "   (sigmoid): Sigmoid()\n",
       " ),\n",
       " music_generator(\n",
       "   (lstm): LSTM(128, 128)\n",
       "   (attention): Linear(in_features=2, out_features=1, bias=True)\n",
       "   (softmax): Sparsemax(dim=1)\n",
       "   (sigmoid): Sigmoid()\n",
       " )]"
      ]
     },
     "execution_count": 20,
     "metadata": {},
     "output_type": "execute_result"
    }
   ],
   "source": [
    "models_lstm"
   ]
  },
  {
   "cell_type": "code",
   "execution_count": 21,
   "id": "amazing-contact",
   "metadata": {},
   "outputs": [
    {
     "data": {
      "text/plain": [
       "<torch._C.Generator at 0x7fcf39086c70>"
      ]
     },
     "execution_count": 21,
     "metadata": {},
     "output_type": "execute_result"
    }
   ],
   "source": [
    "# load validation data\n",
    "# val_data = torch.load(my_drive_path + \"usable_data/validation_tempo_all_w_beats_30.csv\") \n",
    "val_data = torch.load(my_drive_path + \"usable_data/validation_tempo_round_down_30.csv\")\n",
    "torch.manual_seed(2022)"
   ]
  },
  {
   "cell_type": "code",
   "execution_count": 22,
   "id": "capable-sight",
   "metadata": {},
   "outputs": [],
   "source": [
    "optimizers_att = [torch.optim.Adam(generator.parameters(), lr=0.005) for generator in models_att]\n",
    "optimizers_lstm = [torch.optim.Adam(generator.parameters(), lr=0.005) for generator in models_lstm]\n",
    "hidden_size = 128"
   ]
  },
  {
   "cell_type": "code",
   "execution_count": 23,
   "id": "municipal-finger",
   "metadata": {},
   "outputs": [],
   "source": [
    "trainers_att = [model_trainer(generator, optimizer, val_data, hidden_size) for generator, optimizer in zip(models_att, optimizers_att)]\n",
    "trainers_lstm = [model_trainer(generator, optimizer, val_data, hidden_size) for generator, optimizer in zip(models_lstm, optimizers_lstm)]"
   ]
  },
  {
   "cell_type": "code",
   "execution_count": 24,
   "id": "absent-louis",
   "metadata": {},
   "outputs": [
    {
     "data": {
      "text/plain": [
       "[<__main__.model_trainer at 0x7fcf3b742640>,\n",
       " <__main__.model_trainer at 0x7fcf3b742bb0>,\n",
       " <__main__.model_trainer at 0x7fcf3b742a90>,\n",
       " <__main__.model_trainer at 0x7fcf3b742a60>,\n",
       " <__main__.model_trainer at 0x7fcf3b742280>,\n",
       " <__main__.model_trainer at 0x7fcf3b7429a0>,\n",
       " <__main__.model_trainer at 0x7fcf3b742490>,\n",
       " <__main__.model_trainer at 0x7fcf3b742eb0>,\n",
       " <__main__.model_trainer at 0x7fcf3d703f10>,\n",
       " <__main__.model_trainer at 0x7fcf3d703970>,\n",
       " <__main__.model_trainer at 0x7fcf3d703550>,\n",
       " <__main__.model_trainer at 0x7fcf3d7036d0>,\n",
       " <__main__.model_trainer at 0x7fcf3d703310>,\n",
       " <__main__.model_trainer at 0x7fcf3d703760>,\n",
       " <__main__.model_trainer at 0x7fcf3d7030a0>,\n",
       " <__main__.model_trainer at 0x7fcf3d703670>,\n",
       " <__main__.model_trainer at 0x7fcf3d72fc70>,\n",
       " <__main__.model_trainer at 0x7fcf3d72f790>,\n",
       " <__main__.model_trainer at 0x7fcf3574d130>,\n",
       " <__main__.model_trainer at 0x7fcf3574d370>,\n",
       " <__main__.model_trainer at 0x7fcf3574d250>,\n",
       " <__main__.model_trainer at 0x7fcf3574d670>,\n",
       " <__main__.model_trainer at 0x7fcf3574d460>,\n",
       " <__main__.model_trainer at 0x7fcf3574d2e0>,\n",
       " <__main__.model_trainer at 0x7fcf3574d400>,\n",
       " <__main__.model_trainer at 0x7fcf3574d700>,\n",
       " <__main__.model_trainer at 0x7fcf3574d190>,\n",
       " <__main__.model_trainer at 0x7fcf3574d490>,\n",
       " <__main__.model_trainer at 0x7fcf3574d520>,\n",
       " <__main__.model_trainer at 0x7fcf3574d0d0>]"
      ]
     },
     "execution_count": 24,
     "metadata": {},
     "output_type": "execute_result"
    }
   ],
   "source": [
    "trainers_att"
   ]
  },
  {
   "cell_type": "code",
   "execution_count": 25,
   "id": "muslim-sewing",
   "metadata": {},
   "outputs": [
    {
     "data": {
      "text/plain": [
       "[<__main__.model_trainer at 0x7fcf3b7424c0>,\n",
       " <__main__.model_trainer at 0x7fcf3574d5b0>,\n",
       " <__main__.model_trainer at 0x7fcf3574d640>,\n",
       " <__main__.model_trainer at 0x7fcf3574d3d0>,\n",
       " <__main__.model_trainer at 0x7fcf3574d310>,\n",
       " <__main__.model_trainer at 0x7fcf3574d1c0>,\n",
       " <__main__.model_trainer at 0x7fcf3574d1f0>,\n",
       " <__main__.model_trainer at 0x7fcf3574d070>,\n",
       " <__main__.model_trainer at 0x7fcf3574d280>,\n",
       " <__main__.model_trainer at 0x7fcf3c9f7ee0>,\n",
       " <__main__.model_trainer at 0x7fcf3c9f7670>,\n",
       " <__main__.model_trainer at 0x7fcf3c9f7f40>,\n",
       " <__main__.model_trainer at 0x7fcf3c9f7400>,\n",
       " <__main__.model_trainer at 0x7fcf3c9f78e0>,\n",
       " <__main__.model_trainer at 0x7fcf3b734790>,\n",
       " <__main__.model_trainer at 0x7fcf3b734bb0>,\n",
       " <__main__.model_trainer at 0x7fcf3b7345e0>,\n",
       " <__main__.model_trainer at 0x7fcf3b734940>,\n",
       " <__main__.model_trainer at 0x7fcf3b734be0>,\n",
       " <__main__.model_trainer at 0x7fcf3b734880>,\n",
       " <__main__.model_trainer at 0x7fcf3b7349d0>,\n",
       " <__main__.model_trainer at 0x7fcf3b734430>,\n",
       " <__main__.model_trainer at 0x7fcf3b7349a0>,\n",
       " <__main__.model_trainer at 0x7fcf3b734730>,\n",
       " <__main__.model_trainer at 0x7fcf3b734910>,\n",
       " <__main__.model_trainer at 0x7fcf3b734eb0>,\n",
       " <__main__.model_trainer at 0x7fcf3b734c40>,\n",
       " <__main__.model_trainer at 0x7fcf3b734fa0>,\n",
       " <__main__.model_trainer at 0x7fcf3b734a60>,\n",
       " <__main__.model_trainer at 0x7fcf3b7344c0>]"
      ]
     },
     "execution_count": 25,
     "metadata": {},
     "output_type": "execute_result"
    }
   ],
   "source": [
    "trainers_lstm"
   ]
  },
  {
   "cell_type": "code",
   "execution_count": 26,
   "id": "sought-consistency",
   "metadata": {},
   "outputs": [
    {
     "name": "stderr",
     "output_type": "stream",
     "text": [
      "  0%|          | 0/30 [00:00<?, ?it/s]<ipython-input-4-1877afbe48f8>:81: UserWarning: The use of `x.T` on tensors of dimension other than 2 to reverse their shape is deprecated and it will throw an error in a future release. Consider `x.mT` to transpose batches of matrices or `x.permute(*torch.arange(x.ndim - 1, -1, -1))` to reverse the dimensions of a tensor. (Triggered internally at /Users/runner/work/_temp/anaconda/conda-bld/pytorch_1666647174771/work/aten/src/ATen/native/TensorShape.cpp:3281.)\n",
      "  weighted = (prev_sequence.T*weights).T  # [batch_size, beat_num]\n",
      "  3%|▎         | 1/30 [10:03<4:51:51, 603.86s/it]"
     ]
    },
    {
     "name": "stdout",
     "output_type": "stream",
     "text": [
      "[92.74938249124502]\n"
     ]
    },
    {
     "name": "stderr",
     "output_type": "stream",
     "text": [
      "\r",
      "  7%|▋         | 2/30 [20:26<4:46:54, 614.79s/it]"
     ]
    },
    {
     "name": "stdout",
     "output_type": "stream",
     "text": [
      "[92.74938249124502, 93.23906300503248]\n"
     ]
    },
    {
     "name": "stderr",
     "output_type": "stream",
     "text": [
      "\r",
      " 10%|█         | 3/30 [30:50<4:38:33, 619.03s/it]"
     ]
    },
    {
     "name": "stdout",
     "output_type": "stream",
     "text": [
      "[92.74938249124502, 93.23906300503248, 92.19413086440157]\n"
     ]
    },
    {
     "name": "stderr",
     "output_type": "stream",
     "text": [
      "\r",
      " 13%|█▎        | 4/30 [41:18<4:29:45, 622.54s/it]"
     ]
    },
    {
     "name": "stdout",
     "output_type": "stream",
     "text": [
      "[92.74938249124502, 93.23906300503248, 92.19413086440157, 92.49665917698461]\n"
     ]
    },
    {
     "name": "stderr",
     "output_type": "stream",
     "text": [
      "\r",
      " 17%|█▋        | 5/30 [51:44<4:19:57, 623.92s/it]"
     ]
    },
    {
     "name": "stdout",
     "output_type": "stream",
     "text": [
      "[92.74938249124502, 93.23906300503248, 92.19413086440157, 92.49665917698461, 92.28206422503503]\n"
     ]
    },
    {
     "name": "stderr",
     "output_type": "stream",
     "text": [
      "\r",
      " 20%|██        | 6/30 [1:02:14<4:10:20, 625.84s/it]"
     ]
    },
    {
     "name": "stdout",
     "output_type": "stream",
     "text": [
      "[92.74938249124502, 93.23906300503248, 92.19413086440157, 92.49665917698461, 92.28206422503503, 92.0982585402278]\n"
     ]
    },
    {
     "name": "stderr",
     "output_type": "stream",
     "text": [
      "\r",
      " 23%|██▎       | 7/30 [1:12:41<4:00:01, 626.16s/it]"
     ]
    },
    {
     "name": "stdout",
     "output_type": "stream",
     "text": [
      "[92.74938249124502, 93.23906300503248, 92.19413086440157, 92.49665917698461, 92.28206422503503, 92.0982585402278, 92.35477148240524]\n"
     ]
    },
    {
     "name": "stderr",
     "output_type": "stream",
     "text": [
      "\r",
      " 27%|██▋       | 8/30 [1:23:04<3:49:16, 625.29s/it]"
     ]
    },
    {
     "name": "stdout",
     "output_type": "stream",
     "text": [
      "[92.74938249124502, 93.23906300503248, 92.19413086440157, 92.49665917698461, 92.28206422503503, 92.0982585402278, 92.35477148240524, 92.6356850499109]\n"
     ]
    },
    {
     "name": "stderr",
     "output_type": "stream",
     "text": [
      "\r",
      " 30%|███       | 9/30 [1:33:34<3:39:24, 626.88s/it]"
     ]
    },
    {
     "name": "stdout",
     "output_type": "stream",
     "text": [
      "[92.74938249124502, 93.23906300503248, 92.19413086440157, 92.49665917698461, 92.28206422503503, 92.0982585402278, 92.35477148240524, 92.6356850499109, 92.83110828213175]\n"
     ]
    },
    {
     "name": "stderr",
     "output_type": "stream",
     "text": [
      "\r",
      " 33%|███▎      | 10/30 [1:44:02<3:29:03, 627.18s/it]"
     ]
    },
    {
     "name": "stdout",
     "output_type": "stream",
     "text": [
      "[92.74938249124502, 93.23906300503248, 92.19413086440157, 92.49665917698461, 92.28206422503503, 92.0982585402278, 92.35477148240524, 92.6356850499109, 92.83110828213175, 82.2993480917559]\n"
     ]
    },
    {
     "name": "stderr",
     "output_type": "stream",
     "text": [
      "\r",
      " 37%|███▋      | 11/30 [1:54:30<3:18:38, 627.28s/it]"
     ]
    },
    {
     "name": "stdout",
     "output_type": "stream",
     "text": [
      "[92.74938249124502, 93.23906300503248, 92.19413086440157, 92.49665917698461, 92.28206422503503, 92.0982585402278, 92.35477148240524, 92.6356850499109, 92.83110828213175, 82.2993480917559, 82.29158622038304]\n"
     ]
    },
    {
     "name": "stderr",
     "output_type": "stream",
     "text": [
      "\r",
      " 40%|████      | 12/30 [2:05:05<3:08:55, 629.74s/it]"
     ]
    },
    {
     "name": "stdout",
     "output_type": "stream",
     "text": [
      "[92.74938249124502, 93.23906300503248, 92.19413086440157, 92.49665917698461, 92.28206422503503, 92.0982585402278, 92.35477148240524, 92.6356850499109, 92.83110828213175, 82.2993480917559, 82.29158622038304, 82.25085880798747]\n"
     ]
    },
    {
     "name": "stderr",
     "output_type": "stream",
     "text": [
      "\r",
      " 43%|████▎     | 13/30 [2:15:33<2:58:15, 629.12s/it]"
     ]
    },
    {
     "name": "stdout",
     "output_type": "stream",
     "text": [
      "[92.74938249124502, 93.23906300503248, 92.19413086440157, 92.49665917698461, 92.28206422503503, 92.0982585402278, 92.35477148240524, 92.6356850499109, 92.83110828213175, 82.2993480917559, 82.29158622038304, 82.25085880798747, 82.24439529033926]\n"
     ]
    },
    {
     "name": "stderr",
     "output_type": "stream",
     "text": [
      "\r",
      " 47%|████▋     | 14/30 [2:26:07<2:48:08, 630.55s/it]"
     ]
    },
    {
     "name": "stdout",
     "output_type": "stream",
     "text": [
      "[92.74938249124502, 93.23906300503248, 92.19413086440157, 92.49665917698461, 92.28206422503503, 92.0982585402278, 92.35477148240524, 92.6356850499109, 92.83110828213175, 82.2993480917559, 82.29158622038304, 82.25085880798747, 82.24439529033926, 81.94511380516032]\n"
     ]
    },
    {
     "name": "stderr",
     "output_type": "stream",
     "text": [
      "\r",
      " 50%|█████     | 15/30 [2:36:41<2:37:57, 631.85s/it]"
     ]
    },
    {
     "name": "stdout",
     "output_type": "stream",
     "text": [
      "[92.74938249124502, 93.23906300503248, 92.19413086440157, 92.49665917698461, 92.28206422503503, 92.0982585402278, 92.35477148240524, 92.6356850499109, 92.83110828213175, 82.2993480917559, 82.29158622038304, 82.25085880798747, 82.24439529033926, 81.94511380516032, 79.27676476112968]\n"
     ]
    },
    {
     "name": "stderr",
     "output_type": "stream",
     "text": [
      "\r",
      " 53%|█████▎    | 16/30 [2:47:14<2:27:27, 631.99s/it]"
     ]
    },
    {
     "name": "stdout",
     "output_type": "stream",
     "text": [
      "[92.74938249124502, 93.23906300503248, 92.19413086440157, 92.49665917698461, 92.28206422503503, 92.0982585402278, 92.35477148240524, 92.6356850499109, 92.83110828213175, 82.2993480917559, 82.29158622038304, 82.25085880798747, 82.24439529033926, 81.94511380516032, 79.27676476112968, 78.66303585904595]\n"
     ]
    },
    {
     "name": "stderr",
     "output_type": "stream",
     "text": [
      "\r",
      " 57%|█████▋    | 17/30 [2:57:49<2:17:09, 633.08s/it]"
     ]
    },
    {
     "name": "stdout",
     "output_type": "stream",
     "text": [
      "[92.74938249124502, 93.23906300503248, 92.19413086440157, 92.49665917698461, 92.28206422503503, 92.0982585402278, 92.35477148240524, 92.6356850499109, 92.83110828213175, 82.2993480917559, 82.29158622038304, 82.25085880798747, 82.24439529033926, 81.94511380516032, 79.27676476112968, 78.66303585904595, 77.27290864457066]\n"
     ]
    },
    {
     "name": "stderr",
     "output_type": "stream",
     "text": [
      "\r",
      " 60%|██████    | 18/30 [3:08:17<2:06:17, 631.47s/it]"
     ]
    },
    {
     "name": "stdout",
     "output_type": "stream",
     "text": [
      "[92.74938249124502, 93.23906300503248, 92.19413086440157, 92.49665917698461, 92.28206422503503, 92.0982585402278, 92.35477148240524, 92.6356850499109, 92.83110828213175, 82.2993480917559, 82.29158622038304, 82.25085880798747, 82.24439529033926, 81.94511380516032, 79.27676476112968, 78.66303585904595, 77.27290864457066, 76.6681886348328]\n"
     ]
    },
    {
     "name": "stderr",
     "output_type": "stream",
     "text": [
      "\r",
      " 63%|██████▎   | 19/30 [3:18:48<1:55:44, 631.35s/it]"
     ]
    },
    {
     "name": "stdout",
     "output_type": "stream",
     "text": [
      "[92.74938249124502, 93.23906300503248, 92.19413086440157, 92.49665917698461, 92.28206422503503, 92.0982585402278, 92.35477148240524, 92.6356850499109, 92.83110828213175, 82.2993480917559, 82.29158622038304, 82.25085880798747, 82.24439529033926, 81.94511380516032, 79.27676476112968, 78.66303585904595, 77.27290864457066, 76.6681886348328, 145.89837107659523]\n"
     ]
    },
    {
     "name": "stderr",
     "output_type": "stream",
     "text": [
      "\r",
      " 67%|██████▋   | 20/30 [3:29:25<1:45:28, 632.85s/it]"
     ]
    },
    {
     "name": "stdout",
     "output_type": "stream",
     "text": [
      "[92.74938249124502, 93.23906300503248, 92.19413086440157, 92.49665917698461, 92.28206422503503, 92.0982585402278, 92.35477148240524, 92.6356850499109, 92.83110828213175, 82.2993480917559, 82.29158622038304, 82.25085880798747, 82.24439529033926, 81.94511380516032, 79.27676476112968, 78.66303585904595, 77.27290864457066, 76.6681886348328, 145.89837107659523, 109.87096343681237]\n"
     ]
    },
    {
     "name": "stderr",
     "output_type": "stream",
     "text": [
      "\r",
      " 70%|███████   | 21/30 [3:40:02<1:35:09, 634.34s/it]"
     ]
    },
    {
     "name": "stdout",
     "output_type": "stream",
     "text": [
      "[92.74938249124502, 93.23906300503248, 92.19413086440157, 92.49665917698461, 92.28206422503503, 92.0982585402278, 92.35477148240524, 92.6356850499109, 92.83110828213175, 82.2993480917559, 82.29158622038304, 82.25085880798747, 82.24439529033926, 81.94511380516032, 79.27676476112968, 78.66303585904595, 77.27290864457066, 76.6681886348328, 145.89837107659523, 109.87096343681237, 95.10892224077863]\n"
     ]
    },
    {
     "name": "stderr",
     "output_type": "stream",
     "text": [
      "\r",
      " 73%|███████▎  | 22/30 [3:50:38<1:24:37, 634.72s/it]"
     ]
    },
    {
     "name": "stdout",
     "output_type": "stream",
     "text": [
      "[92.74938249124502, 93.23906300503248, 92.19413086440157, 92.49665917698461, 92.28206422503503, 92.0982585402278, 92.35477148240524, 92.6356850499109, 92.83110828213175, 82.2993480917559, 82.29158622038304, 82.25085880798747, 82.24439529033926, 81.94511380516032, 79.27676476112968, 78.66303585904595, 77.27290864457066, 76.6681886348328, 145.89837107659523, 109.87096343681237, 95.10892224077863, 115.45783016736293]\n"
     ]
    },
    {
     "name": "stderr",
     "output_type": "stream",
     "text": [
      "\r",
      " 77%|███████▋  | 23/30 [4:01:11<1:13:59, 634.23s/it]"
     ]
    },
    {
     "name": "stdout",
     "output_type": "stream",
     "text": [
      "[92.74938249124502, 93.23906300503248, 92.19413086440157, 92.49665917698461, 92.28206422503503, 92.0982585402278, 92.35477148240524, 92.6356850499109, 92.83110828213175, 82.2993480917559, 82.29158622038304, 82.25085880798747, 82.24439529033926, 81.94511380516032, 79.27676476112968, 78.66303585904595, 77.27290864457066, 76.6681886348328, 145.89837107659523, 109.87096343681237, 95.10892224077863, 115.45783016736293, 99.17165258961307]\n"
     ]
    },
    {
     "name": "stderr",
     "output_type": "stream",
     "text": [
      "\r",
      " 80%|████████  | 24/30 [4:11:50<1:03:34, 635.68s/it]"
     ]
    },
    {
     "name": "stdout",
     "output_type": "stream",
     "text": [
      "[92.74938249124502, 93.23906300503248, 92.19413086440157, 92.49665917698461, 92.28206422503503, 92.0982585402278, 92.35477148240524, 92.6356850499109, 92.83110828213175, 82.2993480917559, 82.29158622038304, 82.25085880798747, 82.24439529033926, 81.94511380516032, 79.27676476112968, 78.66303585904595, 77.27290864457066, 76.6681886348328, 145.89837107659523, 109.87096343681237, 95.10892224077863, 115.45783016736293, 99.17165258961307, 122.0534783240037]\n"
     ]
    },
    {
     "name": "stderr",
     "output_type": "stream",
     "text": [
      "\r",
      " 83%|████████▎ | 25/30 [4:22:34<53:10, 638.10s/it]  "
     ]
    },
    {
     "name": "stdout",
     "output_type": "stream",
     "text": [
      "[92.74938249124502, 93.23906300503248, 92.19413086440157, 92.49665917698461, 92.28206422503503, 92.0982585402278, 92.35477148240524, 92.6356850499109, 92.83110828213175, 82.2993480917559, 82.29158622038304, 82.25085880798747, 82.24439529033926, 81.94511380516032, 79.27676476112968, 78.66303585904595, 77.27290864457066, 76.6681886348328, 145.89837107659523, 109.87096343681237, 95.10892224077863, 115.45783016736293, 99.17165258961307, 122.0534783240037, 124.3212703035463]\n"
     ]
    },
    {
     "name": "stderr",
     "output_type": "stream",
     "text": [
      "\r",
      " 87%|████████▋ | 26/30 [4:33:16<42:37, 639.36s/it]"
     ]
    },
    {
     "name": "stdout",
     "output_type": "stream",
     "text": [
      "[92.74938249124502, 93.23906300503248, 92.19413086440157, 92.49665917698461, 92.28206422503503, 92.0982585402278, 92.35477148240524, 92.6356850499109, 92.83110828213175, 82.2993480917559, 82.29158622038304, 82.25085880798747, 82.24439529033926, 81.94511380516032, 79.27676476112968, 78.66303585904595, 77.27290864457066, 76.6681886348328, 145.89837107659523, 109.87096343681237, 95.10892224077863, 115.45783016736293, 99.17165258961307, 122.0534783240037, 124.3212703035463, 125.018022455069]\n"
     ]
    },
    {
     "name": "stderr",
     "output_type": "stream",
     "text": [
      "\r",
      " 90%|█████████ | 27/30 [4:43:50<31:53, 637.79s/it]"
     ]
    },
    {
     "name": "stdout",
     "output_type": "stream",
     "text": [
      "[92.74938249124502, 93.23906300503248, 92.19413086440157, 92.49665917698461, 92.28206422503503, 92.0982585402278, 92.35477148240524, 92.6356850499109, 92.83110828213175, 82.2993480917559, 82.29158622038304, 82.25085880798747, 82.24439529033926, 81.94511380516032, 79.27676476112968, 78.66303585904595, 77.27290864457066, 76.6681886348328, 145.89837107659523, 109.87096343681237, 95.10892224077863, 115.45783016736293, 99.17165258961307, 122.0534783240037, 124.3212703035463, 125.018022455069, 125.28704306668445]\n"
     ]
    },
    {
     "name": "stderr",
     "output_type": "stream",
     "text": [
      "\r",
      " 93%|█████████▎| 28/30 [4:54:31<21:17, 638.56s/it]"
     ]
    },
    {
     "name": "stdout",
     "output_type": "stream",
     "text": [
      "[92.74938249124502, 93.23906300503248, 92.19413086440157, 92.49665917698461, 92.28206422503503, 92.0982585402278, 92.35477148240524, 92.6356850499109, 92.83110828213175, 82.2993480917559, 82.29158622038304, 82.25085880798747, 82.24439529033926, 81.94511380516032, 79.27676476112968, 78.66303585904595, 77.27290864457066, 76.6681886348328, 145.89837107659523, 109.87096343681237, 95.10892224077863, 115.45783016736293, 99.17165258961307, 122.0534783240037, 124.3212703035463, 125.018022455069, 125.28704306668445, 103.47229886477332]\n"
     ]
    },
    {
     "name": "stderr",
     "output_type": "stream",
     "text": [
      "\r",
      " 97%|█████████▋| 29/30 [5:05:12<10:39, 639.51s/it]"
     ]
    },
    {
     "name": "stdout",
     "output_type": "stream",
     "text": [
      "[92.74938249124502, 93.23906300503248, 92.19413086440157, 92.49665917698461, 92.28206422503503, 92.0982585402278, 92.35477148240524, 92.6356850499109, 92.83110828213175, 82.2993480917559, 82.29158622038304, 82.25085880798747, 82.24439529033926, 81.94511380516032, 79.27676476112968, 78.66303585904595, 77.27290864457066, 76.6681886348328, 145.89837107659523, 109.87096343681237, 95.10892224077863, 115.45783016736293, 99.17165258961307, 122.0534783240037, 124.3212703035463, 125.018022455069, 125.28704306668445, 103.47229886477332, 103.14463104576137]\n"
     ]
    },
    {
     "name": "stderr",
     "output_type": "stream",
     "text": [
      "100%|██████████| 30/30 [5:15:55<00:00, 631.85s/it]"
     ]
    },
    {
     "name": "stdout",
     "output_type": "stream",
     "text": [
      "[92.74938249124502, 93.23906300503248, 92.19413086440157, 92.49665917698461, 92.28206422503503, 92.0982585402278, 92.35477148240524, 92.6356850499109, 92.83110828213175, 82.2993480917559, 82.29158622038304, 82.25085880798747, 82.24439529033926, 81.94511380516032, 79.27676476112968, 78.66303585904595, 77.27290864457066, 76.6681886348328, 145.89837107659523, 109.87096343681237, 95.10892224077863, 115.45783016736293, 99.17165258961307, 122.0534783240037, 124.3212703035463, 125.018022455069, 125.28704306668445, 103.47229886477332, 103.14463104576137, 81.2268667119662]\n",
      "[92.74938249124502, 93.23906300503248, 92.19413086440157, 92.49665917698461, 92.28206422503503, 92.0982585402278, 92.35477148240524, 92.6356850499109, 92.83110828213175, 82.2993480917559, 82.29158622038304, 82.25085880798747, 82.24439529033926, 81.94511380516032, 79.27676476112968, 78.66303585904595, 77.27290864457066, 76.6681886348328, 145.89837107659523, 109.87096343681237, 95.10892224077863, 115.45783016736293, 99.17165258961307, 122.0534783240037, 124.3212703035463, 125.018022455069, 125.28704306668445, 103.47229886477332, 103.14463104576137, 81.2268667119662]\n"
     ]
    },
    {
     "name": "stderr",
     "output_type": "stream",
     "text": [
      "\n"
     ]
    }
   ],
   "source": [
    "loss_list_att = val_loss_for_all_models(trainers_att, val_data, val_size=450, variable_batches=True)\n",
    "print(loss_list_att)\n",
    "\n",
    "# first run: [58.79781428050684, 60.99458131763841, 61.036112768777, 61.05596775895589, 60.97728356595162, 60.76163521445571, 65.72370909473803, 65.29740455011577, 53.31530709361719, 43.10948994384802, 42.501780608520875, 41.81713659329537, 34.23370181352132, 37.12999854703072, 34.86240460698944, 35.05370937217055, 34.59301298739383, 30.543632000399867, 29.509237587058692, 27.812329880537916]"
   ]
  },
  {
   "cell_type": "code",
   "execution_count": 27,
   "id": "fresh-kuwait",
   "metadata": {},
   "outputs": [
    {
     "name": "stderr",
     "output_type": "stream",
     "text": [
      "  3%|▎         | 1/30 [09:05<4:23:49, 545.84s/it]"
     ]
    },
    {
     "name": "stdout",
     "output_type": "stream",
     "text": [
      "[79.67979485297654]\n"
     ]
    },
    {
     "name": "stderr",
     "output_type": "stream",
     "text": [
      "\r",
      "  7%|▋         | 2/30 [18:14<4:15:31, 547.55s/it]"
     ]
    },
    {
     "name": "stdout",
     "output_type": "stream",
     "text": [
      "[79.67979485297654, 79.52978831340694]\n"
     ]
    },
    {
     "name": "stderr",
     "output_type": "stream",
     "text": [
      "\r",
      " 10%|█         | 3/30 [27:21<4:06:13, 547.18s/it]"
     ]
    },
    {
     "name": "stdout",
     "output_type": "stream",
     "text": [
      "[79.67979485297654, 79.52978831340694, 79.59269432046497]\n"
     ]
    },
    {
     "name": "stderr",
     "output_type": "stream",
     "text": [
      "\r",
      " 13%|█▎        | 4/30 [36:25<3:56:34, 545.94s/it]"
     ]
    },
    {
     "name": "stdout",
     "output_type": "stream",
     "text": [
      "[79.67979485297654, 79.52978831340694, 79.59269432046497, 79.5220790124467]\n"
     ]
    },
    {
     "name": "stderr",
     "output_type": "stream",
     "text": [
      "\r",
      " 17%|█▋        | 5/30 [45:33<3:47:48, 546.74s/it]"
     ]
    },
    {
     "name": "stdout",
     "output_type": "stream",
     "text": [
      "[79.67979485297654, 79.52978831340694, 79.59269432046497, 79.5220790124467, 78.45980846308666]\n"
     ]
    },
    {
     "name": "stderr",
     "output_type": "stream",
     "text": [
      "\r",
      " 20%|██        | 6/30 [54:41<3:38:47, 547.00s/it]"
     ]
    },
    {
     "name": "stdout",
     "output_type": "stream",
     "text": [
      "[79.67979485297654, 79.52978831340694, 79.59269432046497, 79.5220790124467, 78.45980846308666, 78.53818885547793]\n"
     ]
    },
    {
     "name": "stderr",
     "output_type": "stream",
     "text": [
      "\r",
      " 23%|██▎       | 7/30 [1:03:44<3:29:14, 545.84s/it]"
     ]
    },
    {
     "name": "stdout",
     "output_type": "stream",
     "text": [
      "[79.67979485297654, 79.52978831340694, 79.59269432046497, 79.5220790124467, 78.45980846308666, 78.53818885547793, 79.78754508523244]\n"
     ]
    },
    {
     "name": "stderr",
     "output_type": "stream",
     "text": [
      "\r",
      " 27%|██▋       | 8/30 [1:12:55<3:20:46, 547.55s/it]"
     ]
    },
    {
     "name": "stdout",
     "output_type": "stream",
     "text": [
      "[79.67979485297654, 79.52978831340694, 79.59269432046497, 79.5220790124467, 78.45980846308666, 78.53818885547793, 79.78754508523244, 80.09970942381703]\n"
     ]
    },
    {
     "name": "stderr",
     "output_type": "stream",
     "text": [
      "\r",
      " 30%|███       | 9/30 [1:22:00<3:11:21, 546.74s/it]"
     ]
    },
    {
     "name": "stdout",
     "output_type": "stream",
     "text": [
      "[79.67979485297654, 79.52978831340694, 79.59269432046497, 79.5220790124467, 78.45980846308666, 78.53818885547793, 79.78754508523244, 80.09970942381703, 79.91776205714892]\n"
     ]
    },
    {
     "name": "stderr",
     "output_type": "stream",
     "text": [
      "\r",
      " 33%|███▎      | 10/30 [1:31:09<3:02:26, 547.34s/it]"
     ]
    },
    {
     "name": "stdout",
     "output_type": "stream",
     "text": [
      "[79.67979485297654, 79.52978831340694, 79.59269432046497, 79.5220790124467, 78.45980846308666, 78.53818885547793, 79.78754508523244, 80.09970942381703, 79.91776205714892, 80.18426216631792]\n"
     ]
    },
    {
     "name": "stderr",
     "output_type": "stream",
     "text": [
      "\r",
      " 37%|███▋      | 11/30 [1:40:20<2:53:42, 548.57s/it]"
     ]
    },
    {
     "name": "stdout",
     "output_type": "stream",
     "text": [
      "[79.67979485297654, 79.52978831340694, 79.59269432046497, 79.5220790124467, 78.45980846308666, 78.53818885547793, 79.78754508523244, 80.09970942381703, 79.91776205714892, 80.18426216631792, 80.446114885401]\n"
     ]
    },
    {
     "name": "stderr",
     "output_type": "stream",
     "text": [
      "\r",
      " 40%|████      | 12/30 [1:49:27<2:44:22, 547.91s/it]"
     ]
    },
    {
     "name": "stdout",
     "output_type": "stream",
     "text": [
      "[79.67979485297654, 79.52978831340694, 79.59269432046497, 79.5220790124467, 78.45980846308666, 78.53818885547793, 79.78754508523244, 80.09970942381703, 79.91776205714892, 80.18426216631792, 80.446114885401, 79.74755281186549]\n"
     ]
    },
    {
     "name": "stderr",
     "output_type": "stream",
     "text": [
      "\r",
      " 43%|████▎     | 13/30 [1:58:32<2:35:02, 547.21s/it]"
     ]
    },
    {
     "name": "stdout",
     "output_type": "stream",
     "text": [
      "[79.67979485297654, 79.52978831340694, 79.59269432046497, 79.5220790124467, 78.45980846308666, 78.53818885547793, 79.78754508523244, 80.09970942381703, 79.91776205714892, 80.18426216631792, 80.446114885401, 79.74755281186549, 79.73755187844932]\n"
     ]
    },
    {
     "name": "stderr",
     "output_type": "stream",
     "text": [
      "\r",
      " 47%|████▋     | 14/30 [2:07:41<2:26:01, 547.60s/it]"
     ]
    },
    {
     "name": "stdout",
     "output_type": "stream",
     "text": [
      "[79.67979485297654, 79.52978831340694, 79.59269432046497, 79.5220790124467, 78.45980846308666, 78.53818885547793, 79.78754508523244, 80.09970942381703, 79.91776205714892, 80.18426216631792, 80.446114885401, 79.74755281186549, 79.73755187844932, 80.6935416543814]\n"
     ]
    },
    {
     "name": "stderr",
     "output_type": "stream",
     "text": [
      "\r",
      " 50%|█████     | 15/30 [2:16:47<2:16:49, 547.28s/it]"
     ]
    },
    {
     "name": "stdout",
     "output_type": "stream",
     "text": [
      "[79.67979485297654, 79.52978831340694, 79.59269432046497, 79.5220790124467, 78.45980846308666, 78.53818885547793, 79.78754508523244, 80.09970942381703, 79.91776205714892, 80.18426216631792, 80.446114885401, 79.74755281186549, 79.73755187844932, 80.6935416543814, 84.20387256269817]\n"
     ]
    },
    {
     "name": "stderr",
     "output_type": "stream",
     "text": [
      "\r",
      " 53%|█████▎    | 16/30 [2:25:54<2:07:40, 547.21s/it]"
     ]
    },
    {
     "name": "stdout",
     "output_type": "stream",
     "text": [
      "[79.67979485297654, 79.52978831340694, 79.59269432046497, 79.5220790124467, 78.45980846308666, 78.53818885547793, 79.78754508523244, 80.09970942381703, 79.91776205714892, 80.18426216631792, 80.446114885401, 79.74755281186549, 79.73755187844932, 80.6935416543814, 84.20387256269817, 80.50794088880728]\n"
     ]
    },
    {
     "name": "stderr",
     "output_type": "stream",
     "text": [
      "\r",
      " 57%|█████▋    | 17/30 [2:35:01<1:58:30, 546.97s/it]"
     ]
    },
    {
     "name": "stdout",
     "output_type": "stream",
     "text": [
      "[79.67979485297654, 79.52978831340694, 79.59269432046497, 79.5220790124467, 78.45980846308666, 78.53818885547793, 79.78754508523244, 80.09970942381703, 79.91776205714892, 80.18426216631792, 80.446114885401, 79.74755281186549, 79.73755187844932, 80.6935416543814, 84.20387256269817, 80.50794088880728, 81.51241459117321]\n"
     ]
    },
    {
     "name": "stderr",
     "output_type": "stream",
     "text": [
      "\r",
      " 60%|██████    | 18/30 [2:44:04<1:49:09, 545.77s/it]"
     ]
    },
    {
     "name": "stdout",
     "output_type": "stream",
     "text": [
      "[79.67979485297654, 79.52978831340694, 79.59269432046497, 79.5220790124467, 78.45980846308666, 78.53818885547793, 79.78754508523244, 80.09970942381703, 79.91776205714892, 80.18426216631792, 80.446114885401, 79.74755281186549, 79.73755187844932, 80.6935416543814, 84.20387256269817, 80.50794088880728, 81.51241459117321, 78.87793919587338]\n"
     ]
    },
    {
     "name": "stderr",
     "output_type": "stream",
     "text": [
      "\r",
      " 63%|██████▎   | 19/30 [2:53:12<1:40:10, 546.41s/it]"
     ]
    },
    {
     "name": "stdout",
     "output_type": "stream",
     "text": [
      "[79.67979485297654, 79.52978831340694, 79.59269432046497, 79.5220790124467, 78.45980846308666, 78.53818885547793, 79.78754508523244, 80.09970942381703, 79.91776205714892, 80.18426216631792, 80.446114885401, 79.74755281186549, 79.73755187844932, 80.6935416543814, 84.20387256269817, 80.50794088880728, 81.51241459117321, 78.87793919587338, 81.19087807337999]\n"
     ]
    },
    {
     "name": "stderr",
     "output_type": "stream",
     "text": [
      "\r",
      " 67%|██████▋   | 20/30 [3:02:22<1:31:14, 547.47s/it]"
     ]
    },
    {
     "name": "stdout",
     "output_type": "stream",
     "text": [
      "[79.67979485297654, 79.52978831340694, 79.59269432046497, 79.5220790124467, 78.45980846308666, 78.53818885547793, 79.78754508523244, 80.09970942381703, 79.91776205714892, 80.18426216631792, 80.446114885401, 79.74755281186549, 79.73755187844932, 80.6935416543814, 84.20387256269817, 80.50794088880728, 81.51241459117321, 78.87793919587338, 81.19087807337999, 78.72395049273821]\n"
     ]
    },
    {
     "name": "stderr",
     "output_type": "stream",
     "text": [
      "\r",
      " 70%|███████   | 21/30 [3:11:24<1:21:53, 545.94s/it]"
     ]
    },
    {
     "name": "stdout",
     "output_type": "stream",
     "text": [
      "[79.67979485297654, 79.52978831340694, 79.59269432046497, 79.5220790124467, 78.45980846308666, 78.53818885547793, 79.78754508523244, 80.09970942381703, 79.91776205714892, 80.18426216631792, 80.446114885401, 79.74755281186549, 79.73755187844932, 80.6935416543814, 84.20387256269817, 80.50794088880728, 81.51241459117321, 78.87793919587338, 81.19087807337999, 78.72395049273821, 80.22350105492471]\n"
     ]
    },
    {
     "name": "stderr",
     "output_type": "stream",
     "text": [
      "\r",
      " 73%|███████▎  | 22/30 [3:20:36<1:13:02, 547.77s/it]"
     ]
    },
    {
     "name": "stdout",
     "output_type": "stream",
     "text": [
      "[79.67979485297654, 79.52978831340694, 79.59269432046497, 79.5220790124467, 78.45980846308666, 78.53818885547793, 79.78754508523244, 80.09970942381703, 79.91776205714892, 80.18426216631792, 80.446114885401, 79.74755281186549, 79.73755187844932, 80.6935416543814, 84.20387256269817, 80.50794088880728, 81.51241459117321, 78.87793919587338, 81.19087807337999, 78.72395049273821, 80.22350105492471, 80.33601728868184]\n"
     ]
    },
    {
     "name": "stderr",
     "output_type": "stream",
     "text": [
      "\r",
      " 77%|███████▋  | 23/30 [3:29:45<1:03:57, 548.27s/it]"
     ]
    },
    {
     "name": "stdout",
     "output_type": "stream",
     "text": [
      "[79.67979485297654, 79.52978831340694, 79.59269432046497, 79.5220790124467, 78.45980846308666, 78.53818885547793, 79.78754508523244, 80.09970942381703, 79.91776205714892, 80.18426216631792, 80.446114885401, 79.74755281186549, 79.73755187844932, 80.6935416543814, 84.20387256269817, 80.50794088880728, 81.51241459117321, 78.87793919587338, 81.19087807337999, 78.72395049273821, 80.22350105492471, 80.33601728868184, 78.01704524961455]\n"
     ]
    },
    {
     "name": "stderr",
     "output_type": "stream",
     "text": [
      "\r",
      " 80%|████████  | 24/30 [3:38:59<54:58, 549.74s/it]  "
     ]
    },
    {
     "name": "stdout",
     "output_type": "stream",
     "text": [
      "[79.67979485297654, 79.52978831340694, 79.59269432046497, 79.5220790124467, 78.45980846308666, 78.53818885547793, 79.78754508523244, 80.09970942381703, 79.91776205714892, 80.18426216631792, 80.446114885401, 79.74755281186549, 79.73755187844932, 80.6935416543814, 84.20387256269817, 80.50794088880728, 81.51241459117321, 78.87793919587338, 81.19087807337999, 78.72395049273821, 80.22350105492471, 80.33601728868184, 78.01704524961455, 81.48363650063115]\n"
     ]
    },
    {
     "name": "stderr",
     "output_type": "stream",
     "text": [
      "\r",
      " 83%|████████▎ | 25/30 [3:48:13<45:56, 551.25s/it]"
     ]
    },
    {
     "name": "stdout",
     "output_type": "stream",
     "text": [
      "[79.67979485297654, 79.52978831340694, 79.59269432046497, 79.5220790124467, 78.45980846308666, 78.53818885547793, 79.78754508523244, 80.09970942381703, 79.91776205714892, 80.18426216631792, 80.446114885401, 79.74755281186549, 79.73755187844932, 80.6935416543814, 84.20387256269817, 80.50794088880728, 81.51241459117321, 78.87793919587338, 81.19087807337999, 78.72395049273821, 80.22350105492471, 80.33601728868184, 78.01704524961455, 81.48363650063115, 79.03450320838881]\n"
     ]
    },
    {
     "name": "stderr",
     "output_type": "stream",
     "text": [
      "\r",
      " 87%|████████▋ | 26/30 [3:57:25<36:45, 551.44s/it]"
     ]
    },
    {
     "name": "stdout",
     "output_type": "stream",
     "text": [
      "[79.67979485297654, 79.52978831340694, 79.59269432046497, 79.5220790124467, 78.45980846308666, 78.53818885547793, 79.78754508523244, 80.09970942381703, 79.91776205714892, 80.18426216631792, 80.446114885401, 79.74755281186549, 79.73755187844932, 80.6935416543814, 84.20387256269817, 80.50794088880728, 81.51241459117321, 78.87793919587338, 81.19087807337999, 78.72395049273821, 80.22350105492471, 80.33601728868184, 78.01704524961455, 81.48363650063115, 79.03450320838881, 81.15257212344942]\n"
     ]
    },
    {
     "name": "stderr",
     "output_type": "stream",
     "text": [
      "\r",
      " 90%|█████████ | 27/30 [4:06:39<27:36, 552.25s/it]"
     ]
    },
    {
     "name": "stdout",
     "output_type": "stream",
     "text": [
      "[79.67979485297654, 79.52978831340694, 79.59269432046497, 79.5220790124467, 78.45980846308666, 78.53818885547793, 79.78754508523244, 80.09970942381703, 79.91776205714892, 80.18426216631792, 80.446114885401, 79.74755281186549, 79.73755187844932, 80.6935416543814, 84.20387256269817, 80.50794088880728, 81.51241459117321, 78.87793919587338, 81.19087807337999, 78.72395049273821, 80.22350105492471, 80.33601728868184, 78.01704524961455, 81.48363650063115, 79.03450320838881, 81.15257212344942, 79.17349770738058]\n"
     ]
    },
    {
     "name": "stderr",
     "output_type": "stream",
     "text": [
      "\r",
      " 93%|█████████▎| 28/30 [4:15:52<18:24, 552.42s/it]"
     ]
    },
    {
     "name": "stdout",
     "output_type": "stream",
     "text": [
      "[79.67979485297654, 79.52978831340694, 79.59269432046497, 79.5220790124467, 78.45980846308666, 78.53818885547793, 79.78754508523244, 80.09970942381703, 79.91776205714892, 80.18426216631792, 80.446114885401, 79.74755281186549, 79.73755187844932, 80.6935416543814, 84.20387256269817, 80.50794088880728, 81.51241459117321, 78.87793919587338, 81.19087807337999, 78.72395049273821, 80.22350105492471, 80.33601728868184, 78.01704524961455, 81.48363650063115, 79.03450320838881, 81.15257212344942, 79.17349770738058, 78.16059535447968]\n"
     ]
    },
    {
     "name": "stderr",
     "output_type": "stream",
     "text": [
      "\r",
      " 97%|█████████▋| 29/30 [4:25:03<09:12, 552.07s/it]"
     ]
    },
    {
     "name": "stdout",
     "output_type": "stream",
     "text": [
      "[79.67979485297654, 79.52978831340694, 79.59269432046497, 79.5220790124467, 78.45980846308666, 78.53818885547793, 79.78754508523244, 80.09970942381703, 79.91776205714892, 80.18426216631792, 80.446114885401, 79.74755281186549, 79.73755187844932, 80.6935416543814, 84.20387256269817, 80.50794088880728, 81.51241459117321, 78.87793919587338, 81.19087807337999, 78.72395049273821, 80.22350105492471, 80.33601728868184, 78.01704524961455, 81.48363650063115, 79.03450320838881, 81.15257212344942, 79.17349770738058, 78.16059535447968, 77.83317769923954]\n"
     ]
    },
    {
     "name": "stderr",
     "output_type": "stream",
     "text": [
      "100%|██████████| 30/30 [4:34:19<00:00, 548.66s/it]"
     ]
    },
    {
     "name": "stdout",
     "output_type": "stream",
     "text": [
      "[79.67979485297654, 79.52978831340694, 79.59269432046497, 79.5220790124467, 78.45980846308666, 78.53818885547793, 79.78754508523244, 80.09970942381703, 79.91776205714892, 80.18426216631792, 80.446114885401, 79.74755281186549, 79.73755187844932, 80.6935416543814, 84.20387256269817, 80.50794088880728, 81.51241459117321, 78.87793919587338, 81.19087807337999, 78.72395049273821, 80.22350105492471, 80.33601728868184, 78.01704524961455, 81.48363650063115, 79.03450320838881, 81.15257212344942, 79.17349770738058, 78.16059535447968, 77.83317769923954, 77.71568402086015]\n",
      "[79.67979485297654, 79.52978831340694, 79.59269432046497, 79.5220790124467, 78.45980846308666, 78.53818885547793, 79.78754508523244, 80.09970942381703, 79.91776205714892, 80.18426216631792, 80.446114885401, 79.74755281186549, 79.73755187844932, 80.6935416543814, 84.20387256269817, 80.50794088880728, 81.51241459117321, 78.87793919587338, 81.19087807337999, 78.72395049273821, 80.22350105492471, 80.33601728868184, 78.01704524961455, 81.48363650063115, 79.03450320838881, 81.15257212344942, 79.17349770738058, 78.16059535447968, 77.83317769923954, 77.71568402086015]\n"
     ]
    },
    {
     "name": "stderr",
     "output_type": "stream",
     "text": [
      "\n"
     ]
    }
   ],
   "source": [
    "loss_list_lstm = val_loss_for_all_models(trainers_lstm, val_data, val_size=450, variable_batches=True)\n",
    "print(loss_list_lstm)\n",
    "\n",
    "# first run: [27.304298203291822, 26.805993336154263, 26.629937693592783, 25.75794317912745, 25.926942683910386, 26.299691983393252, 26.071323804765548, 23.759693231146052, 22.978566764915136, 23.125428292791558, 24.846454579523623, 24.912110084617286, 24.860141947743173, 24.374138179515857, 24.19659813282396, 24.10343893510335, 24.259611301158923, 23.4498316783007, 23.99073953810295, 23.319251953208592]"
   ]
  },
  {
   "cell_type": "code",
   "execution_count": 28,
   "id": "dedicated-update",
   "metadata": {},
   "outputs": [
    {
     "name": "stdout",
     "output_type": "stream",
     "text": [
      "[92.74938249124502, 93.23906300503248, 92.19413086440157, 92.49665917698461, 92.28206422503503, 92.0982585402278, 92.35477148240524, 92.6356850499109, 92.83110828213175, 82.2993480917559, 82.29158622038304, 82.25085880798747, 82.24439529033926, 81.94511380516032, 79.27676476112968, 78.66303585904595, 77.27290864457066, 76.6681886348328, 145.89837107659523, 109.87096343681237, 95.10892224077863, 115.45783016736293, 99.17165258961307, 122.0534783240037, 124.3212703035463, 125.018022455069, 125.28704306668445, 103.47229886477332, 103.14463104576137, 81.2268667119662]\n"
     ]
    },
    {
     "data": {
      "text/plain": [
       "17"
      ]
     },
     "execution_count": 28,
     "metadata": {},
     "output_type": "execute_result"
    }
   ],
   "source": [
    "print(loss_list_att)\n",
    "np.argmin(loss_list_att)  # min at 17"
   ]
  },
  {
   "cell_type": "code",
   "execution_count": 29,
   "id": "warming-tolerance",
   "metadata": {},
   "outputs": [
    {
     "name": "stdout",
     "output_type": "stream",
     "text": [
      "[79.67979485297654, 79.52978831340694, 79.59269432046497, 79.5220790124467, 78.45980846308666, 78.53818885547793, 79.78754508523244, 80.09970942381703, 79.91776205714892, 80.18426216631792, 80.446114885401, 79.74755281186549, 79.73755187844932, 80.6935416543814, 84.20387256269817, 80.50794088880728, 81.51241459117321, 78.87793919587338, 81.19087807337999, 78.72395049273821, 80.22350105492471, 80.33601728868184, 78.01704524961455, 81.48363650063115, 79.03450320838881, 81.15257212344942, 79.17349770738058, 78.16059535447968, 77.83317769923954, 77.71568402086015]\n"
     ]
    },
    {
     "data": {
      "text/plain": [
       "29"
      ]
     },
     "execution_count": 29,
     "metadata": {},
     "output_type": "execute_result"
    }
   ],
   "source": [
    "print(loss_list_lstm)\n",
    "np.argmin(loss_list_lstm)  # min at 28/29"
   ]
  },
  {
   "cell_type": "code",
   "execution_count": null,
   "id": "cubic-mills",
   "metadata": {},
   "outputs": [],
   "source": []
  }
 ],
 "metadata": {
  "kernelspec": {
   "display_name": "Python 3",
   "language": "python",
   "name": "python3"
  },
  "language_info": {
   "codemirror_mode": {
    "name": "ipython",
    "version": 3
   },
   "file_extension": ".py",
   "mimetype": "text/x-python",
   "name": "python",
   "nbconvert_exporter": "python",
   "pygments_lexer": "ipython3",
   "version": "3.8.2"
  }
 },
 "nbformat": 4,
 "nbformat_minor": 5
}

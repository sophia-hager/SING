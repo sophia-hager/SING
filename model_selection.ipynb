{
 "cells": [
  {
   "cell_type": "code",
   "execution_count": 114,
   "id": "nervous-apparatus",
   "metadata": {},
   "outputs": [],
   "source": [
    "drive = False  # False for Local\n",
    "if drive:\n",
    "    !pip install pretty_midi\n",
    "    !pip install -U sparsemax\n",
    "# locally, also compile torch (with CUDA enabled if available):\n",
    "# conda install pytorch==1.11.0 torchvision==0.12.0 torchaudio==0.11.0 cudatoolkit=11.3 -c pytorch"
   ]
  },
  {
   "cell_type": "code",
   "execution_count": 115,
   "id": "gross-tissue",
   "metadata": {},
   "outputs": [],
   "source": [
    "import os\n",
    "import numpy as np\n",
    "import matplotlib.pyplot as plt\n",
    "import pretty_midi\n",
    "#this package is used to write it back into music.\n",
    "from mido import Message, MidiFile, MidiTrack\n",
    "import torch \n",
    "import torch.nn as nn\n",
    "import torch.nn.functional as F\n",
    "import torch.optim as optim\n",
    "from tqdm import tqdm\n",
    "import random\n",
    "import torch.distributions\n",
    "import sparsemax"
   ]
  },
  {
   "cell_type": "code",
   "execution_count": 116,
   "id": "enhanced-congo",
   "metadata": {},
   "outputs": [],
   "source": [
    "if drive:\n",
    "    from google.colab import drive\n",
    "    drive.mount('/content/drive')\n",
    "    my_drive_path = '/content/drive/MyDrive/2022_Special_Studies_Hablutzel/ModelCopies/'\n",
    "else: # local\n",
    "    my_drive_path = \"./\""
   ]
  },
  {
   "cell_type": "code",
   "execution_count": 117,
   "id": "breeding-contact",
   "metadata": {},
   "outputs": [],
   "source": [
    "#this is the model\n",
    "class music_generator(nn.Module):\n",
    "    def __init__(self, hidden_size, output_size, base_lstm=False):\n",
    "        super().__init__()\n",
    "        self.hidden_size = hidden_size  # 128\n",
    "        # output_size is num expected features (128)\n",
    "        self.lstm = nn.LSTM(output_size, hidden_size, num_layers=1, bidirectional=False)\n",
    "        self.attention = nn.Linear(2, 1)\n",
    "        self.softmax = sparsemax.Sparsemax(dim=1)\n",
    "        self.sigmoid = nn.Sigmoid()\n",
    "        self.hidden = None\n",
    "        self.base_lstm = base_lstm  # true to use lstm without attention\n",
    "\n",
    "    def init_hidden(self, batch_size):\n",
    "        # set hidden state to zeros after each batch\n",
    "        hidden = (torch.zeros(1, batch_size, self.hidden_size)).float() # .to(\"cuda:0\")  # [layers, batch_size, hidden_size/features]\n",
    "        self.hidden = (hidden, hidden) # hidden_state, cell_state\n",
    "        return\n",
    "\n",
    "    def set_random_hidden(self, batch_size):\n",
    "        # create new random hidden layer\n",
    "        hidden = (torch.randn(1, batch_size, self.hidden_size)).float() # .to(\"cuda:0\")\n",
    "        self.hidden = (hidden, hidden)\n",
    "        return\n",
    "\n",
    "    def forward(self, input, batch_size, prev_sequence, batched_ssm):\n",
    "        # look at tensor things - view vs. reshape vs. permute, and unsqueeze and squeeze\n",
    "        # try looking at the LSTM equations\n",
    "        # .to('cpu')  # returns a copy of the tensor in CPU memory\n",
    "        # .to('cuda:0')  # returns copy in CUDA memory, 0 indicates first GPU device\n",
    "        # https://pytorch.org/docs/stable/tensors.html#torch.Tensor.to\n",
    "\n",
    "        # sequence length\n",
    "        # size of input (10 or 1)\n",
    "        sequence_length = input.size()[0]\n",
    "\n",
    "        # Run the LSTM\n",
    "        # output - sequence of all the hidden states\n",
    "        # hidden - most recent hidden state\n",
    "        # input dimensions: [sequence_length, batch_size, 128]\n",
    "        output, self.hidden = self.lstm(input.float(), self.hidden) # removed input.tocuda, so hidden doesn't need cuda either # make sure hidden in cuda memory! - #0].to(\"cuda:0\").float(), hidden[1].to(\"cuda:0\").float()))\n",
    "        # output dimensions: [sequence_length, batch_size, 128]\n",
    "        # outputs as many beats (sequence_length) as there were beats in the input\n",
    "        # hidden: last hidden states from last beat\n",
    "\n",
    "        # Get copy of the output\n",
    "        # take out this line after finish LSTM (other than reshaping) - unsqueeze to get right reshaping\n",
    "        output_1 = output.to('cpu') # [-5:,:,:]  # don't just take last 5\n",
    "\n",
    "        #########################\n",
    "        # attention starts here #\n",
    "        #########################\n",
    "        \n",
    "        # output without attention\n",
    "        new_output = output_1.view(sequence_length, batch_size, 1, 128)  # reshape\n",
    "        avg_output = torch.sum(new_output, 2)  # return this for base LSTM (w/o attention)\n",
    "\n",
    "        # return early (w/o attention) for base lstm\n",
    "        if self.base_lstm:\n",
    "          return avg_output, self.hidden  # TODO: test return type\n",
    "        \n",
    "        #this variable holds the output after the attention has been applied.\n",
    "        seqs = []\n",
    "\n",
    "        # slice the batched ssms to the right places\n",
    "        beat_num = prev_sequence.shape[0]\n",
    "        # find the row for this beat in each ssm\n",
    "        # batched_ssm shape is (batch_size*beats, beats), bc all the pieces are stacked vertically atop each other\n",
    "        inds_across_pieces = range(beat_num, batched_ssm.shape[0], batched_ssm.shape[1])  # eg 11, 2625, 105 - indices of this beat in each of the pieces in the batched_ssm\n",
    "        # for the row for this beat in each ssm, slice the row up to (not including) this beat\n",
    "        ssm_slice = batched_ssm[inds_across_pieces, :beat_num]\n",
    "        \n",
    "        # sparsemax makes entries in the vector add to 1\n",
    "        weights = self.softmax(ssm_slice)\n",
    "        # print(\"weights shape:\", weights.shape)\n",
    "\n",
    "        # this is the sparsemaxed SSM multiplied by the entire previous sequence\n",
    "        # to scale the previous timesteps for how much attention to pay to each\n",
    "        weighted = (prev_sequence.T*weights).T # replace .T - see which dimensions we're switching\n",
    "\n",
    "        # then it's summed to provide weights for each note.\n",
    "        weight_vec = (torch.sum(weighted, axis=0))\n",
    "        #This concatenates the weights for each note with the output for that note, which is then run through the linear layer to get the final output.\n",
    "        pt2 = torch.hstack((weight_vec.unsqueeze(1), avg_output[0,:,:].unsqueeze(1))).transpose(1,2)\n",
    "        attentioned = self.attention(pt2.float()).permute(2,0,1)  # before .permute() .to(\"cuda:0\")).to('cpu')\n",
    "\n",
    "        # final added new output to seqs.\n",
    "        seqs.append(attentioned)\n",
    "\n",
    "        # seqs is combined into one tensor and returned, along with the hidden and cell states.\n",
    "        newoutput = torch.vstack(seqs)\n",
    "\n",
    "        # delete vars to remove clutter in memory\n",
    "        del seqs\n",
    "        del pt2\n",
    "        del attentioned\n",
    "        del weight_vec\n",
    "        del weighted\n",
    "        del weights\n",
    "        del ssm_slice\n",
    "        del inds_across_pieces\n",
    "        del beat_num\n",
    "        del new_output\n",
    "        del avg_output\n",
    "\n",
    "        return newoutput.double(), self.hidden  # hidden = hidden_state, cell_state"
   ]
  },
  {
   "cell_type": "code",
   "execution_count": 118,
   "id": "fresh-waterproof",
   "metadata": {},
   "outputs": [],
   "source": [
    "class model_trainer():\n",
    "  def __init__(self, generator, optimizer, data, hidden_size=128, batch_size=50):\n",
    "    self.generator = generator\n",
    "    self.optimizer = optimizer\n",
    "    self.batch_size = batch_size  # play with this\n",
    "    self.hidden_size = hidden_size  # 128\n",
    "    self.data = data\n",
    "    self.data_length = data[0][0].shape[0]  # as long as piece length doesn't vary\n",
    "\n",
    "  def train_epochs(self, num_epochs=50, full_training=False, variable_size_batches=False, save_name=\"model\"):\n",
    "    #trains each epoch\n",
    "    losslist = []\n",
    "    #useful when you want to see the progression of the SSM over time\n",
    "    piclist = []\n",
    "\n",
    "    for iter in tqdm(range(0, num_epochs)):\n",
    "      # start training the generator\n",
    "      generator.train()\n",
    "\n",
    "      if full_training and variable_size_batches:\n",
    "        # use all data, and group batches by piece size\n",
    "        batches = make_variable_size_batches(self.data)\n",
    "      elif not full_training and variable_size_batches:\n",
    "        batches = make_variable_size_batches(self.data[:100])  # buggy\n",
    "      elif full_training:\n",
    "        # use all data\n",
    "        batches = make_batches(self.data, self.batch_size, self.data_length)\n",
    "      else:\n",
    "        # use first 100 pieces\n",
    "        # can we overfit on a small dataset? if so, can be a good thing b/c shows the model can learn\n",
    "        batches = make_batches(self.data[:100], self.batch_size, self.data_length)\n",
    "\n",
    "      cum_loss = 0\n",
    "      for batch_num in tqdm(range(len(batches))):\n",
    "        batch = batches[batch_num]\n",
    "        if full_training:\n",
    "          # train on full-length pieces\n",
    "          loss = self.train(batch)\n",
    "        else:\n",
    "          # train on first 105 beats of each piece\n",
    "          loss = self.train(batch[:,:105,:])  # [batch, beats, 128]\n",
    "        cum_loss+=loss\n",
    "        del batch\n",
    "        del loss\n",
    "      del batches\n",
    "          \n",
    "      # print loss for early stopping\n",
    "      print(cum_loss)\n",
    "    \n",
    "      # save generator after each epoch\n",
    "      curr_file = f\"{my_drive_path}trained/{save_name}-epoch-{str(iter)}-loss-{cum_loss:.5f}.txt\"\n",
    "      !touch curr_file\n",
    "      torch.save(generator, curr_file)\n",
    "\n",
    "      # generate example piece for piclist\n",
    "      snap = self.generate_n_examples(n=1, length=95, starter_notes=10)\n",
    "\n",
    "      losslist.append(cum_loss) \n",
    "      piclist.append(snap)\n",
    "      del snap\n",
    "        \n",
    "      # early stopping:\n",
    "      # after each epoch,\n",
    "      # run w/ validation\n",
    "      # if devset (validation) loss goes up for ~5 epochs in a row, early stopping\n",
    "    return losslist, piclist\n",
    "\n",
    "  # train for one batch\n",
    "  def train(self, batch, starter_notes=10):\n",
    "    #seed vectors for the beginning:\n",
    "    batch_size = batch.shape[0]\n",
    "    self_sim = batch_SSM(batch.transpose(0,1), batch_size)  # use variable batch size\n",
    "    sequence = batch[:,0:starter_notes,:].transpose(0,1)  # start w/ some amount of the piece - 10 might be a bit much\n",
    "    generated = batch[:,0:starter_notes,:].transpose(0,1)\n",
    "\n",
    "    # reset hidden to zeros for each batch\n",
    "    generator.init_hidden(batch_size)\n",
    "        \n",
    "    # zero the gradients before training for each batch\n",
    "    self.optimizer.zero_grad()\n",
    "    \n",
    "    # for accumulating loss\n",
    "    loss = 0\n",
    "\n",
    "    # first .forward on sequence of num_starter_beats (~5 or 10 or so)\n",
    "    # then loop from there to generate one more element\n",
    "    next_element = sequence\n",
    "\n",
    "    # take\n",
    "    for i in range(0,batch.shape[1]-starter_notes):  # for each beat\n",
    "      # iterate through beats num_starter_beats-400, generating for each piece in the batch as you go\n",
    "      val = torch.rand(1)  # probability it uses original - teacher forcing\n",
    "\n",
    "      # generate a beat for each piece in the batch\n",
    "      # we need to do this even in cases of teacher forcing, so we can calculate loss\n",
    "      output, _ = self.generator.forward(next_element, batch_size, sequence, self_sim)  # returns output, hidden - we don't need the latest copy of hidden\n",
    "      \n",
    "      if (val > .8):\n",
    "        # teacher forcing - 20% of the time,  use original from piece instead of output\n",
    "        next_element = batch[:,i+1,:].unsqueeze(0)  # [1, 0/deleted, 128] to [1, 1, 128]\n",
    "      else:\n",
    "        # 80% of the time we keep the output\n",
    "        # take last output for each batch\n",
    "        next_element = topk_batch_sample(output, 1)\n",
    "      \n",
    "      # add next_element (either generated or teacher) to sequence\n",
    "      sequence = torch.vstack((sequence, next_element.to(\"cpu\"))) # .unsqueeze(0)\n",
    "      # append output (generated - not teacher forced) for loss\n",
    "      generated = torch.vstack((generated, output))  # used for loss\n",
    "    \n",
    "    # run loss after training on whole length of the pieces in the batches\n",
    "    single_loss = custom_loss(generated[starter_notes:,:,:], batch.transpose(0,1)[starter_notes:,:,:])\n",
    "    single_loss.backward()\n",
    "\n",
    "    # update the parameters of the LSTM after running on full batch\n",
    "    self.optimizer.step()\n",
    "\n",
    "    loss += single_loss.detach().to('cpu')\n",
    "    del next_element\n",
    "    del self_sim\n",
    "    del sequence\n",
    "    del generated\n",
    "    del single_loss\n",
    "    return (loss)\n",
    "\n",
    "  def generate_n_pieces(self, initial_vectors, n_pieces, length, batched_ssm):\n",
    "    # generates a batch of n new pieces of music\n",
    "\n",
    "    # freeze generator so it doesn't train anymore\n",
    "    self.generator.eval()  \n",
    "    # start generator on random hidden states and cell states\n",
    "    self.generator.set_random_hidden(n_pieces)\n",
    "  \n",
    "    # initial vectors in format [batch_size, num_notes=10, 128]\n",
    "    # change sequence to [10, batch_size, 128]\n",
    "    sequence = initial_vectors.transpose(0,1)\n",
    "    \n",
    "    # generate [length] more beats for the piece\n",
    "    for i in range(0, length):  # one at a time\n",
    "      with torch.no_grad():\n",
    "        # use n_pieces to generate as the batch size\n",
    "        output, _ = self.generator.forward(sequence.float(), n_pieces, sequence, batched_ssm)\n",
    "        next_element = topk_batch_sample(output, 1)\n",
    "      # add element to sequence\n",
    "      sequence = torch.vstack((sequence, next_element.to(\"cpu\")))\n",
    "\n",
    "    # return sequence of beats\n",
    "    return sequence\n",
    "  \n",
    "  def generate_n_examples(self, n=1, length=390, starter_notes=10, source_piece=0):\n",
    "    # get piece from the data\n",
    "    piece = self.data[source_piece][0].unsqueeze(0)  # in format [1, 400, 128]\n",
    "\n",
    "    # take first 10 notes in format [1, 10, 128]\n",
    "    first_vec = piece[:,0:starter_notes,:]\n",
    "\n",
    "    # create batched SSMs for each piece\n",
    "    batched_ssms = batch_SSM(piece.transpose(0,1), n)\n",
    "\n",
    "    # generate pieces\n",
    "    new_gen = self.generate_n_pieces(first_vec, n, length, batched_ssms)\n",
    "\n",
    "    # clean up variables\n",
    "    del piece\n",
    "    del first_vec\n",
    "    del batched_ssms\n",
    "\n",
    "    # return pieces\n",
    "    return new_gen"
   ]
  },
  {
   "cell_type": "code",
   "execution_count": 119,
   "id": "motivated-ebony",
   "metadata": {},
   "outputs": [],
   "source": [
    "#this function takes in the piece of music and returns the chroma vectors\n",
    "def get_chroma(roll, length):\n",
    "    chroma_matrix = torch.zeros((roll.size()[0],12))\n",
    "    for note in range(0, 12):\n",
    "        chroma_matrix[:, note] = torch.sum(roll[:, note::12], axis=1)\n",
    "    return chroma_matrix"
   ]
  },
  {
   "cell_type": "code",
   "execution_count": 120,
   "id": "inner-witness",
   "metadata": {},
   "outputs": [],
   "source": [
    "#this takes in the sequence and creates a self-similarity matrix (it calls chroma function inside)\n",
    "def SSM(sequence):\n",
    "  #tensor will be in form length, hidden_size (128)\n",
    "  cos = nn.CosineSimilarity(dim=1)\n",
    "  chrom = get_chroma(sequence, sequence.size()[0])\n",
    "  len = chrom.size()[0]\n",
    "  SSM=torch.zeros((len, len))\n",
    "  for i in range(0, len):\n",
    "    SSM[i] = cos(chrom[i].view(1, -1),chrom)\n",
    "  return (SSM)"
   ]
  },
  {
   "cell_type": "code",
   "execution_count": 121,
   "id": "informational-referral",
   "metadata": {},
   "outputs": [],
   "source": [
    "#this bundles the SSM function.\n",
    "def batch_SSM(seq, batch_size):\n",
    "  # takes sequence in format\n",
    "  # [beats=400, batch_size, 128]\n",
    "  # print(\"SSM\\tsequence_shape\", seq.shape)\n",
    "  SSMs = []\n",
    "  for i in range(0, batch_size):\n",
    "    # print(\"SSM\\tsequence\", seq[:,i,:].shape)\n",
    "    ssm = SSM(seq[:,i,:])  # [beats, batch, 128]\n",
    "    # print(\"SSM\\tssm\", ssm.shape)\n",
    "    SSMs.append(ssm)  \n",
    "  return torch.vstack(SSMs)"
   ]
  },
  {
   "cell_type": "code",
   "execution_count": 122,
   "id": "stylish-bangkok",
   "metadata": {},
   "outputs": [],
   "source": [
    "#sampling function \n",
    "def topk_sample_one(sequence, k):\n",
    "  #takes in size sequence length, batch size, values\n",
    "  softmax = sparsemax.Sparsemax(dim=2)\n",
    "  vals, indices = torch.topk(sequence[:, :, 20:108],k)\n",
    "  indices+=20\n",
    "  seq = torch.distributions.Categorical(softmax(vals.float()))\n",
    "  samples = seq.sample()\n",
    "  onehot = F.one_hot(torch.gather(indices, -1, samples.unsqueeze(-1)), num_classes = sequence.shape[2]).squeeze(dim=2)\n",
    "  return(onehot)"
   ]
  },
  {
   "cell_type": "code",
   "execution_count": 123,
   "id": "valued-soccer",
   "metadata": {},
   "outputs": [],
   "source": [
    "#samples multiple times for the time-step\n",
    "def topk_batch_sample(sequence, k):\n",
    "  for i in range(0, 3):\n",
    "    new= topk_sample_one(sequence, k)\n",
    "    if i ==0:\n",
    "      sum = new\n",
    "    else:\n",
    "      sum+=new\n",
    "  return(torch.where(sum>0, 1, 0))\n"
   ]
  },
  {
   "cell_type": "code",
   "execution_count": 124,
   "id": "emerging-hygiene",
   "metadata": {},
   "outputs": [],
   "source": [
    "def custom_loss(output, target):\n",
    "  # custom loss function\n",
    "  criterion = nn.BCEWithLogitsLoss()\n",
    "  weighted_mse = criterion(output.double(), target.double())\n",
    "  batch_size = output.size()[1]\n",
    "  ssm_err = 0\n",
    "  for i in range(0, batch_size):\n",
    "    SSM1 = SSM(output[:,i,:])\n",
    "    SSM2 = SSM(target[:,i,:])\n",
    "    ssm_err += (torch.sum((SSM1-SSM2)**2)/(SSM2.size(0)**2))\n",
    "\n",
    "\n",
    "  return torch.sum(weighted_mse)+ssm_err"
   ]
  },
  {
   "cell_type": "code",
   "execution_count": 125,
   "id": "stupid-amazon",
   "metadata": {},
   "outputs": [],
   "source": [
    "# returns batches where piece size is constant within the batch\n",
    "# but piece size is different across batches\n",
    "# and batches are in random order\n",
    "def make_variable_size_batches(data, min_batch_size=10):\n",
    "  # sort data by num beats (element at index 2 in each sublist)\n",
    "  data.sort(key = lambda x: x[2], reverse=False)  # sort descending\n",
    "\n",
    "  # split data into batches, where each batch contains pieces of the same size\n",
    "  batches = []\n",
    "\n",
    "  i = 0  # counter of pieces\n",
    "  \n",
    "  while i < len(data):\n",
    "    this_batch = []\n",
    "    pieces_this_batch = 0\n",
    "    current_beats = data[i][2] # num beats in this batch\n",
    "\n",
    "    # for all pieces with this # of beats\n",
    "    while i < len(data) and data[i][2] == current_beats:\n",
    "      # get tensor from row of data, and reshape \n",
    "      just_tensor = data[i][0].view(1, data[i][0].shape[0], 128)  \n",
    "      this_batch.append(just_tensor)\n",
    "\n",
    "      # increment counters\n",
    "      i += 1\n",
    "      pieces_this_batch += 1\n",
    "\n",
    "    # print(\"this batch\", this_batch)\n",
    "    # print(\"shapes in batch\")\n",
    "    # for p in this_batch:\n",
    "      # print(\"\\t\", p.shape)\n",
    "        \n",
    "    # only save large enough batches\n",
    "    if pieces_this_batch >= min_batch_size:\n",
    "        # reformat pieces in this batch into one tensor of size [batch size, beats, 128]\n",
    "        batch = torch.cat(this_batch, dim=0)\n",
    "\n",
    "        # store batch\n",
    "        batches.append(batch)\n",
    "\n",
    "    # clean up variables\n",
    "    del this_batch\n",
    "    del pieces_this_batch\n",
    "    del current_beats\n",
    "\n",
    "  # randomize batches order\n",
    "  random.shuffle(batches)\n",
    "\n",
    "  return batches"
   ]
  },
  {
   "cell_type": "code",
   "execution_count": 126,
   "id": "violent-thermal",
   "metadata": {},
   "outputs": [],
   "source": [
    "# Takes in the batch size and data and returns batches of the batch size\n",
    "def make_batches(data, batch_size, piece_size=800, slice_data=False):\n",
    "  # slice data to piece_size\n",
    "  if slice_data:\n",
    "    data = [(roll[0][:piece_size], roll[1], roll[2]) for roll in data if len(roll[0]) >= piece_size]\n",
    "    print(f\"sliced pieces to length {piece_size}; total pieces is now {len(data)}\")\n",
    "    \n",
    "  random.shuffle(data)\n",
    "  batches = []\n",
    "  if batch_size > 1:  # make batches\n",
    "    num_batches = len(data)//batch_size\n",
    "    for i in range(0, num_batches):\n",
    "      # take just the tensors, and vstack\n",
    "      batch = torch.cat([roll[0] for roll in data[i*batch_size: (i+1)*(batch_size)]]).view(batch_size, piece_size, 128)\n",
    "      batches.append(batch)\n",
    "  else:  # each piece is its own batch - doesn't use passed-in piece_size\n",
    "    for i in range(len(data)):\n",
    "      # removes tempo info from data, but leaves 1 piece per batch\n",
    "      piece_size = data[i][0].shape[0]\n",
    "      batch = data[i][0].view(1, piece_size, 128)\n",
    "      batches.append(batch)\n",
    "      # print(batches[i])\n",
    "  # print(batches)\n",
    "  return batches"
   ]
  },
  {
   "cell_type": "code",
   "execution_count": 127,
   "id": "worthy-anchor",
   "metadata": {},
   "outputs": [],
   "source": [
    "def get_models_in_directory(filepath):\n",
    "    # get the names of all files, sorted by epoch\n",
    "    files = os.listdir(my_drive_path + filepath)\n",
    "    files_by_epoch = [(name, int(name.split(\"-\")[2])) for name in files if 'model' in name]  # parse out epoch\n",
    "    files_by_epoch.sort(key = lambda x: x[1])  # sort by epoch\n",
    "    \n",
    "    # load model at each epoch\n",
    "    files_to_load = [my_drive_path + filepath + filename[0] for filename in files_by_epoch]  # paths to each file\n",
    "    # print(\"loading:\\n\", files_to_load, sep=\"\")\n",
    "    models = [torch.load(filename) for filename in files_to_load]  # load models\n",
    "    return models"
   ]
  },
  {
   "cell_type": "code",
   "execution_count": 128,
   "id": "early-carol",
   "metadata": {},
   "outputs": [],
   "source": [
    "models_att = get_models_in_directory(\"trained/attention_model_v2/\")\n",
    "models_lstm = get_models_in_directory(\"trained/lstm_v2/\")"
   ]
  },
  {
   "cell_type": "code",
   "execution_count": 129,
   "id": "latter-quantity",
   "metadata": {},
   "outputs": [
    {
     "data": {
      "text/plain": [
       "[music_generator(\n",
       "   (lstm): LSTM(128, 128)\n",
       "   (attention): Linear(in_features=2, out_features=1, bias=True)\n",
       "   (softmax): Sparsemax(dim=1)\n",
       "   (sigmoid): Sigmoid()\n",
       " ),\n",
       " music_generator(\n",
       "   (lstm): LSTM(128, 128)\n",
       "   (attention): Linear(in_features=2, out_features=1, bias=True)\n",
       "   (softmax): Sparsemax(dim=1)\n",
       "   (sigmoid): Sigmoid()\n",
       " ),\n",
       " music_generator(\n",
       "   (lstm): LSTM(128, 128)\n",
       "   (attention): Linear(in_features=2, out_features=1, bias=True)\n",
       "   (softmax): Sparsemax(dim=1)\n",
       "   (sigmoid): Sigmoid()\n",
       " ),\n",
       " music_generator(\n",
       "   (lstm): LSTM(128, 128)\n",
       "   (attention): Linear(in_features=2, out_features=1, bias=True)\n",
       "   (softmax): Sparsemax(dim=1)\n",
       "   (sigmoid): Sigmoid()\n",
       " ),\n",
       " music_generator(\n",
       "   (lstm): LSTM(128, 128)\n",
       "   (attention): Linear(in_features=2, out_features=1, bias=True)\n",
       "   (softmax): Sparsemax(dim=1)\n",
       "   (sigmoid): Sigmoid()\n",
       " ),\n",
       " music_generator(\n",
       "   (lstm): LSTM(128, 128)\n",
       "   (attention): Linear(in_features=2, out_features=1, bias=True)\n",
       "   (softmax): Sparsemax(dim=1)\n",
       "   (sigmoid): Sigmoid()\n",
       " ),\n",
       " music_generator(\n",
       "   (lstm): LSTM(128, 128)\n",
       "   (attention): Linear(in_features=2, out_features=1, bias=True)\n",
       "   (softmax): Sparsemax(dim=1)\n",
       "   (sigmoid): Sigmoid()\n",
       " ),\n",
       " music_generator(\n",
       "   (lstm): LSTM(128, 128)\n",
       "   (attention): Linear(in_features=2, out_features=1, bias=True)\n",
       "   (softmax): Sparsemax(dim=1)\n",
       "   (sigmoid): Sigmoid()\n",
       " ),\n",
       " music_generator(\n",
       "   (lstm): LSTM(128, 128)\n",
       "   (attention): Linear(in_features=2, out_features=1, bias=True)\n",
       "   (softmax): Sparsemax(dim=1)\n",
       "   (sigmoid): Sigmoid()\n",
       " ),\n",
       " music_generator(\n",
       "   (lstm): LSTM(128, 128)\n",
       "   (attention): Linear(in_features=2, out_features=1, bias=True)\n",
       "   (softmax): Sparsemax(dim=1)\n",
       "   (sigmoid): Sigmoid()\n",
       " ),\n",
       " music_generator(\n",
       "   (lstm): LSTM(128, 128)\n",
       "   (attention): Linear(in_features=2, out_features=1, bias=True)\n",
       "   (softmax): Sparsemax(dim=1)\n",
       "   (sigmoid): Sigmoid()\n",
       " ),\n",
       " music_generator(\n",
       "   (lstm): LSTM(128, 128)\n",
       "   (attention): Linear(in_features=2, out_features=1, bias=True)\n",
       "   (softmax): Sparsemax(dim=1)\n",
       "   (sigmoid): Sigmoid()\n",
       " ),\n",
       " music_generator(\n",
       "   (lstm): LSTM(128, 128)\n",
       "   (attention): Linear(in_features=2, out_features=1, bias=True)\n",
       "   (softmax): Sparsemax(dim=1)\n",
       "   (sigmoid): Sigmoid()\n",
       " ),\n",
       " music_generator(\n",
       "   (lstm): LSTM(128, 128)\n",
       "   (attention): Linear(in_features=2, out_features=1, bias=True)\n",
       "   (softmax): Sparsemax(dim=1)\n",
       "   (sigmoid): Sigmoid()\n",
       " ),\n",
       " music_generator(\n",
       "   (lstm): LSTM(128, 128)\n",
       "   (attention): Linear(in_features=2, out_features=1, bias=True)\n",
       "   (softmax): Sparsemax(dim=1)\n",
       "   (sigmoid): Sigmoid()\n",
       " ),\n",
       " music_generator(\n",
       "   (lstm): LSTM(128, 128)\n",
       "   (attention): Linear(in_features=2, out_features=1, bias=True)\n",
       "   (softmax): Sparsemax(dim=1)\n",
       "   (sigmoid): Sigmoid()\n",
       " ),\n",
       " music_generator(\n",
       "   (lstm): LSTM(128, 128)\n",
       "   (attention): Linear(in_features=2, out_features=1, bias=True)\n",
       "   (softmax): Sparsemax(dim=1)\n",
       "   (sigmoid): Sigmoid()\n",
       " ),\n",
       " music_generator(\n",
       "   (lstm): LSTM(128, 128)\n",
       "   (attention): Linear(in_features=2, out_features=1, bias=True)\n",
       "   (softmax): Sparsemax(dim=1)\n",
       "   (sigmoid): Sigmoid()\n",
       " ),\n",
       " music_generator(\n",
       "   (lstm): LSTM(128, 128)\n",
       "   (attention): Linear(in_features=2, out_features=1, bias=True)\n",
       "   (softmax): Sparsemax(dim=1)\n",
       "   (sigmoid): Sigmoid()\n",
       " ),\n",
       " music_generator(\n",
       "   (lstm): LSTM(128, 128)\n",
       "   (attention): Linear(in_features=2, out_features=1, bias=True)\n",
       "   (softmax): Sparsemax(dim=1)\n",
       "   (sigmoid): Sigmoid()\n",
       " )]"
      ]
     },
     "execution_count": 129,
     "metadata": {},
     "output_type": "execute_result"
    }
   ],
   "source": [
    "models_att"
   ]
  },
  {
   "cell_type": "code",
   "execution_count": 130,
   "id": "herbal-church",
   "metadata": {},
   "outputs": [
    {
     "data": {
      "text/plain": [
       "[music_generator(\n",
       "   (lstm): LSTM(128, 128)\n",
       "   (attention): Linear(in_features=2, out_features=1, bias=True)\n",
       "   (softmax): Sparsemax(dim=1)\n",
       "   (sigmoid): Sigmoid()\n",
       " ),\n",
       " music_generator(\n",
       "   (lstm): LSTM(128, 128)\n",
       "   (attention): Linear(in_features=2, out_features=1, bias=True)\n",
       "   (softmax): Sparsemax(dim=1)\n",
       "   (sigmoid): Sigmoid()\n",
       " ),\n",
       " music_generator(\n",
       "   (lstm): LSTM(128, 128)\n",
       "   (attention): Linear(in_features=2, out_features=1, bias=True)\n",
       "   (softmax): Sparsemax(dim=1)\n",
       "   (sigmoid): Sigmoid()\n",
       " ),\n",
       " music_generator(\n",
       "   (lstm): LSTM(128, 128)\n",
       "   (attention): Linear(in_features=2, out_features=1, bias=True)\n",
       "   (softmax): Sparsemax(dim=1)\n",
       "   (sigmoid): Sigmoid()\n",
       " ),\n",
       " music_generator(\n",
       "   (lstm): LSTM(128, 128)\n",
       "   (attention): Linear(in_features=2, out_features=1, bias=True)\n",
       "   (softmax): Sparsemax(dim=1)\n",
       "   (sigmoid): Sigmoid()\n",
       " ),\n",
       " music_generator(\n",
       "   (lstm): LSTM(128, 128)\n",
       "   (attention): Linear(in_features=2, out_features=1, bias=True)\n",
       "   (softmax): Sparsemax(dim=1)\n",
       "   (sigmoid): Sigmoid()\n",
       " ),\n",
       " music_generator(\n",
       "   (lstm): LSTM(128, 128)\n",
       "   (attention): Linear(in_features=2, out_features=1, bias=True)\n",
       "   (softmax): Sparsemax(dim=1)\n",
       "   (sigmoid): Sigmoid()\n",
       " ),\n",
       " music_generator(\n",
       "   (lstm): LSTM(128, 128)\n",
       "   (attention): Linear(in_features=2, out_features=1, bias=True)\n",
       "   (softmax): Sparsemax(dim=1)\n",
       "   (sigmoid): Sigmoid()\n",
       " ),\n",
       " music_generator(\n",
       "   (lstm): LSTM(128, 128)\n",
       "   (attention): Linear(in_features=2, out_features=1, bias=True)\n",
       "   (softmax): Sparsemax(dim=1)\n",
       "   (sigmoid): Sigmoid()\n",
       " ),\n",
       " music_generator(\n",
       "   (lstm): LSTM(128, 128)\n",
       "   (attention): Linear(in_features=2, out_features=1, bias=True)\n",
       "   (softmax): Sparsemax(dim=1)\n",
       "   (sigmoid): Sigmoid()\n",
       " ),\n",
       " music_generator(\n",
       "   (lstm): LSTM(128, 128)\n",
       "   (attention): Linear(in_features=2, out_features=1, bias=True)\n",
       "   (softmax): Sparsemax(dim=1)\n",
       "   (sigmoid): Sigmoid()\n",
       " ),\n",
       " music_generator(\n",
       "   (lstm): LSTM(128, 128)\n",
       "   (attention): Linear(in_features=2, out_features=1, bias=True)\n",
       "   (softmax): Sparsemax(dim=1)\n",
       "   (sigmoid): Sigmoid()\n",
       " ),\n",
       " music_generator(\n",
       "   (lstm): LSTM(128, 128)\n",
       "   (attention): Linear(in_features=2, out_features=1, bias=True)\n",
       "   (softmax): Sparsemax(dim=1)\n",
       "   (sigmoid): Sigmoid()\n",
       " ),\n",
       " music_generator(\n",
       "   (lstm): LSTM(128, 128)\n",
       "   (attention): Linear(in_features=2, out_features=1, bias=True)\n",
       "   (softmax): Sparsemax(dim=1)\n",
       "   (sigmoid): Sigmoid()\n",
       " ),\n",
       " music_generator(\n",
       "   (lstm): LSTM(128, 128)\n",
       "   (attention): Linear(in_features=2, out_features=1, bias=True)\n",
       "   (softmax): Sparsemax(dim=1)\n",
       "   (sigmoid): Sigmoid()\n",
       " ),\n",
       " music_generator(\n",
       "   (lstm): LSTM(128, 128)\n",
       "   (attention): Linear(in_features=2, out_features=1, bias=True)\n",
       "   (softmax): Sparsemax(dim=1)\n",
       "   (sigmoid): Sigmoid()\n",
       " ),\n",
       " music_generator(\n",
       "   (lstm): LSTM(128, 128)\n",
       "   (attention): Linear(in_features=2, out_features=1, bias=True)\n",
       "   (softmax): Sparsemax(dim=1)\n",
       "   (sigmoid): Sigmoid()\n",
       " ),\n",
       " music_generator(\n",
       "   (lstm): LSTM(128, 128)\n",
       "   (attention): Linear(in_features=2, out_features=1, bias=True)\n",
       "   (softmax): Sparsemax(dim=1)\n",
       "   (sigmoid): Sigmoid()\n",
       " ),\n",
       " music_generator(\n",
       "   (lstm): LSTM(128, 128)\n",
       "   (attention): Linear(in_features=2, out_features=1, bias=True)\n",
       "   (softmax): Sparsemax(dim=1)\n",
       "   (sigmoid): Sigmoid()\n",
       " ),\n",
       " music_generator(\n",
       "   (lstm): LSTM(128, 128)\n",
       "   (attention): Linear(in_features=2, out_features=1, bias=True)\n",
       "   (softmax): Sparsemax(dim=1)\n",
       "   (sigmoid): Sigmoid()\n",
       " )]"
      ]
     },
     "execution_count": 130,
     "metadata": {},
     "output_type": "execute_result"
    }
   ],
   "source": [
    "models_lstm"
   ]
  },
  {
   "cell_type": "code",
   "execution_count": 132,
   "id": "secondary-addiction",
   "metadata": {},
   "outputs": [],
   "source": [
    "def generate_n_pieces_revised(trained_model, initial_vectors, n_pieces, length, batched_ssm):\n",
    "    # generates a batch of n new pieces of music\n",
    "    print(f\"\\tgenerating {n_pieces} piece(s) of length {length}\")\n",
    "\n",
    "    # freeze generator so it doesn't train anymore\n",
    "    trained_model.eval()  \n",
    "    # start generator on random hidden states and cell states\n",
    "    trained_model.set_random_hidden(n_pieces)\n",
    "  \n",
    "    # initial vectors in format [batch_size, num_notes=10, 128]\n",
    "    # change sequence to [10, batch_size, 128]\n",
    "    sequence = initial_vectors.transpose(0,1)\n",
    "    # print(\"sequence\", sequence.shape)\n",
    "    # print(\"batched_ssm\", batched_ssm.shape)\n",
    "    max_notes = batched_ssm.shape[0]  # can't generate more notes than the ssm\n",
    "    \n",
    "    # generate [length] more beats for the piece\n",
    "    for i in range(0, min(length, max_notes)):  # one at a time\n",
    "      with torch.no_grad():\n",
    "        # use n_pieces to generate as the batch size\n",
    "        output, _ = trained_model.forward(sequence.float(), n_pieces, sequence, batched_ssm)\n",
    "        next_element = topk_batch_sample(output, 5)\n",
    "      # add element to sequence\n",
    "      sequence = torch.vstack((sequence, next_element.to(\"cpu\")))\n",
    "\n",
    "    # return sequence of beats\n",
    "    return sequence"
   ]
  },
  {
   "cell_type": "code",
   "execution_count": 133,
   "id": "written-eugene",
   "metadata": {},
   "outputs": [],
   "source": [
    "def generate_val_pieces(trained_model, val_batch, starter_notes=10):\n",
    "    # how many pieces in batch\n",
    "    n = val_batch.shape[0]\n",
    "    \n",
    "    # length of the pieces in this batch\n",
    "    length = val_batch.shape[1]\n",
    "    \n",
    "    # take first 10 notes in format [1, 10, 128]\n",
    "    first_vecs = val_batch[:,0:starter_notes,:]\n",
    "\n",
    "    # create batched SSMs for each piece\n",
    "    batched_ssms = batch_SSM(val_batch.transpose(0,1), n)\n",
    "\n",
    "    # generate pieces\n",
    "    generated = generate_n_pieces_revised(trained_model, first_vecs, n, length - starter_notes, batched_ssms)\n",
    "    \n",
    "    # get loss\n",
    "    single_loss = custom_loss(generated[starter_notes:,:,:], val_batch.transpose(0,1)[starter_notes:,:,:])\n",
    "    #single_loss.backward()\n",
    "    loss = single_loss.detach()\n",
    "\n",
    "    # clean up variables\n",
    "    del n\n",
    "    del length\n",
    "    del first_vecs\n",
    "    del batched_ssms\n",
    "    del single_loss\n",
    "\n",
    "    # return pieces and loss\n",
    "    return generated, float(loss)"
   ]
  },
  {
   "cell_type": "code",
   "execution_count": 134,
   "id": "significant-auction",
   "metadata": {},
   "outputs": [],
   "source": [
    "def get_loss_on_data(trained_model, data, val_size=450, variable_batches=False):\n",
    "    \"\"\"Get loss when generating on given data, generating with a given model\"\"\"\n",
    "    # make batches from val_data\n",
    "    # so we can generate for all pieces of the same length at once\n",
    "    if variable_batches:\n",
    "        batches = make_variable_size_batches(data, min_batch_size=0)\n",
    "    else:\n",
    "        # batch size 50 for speeeed (we hopeee)\n",
    "        batches = make_batches(data, 50, piece_size=val_size, slice_data=True)\n",
    "    \n",
    "    # accumulate loss for each batch\n",
    "    cum_loss = 0\n",
    "    for batch_num in range(len(batches)): # tqdm(range(len(batches))):\n",
    "        val_batch = batches[batch_num]\n",
    "        # create pieces to get loss\n",
    "        generated, loss = generate_val_pieces(trained_model, val_batch)\n",
    "        print(\"\\tloss:\", loss)\n",
    "        cum_loss += loss\n",
    "        del val_batch\n",
    "        del loss\n",
    "        del generated\n",
    "        \n",
    "    return cum_loss"
   ]
  },
  {
   "cell_type": "code",
   "execution_count": 135,
   "id": "serial-nurse",
   "metadata": {},
   "outputs": [],
   "source": [
    "# for each model, get validation loss\n",
    "def val_loss_for_all_models(models, val_data, val_size=450, variable_batches=False):\n",
    "    loss_list = []\n",
    "    for i in tqdm(range(len(models))):\n",
    "        model = models[i]\n",
    "        print(f\"calculating loss for epoch {i}:\")\n",
    "        loss_list.append(get_loss_on_data(model, val_data, val_size, variable_batches))\n",
    "        print(loss_list)\n",
    "        del model\n",
    "        \n",
    "    return loss_list"
   ]
  },
  {
   "cell_type": "code",
   "execution_count": 131,
   "id": "amazing-contact",
   "metadata": {},
   "outputs": [
    {
     "data": {
      "text/plain": [
       "<torch._C.Generator at 0x7fbab0985c70>"
      ]
     },
     "execution_count": 131,
     "metadata": {},
     "output_type": "execute_result"
    }
   ],
   "source": [
    "# load validation data\n",
    "# val_data = torch.load(my_drive_path + \"usable_data/validation_tempo_all_w_beats_30.csv\") \n",
    "val_data = torch.load(my_drive_path + \"usable_data/validation_tempo_round_down_30.csv\")\n",
    "torch.manual_seed(2022)"
   ]
  },
  {
   "cell_type": "code",
   "execution_count": 136,
   "id": "sought-consistency",
   "metadata": {},
   "outputs": [
    {
     "name": "stderr",
     "output_type": "stream",
     "text": [
      "\r",
      "  0%|          | 0/20 [00:00<?, ?it/s]"
     ]
    },
    {
     "name": "stdout",
     "output_type": "stream",
     "text": [
      "calculating loss for epoch 0:\n",
      "sliced pieces to length 450; total pieces is now 127\n",
      "\tgenerating 50 piece(s) of length 440\n",
      "\tloss: 29.409865432434263\n",
      "\tgenerating 50 piece(s) of length 440\n"
     ]
    },
    {
     "name": "stderr",
     "output_type": "stream",
     "text": [
      "\r",
      "  5%|▌         | 1/20 [01:29<28:24, 89.71s/it]"
     ]
    },
    {
     "name": "stdout",
     "output_type": "stream",
     "text": [
      "\tloss: 29.387948848072583\n",
      "[58.79781428050684]\n",
      "calculating loss for epoch 1:\n",
      "sliced pieces to length 450; total pieces is now 127\n",
      "\tgenerating 50 piece(s) of length 440\n",
      "\tloss: 31.032432347772954\n",
      "\tgenerating 50 piece(s) of length 440\n"
     ]
    },
    {
     "name": "stderr",
     "output_type": "stream",
     "text": [
      "\r",
      " 10%|█         | 2/20 [03:01<27:11, 90.65s/it]"
     ]
    },
    {
     "name": "stdout",
     "output_type": "stream",
     "text": [
      "\tloss: 29.96214896986546\n",
      "[58.79781428050684, 60.99458131763841]\n",
      "calculating loss for epoch 2:\n",
      "sliced pieces to length 450; total pieces is now 127\n",
      "\tgenerating 50 piece(s) of length 440\n",
      "\tloss: 29.349624417086698\n",
      "\tgenerating 50 piece(s) of length 440\n"
     ]
    },
    {
     "name": "stderr",
     "output_type": "stream",
     "text": [
      "\r",
      " 15%|█▌        | 3/20 [04:45<27:31, 97.14s/it]"
     ]
    },
    {
     "name": "stdout",
     "output_type": "stream",
     "text": [
      "\tloss: 31.6864883516903\n",
      "[58.79781428050684, 60.99458131763841, 61.036112768777]\n",
      "calculating loss for epoch 3:\n",
      "sliced pieces to length 450; total pieces is now 127\n",
      "\tgenerating 50 piece(s) of length 440\n",
      "\tloss: 30.8112998751278\n",
      "\tgenerating 50 piece(s) of length 440\n"
     ]
    },
    {
     "name": "stderr",
     "output_type": "stream",
     "text": [
      "\r",
      " 20%|██        | 4/20 [06:55<29:22, 110.14s/it]"
     ]
    },
    {
     "name": "stdout",
     "output_type": "stream",
     "text": [
      "\tloss: 30.244667883828086\n",
      "[58.79781428050684, 60.99458131763841, 61.036112768777, 61.05596775895589]\n",
      "calculating loss for epoch 4:\n",
      "sliced pieces to length 450; total pieces is now 127\n",
      "\tgenerating 50 piece(s) of length 440\n",
      "\tloss: 31.800373418329595\n",
      "\tgenerating 50 piece(s) of length 440\n"
     ]
    },
    {
     "name": "stderr",
     "output_type": "stream",
     "text": [
      "\r",
      " 25%|██▌       | 5/20 [08:34<26:31, 106.11s/it]"
     ]
    },
    {
     "name": "stdout",
     "output_type": "stream",
     "text": [
      "\tloss: 29.17691014762203\n",
      "[58.79781428050684, 60.99458131763841, 61.036112768777, 61.05596775895589, 60.97728356595162]\n",
      "calculating loss for epoch 5:\n",
      "sliced pieces to length 450; total pieces is now 127\n",
      "\tgenerating 50 piece(s) of length 440\n",
      "\tloss: 30.10678407673247\n",
      "\tgenerating 50 piece(s) of length 440\n"
     ]
    },
    {
     "name": "stderr",
     "output_type": "stream",
     "text": [
      "\r",
      " 30%|███       | 6/20 [10:04<23:28, 100.58s/it]"
     ]
    },
    {
     "name": "stdout",
     "output_type": "stream",
     "text": [
      "\tloss: 30.654851137723238\n",
      "[58.79781428050684, 60.99458131763841, 61.036112768777, 61.05596775895589, 60.97728356595162, 60.76163521445571]\n",
      "calculating loss for epoch 6:\n",
      "sliced pieces to length 450; total pieces is now 127\n",
      "\tgenerating 50 piece(s) of length 440\n",
      "\tloss: 32.06947941281424\n",
      "\tgenerating 50 piece(s) of length 440\n"
     ]
    },
    {
     "name": "stderr",
     "output_type": "stream",
     "text": [
      "\r",
      " 35%|███▌      | 7/20 [11:35<21:07, 97.47s/it] "
     ]
    },
    {
     "name": "stdout",
     "output_type": "stream",
     "text": [
      "\tloss: 33.65422968192379\n",
      "[58.79781428050684, 60.99458131763841, 61.036112768777, 61.05596775895589, 60.97728356595162, 60.76163521445571, 65.72370909473803]\n",
      "calculating loss for epoch 7:\n",
      "sliced pieces to length 450; total pieces is now 127\n",
      "\tgenerating 50 piece(s) of length 440\n",
      "\tloss: 31.85992269034664\n",
      "\tgenerating 50 piece(s) of length 440\n"
     ]
    },
    {
     "name": "stderr",
     "output_type": "stream",
     "text": [
      "\r",
      " 40%|████      | 8/20 [13:08<19:12, 96.02s/it]"
     ]
    },
    {
     "name": "stdout",
     "output_type": "stream",
     "text": [
      "\tloss: 33.437481859769136\n",
      "[58.79781428050684, 60.99458131763841, 61.036112768777, 61.05596775895589, 60.97728356595162, 60.76163521445571, 65.72370909473803, 65.29740455011577]\n",
      "calculating loss for epoch 8:\n",
      "sliced pieces to length 450; total pieces is now 127\n",
      "\tgenerating 50 piece(s) of length 440\n",
      "\tloss: 26.159607185752357\n",
      "\tgenerating 50 piece(s) of length 440\n"
     ]
    },
    {
     "name": "stderr",
     "output_type": "stream",
     "text": [
      "\r",
      " 45%|████▌     | 9/20 [14:40<17:23, 94.84s/it]"
     ]
    },
    {
     "name": "stdout",
     "output_type": "stream",
     "text": [
      "\tloss: 27.15569990786484\n",
      "[58.79781428050684, 60.99458131763841, 61.036112768777, 61.05596775895589, 60.97728356595162, 60.76163521445571, 65.72370909473803, 65.29740455011577, 53.31530709361719]\n",
      "calculating loss for epoch 9:\n",
      "sliced pieces to length 450; total pieces is now 127\n",
      "\tgenerating 50 piece(s) of length 440\n",
      "\tloss: 22.090793969976435\n",
      "\tgenerating 50 piece(s) of length 440\n"
     ]
    },
    {
     "name": "stderr",
     "output_type": "stream",
     "text": [
      "\r",
      " 50%|█████     | 10/20 [16:13<15:40, 94.07s/it]"
     ]
    },
    {
     "name": "stdout",
     "output_type": "stream",
     "text": [
      "\tloss: 21.018695973871587\n",
      "[58.79781428050684, 60.99458131763841, 61.036112768777, 61.05596775895589, 60.97728356595162, 60.76163521445571, 65.72370909473803, 65.29740455011577, 53.31530709361719, 43.10948994384802]\n",
      "calculating loss for epoch 10:\n",
      "sliced pieces to length 450; total pieces is now 127\n",
      "\tgenerating 50 piece(s) of length 440\n",
      "\tloss: 20.459994113963916\n",
      "\tgenerating 50 piece(s) of length 440\n"
     ]
    },
    {
     "name": "stderr",
     "output_type": "stream",
     "text": [
      "\r",
      " 55%|█████▌    | 11/20 [17:46<14:03, 93.68s/it]"
     ]
    },
    {
     "name": "stdout",
     "output_type": "stream",
     "text": [
      "\tloss: 22.041786494556955\n",
      "[58.79781428050684, 60.99458131763841, 61.036112768777, 61.05596775895589, 60.97728356595162, 60.76163521445571, 65.72370909473803, 65.29740455011577, 53.31530709361719, 43.10948994384802, 42.501780608520875]\n",
      "calculating loss for epoch 11:\n",
      "sliced pieces to length 450; total pieces is now 127\n",
      "\tgenerating 50 piece(s) of length 440\n",
      "\tloss: 20.918785212818676\n",
      "\tgenerating 50 piece(s) of length 440\n"
     ]
    },
    {
     "name": "stderr",
     "output_type": "stream",
     "text": [
      "\r",
      " 60%|██████    | 12/20 [19:19<12:27, 93.44s/it]"
     ]
    },
    {
     "name": "stdout",
     "output_type": "stream",
     "text": [
      "\tloss: 20.8983513804767\n",
      "[58.79781428050684, 60.99458131763841, 61.036112768777, 61.05596775895589, 60.97728356595162, 60.76163521445571, 65.72370909473803, 65.29740455011577, 53.31530709361719, 43.10948994384802, 42.501780608520875, 41.81713659329537]\n",
      "calculating loss for epoch 12:\n",
      "sliced pieces to length 450; total pieces is now 127\n",
      "\tgenerating 50 piece(s) of length 440\n",
      "\tloss: 17.051150351479453\n",
      "\tgenerating 50 piece(s) of length 440\n"
     ]
    },
    {
     "name": "stderr",
     "output_type": "stream",
     "text": [
      "\r",
      " 65%|██████▌   | 13/20 [20:51<10:51, 93.14s/it]"
     ]
    },
    {
     "name": "stdout",
     "output_type": "stream",
     "text": [
      "\tloss: 17.182551462041864\n",
      "[58.79781428050684, 60.99458131763841, 61.036112768777, 61.05596775895589, 60.97728356595162, 60.76163521445571, 65.72370909473803, 65.29740455011577, 53.31530709361719, 43.10948994384802, 42.501780608520875, 41.81713659329537, 34.23370181352132]\n",
      "calculating loss for epoch 13:\n",
      "sliced pieces to length 450; total pieces is now 127\n",
      "\tgenerating 50 piece(s) of length 440\n",
      "\tloss: 17.93105380079808\n",
      "\tgenerating 50 piece(s) of length 440\n"
     ]
    },
    {
     "name": "stderr",
     "output_type": "stream",
     "text": [
      "\r",
      " 70%|███████   | 14/20 [22:23<09:16, 92.79s/it]"
     ]
    },
    {
     "name": "stdout",
     "output_type": "stream",
     "text": [
      "\tloss: 19.198944746232648\n",
      "[58.79781428050684, 60.99458131763841, 61.036112768777, 61.05596775895589, 60.97728356595162, 60.76163521445571, 65.72370909473803, 65.29740455011577, 53.31530709361719, 43.10948994384802, 42.501780608520875, 41.81713659329537, 34.23370181352132, 37.12999854703072]\n",
      "calculating loss for epoch 14:\n",
      "sliced pieces to length 450; total pieces is now 127\n",
      "\tgenerating 50 piece(s) of length 440\n",
      "\tloss: 17.76330489388224\n",
      "\tgenerating 50 piece(s) of length 440\n"
     ]
    },
    {
     "name": "stderr",
     "output_type": "stream",
     "text": [
      "\r",
      " 75%|███████▌  | 15/20 [23:57<07:45, 93.17s/it]"
     ]
    },
    {
     "name": "stdout",
     "output_type": "stream",
     "text": [
      "\tloss: 17.099099713107204\n",
      "[58.79781428050684, 60.99458131763841, 61.036112768777, 61.05596775895589, 60.97728356595162, 60.76163521445571, 65.72370909473803, 65.29740455011577, 53.31530709361719, 43.10948994384802, 42.501780608520875, 41.81713659329537, 34.23370181352132, 37.12999854703072, 34.86240460698944]\n",
      "calculating loss for epoch 15:\n",
      "sliced pieces to length 450; total pieces is now 127\n",
      "\tgenerating 50 piece(s) of length 440\n",
      "\tloss: 17.98697329403982\n",
      "\tgenerating 50 piece(s) of length 440\n"
     ]
    },
    {
     "name": "stderr",
     "output_type": "stream",
     "text": [
      "\r",
      " 80%|████████  | 16/20 [25:28<06:10, 92.53s/it]"
     ]
    },
    {
     "name": "stdout",
     "output_type": "stream",
     "text": [
      "\tloss: 17.06673607813073\n",
      "[58.79781428050684, 60.99458131763841, 61.036112768777, 61.05596775895589, 60.97728356595162, 60.76163521445571, 65.72370909473803, 65.29740455011577, 53.31530709361719, 43.10948994384802, 42.501780608520875, 41.81713659329537, 34.23370181352132, 37.12999854703072, 34.86240460698944, 35.05370937217055]\n",
      "calculating loss for epoch 16:\n",
      "sliced pieces to length 450; total pieces is now 127\n",
      "\tgenerating 50 piece(s) of length 440\n",
      "\tloss: 17.42579578022368\n",
      "\tgenerating 50 piece(s) of length 440\n"
     ]
    },
    {
     "name": "stderr",
     "output_type": "stream",
     "text": [
      "\r",
      " 85%|████████▌ | 17/20 [27:00<04:36, 92.27s/it]"
     ]
    },
    {
     "name": "stdout",
     "output_type": "stream",
     "text": [
      "\tloss: 17.167217207170147\n",
      "[58.79781428050684, 60.99458131763841, 61.036112768777, 61.05596775895589, 60.97728356595162, 60.76163521445571, 65.72370909473803, 65.29740455011577, 53.31530709361719, 43.10948994384802, 42.501780608520875, 41.81713659329537, 34.23370181352132, 37.12999854703072, 34.86240460698944, 35.05370937217055, 34.59301298739383]\n",
      "calculating loss for epoch 17:\n",
      "sliced pieces to length 450; total pieces is now 127\n",
      "\tgenerating 50 piece(s) of length 440\n",
      "\tloss: 15.182947635692432\n",
      "\tgenerating 50 piece(s) of length 440\n"
     ]
    },
    {
     "name": "stderr",
     "output_type": "stream",
     "text": [
      "\r",
      " 90%|█████████ | 18/20 [28:32<03:04, 92.20s/it]"
     ]
    },
    {
     "name": "stdout",
     "output_type": "stream",
     "text": [
      "\tloss: 15.360684364707435\n",
      "[58.79781428050684, 60.99458131763841, 61.036112768777, 61.05596775895589, 60.97728356595162, 60.76163521445571, 65.72370909473803, 65.29740455011577, 53.31530709361719, 43.10948994384802, 42.501780608520875, 41.81713659329537, 34.23370181352132, 37.12999854703072, 34.86240460698944, 35.05370937217055, 34.59301298739383, 30.543632000399867]\n",
      "calculating loss for epoch 18:\n",
      "sliced pieces to length 450; total pieces is now 127\n",
      "\tgenerating 50 piece(s) of length 440\n",
      "\tloss: 14.659039483198868\n",
      "\tgenerating 50 piece(s) of length 440\n"
     ]
    },
    {
     "name": "stderr",
     "output_type": "stream",
     "text": [
      "\r",
      " 95%|█████████▌| 19/20 [30:05<01:32, 92.42s/it]"
     ]
    },
    {
     "name": "stdout",
     "output_type": "stream",
     "text": [
      "\tloss: 14.850198103859825\n",
      "[58.79781428050684, 60.99458131763841, 61.036112768777, 61.05596775895589, 60.97728356595162, 60.76163521445571, 65.72370909473803, 65.29740455011577, 53.31530709361719, 43.10948994384802, 42.501780608520875, 41.81713659329537, 34.23370181352132, 37.12999854703072, 34.86240460698944, 35.05370937217055, 34.59301298739383, 30.543632000399867, 29.509237587058692]\n",
      "calculating loss for epoch 19:\n",
      "sliced pieces to length 450; total pieces is now 127\n",
      "\tgenerating 50 piece(s) of length 440\n",
      "\tloss: 14.048383687494633\n",
      "\tgenerating 50 piece(s) of length 440\n"
     ]
    },
    {
     "name": "stderr",
     "output_type": "stream",
     "text": [
      "100%|██████████| 20/20 [31:37<00:00, 94.86s/it]"
     ]
    },
    {
     "name": "stdout",
     "output_type": "stream",
     "text": [
      "\tloss: 13.763946193043283\n",
      "[58.79781428050684, 60.99458131763841, 61.036112768777, 61.05596775895589, 60.97728356595162, 60.76163521445571, 65.72370909473803, 65.29740455011577, 53.31530709361719, 43.10948994384802, 42.501780608520875, 41.81713659329537, 34.23370181352132, 37.12999854703072, 34.86240460698944, 35.05370937217055, 34.59301298739383, 30.543632000399867, 29.509237587058692, 27.812329880537916]\n",
      "[58.79781428050684, 60.99458131763841, 61.036112768777, 61.05596775895589, 60.97728356595162, 60.76163521445571, 65.72370909473803, 65.29740455011577, 53.31530709361719, 43.10948994384802, 42.501780608520875, 41.81713659329537, 34.23370181352132, 37.12999854703072, 34.86240460698944, 35.05370937217055, 34.59301298739383, 30.543632000399867, 29.509237587058692, 27.812329880537916]\n"
     ]
    },
    {
     "name": "stderr",
     "output_type": "stream",
     "text": [
      "\n"
     ]
    }
   ],
   "source": [
    "loss_list_att = val_loss_for_all_models(models_att, val_data, val_size=450, variable_batches=False)\n",
    "print(loss_list_att)\n",
    "\n",
    "# first run: [58.79781428050684, 60.99458131763841, 61.036112768777, 61.05596775895589, 60.97728356595162, 60.76163521445571, 65.72370909473803, 65.29740455011577, 53.31530709361719, 43.10948994384802, 42.501780608520875, 41.81713659329537, 34.23370181352132, 37.12999854703072, 34.86240460698944, 35.05370937217055, 34.59301298739383, 30.543632000399867, 29.509237587058692, 27.812329880537916]"
   ]
  },
  {
   "cell_type": "code",
   "execution_count": 137,
   "id": "fresh-kuwait",
   "metadata": {},
   "outputs": [
    {
     "name": "stderr",
     "output_type": "stream",
     "text": [
      "\r",
      "  0%|          | 0/20 [00:00<?, ?it/s]"
     ]
    },
    {
     "name": "stdout",
     "output_type": "stream",
     "text": [
      "calculating loss for epoch 0:\n",
      "sliced pieces to length 450; total pieces is now 127\n",
      "\tgenerating 50 piece(s) of length 440\n",
      "\tloss: 13.78654850461111\n",
      "\tgenerating 50 piece(s) of length 440\n"
     ]
    },
    {
     "name": "stderr",
     "output_type": "stream",
     "text": [
      "\r",
      "  5%|▌         | 1/20 [01:33<29:40, 93.69s/it]"
     ]
    },
    {
     "name": "stdout",
     "output_type": "stream",
     "text": [
      "\tloss: 13.517749698680714\n",
      "[27.304298203291822]\n",
      "calculating loss for epoch 1:\n",
      "sliced pieces to length 450; total pieces is now 127\n",
      "\tgenerating 50 piece(s) of length 440\n",
      "\tloss: 13.480033661970841\n",
      "\tgenerating 50 piece(s) of length 440\n"
     ]
    },
    {
     "name": "stderr",
     "output_type": "stream",
     "text": [
      "\r",
      " 10%|█         | 2/20 [03:07<28:09, 93.88s/it]"
     ]
    },
    {
     "name": "stdout",
     "output_type": "stream",
     "text": [
      "\tloss: 13.325959674183421\n",
      "[27.304298203291822, 26.805993336154263]\n",
      "calculating loss for epoch 2:\n",
      "sliced pieces to length 450; total pieces is now 127\n",
      "\tgenerating 50 piece(s) of length 440\n",
      "\tloss: 13.307864302590293\n",
      "\tgenerating 50 piece(s) of length 440\n"
     ]
    },
    {
     "name": "stderr",
     "output_type": "stream",
     "text": [
      "\r",
      " 15%|█▌        | 3/20 [04:43<26:53, 94.93s/it]"
     ]
    },
    {
     "name": "stdout",
     "output_type": "stream",
     "text": [
      "\tloss: 13.32207339100249\n",
      "[27.304298203291822, 26.805993336154263, 26.629937693592783]\n",
      "calculating loss for epoch 3:\n",
      "sliced pieces to length 450; total pieces is now 127\n",
      "\tgenerating 50 piece(s) of length 440\n",
      "\tloss: 12.929111645480251\n",
      "\tgenerating 50 piece(s) of length 440\n"
     ]
    },
    {
     "name": "stderr",
     "output_type": "stream",
     "text": [
      "\r",
      " 20%|██        | 4/20 [06:14<24:48, 93.04s/it]"
     ]
    },
    {
     "name": "stdout",
     "output_type": "stream",
     "text": [
      "\tloss: 12.828831533647199\n",
      "[27.304298203291822, 26.805993336154263, 26.629937693592783, 25.75794317912745]\n",
      "calculating loss for epoch 4:\n",
      "sliced pieces to length 450; total pieces is now 127\n",
      "\tgenerating 50 piece(s) of length 440\n",
      "\tloss: 12.829754607849303\n",
      "\tgenerating 50 piece(s) of length 440\n"
     ]
    },
    {
     "name": "stderr",
     "output_type": "stream",
     "text": [
      "\r",
      " 25%|██▌       | 5/20 [13:14<52:45, 211.05s/it]"
     ]
    },
    {
     "name": "stdout",
     "output_type": "stream",
     "text": [
      "\tloss: 13.097188076061084\n",
      "[27.304298203291822, 26.805993336154263, 26.629937693592783, 25.75794317912745, 25.926942683910386]\n",
      "calculating loss for epoch 5:\n",
      "sliced pieces to length 450; total pieces is now 127\n",
      "\tgenerating 50 piece(s) of length 440\n",
      "\tloss: 13.132048445656698\n",
      "\tgenerating 50 piece(s) of length 440\n"
     ]
    },
    {
     "name": "stderr",
     "output_type": "stream",
     "text": [
      "\r",
      " 30%|███       | 6/20 [14:54<40:25, 173.26s/it]"
     ]
    },
    {
     "name": "stdout",
     "output_type": "stream",
     "text": [
      "\tloss: 13.167643537736554\n",
      "[27.304298203291822, 26.805993336154263, 26.629937693592783, 25.75794317912745, 25.926942683910386, 26.299691983393252]\n",
      "calculating loss for epoch 6:\n",
      "sliced pieces to length 450; total pieces is now 127\n",
      "\tgenerating 50 piece(s) of length 440\n",
      "\tloss: 13.090982450006841\n",
      "\tgenerating 50 piece(s) of length 440\n"
     ]
    },
    {
     "name": "stderr",
     "output_type": "stream",
     "text": [
      "\r",
      " 35%|███▌      | 7/20 [16:31<32:10, 148.47s/it]"
     ]
    },
    {
     "name": "stdout",
     "output_type": "stream",
     "text": [
      "\tloss: 12.980341354758705\n",
      "[27.304298203291822, 26.805993336154263, 26.629937693592783, 25.75794317912745, 25.926942683910386, 26.299691983393252, 26.071323804765548]\n",
      "calculating loss for epoch 7:\n",
      "sliced pieces to length 450; total pieces is now 127\n",
      "\tgenerating 50 piece(s) of length 440\n",
      "\tloss: 12.112324711581326\n",
      "\tgenerating 50 piece(s) of length 440\n"
     ]
    },
    {
     "name": "stderr",
     "output_type": "stream",
     "text": [
      "\r",
      " 40%|████      | 8/20 [18:06<26:15, 131.29s/it]"
     ]
    },
    {
     "name": "stdout",
     "output_type": "stream",
     "text": [
      "\tloss: 11.647368519564724\n",
      "[27.304298203291822, 26.805993336154263, 26.629937693592783, 25.75794317912745, 25.926942683910386, 26.299691983393252, 26.071323804765548, 23.759693231146052]\n",
      "calculating loss for epoch 8:\n",
      "sliced pieces to length 450; total pieces is now 127\n",
      "\tgenerating 50 piece(s) of length 440\n",
      "\tloss: 10.851440169983093\n",
      "\tgenerating 50 piece(s) of length 440\n"
     ]
    },
    {
     "name": "stderr",
     "output_type": "stream",
     "text": [
      "\r",
      " 45%|████▌     | 9/20 [19:40<21:56, 119.67s/it]"
     ]
    },
    {
     "name": "stdout",
     "output_type": "stream",
     "text": [
      "\tloss: 12.127126594932045\n",
      "[27.304298203291822, 26.805993336154263, 26.629937693592783, 25.75794317912745, 25.926942683910386, 26.299691983393252, 26.071323804765548, 23.759693231146052, 22.978566764915136]\n",
      "calculating loss for epoch 9:\n",
      "sliced pieces to length 450; total pieces is now 127\n",
      "\tgenerating 50 piece(s) of length 440\n",
      "\tloss: 11.61172355551998\n",
      "\tgenerating 50 piece(s) of length 440\n"
     ]
    },
    {
     "name": "stderr",
     "output_type": "stream",
     "text": [
      "\r",
      " 50%|█████     | 10/20 [21:17<18:48, 112.83s/it]"
     ]
    },
    {
     "name": "stdout",
     "output_type": "stream",
     "text": [
      "\tloss: 11.513704737271578\n",
      "[27.304298203291822, 26.805993336154263, 26.629937693592783, 25.75794317912745, 25.926942683910386, 26.299691983393252, 26.071323804765548, 23.759693231146052, 22.978566764915136, 23.125428292791558]\n",
      "calculating loss for epoch 10:\n",
      "sliced pieces to length 450; total pieces is now 127\n",
      "\tgenerating 50 piece(s) of length 440\n",
      "\tloss: 12.44284809359482\n",
      "\tgenerating 50 piece(s) of length 440\n"
     ]
    },
    {
     "name": "stderr",
     "output_type": "stream",
     "text": [
      "\r",
      " 55%|█████▌    | 11/20 [22:56<16:17, 108.59s/it]"
     ]
    },
    {
     "name": "stdout",
     "output_type": "stream",
     "text": [
      "\tloss: 12.403606485928805\n",
      "[27.304298203291822, 26.805993336154263, 26.629937693592783, 25.75794317912745, 25.926942683910386, 26.299691983393252, 26.071323804765548, 23.759693231146052, 22.978566764915136, 23.125428292791558, 24.846454579523623]\n",
      "calculating loss for epoch 11:\n",
      "sliced pieces to length 450; total pieces is now 127\n",
      "\tgenerating 50 piece(s) of length 440\n",
      "\tloss: 12.415569334245344\n",
      "\tgenerating 50 piece(s) of length 440\n"
     ]
    },
    {
     "name": "stderr",
     "output_type": "stream",
     "text": [
      "\r",
      " 60%|██████    | 12/20 [24:34<14:03, 105.44s/it]"
     ]
    },
    {
     "name": "stdout",
     "output_type": "stream",
     "text": [
      "\tloss: 12.496540750371942\n",
      "[27.304298203291822, 26.805993336154263, 26.629937693592783, 25.75794317912745, 25.926942683910386, 26.299691983393252, 26.071323804765548, 23.759693231146052, 22.978566764915136, 23.125428292791558, 24.846454579523623, 24.912110084617286]\n",
      "calculating loss for epoch 12:\n",
      "sliced pieces to length 450; total pieces is now 127\n",
      "\tgenerating 50 piece(s) of length 440\n",
      "\tloss: 12.647692336037558\n",
      "\tgenerating 50 piece(s) of length 440\n"
     ]
    },
    {
     "name": "stderr",
     "output_type": "stream",
     "text": [
      "\r",
      " 65%|██████▌   | 13/20 [26:14<12:06, 103.75s/it]"
     ]
    },
    {
     "name": "stdout",
     "output_type": "stream",
     "text": [
      "\tloss: 12.212449611705615\n",
      "[27.304298203291822, 26.805993336154263, 26.629937693592783, 25.75794317912745, 25.926942683910386, 26.299691983393252, 26.071323804765548, 23.759693231146052, 22.978566764915136, 23.125428292791558, 24.846454579523623, 24.912110084617286, 24.860141947743173]\n",
      "calculating loss for epoch 13:\n",
      "sliced pieces to length 450; total pieces is now 127\n",
      "\tgenerating 50 piece(s) of length 440\n",
      "\tloss: 12.38969069363699\n",
      "\tgenerating 50 piece(s) of length 440\n"
     ]
    },
    {
     "name": "stderr",
     "output_type": "stream",
     "text": [
      "\r",
      " 70%|███████   | 14/20 [28:02<10:30, 105.02s/it]"
     ]
    },
    {
     "name": "stdout",
     "output_type": "stream",
     "text": [
      "\tloss: 11.984447485878867\n",
      "[27.304298203291822, 26.805993336154263, 26.629937693592783, 25.75794317912745, 25.926942683910386, 26.299691983393252, 26.071323804765548, 23.759693231146052, 22.978566764915136, 23.125428292791558, 24.846454579523623, 24.912110084617286, 24.860141947743173, 24.374138179515857]\n",
      "calculating loss for epoch 14:\n",
      "sliced pieces to length 450; total pieces is now 127\n",
      "\tgenerating 50 piece(s) of length 440\n",
      "\tloss: 11.981786048584166\n",
      "\tgenerating 50 piece(s) of length 440\n"
     ]
    },
    {
     "name": "stderr",
     "output_type": "stream",
     "text": [
      "\r",
      " 75%|███████▌  | 15/20 [31:01<10:36, 127.26s/it]"
     ]
    },
    {
     "name": "stdout",
     "output_type": "stream",
     "text": [
      "\tloss: 12.214812084239796\n",
      "[27.304298203291822, 26.805993336154263, 26.629937693592783, 25.75794317912745, 25.926942683910386, 26.299691983393252, 26.071323804765548, 23.759693231146052, 22.978566764915136, 23.125428292791558, 24.846454579523623, 24.912110084617286, 24.860141947743173, 24.374138179515857, 24.19659813282396]\n",
      "calculating loss for epoch 15:\n",
      "sliced pieces to length 450; total pieces is now 127\n",
      "\tgenerating 50 piece(s) of length 440\n",
      "\tloss: 12.076395664256886\n",
      "\tgenerating 50 piece(s) of length 440\n"
     ]
    },
    {
     "name": "stderr",
     "output_type": "stream",
     "text": [
      "\r",
      " 80%|████████  | 16/20 [33:56<09:26, 141.52s/it]"
     ]
    },
    {
     "name": "stdout",
     "output_type": "stream",
     "text": [
      "\tloss: 12.027043270846463\n",
      "[27.304298203291822, 26.805993336154263, 26.629937693592783, 25.75794317912745, 25.926942683910386, 26.299691983393252, 26.071323804765548, 23.759693231146052, 22.978566764915136, 23.125428292791558, 24.846454579523623, 24.912110084617286, 24.860141947743173, 24.374138179515857, 24.19659813282396, 24.10343893510335]\n",
      "calculating loss for epoch 16:\n",
      "sliced pieces to length 450; total pieces is now 127\n",
      "\tgenerating 50 piece(s) of length 440\n",
      "\tloss: 12.21629368976958\n",
      "\tgenerating 50 piece(s) of length 440\n"
     ]
    },
    {
     "name": "stderr",
     "output_type": "stream",
     "text": [
      "\r",
      " 85%|████████▌ | 17/20 [37:02<07:44, 154.90s/it]"
     ]
    },
    {
     "name": "stdout",
     "output_type": "stream",
     "text": [
      "\tloss: 12.043317611389343\n",
      "[27.304298203291822, 26.805993336154263, 26.629937693592783, 25.75794317912745, 25.926942683910386, 26.299691983393252, 26.071323804765548, 23.759693231146052, 22.978566764915136, 23.125428292791558, 24.846454579523623, 24.912110084617286, 24.860141947743173, 24.374138179515857, 24.19659813282396, 24.10343893510335, 24.259611301158923]\n",
      "calculating loss for epoch 17:\n",
      "sliced pieces to length 450; total pieces is now 127\n",
      "\tgenerating 50 piece(s) of length 440\n",
      "\tloss: 11.812045615151327\n",
      "\tgenerating 50 piece(s) of length 440\n"
     ]
    },
    {
     "name": "stderr",
     "output_type": "stream",
     "text": [
      "\r",
      " 90%|█████████ | 18/20 [40:51<05:54, 177.22s/it]"
     ]
    },
    {
     "name": "stdout",
     "output_type": "stream",
     "text": [
      "\tloss: 11.637786063149374\n",
      "[27.304298203291822, 26.805993336154263, 26.629937693592783, 25.75794317912745, 25.926942683910386, 26.299691983393252, 26.071323804765548, 23.759693231146052, 22.978566764915136, 23.125428292791558, 24.846454579523623, 24.912110084617286, 24.860141947743173, 24.374138179515857, 24.19659813282396, 24.10343893510335, 24.259611301158923, 23.4498316783007]\n",
      "calculating loss for epoch 18:\n",
      "sliced pieces to length 450; total pieces is now 127\n",
      "\tgenerating 50 piece(s) of length 440\n",
      "\tloss: 12.257182109874561\n",
      "\tgenerating 50 piece(s) of length 440\n"
     ]
    },
    {
     "name": "stderr",
     "output_type": "stream",
     "text": [
      "\r",
      " 95%|█████████▌| 19/20 [42:31<02:34, 154.09s/it]"
     ]
    },
    {
     "name": "stdout",
     "output_type": "stream",
     "text": [
      "\tloss: 11.733557428228387\n",
      "[27.304298203291822, 26.805993336154263, 26.629937693592783, 25.75794317912745, 25.926942683910386, 26.299691983393252, 26.071323804765548, 23.759693231146052, 22.978566764915136, 23.125428292791558, 24.846454579523623, 24.912110084617286, 24.860141947743173, 24.374138179515857, 24.19659813282396, 24.10343893510335, 24.259611301158923, 23.4498316783007, 23.99073953810295]\n",
      "calculating loss for epoch 19:\n",
      "sliced pieces to length 450; total pieces is now 127\n",
      "\tgenerating 50 piece(s) of length 440\n",
      "\tloss: 11.45040432986191\n",
      "\tgenerating 50 piece(s) of length 440\n"
     ]
    },
    {
     "name": "stderr",
     "output_type": "stream",
     "text": [
      "100%|██████████| 20/20 [44:00<00:00, 132.04s/it]"
     ]
    },
    {
     "name": "stdout",
     "output_type": "stream",
     "text": [
      "\tloss: 11.868847623346685\n",
      "[27.304298203291822, 26.805993336154263, 26.629937693592783, 25.75794317912745, 25.926942683910386, 26.299691983393252, 26.071323804765548, 23.759693231146052, 22.978566764915136, 23.125428292791558, 24.846454579523623, 24.912110084617286, 24.860141947743173, 24.374138179515857, 24.19659813282396, 24.10343893510335, 24.259611301158923, 23.4498316783007, 23.99073953810295, 23.319251953208592]\n",
      "[27.304298203291822, 26.805993336154263, 26.629937693592783, 25.75794317912745, 25.926942683910386, 26.299691983393252, 26.071323804765548, 23.759693231146052, 22.978566764915136, 23.125428292791558, 24.846454579523623, 24.912110084617286, 24.860141947743173, 24.374138179515857, 24.19659813282396, 24.10343893510335, 24.259611301158923, 23.4498316783007, 23.99073953810295, 23.319251953208592]\n"
     ]
    },
    {
     "name": "stderr",
     "output_type": "stream",
     "text": [
      "\n"
     ]
    }
   ],
   "source": [
    "loss_list_lstm = val_loss_for_all_models(models_lstm, val_data, val_size=450, variable_batches=False)\n",
    "print(loss_list_lstm)\n",
    "\n",
    "# first run: [27.304298203291822, 26.805993336154263, 26.629937693592783, 25.75794317912745, 25.926942683910386, 26.299691983393252, 26.071323804765548, 23.759693231146052, 22.978566764915136, 23.125428292791558, 24.846454579523623, 24.912110084617286, 24.860141947743173, 24.374138179515857, 24.19659813282396, 24.10343893510335, 24.259611301158923, 23.4498316783007, 23.99073953810295, 23.319251953208592]"
   ]
  },
  {
   "cell_type": "code",
   "execution_count": null,
   "id": "dedicated-update",
   "metadata": {},
   "outputs": [],
   "source": []
  }
 ],
 "metadata": {
  "kernelspec": {
   "display_name": "Python 3",
   "language": "python",
   "name": "python3"
  },
  "language_info": {
   "codemirror_mode": {
    "name": "ipython",
    "version": 3
   },
   "file_extension": ".py",
   "mimetype": "text/x-python",
   "name": "python",
   "nbconvert_exporter": "python",
   "pygments_lexer": "ipython3",
   "version": "3.8.2"
  }
 },
 "nbformat": 4,
 "nbformat_minor": 5
}
